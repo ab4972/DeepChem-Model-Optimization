{
  "nbformat": 4,
  "nbformat_minor": 0,
  "metadata": {
    "colab": {
      "provenance": [],
      "gpuType": "A100",
      "machine_shape": "hm"
    },
    "kernelspec": {
      "name": "python3",
      "display_name": "Python 3"
    },
    "language_info": {
      "name": "python"
    },
    "accelerator": "GPU",
    "widgets": {
      "application/vnd.jupyter.widget-state+json": {
        "9ceb9b97535444d4bc55590c9cbbe450": {
          "model_module": "@jupyter-widgets/controls",
          "model_name": "HBoxModel",
          "model_module_version": "1.5.0",
          "state": {
            "_dom_classes": [],
            "_model_module": "@jupyter-widgets/controls",
            "_model_module_version": "1.5.0",
            "_model_name": "HBoxModel",
            "_view_count": null,
            "_view_module": "@jupyter-widgets/controls",
            "_view_module_version": "1.5.0",
            "_view_name": "HBoxView",
            "box_style": "",
            "children": [
              "IPY_MODEL_7009792fa6264409a34d7a6078b51e0e",
              "IPY_MODEL_29ae14db0bb34d2eb4015d4cf5bd8402",
              "IPY_MODEL_8f9d2ff2b441492b8bb88140ca3fa6b0"
            ],
            "layout": "IPY_MODEL_5c78a470734a46a1b873190e55b6c5e2"
          }
        },
        "7009792fa6264409a34d7a6078b51e0e": {
          "model_module": "@jupyter-widgets/controls",
          "model_name": "HTMLModel",
          "model_module_version": "1.5.0",
          "state": {
            "_dom_classes": [],
            "_model_module": "@jupyter-widgets/controls",
            "_model_module_version": "1.5.0",
            "_model_name": "HTMLModel",
            "_view_count": null,
            "_view_module": "@jupyter-widgets/controls",
            "_view_module_version": "1.5.0",
            "_view_name": "HTMLView",
            "description": "",
            "description_tooltip": null,
            "layout": "IPY_MODEL_8ede6b68910a4ce2b06fb44e1a415adf",
            "placeholder": "​",
            "style": "IPY_MODEL_3364a584ef8647de8f31e80040fa467c",
            "value": "tokenizer_config.json: 100%"
          }
        },
        "29ae14db0bb34d2eb4015d4cf5bd8402": {
          "model_module": "@jupyter-widgets/controls",
          "model_name": "FloatProgressModel",
          "model_module_version": "1.5.0",
          "state": {
            "_dom_classes": [],
            "_model_module": "@jupyter-widgets/controls",
            "_model_module_version": "1.5.0",
            "_model_name": "FloatProgressModel",
            "_view_count": null,
            "_view_module": "@jupyter-widgets/controls",
            "_view_module_version": "1.5.0",
            "_view_name": "ProgressView",
            "bar_style": "success",
            "description": "",
            "description_tooltip": null,
            "layout": "IPY_MODEL_731edb07fddb44c8bc515fd05e581129",
            "max": 166,
            "min": 0,
            "orientation": "horizontal",
            "style": "IPY_MODEL_08df77e1b631444ea6d0a4800c76d447",
            "value": 166
          }
        },
        "8f9d2ff2b441492b8bb88140ca3fa6b0": {
          "model_module": "@jupyter-widgets/controls",
          "model_name": "HTMLModel",
          "model_module_version": "1.5.0",
          "state": {
            "_dom_classes": [],
            "_model_module": "@jupyter-widgets/controls",
            "_model_module_version": "1.5.0",
            "_model_name": "HTMLModel",
            "_view_count": null,
            "_view_module": "@jupyter-widgets/controls",
            "_view_module_version": "1.5.0",
            "_view_name": "HTMLView",
            "description": "",
            "description_tooltip": null,
            "layout": "IPY_MODEL_085b3c2a3bc445898f7d1947d01a658a",
            "placeholder": "​",
            "style": "IPY_MODEL_b678818442104d6bbd9a42708ab79e9b",
            "value": " 166/166 [00:00&lt;00:00, 18.4kB/s]"
          }
        },
        "5c78a470734a46a1b873190e55b6c5e2": {
          "model_module": "@jupyter-widgets/base",
          "model_name": "LayoutModel",
          "model_module_version": "1.2.0",
          "state": {
            "_model_module": "@jupyter-widgets/base",
            "_model_module_version": "1.2.0",
            "_model_name": "LayoutModel",
            "_view_count": null,
            "_view_module": "@jupyter-widgets/base",
            "_view_module_version": "1.2.0",
            "_view_name": "LayoutView",
            "align_content": null,
            "align_items": null,
            "align_self": null,
            "border": null,
            "bottom": null,
            "display": null,
            "flex": null,
            "flex_flow": null,
            "grid_area": null,
            "grid_auto_columns": null,
            "grid_auto_flow": null,
            "grid_auto_rows": null,
            "grid_column": null,
            "grid_gap": null,
            "grid_row": null,
            "grid_template_areas": null,
            "grid_template_columns": null,
            "grid_template_rows": null,
            "height": null,
            "justify_content": null,
            "justify_items": null,
            "left": null,
            "margin": null,
            "max_height": null,
            "max_width": null,
            "min_height": null,
            "min_width": null,
            "object_fit": null,
            "object_position": null,
            "order": null,
            "overflow": null,
            "overflow_x": null,
            "overflow_y": null,
            "padding": null,
            "right": null,
            "top": null,
            "visibility": null,
            "width": null
          }
        },
        "8ede6b68910a4ce2b06fb44e1a415adf": {
          "model_module": "@jupyter-widgets/base",
          "model_name": "LayoutModel",
          "model_module_version": "1.2.0",
          "state": {
            "_model_module": "@jupyter-widgets/base",
            "_model_module_version": "1.2.0",
            "_model_name": "LayoutModel",
            "_view_count": null,
            "_view_module": "@jupyter-widgets/base",
            "_view_module_version": "1.2.0",
            "_view_name": "LayoutView",
            "align_content": null,
            "align_items": null,
            "align_self": null,
            "border": null,
            "bottom": null,
            "display": null,
            "flex": null,
            "flex_flow": null,
            "grid_area": null,
            "grid_auto_columns": null,
            "grid_auto_flow": null,
            "grid_auto_rows": null,
            "grid_column": null,
            "grid_gap": null,
            "grid_row": null,
            "grid_template_areas": null,
            "grid_template_columns": null,
            "grid_template_rows": null,
            "height": null,
            "justify_content": null,
            "justify_items": null,
            "left": null,
            "margin": null,
            "max_height": null,
            "max_width": null,
            "min_height": null,
            "min_width": null,
            "object_fit": null,
            "object_position": null,
            "order": null,
            "overflow": null,
            "overflow_x": null,
            "overflow_y": null,
            "padding": null,
            "right": null,
            "top": null,
            "visibility": null,
            "width": null
          }
        },
        "3364a584ef8647de8f31e80040fa467c": {
          "model_module": "@jupyter-widgets/controls",
          "model_name": "DescriptionStyleModel",
          "model_module_version": "1.5.0",
          "state": {
            "_model_module": "@jupyter-widgets/controls",
            "_model_module_version": "1.5.0",
            "_model_name": "DescriptionStyleModel",
            "_view_count": null,
            "_view_module": "@jupyter-widgets/base",
            "_view_module_version": "1.2.0",
            "_view_name": "StyleView",
            "description_width": ""
          }
        },
        "731edb07fddb44c8bc515fd05e581129": {
          "model_module": "@jupyter-widgets/base",
          "model_name": "LayoutModel",
          "model_module_version": "1.2.0",
          "state": {
            "_model_module": "@jupyter-widgets/base",
            "_model_module_version": "1.2.0",
            "_model_name": "LayoutModel",
            "_view_count": null,
            "_view_module": "@jupyter-widgets/base",
            "_view_module_version": "1.2.0",
            "_view_name": "LayoutView",
            "align_content": null,
            "align_items": null,
            "align_self": null,
            "border": null,
            "bottom": null,
            "display": null,
            "flex": null,
            "flex_flow": null,
            "grid_area": null,
            "grid_auto_columns": null,
            "grid_auto_flow": null,
            "grid_auto_rows": null,
            "grid_column": null,
            "grid_gap": null,
            "grid_row": null,
            "grid_template_areas": null,
            "grid_template_columns": null,
            "grid_template_rows": null,
            "height": null,
            "justify_content": null,
            "justify_items": null,
            "left": null,
            "margin": null,
            "max_height": null,
            "max_width": null,
            "min_height": null,
            "min_width": null,
            "object_fit": null,
            "object_position": null,
            "order": null,
            "overflow": null,
            "overflow_x": null,
            "overflow_y": null,
            "padding": null,
            "right": null,
            "top": null,
            "visibility": null,
            "width": null
          }
        },
        "08df77e1b631444ea6d0a4800c76d447": {
          "model_module": "@jupyter-widgets/controls",
          "model_name": "ProgressStyleModel",
          "model_module_version": "1.5.0",
          "state": {
            "_model_module": "@jupyter-widgets/controls",
            "_model_module_version": "1.5.0",
            "_model_name": "ProgressStyleModel",
            "_view_count": null,
            "_view_module": "@jupyter-widgets/base",
            "_view_module_version": "1.2.0",
            "_view_name": "StyleView",
            "bar_color": null,
            "description_width": ""
          }
        },
        "085b3c2a3bc445898f7d1947d01a658a": {
          "model_module": "@jupyter-widgets/base",
          "model_name": "LayoutModel",
          "model_module_version": "1.2.0",
          "state": {
            "_model_module": "@jupyter-widgets/base",
            "_model_module_version": "1.2.0",
            "_model_name": "LayoutModel",
            "_view_count": null,
            "_view_module": "@jupyter-widgets/base",
            "_view_module_version": "1.2.0",
            "_view_name": "LayoutView",
            "align_content": null,
            "align_items": null,
            "align_self": null,
            "border": null,
            "bottom": null,
            "display": null,
            "flex": null,
            "flex_flow": null,
            "grid_area": null,
            "grid_auto_columns": null,
            "grid_auto_flow": null,
            "grid_auto_rows": null,
            "grid_column": null,
            "grid_gap": null,
            "grid_row": null,
            "grid_template_areas": null,
            "grid_template_columns": null,
            "grid_template_rows": null,
            "height": null,
            "justify_content": null,
            "justify_items": null,
            "left": null,
            "margin": null,
            "max_height": null,
            "max_width": null,
            "min_height": null,
            "min_width": null,
            "object_fit": null,
            "object_position": null,
            "order": null,
            "overflow": null,
            "overflow_x": null,
            "overflow_y": null,
            "padding": null,
            "right": null,
            "top": null,
            "visibility": null,
            "width": null
          }
        },
        "b678818442104d6bbd9a42708ab79e9b": {
          "model_module": "@jupyter-widgets/controls",
          "model_name": "DescriptionStyleModel",
          "model_module_version": "1.5.0",
          "state": {
            "_model_module": "@jupyter-widgets/controls",
            "_model_module_version": "1.5.0",
            "_model_name": "DescriptionStyleModel",
            "_view_count": null,
            "_view_module": "@jupyter-widgets/base",
            "_view_module_version": "1.2.0",
            "_view_name": "StyleView",
            "description_width": ""
          }
        },
        "ce4aa9b2c46944c09ef0844dff53564b": {
          "model_module": "@jupyter-widgets/controls",
          "model_name": "HBoxModel",
          "model_module_version": "1.5.0",
          "state": {
            "_dom_classes": [],
            "_model_module": "@jupyter-widgets/controls",
            "_model_module_version": "1.5.0",
            "_model_name": "HBoxModel",
            "_view_count": null,
            "_view_module": "@jupyter-widgets/controls",
            "_view_module_version": "1.5.0",
            "_view_name": "HBoxView",
            "box_style": "",
            "children": [
              "IPY_MODEL_345222a72d7a4157a1d55ca4f61904c6",
              "IPY_MODEL_d86c4e2db90649b4a4db34885af41ddd",
              "IPY_MODEL_403cfafd8b5144a7b6b95d91d01a943f"
            ],
            "layout": "IPY_MODEL_13c4fd8309ca492fa798ff5548dbb321"
          }
        },
        "345222a72d7a4157a1d55ca4f61904c6": {
          "model_module": "@jupyter-widgets/controls",
          "model_name": "HTMLModel",
          "model_module_version": "1.5.0",
          "state": {
            "_dom_classes": [],
            "_model_module": "@jupyter-widgets/controls",
            "_model_module_version": "1.5.0",
            "_model_name": "HTMLModel",
            "_view_count": null,
            "_view_module": "@jupyter-widgets/controls",
            "_view_module_version": "1.5.0",
            "_view_name": "HTMLView",
            "description": "",
            "description_tooltip": null,
            "layout": "IPY_MODEL_33e55aef2a314be2ba3bb4a408b58054",
            "placeholder": "​",
            "style": "IPY_MODEL_62eb74f44052467a9678e3143944a4bf",
            "value": "config.json: 100%"
          }
        },
        "d86c4e2db90649b4a4db34885af41ddd": {
          "model_module": "@jupyter-widgets/controls",
          "model_name": "FloatProgressModel",
          "model_module_version": "1.5.0",
          "state": {
            "_dom_classes": [],
            "_model_module": "@jupyter-widgets/controls",
            "_model_module_version": "1.5.0",
            "_model_name": "FloatProgressModel",
            "_view_count": null,
            "_view_module": "@jupyter-widgets/controls",
            "_view_module_version": "1.5.0",
            "_view_name": "ProgressView",
            "bar_style": "success",
            "description": "",
            "description_tooltip": null,
            "layout": "IPY_MODEL_4b5b78384eef4cd5bebe6234a8ff064b",
            "max": 501,
            "min": 0,
            "orientation": "horizontal",
            "style": "IPY_MODEL_3af81ed6f730457e863b2c9229644dbe",
            "value": 501
          }
        },
        "403cfafd8b5144a7b6b95d91d01a943f": {
          "model_module": "@jupyter-widgets/controls",
          "model_name": "HTMLModel",
          "model_module_version": "1.5.0",
          "state": {
            "_dom_classes": [],
            "_model_module": "@jupyter-widgets/controls",
            "_model_module_version": "1.5.0",
            "_model_name": "HTMLModel",
            "_view_count": null,
            "_view_module": "@jupyter-widgets/controls",
            "_view_module_version": "1.5.0",
            "_view_name": "HTMLView",
            "description": "",
            "description_tooltip": null,
            "layout": "IPY_MODEL_b3e0bb47731a4facb3405eeed6110491",
            "placeholder": "​",
            "style": "IPY_MODEL_885a23881450459bb0e62f4912d284b6",
            "value": " 501/501 [00:00&lt;00:00, 65.9kB/s]"
          }
        },
        "13c4fd8309ca492fa798ff5548dbb321": {
          "model_module": "@jupyter-widgets/base",
          "model_name": "LayoutModel",
          "model_module_version": "1.2.0",
          "state": {
            "_model_module": "@jupyter-widgets/base",
            "_model_module_version": "1.2.0",
            "_model_name": "LayoutModel",
            "_view_count": null,
            "_view_module": "@jupyter-widgets/base",
            "_view_module_version": "1.2.0",
            "_view_name": "LayoutView",
            "align_content": null,
            "align_items": null,
            "align_self": null,
            "border": null,
            "bottom": null,
            "display": null,
            "flex": null,
            "flex_flow": null,
            "grid_area": null,
            "grid_auto_columns": null,
            "grid_auto_flow": null,
            "grid_auto_rows": null,
            "grid_column": null,
            "grid_gap": null,
            "grid_row": null,
            "grid_template_areas": null,
            "grid_template_columns": null,
            "grid_template_rows": null,
            "height": null,
            "justify_content": null,
            "justify_items": null,
            "left": null,
            "margin": null,
            "max_height": null,
            "max_width": null,
            "min_height": null,
            "min_width": null,
            "object_fit": null,
            "object_position": null,
            "order": null,
            "overflow": null,
            "overflow_x": null,
            "overflow_y": null,
            "padding": null,
            "right": null,
            "top": null,
            "visibility": null,
            "width": null
          }
        },
        "33e55aef2a314be2ba3bb4a408b58054": {
          "model_module": "@jupyter-widgets/base",
          "model_name": "LayoutModel",
          "model_module_version": "1.2.0",
          "state": {
            "_model_module": "@jupyter-widgets/base",
            "_model_module_version": "1.2.0",
            "_model_name": "LayoutModel",
            "_view_count": null,
            "_view_module": "@jupyter-widgets/base",
            "_view_module_version": "1.2.0",
            "_view_name": "LayoutView",
            "align_content": null,
            "align_items": null,
            "align_self": null,
            "border": null,
            "bottom": null,
            "display": null,
            "flex": null,
            "flex_flow": null,
            "grid_area": null,
            "grid_auto_columns": null,
            "grid_auto_flow": null,
            "grid_auto_rows": null,
            "grid_column": null,
            "grid_gap": null,
            "grid_row": null,
            "grid_template_areas": null,
            "grid_template_columns": null,
            "grid_template_rows": null,
            "height": null,
            "justify_content": null,
            "justify_items": null,
            "left": null,
            "margin": null,
            "max_height": null,
            "max_width": null,
            "min_height": null,
            "min_width": null,
            "object_fit": null,
            "object_position": null,
            "order": null,
            "overflow": null,
            "overflow_x": null,
            "overflow_y": null,
            "padding": null,
            "right": null,
            "top": null,
            "visibility": null,
            "width": null
          }
        },
        "62eb74f44052467a9678e3143944a4bf": {
          "model_module": "@jupyter-widgets/controls",
          "model_name": "DescriptionStyleModel",
          "model_module_version": "1.5.0",
          "state": {
            "_model_module": "@jupyter-widgets/controls",
            "_model_module_version": "1.5.0",
            "_model_name": "DescriptionStyleModel",
            "_view_count": null,
            "_view_module": "@jupyter-widgets/base",
            "_view_module_version": "1.2.0",
            "_view_name": "StyleView",
            "description_width": ""
          }
        },
        "4b5b78384eef4cd5bebe6234a8ff064b": {
          "model_module": "@jupyter-widgets/base",
          "model_name": "LayoutModel",
          "model_module_version": "1.2.0",
          "state": {
            "_model_module": "@jupyter-widgets/base",
            "_model_module_version": "1.2.0",
            "_model_name": "LayoutModel",
            "_view_count": null,
            "_view_module": "@jupyter-widgets/base",
            "_view_module_version": "1.2.0",
            "_view_name": "LayoutView",
            "align_content": null,
            "align_items": null,
            "align_self": null,
            "border": null,
            "bottom": null,
            "display": null,
            "flex": null,
            "flex_flow": null,
            "grid_area": null,
            "grid_auto_columns": null,
            "grid_auto_flow": null,
            "grid_auto_rows": null,
            "grid_column": null,
            "grid_gap": null,
            "grid_row": null,
            "grid_template_areas": null,
            "grid_template_columns": null,
            "grid_template_rows": null,
            "height": null,
            "justify_content": null,
            "justify_items": null,
            "left": null,
            "margin": null,
            "max_height": null,
            "max_width": null,
            "min_height": null,
            "min_width": null,
            "object_fit": null,
            "object_position": null,
            "order": null,
            "overflow": null,
            "overflow_x": null,
            "overflow_y": null,
            "padding": null,
            "right": null,
            "top": null,
            "visibility": null,
            "width": null
          }
        },
        "3af81ed6f730457e863b2c9229644dbe": {
          "model_module": "@jupyter-widgets/controls",
          "model_name": "ProgressStyleModel",
          "model_module_version": "1.5.0",
          "state": {
            "_model_module": "@jupyter-widgets/controls",
            "_model_module_version": "1.5.0",
            "_model_name": "ProgressStyleModel",
            "_view_count": null,
            "_view_module": "@jupyter-widgets/base",
            "_view_module_version": "1.2.0",
            "_view_name": "StyleView",
            "bar_color": null,
            "description_width": ""
          }
        },
        "b3e0bb47731a4facb3405eeed6110491": {
          "model_module": "@jupyter-widgets/base",
          "model_name": "LayoutModel",
          "model_module_version": "1.2.0",
          "state": {
            "_model_module": "@jupyter-widgets/base",
            "_model_module_version": "1.2.0",
            "_model_name": "LayoutModel",
            "_view_count": null,
            "_view_module": "@jupyter-widgets/base",
            "_view_module_version": "1.2.0",
            "_view_name": "LayoutView",
            "align_content": null,
            "align_items": null,
            "align_self": null,
            "border": null,
            "bottom": null,
            "display": null,
            "flex": null,
            "flex_flow": null,
            "grid_area": null,
            "grid_auto_columns": null,
            "grid_auto_flow": null,
            "grid_auto_rows": null,
            "grid_column": null,
            "grid_gap": null,
            "grid_row": null,
            "grid_template_areas": null,
            "grid_template_columns": null,
            "grid_template_rows": null,
            "height": null,
            "justify_content": null,
            "justify_items": null,
            "left": null,
            "margin": null,
            "max_height": null,
            "max_width": null,
            "min_height": null,
            "min_width": null,
            "object_fit": null,
            "object_position": null,
            "order": null,
            "overflow": null,
            "overflow_x": null,
            "overflow_y": null,
            "padding": null,
            "right": null,
            "top": null,
            "visibility": null,
            "width": null
          }
        },
        "885a23881450459bb0e62f4912d284b6": {
          "model_module": "@jupyter-widgets/controls",
          "model_name": "DescriptionStyleModel",
          "model_module_version": "1.5.0",
          "state": {
            "_model_module": "@jupyter-widgets/controls",
            "_model_module_version": "1.5.0",
            "_model_name": "DescriptionStyleModel",
            "_view_count": null,
            "_view_module": "@jupyter-widgets/base",
            "_view_module_version": "1.2.0",
            "_view_name": "StyleView",
            "description_width": ""
          }
        },
        "dbc0769295e14de3aa49b680d643e8c4": {
          "model_module": "@jupyter-widgets/controls",
          "model_name": "HBoxModel",
          "model_module_version": "1.5.0",
          "state": {
            "_dom_classes": [],
            "_model_module": "@jupyter-widgets/controls",
            "_model_module_version": "1.5.0",
            "_model_name": "HBoxModel",
            "_view_count": null,
            "_view_module": "@jupyter-widgets/controls",
            "_view_module_version": "1.5.0",
            "_view_name": "HBoxView",
            "box_style": "",
            "children": [
              "IPY_MODEL_47ff7ec1a1d24b51899624e0900cf583",
              "IPY_MODEL_369f63b3e0e34e619294293f7989111c",
              "IPY_MODEL_69bd6616ca9f4897bc9ba574e62619c9"
            ],
            "layout": "IPY_MODEL_138195125c71477b8d83b55d8eed6986"
          }
        },
        "47ff7ec1a1d24b51899624e0900cf583": {
          "model_module": "@jupyter-widgets/controls",
          "model_name": "HTMLModel",
          "model_module_version": "1.5.0",
          "state": {
            "_dom_classes": [],
            "_model_module": "@jupyter-widgets/controls",
            "_model_module_version": "1.5.0",
            "_model_name": "HTMLModel",
            "_view_count": null,
            "_view_module": "@jupyter-widgets/controls",
            "_view_module_version": "1.5.0",
            "_view_name": "HTMLView",
            "description": "",
            "description_tooltip": null,
            "layout": "IPY_MODEL_165c872a6f8c4513b75c4e83f2a2fa4f",
            "placeholder": "​",
            "style": "IPY_MODEL_3b23bdc46b9140aa8ff500f9512906d3",
            "value": "vocab.json: 100%"
          }
        },
        "369f63b3e0e34e619294293f7989111c": {
          "model_module": "@jupyter-widgets/controls",
          "model_name": "FloatProgressModel",
          "model_module_version": "1.5.0",
          "state": {
            "_dom_classes": [],
            "_model_module": "@jupyter-widgets/controls",
            "_model_module_version": "1.5.0",
            "_model_name": "FloatProgressModel",
            "_view_count": null,
            "_view_module": "@jupyter-widgets/controls",
            "_view_module_version": "1.5.0",
            "_view_name": "ProgressView",
            "bar_style": "success",
            "description": "",
            "description_tooltip": null,
            "layout": "IPY_MODEL_7ac7844796c5409384c8b34045652925",
            "max": 9429,
            "min": 0,
            "orientation": "horizontal",
            "style": "IPY_MODEL_719022ac1d4044b7a042b8fb89a44189",
            "value": 9429
          }
        },
        "69bd6616ca9f4897bc9ba574e62619c9": {
          "model_module": "@jupyter-widgets/controls",
          "model_name": "HTMLModel",
          "model_module_version": "1.5.0",
          "state": {
            "_dom_classes": [],
            "_model_module": "@jupyter-widgets/controls",
            "_model_module_version": "1.5.0",
            "_model_name": "HTMLModel",
            "_view_count": null,
            "_view_module": "@jupyter-widgets/controls",
            "_view_module_version": "1.5.0",
            "_view_name": "HTMLView",
            "description": "",
            "description_tooltip": null,
            "layout": "IPY_MODEL_444237fe93e84f48b6f7d4ae30f8727d",
            "placeholder": "​",
            "style": "IPY_MODEL_f54300ad69a24404b4f5ed0420e1b3aa",
            "value": " 9.43k/9.43k [00:00&lt;00:00, 1.16MB/s]"
          }
        },
        "138195125c71477b8d83b55d8eed6986": {
          "model_module": "@jupyter-widgets/base",
          "model_name": "LayoutModel",
          "model_module_version": "1.2.0",
          "state": {
            "_model_module": "@jupyter-widgets/base",
            "_model_module_version": "1.2.0",
            "_model_name": "LayoutModel",
            "_view_count": null,
            "_view_module": "@jupyter-widgets/base",
            "_view_module_version": "1.2.0",
            "_view_name": "LayoutView",
            "align_content": null,
            "align_items": null,
            "align_self": null,
            "border": null,
            "bottom": null,
            "display": null,
            "flex": null,
            "flex_flow": null,
            "grid_area": null,
            "grid_auto_columns": null,
            "grid_auto_flow": null,
            "grid_auto_rows": null,
            "grid_column": null,
            "grid_gap": null,
            "grid_row": null,
            "grid_template_areas": null,
            "grid_template_columns": null,
            "grid_template_rows": null,
            "height": null,
            "justify_content": null,
            "justify_items": null,
            "left": null,
            "margin": null,
            "max_height": null,
            "max_width": null,
            "min_height": null,
            "min_width": null,
            "object_fit": null,
            "object_position": null,
            "order": null,
            "overflow": null,
            "overflow_x": null,
            "overflow_y": null,
            "padding": null,
            "right": null,
            "top": null,
            "visibility": null,
            "width": null
          }
        },
        "165c872a6f8c4513b75c4e83f2a2fa4f": {
          "model_module": "@jupyter-widgets/base",
          "model_name": "LayoutModel",
          "model_module_version": "1.2.0",
          "state": {
            "_model_module": "@jupyter-widgets/base",
            "_model_module_version": "1.2.0",
            "_model_name": "LayoutModel",
            "_view_count": null,
            "_view_module": "@jupyter-widgets/base",
            "_view_module_version": "1.2.0",
            "_view_name": "LayoutView",
            "align_content": null,
            "align_items": null,
            "align_self": null,
            "border": null,
            "bottom": null,
            "display": null,
            "flex": null,
            "flex_flow": null,
            "grid_area": null,
            "grid_auto_columns": null,
            "grid_auto_flow": null,
            "grid_auto_rows": null,
            "grid_column": null,
            "grid_gap": null,
            "grid_row": null,
            "grid_template_areas": null,
            "grid_template_columns": null,
            "grid_template_rows": null,
            "height": null,
            "justify_content": null,
            "justify_items": null,
            "left": null,
            "margin": null,
            "max_height": null,
            "max_width": null,
            "min_height": null,
            "min_width": null,
            "object_fit": null,
            "object_position": null,
            "order": null,
            "overflow": null,
            "overflow_x": null,
            "overflow_y": null,
            "padding": null,
            "right": null,
            "top": null,
            "visibility": null,
            "width": null
          }
        },
        "3b23bdc46b9140aa8ff500f9512906d3": {
          "model_module": "@jupyter-widgets/controls",
          "model_name": "DescriptionStyleModel",
          "model_module_version": "1.5.0",
          "state": {
            "_model_module": "@jupyter-widgets/controls",
            "_model_module_version": "1.5.0",
            "_model_name": "DescriptionStyleModel",
            "_view_count": null,
            "_view_module": "@jupyter-widgets/base",
            "_view_module_version": "1.2.0",
            "_view_name": "StyleView",
            "description_width": ""
          }
        },
        "7ac7844796c5409384c8b34045652925": {
          "model_module": "@jupyter-widgets/base",
          "model_name": "LayoutModel",
          "model_module_version": "1.2.0",
          "state": {
            "_model_module": "@jupyter-widgets/base",
            "_model_module_version": "1.2.0",
            "_model_name": "LayoutModel",
            "_view_count": null,
            "_view_module": "@jupyter-widgets/base",
            "_view_module_version": "1.2.0",
            "_view_name": "LayoutView",
            "align_content": null,
            "align_items": null,
            "align_self": null,
            "border": null,
            "bottom": null,
            "display": null,
            "flex": null,
            "flex_flow": null,
            "grid_area": null,
            "grid_auto_columns": null,
            "grid_auto_flow": null,
            "grid_auto_rows": null,
            "grid_column": null,
            "grid_gap": null,
            "grid_row": null,
            "grid_template_areas": null,
            "grid_template_columns": null,
            "grid_template_rows": null,
            "height": null,
            "justify_content": null,
            "justify_items": null,
            "left": null,
            "margin": null,
            "max_height": null,
            "max_width": null,
            "min_height": null,
            "min_width": null,
            "object_fit": null,
            "object_position": null,
            "order": null,
            "overflow": null,
            "overflow_x": null,
            "overflow_y": null,
            "padding": null,
            "right": null,
            "top": null,
            "visibility": null,
            "width": null
          }
        },
        "719022ac1d4044b7a042b8fb89a44189": {
          "model_module": "@jupyter-widgets/controls",
          "model_name": "ProgressStyleModel",
          "model_module_version": "1.5.0",
          "state": {
            "_model_module": "@jupyter-widgets/controls",
            "_model_module_version": "1.5.0",
            "_model_name": "ProgressStyleModel",
            "_view_count": null,
            "_view_module": "@jupyter-widgets/base",
            "_view_module_version": "1.2.0",
            "_view_name": "StyleView",
            "bar_color": null,
            "description_width": ""
          }
        },
        "444237fe93e84f48b6f7d4ae30f8727d": {
          "model_module": "@jupyter-widgets/base",
          "model_name": "LayoutModel",
          "model_module_version": "1.2.0",
          "state": {
            "_model_module": "@jupyter-widgets/base",
            "_model_module_version": "1.2.0",
            "_model_name": "LayoutModel",
            "_view_count": null,
            "_view_module": "@jupyter-widgets/base",
            "_view_module_version": "1.2.0",
            "_view_name": "LayoutView",
            "align_content": null,
            "align_items": null,
            "align_self": null,
            "border": null,
            "bottom": null,
            "display": null,
            "flex": null,
            "flex_flow": null,
            "grid_area": null,
            "grid_auto_columns": null,
            "grid_auto_flow": null,
            "grid_auto_rows": null,
            "grid_column": null,
            "grid_gap": null,
            "grid_row": null,
            "grid_template_areas": null,
            "grid_template_columns": null,
            "grid_template_rows": null,
            "height": null,
            "justify_content": null,
            "justify_items": null,
            "left": null,
            "margin": null,
            "max_height": null,
            "max_width": null,
            "min_height": null,
            "min_width": null,
            "object_fit": null,
            "object_position": null,
            "order": null,
            "overflow": null,
            "overflow_x": null,
            "overflow_y": null,
            "padding": null,
            "right": null,
            "top": null,
            "visibility": null,
            "width": null
          }
        },
        "f54300ad69a24404b4f5ed0420e1b3aa": {
          "model_module": "@jupyter-widgets/controls",
          "model_name": "DescriptionStyleModel",
          "model_module_version": "1.5.0",
          "state": {
            "_model_module": "@jupyter-widgets/controls",
            "_model_module_version": "1.5.0",
            "_model_name": "DescriptionStyleModel",
            "_view_count": null,
            "_view_module": "@jupyter-widgets/base",
            "_view_module_version": "1.2.0",
            "_view_name": "StyleView",
            "description_width": ""
          }
        },
        "edbee2ccf2e94dbb98d8218b8ae3aab7": {
          "model_module": "@jupyter-widgets/controls",
          "model_name": "HBoxModel",
          "model_module_version": "1.5.0",
          "state": {
            "_dom_classes": [],
            "_model_module": "@jupyter-widgets/controls",
            "_model_module_version": "1.5.0",
            "_model_name": "HBoxModel",
            "_view_count": null,
            "_view_module": "@jupyter-widgets/controls",
            "_view_module_version": "1.5.0",
            "_view_name": "HBoxView",
            "box_style": "",
            "children": [
              "IPY_MODEL_e6ecc8fca9114b738216f668c9c838e8",
              "IPY_MODEL_15bddde204ac44abae538cfad2c27e0d",
              "IPY_MODEL_bca72a000342447abefd0b18f560020a"
            ],
            "layout": "IPY_MODEL_6b0da80cc6ae4afd924e46d6ea29e237"
          }
        },
        "e6ecc8fca9114b738216f668c9c838e8": {
          "model_module": "@jupyter-widgets/controls",
          "model_name": "HTMLModel",
          "model_module_version": "1.5.0",
          "state": {
            "_dom_classes": [],
            "_model_module": "@jupyter-widgets/controls",
            "_model_module_version": "1.5.0",
            "_model_name": "HTMLModel",
            "_view_count": null,
            "_view_module": "@jupyter-widgets/controls",
            "_view_module_version": "1.5.0",
            "_view_name": "HTMLView",
            "description": "",
            "description_tooltip": null,
            "layout": "IPY_MODEL_d63774618f8342edafa2d7124f4a6f59",
            "placeholder": "​",
            "style": "IPY_MODEL_04fe7d7043854b67a71d62a06efc4dd5",
            "value": "merges.txt: 100%"
          }
        },
        "15bddde204ac44abae538cfad2c27e0d": {
          "model_module": "@jupyter-widgets/controls",
          "model_name": "FloatProgressModel",
          "model_module_version": "1.5.0",
          "state": {
            "_dom_classes": [],
            "_model_module": "@jupyter-widgets/controls",
            "_model_module_version": "1.5.0",
            "_model_name": "FloatProgressModel",
            "_view_count": null,
            "_view_module": "@jupyter-widgets/controls",
            "_view_module_version": "1.5.0",
            "_view_name": "ProgressView",
            "bar_style": "success",
            "description": "",
            "description_tooltip": null,
            "layout": "IPY_MODEL_79823e1b7ac0426482d31089561d4888",
            "max": 3213,
            "min": 0,
            "orientation": "horizontal",
            "style": "IPY_MODEL_c09d837db43b4ccba3e8979c92abcd22",
            "value": 3213
          }
        },
        "bca72a000342447abefd0b18f560020a": {
          "model_module": "@jupyter-widgets/controls",
          "model_name": "HTMLModel",
          "model_module_version": "1.5.0",
          "state": {
            "_dom_classes": [],
            "_model_module": "@jupyter-widgets/controls",
            "_model_module_version": "1.5.0",
            "_model_name": "HTMLModel",
            "_view_count": null,
            "_view_module": "@jupyter-widgets/controls",
            "_view_module_version": "1.5.0",
            "_view_name": "HTMLView",
            "description": "",
            "description_tooltip": null,
            "layout": "IPY_MODEL_f76e12f08fa04ab3b79edbfcd34f4d3b",
            "placeholder": "​",
            "style": "IPY_MODEL_402e462604944a8f918d7b822372834d",
            "value": " 3.21k/3.21k [00:00&lt;00:00, 446kB/s]"
          }
        },
        "6b0da80cc6ae4afd924e46d6ea29e237": {
          "model_module": "@jupyter-widgets/base",
          "model_name": "LayoutModel",
          "model_module_version": "1.2.0",
          "state": {
            "_model_module": "@jupyter-widgets/base",
            "_model_module_version": "1.2.0",
            "_model_name": "LayoutModel",
            "_view_count": null,
            "_view_module": "@jupyter-widgets/base",
            "_view_module_version": "1.2.0",
            "_view_name": "LayoutView",
            "align_content": null,
            "align_items": null,
            "align_self": null,
            "border": null,
            "bottom": null,
            "display": null,
            "flex": null,
            "flex_flow": null,
            "grid_area": null,
            "grid_auto_columns": null,
            "grid_auto_flow": null,
            "grid_auto_rows": null,
            "grid_column": null,
            "grid_gap": null,
            "grid_row": null,
            "grid_template_areas": null,
            "grid_template_columns": null,
            "grid_template_rows": null,
            "height": null,
            "justify_content": null,
            "justify_items": null,
            "left": null,
            "margin": null,
            "max_height": null,
            "max_width": null,
            "min_height": null,
            "min_width": null,
            "object_fit": null,
            "object_position": null,
            "order": null,
            "overflow": null,
            "overflow_x": null,
            "overflow_y": null,
            "padding": null,
            "right": null,
            "top": null,
            "visibility": null,
            "width": null
          }
        },
        "d63774618f8342edafa2d7124f4a6f59": {
          "model_module": "@jupyter-widgets/base",
          "model_name": "LayoutModel",
          "model_module_version": "1.2.0",
          "state": {
            "_model_module": "@jupyter-widgets/base",
            "_model_module_version": "1.2.0",
            "_model_name": "LayoutModel",
            "_view_count": null,
            "_view_module": "@jupyter-widgets/base",
            "_view_module_version": "1.2.0",
            "_view_name": "LayoutView",
            "align_content": null,
            "align_items": null,
            "align_self": null,
            "border": null,
            "bottom": null,
            "display": null,
            "flex": null,
            "flex_flow": null,
            "grid_area": null,
            "grid_auto_columns": null,
            "grid_auto_flow": null,
            "grid_auto_rows": null,
            "grid_column": null,
            "grid_gap": null,
            "grid_row": null,
            "grid_template_areas": null,
            "grid_template_columns": null,
            "grid_template_rows": null,
            "height": null,
            "justify_content": null,
            "justify_items": null,
            "left": null,
            "margin": null,
            "max_height": null,
            "max_width": null,
            "min_height": null,
            "min_width": null,
            "object_fit": null,
            "object_position": null,
            "order": null,
            "overflow": null,
            "overflow_x": null,
            "overflow_y": null,
            "padding": null,
            "right": null,
            "top": null,
            "visibility": null,
            "width": null
          }
        },
        "04fe7d7043854b67a71d62a06efc4dd5": {
          "model_module": "@jupyter-widgets/controls",
          "model_name": "DescriptionStyleModel",
          "model_module_version": "1.5.0",
          "state": {
            "_model_module": "@jupyter-widgets/controls",
            "_model_module_version": "1.5.0",
            "_model_name": "DescriptionStyleModel",
            "_view_count": null,
            "_view_module": "@jupyter-widgets/base",
            "_view_module_version": "1.2.0",
            "_view_name": "StyleView",
            "description_width": ""
          }
        },
        "79823e1b7ac0426482d31089561d4888": {
          "model_module": "@jupyter-widgets/base",
          "model_name": "LayoutModel",
          "model_module_version": "1.2.0",
          "state": {
            "_model_module": "@jupyter-widgets/base",
            "_model_module_version": "1.2.0",
            "_model_name": "LayoutModel",
            "_view_count": null,
            "_view_module": "@jupyter-widgets/base",
            "_view_module_version": "1.2.0",
            "_view_name": "LayoutView",
            "align_content": null,
            "align_items": null,
            "align_self": null,
            "border": null,
            "bottom": null,
            "display": null,
            "flex": null,
            "flex_flow": null,
            "grid_area": null,
            "grid_auto_columns": null,
            "grid_auto_flow": null,
            "grid_auto_rows": null,
            "grid_column": null,
            "grid_gap": null,
            "grid_row": null,
            "grid_template_areas": null,
            "grid_template_columns": null,
            "grid_template_rows": null,
            "height": null,
            "justify_content": null,
            "justify_items": null,
            "left": null,
            "margin": null,
            "max_height": null,
            "max_width": null,
            "min_height": null,
            "min_width": null,
            "object_fit": null,
            "object_position": null,
            "order": null,
            "overflow": null,
            "overflow_x": null,
            "overflow_y": null,
            "padding": null,
            "right": null,
            "top": null,
            "visibility": null,
            "width": null
          }
        },
        "c09d837db43b4ccba3e8979c92abcd22": {
          "model_module": "@jupyter-widgets/controls",
          "model_name": "ProgressStyleModel",
          "model_module_version": "1.5.0",
          "state": {
            "_model_module": "@jupyter-widgets/controls",
            "_model_module_version": "1.5.0",
            "_model_name": "ProgressStyleModel",
            "_view_count": null,
            "_view_module": "@jupyter-widgets/base",
            "_view_module_version": "1.2.0",
            "_view_name": "StyleView",
            "bar_color": null,
            "description_width": ""
          }
        },
        "f76e12f08fa04ab3b79edbfcd34f4d3b": {
          "model_module": "@jupyter-widgets/base",
          "model_name": "LayoutModel",
          "model_module_version": "1.2.0",
          "state": {
            "_model_module": "@jupyter-widgets/base",
            "_model_module_version": "1.2.0",
            "_model_name": "LayoutModel",
            "_view_count": null,
            "_view_module": "@jupyter-widgets/base",
            "_view_module_version": "1.2.0",
            "_view_name": "LayoutView",
            "align_content": null,
            "align_items": null,
            "align_self": null,
            "border": null,
            "bottom": null,
            "display": null,
            "flex": null,
            "flex_flow": null,
            "grid_area": null,
            "grid_auto_columns": null,
            "grid_auto_flow": null,
            "grid_auto_rows": null,
            "grid_column": null,
            "grid_gap": null,
            "grid_row": null,
            "grid_template_areas": null,
            "grid_template_columns": null,
            "grid_template_rows": null,
            "height": null,
            "justify_content": null,
            "justify_items": null,
            "left": null,
            "margin": null,
            "max_height": null,
            "max_width": null,
            "min_height": null,
            "min_width": null,
            "object_fit": null,
            "object_position": null,
            "order": null,
            "overflow": null,
            "overflow_x": null,
            "overflow_y": null,
            "padding": null,
            "right": null,
            "top": null,
            "visibility": null,
            "width": null
          }
        },
        "402e462604944a8f918d7b822372834d": {
          "model_module": "@jupyter-widgets/controls",
          "model_name": "DescriptionStyleModel",
          "model_module_version": "1.5.0",
          "state": {
            "_model_module": "@jupyter-widgets/controls",
            "_model_module_version": "1.5.0",
            "_model_name": "DescriptionStyleModel",
            "_view_count": null,
            "_view_module": "@jupyter-widgets/base",
            "_view_module_version": "1.2.0",
            "_view_name": "StyleView",
            "description_width": ""
          }
        },
        "c2f3afb79f9c4dfea4e0953b77a6d9b4": {
          "model_module": "@jupyter-widgets/controls",
          "model_name": "HBoxModel",
          "model_module_version": "1.5.0",
          "state": {
            "_dom_classes": [],
            "_model_module": "@jupyter-widgets/controls",
            "_model_module_version": "1.5.0",
            "_model_name": "HBoxModel",
            "_view_count": null,
            "_view_module": "@jupyter-widgets/controls",
            "_view_module_version": "1.5.0",
            "_view_name": "HBoxView",
            "box_style": "",
            "children": [
              "IPY_MODEL_1c77a1cc49ba40da9c36855ff882ca65",
              "IPY_MODEL_ab97f90a2d4d408fa3940c65b96af13a",
              "IPY_MODEL_80a271bd0cfa416a831df422c012ea5c"
            ],
            "layout": "IPY_MODEL_913242f334dc42cdb953496629af775b"
          }
        },
        "1c77a1cc49ba40da9c36855ff882ca65": {
          "model_module": "@jupyter-widgets/controls",
          "model_name": "HTMLModel",
          "model_module_version": "1.5.0",
          "state": {
            "_dom_classes": [],
            "_model_module": "@jupyter-widgets/controls",
            "_model_module_version": "1.5.0",
            "_model_name": "HTMLModel",
            "_view_count": null,
            "_view_module": "@jupyter-widgets/controls",
            "_view_module_version": "1.5.0",
            "_view_name": "HTMLView",
            "description": "",
            "description_tooltip": null,
            "layout": "IPY_MODEL_9ebdc4c098b94f15976eafb8ac4f745b",
            "placeholder": "​",
            "style": "IPY_MODEL_96058926395148228cfc584a617d5be4",
            "value": "special_tokens_map.json: 100%"
          }
        },
        "ab97f90a2d4d408fa3940c65b96af13a": {
          "model_module": "@jupyter-widgets/controls",
          "model_name": "FloatProgressModel",
          "model_module_version": "1.5.0",
          "state": {
            "_dom_classes": [],
            "_model_module": "@jupyter-widgets/controls",
            "_model_module_version": "1.5.0",
            "_model_name": "FloatProgressModel",
            "_view_count": null,
            "_view_module": "@jupyter-widgets/controls",
            "_view_module_version": "1.5.0",
            "_view_name": "ProgressView",
            "bar_style": "success",
            "description": "",
            "description_tooltip": null,
            "layout": "IPY_MODEL_f0713810faae4d62b1da3e4335bbf896",
            "max": 150,
            "min": 0,
            "orientation": "horizontal",
            "style": "IPY_MODEL_14d079f28bd54ed6b0b46f9ee5326f33",
            "value": 150
          }
        },
        "80a271bd0cfa416a831df422c012ea5c": {
          "model_module": "@jupyter-widgets/controls",
          "model_name": "HTMLModel",
          "model_module_version": "1.5.0",
          "state": {
            "_dom_classes": [],
            "_model_module": "@jupyter-widgets/controls",
            "_model_module_version": "1.5.0",
            "_model_name": "HTMLModel",
            "_view_count": null,
            "_view_module": "@jupyter-widgets/controls",
            "_view_module_version": "1.5.0",
            "_view_name": "HTMLView",
            "description": "",
            "description_tooltip": null,
            "layout": "IPY_MODEL_b467c7779ad84cd89cea6e593667f436",
            "placeholder": "​",
            "style": "IPY_MODEL_5df338807f9e437bba7769a291190597",
            "value": " 150/150 [00:00&lt;00:00, 19.8kB/s]"
          }
        },
        "913242f334dc42cdb953496629af775b": {
          "model_module": "@jupyter-widgets/base",
          "model_name": "LayoutModel",
          "model_module_version": "1.2.0",
          "state": {
            "_model_module": "@jupyter-widgets/base",
            "_model_module_version": "1.2.0",
            "_model_name": "LayoutModel",
            "_view_count": null,
            "_view_module": "@jupyter-widgets/base",
            "_view_module_version": "1.2.0",
            "_view_name": "LayoutView",
            "align_content": null,
            "align_items": null,
            "align_self": null,
            "border": null,
            "bottom": null,
            "display": null,
            "flex": null,
            "flex_flow": null,
            "grid_area": null,
            "grid_auto_columns": null,
            "grid_auto_flow": null,
            "grid_auto_rows": null,
            "grid_column": null,
            "grid_gap": null,
            "grid_row": null,
            "grid_template_areas": null,
            "grid_template_columns": null,
            "grid_template_rows": null,
            "height": null,
            "justify_content": null,
            "justify_items": null,
            "left": null,
            "margin": null,
            "max_height": null,
            "max_width": null,
            "min_height": null,
            "min_width": null,
            "object_fit": null,
            "object_position": null,
            "order": null,
            "overflow": null,
            "overflow_x": null,
            "overflow_y": null,
            "padding": null,
            "right": null,
            "top": null,
            "visibility": null,
            "width": null
          }
        },
        "9ebdc4c098b94f15976eafb8ac4f745b": {
          "model_module": "@jupyter-widgets/base",
          "model_name": "LayoutModel",
          "model_module_version": "1.2.0",
          "state": {
            "_model_module": "@jupyter-widgets/base",
            "_model_module_version": "1.2.0",
            "_model_name": "LayoutModel",
            "_view_count": null,
            "_view_module": "@jupyter-widgets/base",
            "_view_module_version": "1.2.0",
            "_view_name": "LayoutView",
            "align_content": null,
            "align_items": null,
            "align_self": null,
            "border": null,
            "bottom": null,
            "display": null,
            "flex": null,
            "flex_flow": null,
            "grid_area": null,
            "grid_auto_columns": null,
            "grid_auto_flow": null,
            "grid_auto_rows": null,
            "grid_column": null,
            "grid_gap": null,
            "grid_row": null,
            "grid_template_areas": null,
            "grid_template_columns": null,
            "grid_template_rows": null,
            "height": null,
            "justify_content": null,
            "justify_items": null,
            "left": null,
            "margin": null,
            "max_height": null,
            "max_width": null,
            "min_height": null,
            "min_width": null,
            "object_fit": null,
            "object_position": null,
            "order": null,
            "overflow": null,
            "overflow_x": null,
            "overflow_y": null,
            "padding": null,
            "right": null,
            "top": null,
            "visibility": null,
            "width": null
          }
        },
        "96058926395148228cfc584a617d5be4": {
          "model_module": "@jupyter-widgets/controls",
          "model_name": "DescriptionStyleModel",
          "model_module_version": "1.5.0",
          "state": {
            "_model_module": "@jupyter-widgets/controls",
            "_model_module_version": "1.5.0",
            "_model_name": "DescriptionStyleModel",
            "_view_count": null,
            "_view_module": "@jupyter-widgets/base",
            "_view_module_version": "1.2.0",
            "_view_name": "StyleView",
            "description_width": ""
          }
        },
        "f0713810faae4d62b1da3e4335bbf896": {
          "model_module": "@jupyter-widgets/base",
          "model_name": "LayoutModel",
          "model_module_version": "1.2.0",
          "state": {
            "_model_module": "@jupyter-widgets/base",
            "_model_module_version": "1.2.0",
            "_model_name": "LayoutModel",
            "_view_count": null,
            "_view_module": "@jupyter-widgets/base",
            "_view_module_version": "1.2.0",
            "_view_name": "LayoutView",
            "align_content": null,
            "align_items": null,
            "align_self": null,
            "border": null,
            "bottom": null,
            "display": null,
            "flex": null,
            "flex_flow": null,
            "grid_area": null,
            "grid_auto_columns": null,
            "grid_auto_flow": null,
            "grid_auto_rows": null,
            "grid_column": null,
            "grid_gap": null,
            "grid_row": null,
            "grid_template_areas": null,
            "grid_template_columns": null,
            "grid_template_rows": null,
            "height": null,
            "justify_content": null,
            "justify_items": null,
            "left": null,
            "margin": null,
            "max_height": null,
            "max_width": null,
            "min_height": null,
            "min_width": null,
            "object_fit": null,
            "object_position": null,
            "order": null,
            "overflow": null,
            "overflow_x": null,
            "overflow_y": null,
            "padding": null,
            "right": null,
            "top": null,
            "visibility": null,
            "width": null
          }
        },
        "14d079f28bd54ed6b0b46f9ee5326f33": {
          "model_module": "@jupyter-widgets/controls",
          "model_name": "ProgressStyleModel",
          "model_module_version": "1.5.0",
          "state": {
            "_model_module": "@jupyter-widgets/controls",
            "_model_module_version": "1.5.0",
            "_model_name": "ProgressStyleModel",
            "_view_count": null,
            "_view_module": "@jupyter-widgets/base",
            "_view_module_version": "1.2.0",
            "_view_name": "StyleView",
            "bar_color": null,
            "description_width": ""
          }
        },
        "b467c7779ad84cd89cea6e593667f436": {
          "model_module": "@jupyter-widgets/base",
          "model_name": "LayoutModel",
          "model_module_version": "1.2.0",
          "state": {
            "_model_module": "@jupyter-widgets/base",
            "_model_module_version": "1.2.0",
            "_model_name": "LayoutModel",
            "_view_count": null,
            "_view_module": "@jupyter-widgets/base",
            "_view_module_version": "1.2.0",
            "_view_name": "LayoutView",
            "align_content": null,
            "align_items": null,
            "align_self": null,
            "border": null,
            "bottom": null,
            "display": null,
            "flex": null,
            "flex_flow": null,
            "grid_area": null,
            "grid_auto_columns": null,
            "grid_auto_flow": null,
            "grid_auto_rows": null,
            "grid_column": null,
            "grid_gap": null,
            "grid_row": null,
            "grid_template_areas": null,
            "grid_template_columns": null,
            "grid_template_rows": null,
            "height": null,
            "justify_content": null,
            "justify_items": null,
            "left": null,
            "margin": null,
            "max_height": null,
            "max_width": null,
            "min_height": null,
            "min_width": null,
            "object_fit": null,
            "object_position": null,
            "order": null,
            "overflow": null,
            "overflow_x": null,
            "overflow_y": null,
            "padding": null,
            "right": null,
            "top": null,
            "visibility": null,
            "width": null
          }
        },
        "5df338807f9e437bba7769a291190597": {
          "model_module": "@jupyter-widgets/controls",
          "model_name": "DescriptionStyleModel",
          "model_module_version": "1.5.0",
          "state": {
            "_model_module": "@jupyter-widgets/controls",
            "_model_module_version": "1.5.0",
            "_model_name": "DescriptionStyleModel",
            "_view_count": null,
            "_view_module": "@jupyter-widgets/base",
            "_view_module_version": "1.2.0",
            "_view_name": "StyleView",
            "description_width": ""
          }
        },
        "13e7b67f04ca4a758ca36f8b5aef5ca1": {
          "model_module": "@jupyter-widgets/controls",
          "model_name": "HBoxModel",
          "model_module_version": "1.5.0",
          "state": {
            "_dom_classes": [],
            "_model_module": "@jupyter-widgets/controls",
            "_model_module_version": "1.5.0",
            "_model_name": "HBoxModel",
            "_view_count": null,
            "_view_module": "@jupyter-widgets/controls",
            "_view_module_version": "1.5.0",
            "_view_name": "HBoxView",
            "box_style": "",
            "children": [
              "IPY_MODEL_194a1524ebfa46b7ae39de3d34f827a9",
              "IPY_MODEL_fd3215d54fe64883a093caf685c62bf5",
              "IPY_MODEL_da1449757e3b41f694c554d90286d8a6"
            ],
            "layout": "IPY_MODEL_23077f8630234b2989fc08fdb7e4e2b6"
          }
        },
        "194a1524ebfa46b7ae39de3d34f827a9": {
          "model_module": "@jupyter-widgets/controls",
          "model_name": "HTMLModel",
          "model_module_version": "1.5.0",
          "state": {
            "_dom_classes": [],
            "_model_module": "@jupyter-widgets/controls",
            "_model_module_version": "1.5.0",
            "_model_name": "HTMLModel",
            "_view_count": null,
            "_view_module": "@jupyter-widgets/controls",
            "_view_module_version": "1.5.0",
            "_view_name": "HTMLView",
            "description": "",
            "description_tooltip": null,
            "layout": "IPY_MODEL_6ececa8ab150461998ddab0c4abf3e8e",
            "placeholder": "​",
            "style": "IPY_MODEL_c937cb09173444b095d82cc2b2ce9cd6",
            "value": "pytorch_model.bin: 100%"
          }
        },
        "fd3215d54fe64883a093caf685c62bf5": {
          "model_module": "@jupyter-widgets/controls",
          "model_name": "FloatProgressModel",
          "model_module_version": "1.5.0",
          "state": {
            "_dom_classes": [],
            "_model_module": "@jupyter-widgets/controls",
            "_model_module_version": "1.5.0",
            "_model_name": "FloatProgressModel",
            "_view_count": null,
            "_view_module": "@jupyter-widgets/controls",
            "_view_module_version": "1.5.0",
            "_view_name": "ProgressView",
            "bar_style": "success",
            "description": "",
            "description_tooltip": null,
            "layout": "IPY_MODEL_3d6a149365364be28b7561c266e0ebc4",
            "max": 178812144,
            "min": 0,
            "orientation": "horizontal",
            "style": "IPY_MODEL_177f1cdf42294befbc3dda8c9ccac2ff",
            "value": 178812144
          }
        },
        "da1449757e3b41f694c554d90286d8a6": {
          "model_module": "@jupyter-widgets/controls",
          "model_name": "HTMLModel",
          "model_module_version": "1.5.0",
          "state": {
            "_dom_classes": [],
            "_model_module": "@jupyter-widgets/controls",
            "_model_module_version": "1.5.0",
            "_model_name": "HTMLModel",
            "_view_count": null,
            "_view_module": "@jupyter-widgets/controls",
            "_view_module_version": "1.5.0",
            "_view_name": "HTMLView",
            "description": "",
            "description_tooltip": null,
            "layout": "IPY_MODEL_56bab1c54dd34f8c85c107ce2ec9aba0",
            "placeholder": "​",
            "style": "IPY_MODEL_3581afedde8644b19d4d793f3c96ffe2",
            "value": " 179M/179M [00:00&lt;00:00, 244MB/s]"
          }
        },
        "23077f8630234b2989fc08fdb7e4e2b6": {
          "model_module": "@jupyter-widgets/base",
          "model_name": "LayoutModel",
          "model_module_version": "1.2.0",
          "state": {
            "_model_module": "@jupyter-widgets/base",
            "_model_module_version": "1.2.0",
            "_model_name": "LayoutModel",
            "_view_count": null,
            "_view_module": "@jupyter-widgets/base",
            "_view_module_version": "1.2.0",
            "_view_name": "LayoutView",
            "align_content": null,
            "align_items": null,
            "align_self": null,
            "border": null,
            "bottom": null,
            "display": null,
            "flex": null,
            "flex_flow": null,
            "grid_area": null,
            "grid_auto_columns": null,
            "grid_auto_flow": null,
            "grid_auto_rows": null,
            "grid_column": null,
            "grid_gap": null,
            "grid_row": null,
            "grid_template_areas": null,
            "grid_template_columns": null,
            "grid_template_rows": null,
            "height": null,
            "justify_content": null,
            "justify_items": null,
            "left": null,
            "margin": null,
            "max_height": null,
            "max_width": null,
            "min_height": null,
            "min_width": null,
            "object_fit": null,
            "object_position": null,
            "order": null,
            "overflow": null,
            "overflow_x": null,
            "overflow_y": null,
            "padding": null,
            "right": null,
            "top": null,
            "visibility": null,
            "width": null
          }
        },
        "6ececa8ab150461998ddab0c4abf3e8e": {
          "model_module": "@jupyter-widgets/base",
          "model_name": "LayoutModel",
          "model_module_version": "1.2.0",
          "state": {
            "_model_module": "@jupyter-widgets/base",
            "_model_module_version": "1.2.0",
            "_model_name": "LayoutModel",
            "_view_count": null,
            "_view_module": "@jupyter-widgets/base",
            "_view_module_version": "1.2.0",
            "_view_name": "LayoutView",
            "align_content": null,
            "align_items": null,
            "align_self": null,
            "border": null,
            "bottom": null,
            "display": null,
            "flex": null,
            "flex_flow": null,
            "grid_area": null,
            "grid_auto_columns": null,
            "grid_auto_flow": null,
            "grid_auto_rows": null,
            "grid_column": null,
            "grid_gap": null,
            "grid_row": null,
            "grid_template_areas": null,
            "grid_template_columns": null,
            "grid_template_rows": null,
            "height": null,
            "justify_content": null,
            "justify_items": null,
            "left": null,
            "margin": null,
            "max_height": null,
            "max_width": null,
            "min_height": null,
            "min_width": null,
            "object_fit": null,
            "object_position": null,
            "order": null,
            "overflow": null,
            "overflow_x": null,
            "overflow_y": null,
            "padding": null,
            "right": null,
            "top": null,
            "visibility": null,
            "width": null
          }
        },
        "c937cb09173444b095d82cc2b2ce9cd6": {
          "model_module": "@jupyter-widgets/controls",
          "model_name": "DescriptionStyleModel",
          "model_module_version": "1.5.0",
          "state": {
            "_model_module": "@jupyter-widgets/controls",
            "_model_module_version": "1.5.0",
            "_model_name": "DescriptionStyleModel",
            "_view_count": null,
            "_view_module": "@jupyter-widgets/base",
            "_view_module_version": "1.2.0",
            "_view_name": "StyleView",
            "description_width": ""
          }
        },
        "3d6a149365364be28b7561c266e0ebc4": {
          "model_module": "@jupyter-widgets/base",
          "model_name": "LayoutModel",
          "model_module_version": "1.2.0",
          "state": {
            "_model_module": "@jupyter-widgets/base",
            "_model_module_version": "1.2.0",
            "_model_name": "LayoutModel",
            "_view_count": null,
            "_view_module": "@jupyter-widgets/base",
            "_view_module_version": "1.2.0",
            "_view_name": "LayoutView",
            "align_content": null,
            "align_items": null,
            "align_self": null,
            "border": null,
            "bottom": null,
            "display": null,
            "flex": null,
            "flex_flow": null,
            "grid_area": null,
            "grid_auto_columns": null,
            "grid_auto_flow": null,
            "grid_auto_rows": null,
            "grid_column": null,
            "grid_gap": null,
            "grid_row": null,
            "grid_template_areas": null,
            "grid_template_columns": null,
            "grid_template_rows": null,
            "height": null,
            "justify_content": null,
            "justify_items": null,
            "left": null,
            "margin": null,
            "max_height": null,
            "max_width": null,
            "min_height": null,
            "min_width": null,
            "object_fit": null,
            "object_position": null,
            "order": null,
            "overflow": null,
            "overflow_x": null,
            "overflow_y": null,
            "padding": null,
            "right": null,
            "top": null,
            "visibility": null,
            "width": null
          }
        },
        "177f1cdf42294befbc3dda8c9ccac2ff": {
          "model_module": "@jupyter-widgets/controls",
          "model_name": "ProgressStyleModel",
          "model_module_version": "1.5.0",
          "state": {
            "_model_module": "@jupyter-widgets/controls",
            "_model_module_version": "1.5.0",
            "_model_name": "ProgressStyleModel",
            "_view_count": null,
            "_view_module": "@jupyter-widgets/base",
            "_view_module_version": "1.2.0",
            "_view_name": "StyleView",
            "bar_color": null,
            "description_width": ""
          }
        },
        "56bab1c54dd34f8c85c107ce2ec9aba0": {
          "model_module": "@jupyter-widgets/base",
          "model_name": "LayoutModel",
          "model_module_version": "1.2.0",
          "state": {
            "_model_module": "@jupyter-widgets/base",
            "_model_module_version": "1.2.0",
            "_model_name": "LayoutModel",
            "_view_count": null,
            "_view_module": "@jupyter-widgets/base",
            "_view_module_version": "1.2.0",
            "_view_name": "LayoutView",
            "align_content": null,
            "align_items": null,
            "align_self": null,
            "border": null,
            "bottom": null,
            "display": null,
            "flex": null,
            "flex_flow": null,
            "grid_area": null,
            "grid_auto_columns": null,
            "grid_auto_flow": null,
            "grid_auto_rows": null,
            "grid_column": null,
            "grid_gap": null,
            "grid_row": null,
            "grid_template_areas": null,
            "grid_template_columns": null,
            "grid_template_rows": null,
            "height": null,
            "justify_content": null,
            "justify_items": null,
            "left": null,
            "margin": null,
            "max_height": null,
            "max_width": null,
            "min_height": null,
            "min_width": null,
            "object_fit": null,
            "object_position": null,
            "order": null,
            "overflow": null,
            "overflow_x": null,
            "overflow_y": null,
            "padding": null,
            "right": null,
            "top": null,
            "visibility": null,
            "width": null
          }
        },
        "3581afedde8644b19d4d793f3c96ffe2": {
          "model_module": "@jupyter-widgets/controls",
          "model_name": "DescriptionStyleModel",
          "model_module_version": "1.5.0",
          "state": {
            "_model_module": "@jupyter-widgets/controls",
            "_model_module_version": "1.5.0",
            "_model_name": "DescriptionStyleModel",
            "_view_count": null,
            "_view_module": "@jupyter-widgets/base",
            "_view_module_version": "1.2.0",
            "_view_name": "StyleView",
            "description_width": ""
          }
        },
        "1e89bdf9fd784e60a1e95136f7c2667f": {
          "model_module": "@jupyter-widgets/controls",
          "model_name": "HBoxModel",
          "model_module_version": "1.5.0",
          "state": {
            "_dom_classes": [],
            "_model_module": "@jupyter-widgets/controls",
            "_model_module_version": "1.5.0",
            "_model_name": "HBoxModel",
            "_view_count": null,
            "_view_module": "@jupyter-widgets/controls",
            "_view_module_version": "1.5.0",
            "_view_name": "HBoxView",
            "box_style": "",
            "children": [
              "IPY_MODEL_253039e17f7843d3977ffcc02344ebb3",
              "IPY_MODEL_835366a41c98452cad72ed384e1a35f2",
              "IPY_MODEL_0aa1498cde9e43a3acc9c1f84ab2b146"
            ],
            "layout": "IPY_MODEL_1eed3e1ecbfc4243bcb9c49a83baffc8"
          }
        },
        "253039e17f7843d3977ffcc02344ebb3": {
          "model_module": "@jupyter-widgets/controls",
          "model_name": "HTMLModel",
          "model_module_version": "1.5.0",
          "state": {
            "_dom_classes": [],
            "_model_module": "@jupyter-widgets/controls",
            "_model_module_version": "1.5.0",
            "_model_name": "HTMLModel",
            "_view_count": null,
            "_view_module": "@jupyter-widgets/controls",
            "_view_module_version": "1.5.0",
            "_view_name": "HTMLView",
            "description": "",
            "description_tooltip": null,
            "layout": "IPY_MODEL_a45c8f46cd5a4d08a6f3d94499301fe3",
            "placeholder": "​",
            "style": "IPY_MODEL_29ea7a5035204515b51fc890d0c06ad5",
            "value": "model.safetensors: 100%"
          }
        },
        "835366a41c98452cad72ed384e1a35f2": {
          "model_module": "@jupyter-widgets/controls",
          "model_name": "FloatProgressModel",
          "model_module_version": "1.5.0",
          "state": {
            "_dom_classes": [],
            "_model_module": "@jupyter-widgets/controls",
            "_model_module_version": "1.5.0",
            "_model_name": "FloatProgressModel",
            "_view_count": null,
            "_view_module": "@jupyter-widgets/controls",
            "_view_module_version": "1.5.0",
            "_view_name": "ProgressView",
            "bar_style": "success",
            "description": "",
            "description_tooltip": null,
            "layout": "IPY_MODEL_0c1d423f97c24a66a20f95d0dd56516d",
            "max": 178800076,
            "min": 0,
            "orientation": "horizontal",
            "style": "IPY_MODEL_95dfdace50e94647b4cf239f9ce71abb",
            "value": 178800076
          }
        },
        "0aa1498cde9e43a3acc9c1f84ab2b146": {
          "model_module": "@jupyter-widgets/controls",
          "model_name": "HTMLModel",
          "model_module_version": "1.5.0",
          "state": {
            "_dom_classes": [],
            "_model_module": "@jupyter-widgets/controls",
            "_model_module_version": "1.5.0",
            "_model_name": "HTMLModel",
            "_view_count": null,
            "_view_module": "@jupyter-widgets/controls",
            "_view_module_version": "1.5.0",
            "_view_name": "HTMLView",
            "description": "",
            "description_tooltip": null,
            "layout": "IPY_MODEL_a0b2e66389844aa4ae417481ead37c2f",
            "placeholder": "​",
            "style": "IPY_MODEL_0b3089f0b05045d3ba4be17a81a8ab40",
            "value": " 179M/179M [00:05&lt;00:00, 56.9MB/s]"
          }
        },
        "1eed3e1ecbfc4243bcb9c49a83baffc8": {
          "model_module": "@jupyter-widgets/base",
          "model_name": "LayoutModel",
          "model_module_version": "1.2.0",
          "state": {
            "_model_module": "@jupyter-widgets/base",
            "_model_module_version": "1.2.0",
            "_model_name": "LayoutModel",
            "_view_count": null,
            "_view_module": "@jupyter-widgets/base",
            "_view_module_version": "1.2.0",
            "_view_name": "LayoutView",
            "align_content": null,
            "align_items": null,
            "align_self": null,
            "border": null,
            "bottom": null,
            "display": null,
            "flex": null,
            "flex_flow": null,
            "grid_area": null,
            "grid_auto_columns": null,
            "grid_auto_flow": null,
            "grid_auto_rows": null,
            "grid_column": null,
            "grid_gap": null,
            "grid_row": null,
            "grid_template_areas": null,
            "grid_template_columns": null,
            "grid_template_rows": null,
            "height": null,
            "justify_content": null,
            "justify_items": null,
            "left": null,
            "margin": null,
            "max_height": null,
            "max_width": null,
            "min_height": null,
            "min_width": null,
            "object_fit": null,
            "object_position": null,
            "order": null,
            "overflow": null,
            "overflow_x": null,
            "overflow_y": null,
            "padding": null,
            "right": null,
            "top": null,
            "visibility": null,
            "width": null
          }
        },
        "a45c8f46cd5a4d08a6f3d94499301fe3": {
          "model_module": "@jupyter-widgets/base",
          "model_name": "LayoutModel",
          "model_module_version": "1.2.0",
          "state": {
            "_model_module": "@jupyter-widgets/base",
            "_model_module_version": "1.2.0",
            "_model_name": "LayoutModel",
            "_view_count": null,
            "_view_module": "@jupyter-widgets/base",
            "_view_module_version": "1.2.0",
            "_view_name": "LayoutView",
            "align_content": null,
            "align_items": null,
            "align_self": null,
            "border": null,
            "bottom": null,
            "display": null,
            "flex": null,
            "flex_flow": null,
            "grid_area": null,
            "grid_auto_columns": null,
            "grid_auto_flow": null,
            "grid_auto_rows": null,
            "grid_column": null,
            "grid_gap": null,
            "grid_row": null,
            "grid_template_areas": null,
            "grid_template_columns": null,
            "grid_template_rows": null,
            "height": null,
            "justify_content": null,
            "justify_items": null,
            "left": null,
            "margin": null,
            "max_height": null,
            "max_width": null,
            "min_height": null,
            "min_width": null,
            "object_fit": null,
            "object_position": null,
            "order": null,
            "overflow": null,
            "overflow_x": null,
            "overflow_y": null,
            "padding": null,
            "right": null,
            "top": null,
            "visibility": null,
            "width": null
          }
        },
        "29ea7a5035204515b51fc890d0c06ad5": {
          "model_module": "@jupyter-widgets/controls",
          "model_name": "DescriptionStyleModel",
          "model_module_version": "1.5.0",
          "state": {
            "_model_module": "@jupyter-widgets/controls",
            "_model_module_version": "1.5.0",
            "_model_name": "DescriptionStyleModel",
            "_view_count": null,
            "_view_module": "@jupyter-widgets/base",
            "_view_module_version": "1.2.0",
            "_view_name": "StyleView",
            "description_width": ""
          }
        },
        "0c1d423f97c24a66a20f95d0dd56516d": {
          "model_module": "@jupyter-widgets/base",
          "model_name": "LayoutModel",
          "model_module_version": "1.2.0",
          "state": {
            "_model_module": "@jupyter-widgets/base",
            "_model_module_version": "1.2.0",
            "_model_name": "LayoutModel",
            "_view_count": null,
            "_view_module": "@jupyter-widgets/base",
            "_view_module_version": "1.2.0",
            "_view_name": "LayoutView",
            "align_content": null,
            "align_items": null,
            "align_self": null,
            "border": null,
            "bottom": null,
            "display": null,
            "flex": null,
            "flex_flow": null,
            "grid_area": null,
            "grid_auto_columns": null,
            "grid_auto_flow": null,
            "grid_auto_rows": null,
            "grid_column": null,
            "grid_gap": null,
            "grid_row": null,
            "grid_template_areas": null,
            "grid_template_columns": null,
            "grid_template_rows": null,
            "height": null,
            "justify_content": null,
            "justify_items": null,
            "left": null,
            "margin": null,
            "max_height": null,
            "max_width": null,
            "min_height": null,
            "min_width": null,
            "object_fit": null,
            "object_position": null,
            "order": null,
            "overflow": null,
            "overflow_x": null,
            "overflow_y": null,
            "padding": null,
            "right": null,
            "top": null,
            "visibility": null,
            "width": null
          }
        },
        "95dfdace50e94647b4cf239f9ce71abb": {
          "model_module": "@jupyter-widgets/controls",
          "model_name": "ProgressStyleModel",
          "model_module_version": "1.5.0",
          "state": {
            "_model_module": "@jupyter-widgets/controls",
            "_model_module_version": "1.5.0",
            "_model_name": "ProgressStyleModel",
            "_view_count": null,
            "_view_module": "@jupyter-widgets/base",
            "_view_module_version": "1.2.0",
            "_view_name": "StyleView",
            "bar_color": null,
            "description_width": ""
          }
        },
        "a0b2e66389844aa4ae417481ead37c2f": {
          "model_module": "@jupyter-widgets/base",
          "model_name": "LayoutModel",
          "model_module_version": "1.2.0",
          "state": {
            "_model_module": "@jupyter-widgets/base",
            "_model_module_version": "1.2.0",
            "_model_name": "LayoutModel",
            "_view_count": null,
            "_view_module": "@jupyter-widgets/base",
            "_view_module_version": "1.2.0",
            "_view_name": "LayoutView",
            "align_content": null,
            "align_items": null,
            "align_self": null,
            "border": null,
            "bottom": null,
            "display": null,
            "flex": null,
            "flex_flow": null,
            "grid_area": null,
            "grid_auto_columns": null,
            "grid_auto_flow": null,
            "grid_auto_rows": null,
            "grid_column": null,
            "grid_gap": null,
            "grid_row": null,
            "grid_template_areas": null,
            "grid_template_columns": null,
            "grid_template_rows": null,
            "height": null,
            "justify_content": null,
            "justify_items": null,
            "left": null,
            "margin": null,
            "max_height": null,
            "max_width": null,
            "min_height": null,
            "min_width": null,
            "object_fit": null,
            "object_position": null,
            "order": null,
            "overflow": null,
            "overflow_x": null,
            "overflow_y": null,
            "padding": null,
            "right": null,
            "top": null,
            "visibility": null,
            "width": null
          }
        },
        "0b3089f0b05045d3ba4be17a81a8ab40": {
          "model_module": "@jupyter-widgets/controls",
          "model_name": "DescriptionStyleModel",
          "model_module_version": "1.5.0",
          "state": {
            "_model_module": "@jupyter-widgets/controls",
            "_model_module_version": "1.5.0",
            "_model_name": "DescriptionStyleModel",
            "_view_count": null,
            "_view_module": "@jupyter-widgets/base",
            "_view_module_version": "1.2.0",
            "_view_name": "StyleView",
            "description_width": ""
          }
        }
      }
    }
  },
  "cells": [
    {
      "cell_type": "code",
      "execution_count": 1,
      "metadata": {
        "id": "c6b-Sqhny1wS",
        "collapsed": true
      },
      "outputs": [],
      "source": [
        "%%capture\n",
        "!pip install deepchem transformers peft"
      ]
    },
    {
      "cell_type": "code",
      "source": [
        "import warnings\n",
        "import logging\n",
        "\n",
        "warnings.filterwarnings(\"ignore\", category=DeprecationWarning)\n",
        "logging.getLogger(\"deepchem\").setLevel(logging.ERROR)"
      ],
      "metadata": {
        "id": "vYJnMKrJ9J3C"
      },
      "execution_count": 2,
      "outputs": []
    },
    {
      "cell_type": "code",
      "source": [
        "import torch\n",
        "import torch.nn as nn\n",
        "import torch.optim as optim\n",
        "from transformers import AutoTokenizer, AutoModelForSequenceClassification\n",
        "from torch.utils.data import Dataset, DataLoader, random_split\n",
        "import numpy as np\n",
        "from tqdm import tqdm\n",
        "import matplotlib.pyplot as plt\n",
        "import os\n",
        "import deepchem as dc\n",
        "from peft import get_peft_model, LoraConfig, TaskType\n",
        "import time\n",
        "from sklearn.metrics import accuracy_score\n",
        "from rdkit import Chem\n",
        "import matplotlib.pyplot as plt\n",
        "import numpy as np"
      ],
      "metadata": {
        "id": "OIQ3X-bZzBnB",
        "colab": {
          "base_uri": "https://localhost:8080/"
        },
        "outputId": "f794118f-6bc1-4da3-d96d-1ac919b385ff"
      },
      "execution_count": 3,
      "outputs": [
        {
          "output_type": "stream",
          "name": "stderr",
          "text": [
            "\u001b[34m\u001b[1mwandb\u001b[0m: \u001b[33mWARNING\u001b[0m W&B installed but not logged in.  Run `wandb login` or set the WANDB_API_KEY env variable.\n",
            "WARNING:tensorflow:From /usr/local/lib/python3.11/dist-packages/tensorflow/python/util/deprecation.py:588: calling function (from tensorflow.python.eager.polymorphic_function.polymorphic_function) with experimental_relax_shapes is deprecated and will be removed in a future version.\n",
            "Instructions for updating:\n",
            "experimental_relax_shapes is deprecated, use reduce_retracing instead\n",
            "\u001b[34m\u001b[1mwandb\u001b[0m: \u001b[33mWARNING\u001b[0m W&B installed but not logged in.  Run `wandb login` or set the WANDB_API_KEY env variable.\n"
          ]
        }
      ]
    },
    {
      "cell_type": "code",
      "source": [
        "import wandb\n",
        "wandb.login()"
      ],
      "metadata": {
        "colab": {
          "base_uri": "https://localhost:8080/",
          "height": 195
        },
        "id": "xn5yzzLd-g9n",
        "outputId": "7507f004-6e13-4bf9-9dbe-6e421b4fe739"
      },
      "execution_count": 4,
      "outputs": [
        {
          "output_type": "display_data",
          "data": {
            "text/plain": [
              "<IPython.core.display.Javascript object>"
            ],
            "application/javascript": [
              "\n",
              "        window._wandbApiKey = new Promise((resolve, reject) => {\n",
              "            function loadScript(url) {\n",
              "            return new Promise(function(resolve, reject) {\n",
              "                let newScript = document.createElement(\"script\");\n",
              "                newScript.onerror = reject;\n",
              "                newScript.onload = resolve;\n",
              "                document.body.appendChild(newScript);\n",
              "                newScript.src = url;\n",
              "            });\n",
              "            }\n",
              "            loadScript(\"https://cdn.jsdelivr.net/npm/postmate/build/postmate.min.js\").then(() => {\n",
              "            const iframe = document.createElement('iframe')\n",
              "            iframe.style.cssText = \"width:0;height:0;border:none\"\n",
              "            document.body.appendChild(iframe)\n",
              "            const handshake = new Postmate({\n",
              "                container: iframe,\n",
              "                url: 'https://wandb.ai/authorize'\n",
              "            });\n",
              "            const timeout = setTimeout(() => reject(\"Couldn't auto authenticate\"), 5000)\n",
              "            handshake.then(function(child) {\n",
              "                child.on('authorize', data => {\n",
              "                    clearTimeout(timeout)\n",
              "                    resolve(data)\n",
              "                });\n",
              "            });\n",
              "            })\n",
              "        });\n",
              "    "
            ]
          },
          "metadata": {}
        },
        {
          "output_type": "stream",
          "name": "stderr",
          "text": [
            "\u001b[34m\u001b[1mwandb\u001b[0m: Logging into wandb.ai. (Learn how to deploy a W&B server locally: https://wandb.me/wandb-server)\n",
            "\u001b[34m\u001b[1mwandb\u001b[0m: You can find your API key in your browser here: https://wandb.ai/authorize\n",
            "wandb: Paste an API key from your profile and hit enter:"
          ]
        },
        {
          "name": "stdout",
          "output_type": "stream",
          "text": [
            " ··········\n"
          ]
        },
        {
          "output_type": "stream",
          "name": "stderr",
          "text": [
            "\u001b[34m\u001b[1mwandb\u001b[0m: \u001b[33mWARNING\u001b[0m If you're specifying your api key in code, ensure this code is not shared publicly.\n",
            "\u001b[34m\u001b[1mwandb\u001b[0m: \u001b[33mWARNING\u001b[0m Consider setting the WANDB_API_KEY environment variable, or running `wandb login` from the command line.\n",
            "\u001b[34m\u001b[1mwandb\u001b[0m: No netrc file found, creating one.\n",
            "\u001b[34m\u001b[1mwandb\u001b[0m: Appending key for api.wandb.ai to your netrc file: /root/.netrc\n",
            "\u001b[34m\u001b[1mwandb\u001b[0m: Currently logged in as: \u001b[33mtg2933\u001b[0m (\u001b[33mhpml-proj-deepchem\u001b[0m) to \u001b[32mhttps://api.wandb.ai\u001b[0m. Use \u001b[1m`wandb login --relogin`\u001b[0m to force relogin\n"
          ]
        },
        {
          "output_type": "execute_result",
          "data": {
            "text/plain": [
              "True"
            ]
          },
          "metadata": {},
          "execution_count": 4
        }
      ]
    },
    {
      "cell_type": "code",
      "source": [
        "# Define paths and parameters\n",
        "MODEL_NAME = \"seyonec/ChemBERTa-zinc-base-v1\"\n",
        "MAX_LENGTH = 128\n",
        "BATCH_SIZE = 32\n",
        "EPOCHS = 10\n",
        "LEARNING_RATE = 3e-4\n",
        "\n",
        "# LoRA Configuration\n",
        "LORA_R = 8  # Rank of LoRA\n",
        "LORA_ALPHA = 16\n",
        "LORA_DROPOUT = 0.1"
      ],
      "metadata": {
        "id": "dv5zEfqDzJd2"
      },
      "execution_count": 5,
      "outputs": []
    },
    {
      "cell_type": "code",
      "source": [
        "class ClinToxDataset(Dataset):\n",
        "    def __init__(self, data_path, tokenizer, split='train', max_length=128):\n",
        "        \"\"\"\n",
        "        Custom PyTorch Dataset for the ClinTox dataset.\n",
        "        \"\"\"\n",
        "        self.tokenizer = tokenizer\n",
        "        self.max_length = max_length\n",
        "        self.split = split\n",
        "\n",
        "        # Load ClinTox dataset from DeepChem\n",
        "        tasks, datasets, transformers = dc.molnet.load_clintox()\n",
        "        train_dataset, valid_dataset, test_dataset = datasets\n",
        "\n",
        "        # Convert to SMILES and labels\n",
        "        self.smiles_train, self.labels_train = self.remove_invalid_smiles(train_dataset.ids, train_dataset.y)\n",
        "        self.smiles_valid, self.labels_valid = self.remove_invalid_smiles(valid_dataset.ids, valid_dataset.y)\n",
        "        self.smiles_test, self.labels_test = self.remove_invalid_smiles(test_dataset.ids, test_dataset.y)\n",
        "\n",
        "        # Set active split\n",
        "        if split == 'train':\n",
        "            self.smiles = self.smiles_train\n",
        "            self.labels = self.labels_train\n",
        "        elif split == 'valid':\n",
        "            self.smiles = self.smiles_valid\n",
        "            self.labels = self.labels_valid\n",
        "        elif split == 'test':\n",
        "            self.smiles = self.smiles_test\n",
        "            self.labels = self.labels_test\n",
        "        else:\n",
        "            raise ValueError(\"Invalid split. Use 'train', 'valid', or 'test'.\")\n",
        "\n",
        "    def __len__(self):\n",
        "        return len(self.smiles)\n",
        "\n",
        "    def __getitem__(self, idx):\n",
        "        smiles = self.smiles[idx]\n",
        "        label = self.labels[idx]\n",
        "\n",
        "        encoding = self.tokenizer(\n",
        "            smiles,\n",
        "            return_tensors=\"pt\",\n",
        "            max_length=self.max_length,\n",
        "            padding=\"max_length\",\n",
        "            truncation=True\n",
        "        )\n",
        "\n",
        "        return {\n",
        "            'input_ids': encoding['input_ids'].squeeze(),\n",
        "            'attention_mask': encoding['attention_mask'].squeeze(),\n",
        "            'labels': torch.tensor(label, dtype=torch.float)\n",
        "        }\n",
        "\n",
        "    def remove_invalid_smiles(self, smiles, labels):\n",
        "        \"\"\"\n",
        "        Filters out invalid SMILES strings using RDKit validation.\n",
        "        \"\"\"\n",
        "        valid_indices = []\n",
        "        for i, smile in enumerate(smiles):\n",
        "            try:\n",
        "                mol = Chem.MolFromSmiles(smile)\n",
        "                if mol is not None:\n",
        "                    valid_indices.append(i)\n",
        "            except:\n",
        "                pass\n",
        "\n",
        "        return smiles[valid_indices], labels[valid_indices]"
      ],
      "metadata": {
        "id": "7cryKNk40FTg"
      },
      "execution_count": 6,
      "outputs": []
    },
    {
      "cell_type": "code",
      "source": [
        "def setup_lora_model(model_name):\n",
        "    \"\"\"\n",
        "    Set up a model with LoRA configuration\n",
        "    \"\"\"\n",
        "    model = AutoModelForSequenceClassification.from_pretrained(\n",
        "        model_name,\n",
        "        num_labels=2,  # Binary classification for ClinTox\n",
        "        return_dict=True\n",
        "    )\n",
        "\n",
        "    peft_config = LoraConfig(\n",
        "        task_type=TaskType.SEQ_CLS,\n",
        "        inference_mode=False,\n",
        "        r=LORA_R,\n",
        "        lora_alpha=LORA_ALPHA,\n",
        "        lora_dropout=LORA_DROPOUT,\n",
        "        target_modules=[\"query\", \"value\"]  # Target attention modules\n",
        "    )\n",
        "\n",
        "    model = get_peft_model(model, peft_config)\n",
        "    return model"
      ],
      "metadata": {
        "id": "sRC9yjST0HnL"
      },
      "execution_count": 7,
      "outputs": []
    },
    {
      "cell_type": "code",
      "source": [
        "def evaluate_model(model, dataloader, device):\n",
        "    \"\"\"\n",
        "    Evaluate the model on the validation or test set.\n",
        "    \"\"\"\n",
        "    model.eval()\n",
        "    total_loss = 0\n",
        "    all_labels = []\n",
        "    all_preds = []\n",
        "    criterion = nn.BCEWithLogitsLoss()\n",
        "\n",
        "    with torch.no_grad():\n",
        "        for batch in tqdm(dataloader, desc=\"Evaluating\"):\n",
        "            input_ids = batch['input_ids'].to(device)\n",
        "            attention_mask = batch['attention_mask'].to(device)\n",
        "            labels = batch['labels'].to(device)\n",
        "\n",
        "            outputs = model(input_ids=input_ids, attention_mask=attention_mask)\n",
        "            logits = outputs.logits\n",
        "\n",
        "            loss = criterion(logits, labels)\n",
        "            total_loss += loss.item()\n",
        "\n",
        "            probs = torch.sigmoid(logits)\n",
        "            all_preds.extend(probs.cpu().numpy())\n",
        "            all_labels.extend(labels.cpu().numpy())\n",
        "\n",
        "    # Convert to numpy arrays\n",
        "    all_preds = np.array(all_preds)\n",
        "    all_labels = np.array(all_labels)\n",
        "\n",
        "    # Binary predictions for accuracy\n",
        "    bin_preds = (all_preds > 0.5).astype(int)\n",
        "    accuracy = accuracy_score(all_labels, bin_preds)\n",
        "\n",
        "    avg_loss = total_loss / len(dataloader)\n",
        "    return avg_loss, accuracy"
      ],
      "metadata": {
        "id": "Wby2hkbV82zu"
      },
      "execution_count": 8,
      "outputs": []
    },
    {
      "cell_type": "code",
      "source": [
        "def train_and_profile(model, tokenizer, optimization_name):\n",
        "    \"\"\"\n",
        "    Train and evaluate a model with comprehensive logging to Weights & Biases\n",
        "    \"\"\"\n",
        "\n",
        "    wandb.init(\n",
        "        project=\"testing\",\n",
        "        entity=\"hpml-proj-deepchem\",\n",
        "        name=optimization_name,\n",
        "        config={\n",
        "            \"model_name\": MODEL_NAME,\n",
        "            \"batch_size\": BATCH_SIZE,\n",
        "            \"epochs\": EPOCHS,\n",
        "            \"learning_rate\": LEARNING_RATE,\n",
        "            \"lora_r\": LORA_R,\n",
        "            \"lora_alpha\": LORA_ALPHA,\n",
        "            \"lora_dropout\": LORA_DROPOUT,\n",
        "            \"optimization\": optimization_name\n",
        "        }\n",
        "    )\n",
        "\n",
        "    # Create datasets for each split\n",
        "    train_dataset = ClinToxDataset(\"clintox\", tokenizer, split=\"train\", max_length=MAX_LENGTH)\n",
        "    val_dataset = ClinToxDataset(\"clintox\", tokenizer, split=\"valid\", max_length=MAX_LENGTH)\n",
        "    test_dataset = ClinToxDataset(\"clintox\", tokenizer, split=\"test\", max_length=MAX_LENGTH)\n",
        "\n",
        "    # Create dataloaders\n",
        "    train_dataloader = DataLoader(train_dataset, batch_size=BATCH_SIZE, shuffle=True)\n",
        "    val_dataloader = DataLoader(val_dataset, batch_size=BATCH_SIZE, shuffle=False)\n",
        "    test_dataloader = DataLoader(test_dataset, batch_size=BATCH_SIZE, shuffle=False)\n",
        "\n",
        "    optimizer = optim.AdamW(model.parameters(), lr=LEARNING_RATE)\n",
        "    criterion = nn.BCEWithLogitsLoss()\n",
        "    device = torch.device(\"cuda\" if torch.cuda.is_available() else \"cpu\")\n",
        "    model.to(device)\n",
        "\n",
        "    train_losses, val_losses, val_accuracies, epoch_times = [], [], [], []\n",
        "\n",
        "    print(f\"\\n--- {optimization_name} ---\")\n",
        "\n",
        "    torch.cuda.reset_peak_memory_stats(device)\n",
        "\n",
        "    start_time = time.time()\n",
        "    total_samples = 0\n",
        "\n",
        "    for epoch in range(EPOCHS):\n",
        "        epoch_start_time = time.time()\n",
        "        model.train()\n",
        "        total_train_loss = 0\n",
        "        progress_bar = tqdm(train_dataloader, desc=f\"Epoch {epoch+1}/{EPOCHS}\")\n",
        "\n",
        "        for batch in progress_bar:\n",
        "            input_ids = batch['input_ids'].to(device)\n",
        "            attention_mask = batch['attention_mask'].to(device)\n",
        "            labels = batch['labels'].to(device)\n",
        "\n",
        "            outputs = model(input_ids=input_ids, attention_mask=attention_mask)\n",
        "            logits = outputs.logits\n",
        "\n",
        "            loss = criterion(logits, labels)\n",
        "\n",
        "            optimizer.zero_grad()\n",
        "            loss.backward()\n",
        "            optimizer.step()\n",
        "\n",
        "            total_samples += input_ids.size(0)\n",
        "            total_train_loss += loss.item()\n",
        "            progress_bar.set_postfix({\"loss\": loss.item()})\n",
        "\n",
        "        epoch_time = time.time() - epoch_start_time\n",
        "        avg_train_loss = total_train_loss / len(train_dataloader)\n",
        "        val_loss, val_acc = evaluate_model(model, val_dataloader, device)\n",
        "\n",
        "        train_losses.append(avg_train_loss)\n",
        "        val_losses.append(val_loss)\n",
        "        val_accuracies.append(val_acc)\n",
        "        epoch_times.append(epoch_time)\n",
        "\n",
        "        print(f\"Epoch {epoch+1} | Training Time: {epoch_time:.2f}s | Train Loss: {avg_train_loss:.4f} | Val Loss: {val_loss:.4f} | Val Accuracy: {val_acc:.4f}\")\n",
        "\n",
        "    end_time = time.time()\n",
        "    total_train_time = end_time - start_time\n",
        "    throughput = total_samples / total_train_time\n",
        "    peak_memory_MB = torch.cuda.max_memory_allocated(device) / (1024 ** 2) if torch.cuda.is_available() else 0\n",
        "\n",
        "    test_loss, test_acc = evaluate_model(model, test_dataloader, device)\n",
        "\n",
        "    wandb.log({\n",
        "        \"test_loss\": test_loss,\n",
        "        \"test_accuracy\": test_acc,\n",
        "        \"training_time\": total_train_time,\n",
        "        \"throughput\": throughput,\n",
        "        \"peak_gpu_memory\": peak_memory_MB\n",
        "    })\n",
        "\n",
        "    fig, ax = plt.subplots(figsize=(10, 6))\n",
        "    epochs = list(range(1, EPOCHS + 1))\n",
        "    ax.plot(epochs, train_losses, label='Training Loss')\n",
        "    ax.plot(epochs, val_losses, label='Validation Loss')\n",
        "    ax.set_xlabel('Epoch')\n",
        "    ax.set_ylabel('Loss')\n",
        "    ax.set_title(f'Training/Validation Loss - {optimization_name}')\n",
        "    ax.legend()\n",
        "    ax.grid(True)\n",
        "\n",
        "    second_run = wandb.init(project=\"testing\", entity=\"hpml-proj-deepchem\", name=f\"{optimization_name}_loss_curves\")\n",
        "    wandb.log({f\"{optimization_name}_loss_curves\": wandb.Image(fig)})\n",
        "    wandb.finish()\n",
        "\n",
        "    # Create and log accuracy curve\n",
        "    fig, ax = plt.subplots(figsize=(10, 6))\n",
        "    ax.plot(epochs, val_accuracies, label='Validation Accuracy', color='green')\n",
        "    ax.set_xlabel('Epoch')\n",
        "    ax.set_ylabel('Accuracy')\n",
        "    ax.set_title(f'Validation Accuracy - {optimization_name}')\n",
        "    ax.legend()\n",
        "    ax.grid(True)\n",
        "\n",
        "    third_run = wandb.init(project=\"testing\", entity=\"hpml-proj-deepchem\", name=f\"{optimization_name}_accuracy_curves\")\n",
        "    wandb.log({f\"{optimization_name}_accuracy_curves\": wandb.Image(fig)})\n",
        "    wandb.finish()\n",
        "\n",
        "    # Create and log accuracy curve\n",
        "    fig, ax = plt.subplots(figsize=(10, 6))\n",
        "    ax.plot(epochs, epoch_times, label='Epoch Train Time', color='green')\n",
        "    ax.set_xlabel('Epoch')\n",
        "    ax.set_ylabel('Training Time (s)')\n",
        "    ax.set_title(f'Epoch Training Times - {optimization_name}')\n",
        "    ax.legend()\n",
        "    ax.grid(True)\n",
        "\n",
        "    fourth_run = wandb.init(project=\"testing\", entity=\"hpml-proj-deepchem\", name=f\"{optimization_name}_epoch_times\")\n",
        "    wandb.log({f\"{optimization_name}_epoch_times\": wandb.Image(fig)})\n",
        "    wandb.finish()\n",
        "\n",
        "\n",
        "    print(f\"\\n--- {optimization_name} ---\")\n",
        "    print(f\"Total Training Time: {total_train_time:.2f} seconds\")\n",
        "    print(f\"Test Loss: {test_loss:.4f} | Test Accuracy: {test_acc:.4f}\")\n",
        "    print(f\"Throughput: {throughput:.2f} samples/sec\")\n",
        "    print(f\"Peak GPU Memory Usage: {peak_memory_MB:.2f} MB\")\n",
        "\n",
        "\n",
        "    return {\n",
        "        \"train_losses\": train_losses,\n",
        "        \"val_losses\": val_losses,\n",
        "        \"val_accuracies\": val_accuracies,\n",
        "        \"epoch_times\": epoch_times,\n",
        "        \"training_time\": total_train_time,\n",
        "        \"test_accuracy\": test_acc,\n",
        "        \"throughput\": throughput,\n",
        "        \"peak_memory_usage\": peak_memory_MB}"
      ],
      "metadata": {
        "id": "8rsTNOHoEzJ6"
      },
      "execution_count": 9,
      "outputs": []
    },
    {
      "cell_type": "code",
      "source": [
        "tokenizer = AutoTokenizer.from_pretrained(MODEL_NAME)\n",
        "model = setup_lora_model(MODEL_NAME)\n",
        "\n",
        "baseline_metrics = train_and_profile(model, tokenizer, \"Baseline\")"
      ],
      "metadata": {
        "id": "VzGEH-zJ1sCx",
        "colab": {
          "base_uri": "https://localhost:8080/",
          "height": 1000,
          "referenced_widgets": [
            "9ceb9b97535444d4bc55590c9cbbe450",
            "7009792fa6264409a34d7a6078b51e0e",
            "29ae14db0bb34d2eb4015d4cf5bd8402",
            "8f9d2ff2b441492b8bb88140ca3fa6b0",
            "5c78a470734a46a1b873190e55b6c5e2",
            "8ede6b68910a4ce2b06fb44e1a415adf",
            "3364a584ef8647de8f31e80040fa467c",
            "731edb07fddb44c8bc515fd05e581129",
            "08df77e1b631444ea6d0a4800c76d447",
            "085b3c2a3bc445898f7d1947d01a658a",
            "b678818442104d6bbd9a42708ab79e9b",
            "ce4aa9b2c46944c09ef0844dff53564b",
            "345222a72d7a4157a1d55ca4f61904c6",
            "d86c4e2db90649b4a4db34885af41ddd",
            "403cfafd8b5144a7b6b95d91d01a943f",
            "13c4fd8309ca492fa798ff5548dbb321",
            "33e55aef2a314be2ba3bb4a408b58054",
            "62eb74f44052467a9678e3143944a4bf",
            "4b5b78384eef4cd5bebe6234a8ff064b",
            "3af81ed6f730457e863b2c9229644dbe",
            "b3e0bb47731a4facb3405eeed6110491",
            "885a23881450459bb0e62f4912d284b6",
            "dbc0769295e14de3aa49b680d643e8c4",
            "47ff7ec1a1d24b51899624e0900cf583",
            "369f63b3e0e34e619294293f7989111c",
            "69bd6616ca9f4897bc9ba574e62619c9",
            "138195125c71477b8d83b55d8eed6986",
            "165c872a6f8c4513b75c4e83f2a2fa4f",
            "3b23bdc46b9140aa8ff500f9512906d3",
            "7ac7844796c5409384c8b34045652925",
            "719022ac1d4044b7a042b8fb89a44189",
            "444237fe93e84f48b6f7d4ae30f8727d",
            "f54300ad69a24404b4f5ed0420e1b3aa",
            "edbee2ccf2e94dbb98d8218b8ae3aab7",
            "e6ecc8fca9114b738216f668c9c838e8",
            "15bddde204ac44abae538cfad2c27e0d",
            "bca72a000342447abefd0b18f560020a",
            "6b0da80cc6ae4afd924e46d6ea29e237",
            "d63774618f8342edafa2d7124f4a6f59",
            "04fe7d7043854b67a71d62a06efc4dd5",
            "79823e1b7ac0426482d31089561d4888",
            "c09d837db43b4ccba3e8979c92abcd22",
            "f76e12f08fa04ab3b79edbfcd34f4d3b",
            "402e462604944a8f918d7b822372834d",
            "c2f3afb79f9c4dfea4e0953b77a6d9b4",
            "1c77a1cc49ba40da9c36855ff882ca65",
            "ab97f90a2d4d408fa3940c65b96af13a",
            "80a271bd0cfa416a831df422c012ea5c",
            "913242f334dc42cdb953496629af775b",
            "9ebdc4c098b94f15976eafb8ac4f745b",
            "96058926395148228cfc584a617d5be4",
            "f0713810faae4d62b1da3e4335bbf896",
            "14d079f28bd54ed6b0b46f9ee5326f33",
            "b467c7779ad84cd89cea6e593667f436",
            "5df338807f9e437bba7769a291190597",
            "13e7b67f04ca4a758ca36f8b5aef5ca1",
            "194a1524ebfa46b7ae39de3d34f827a9",
            "fd3215d54fe64883a093caf685c62bf5",
            "da1449757e3b41f694c554d90286d8a6",
            "23077f8630234b2989fc08fdb7e4e2b6",
            "6ececa8ab150461998ddab0c4abf3e8e",
            "c937cb09173444b095d82cc2b2ce9cd6",
            "3d6a149365364be28b7561c266e0ebc4",
            "177f1cdf42294befbc3dda8c9ccac2ff",
            "56bab1c54dd34f8c85c107ce2ec9aba0",
            "3581afedde8644b19d4d793f3c96ffe2",
            "1e89bdf9fd784e60a1e95136f7c2667f",
            "253039e17f7843d3977ffcc02344ebb3",
            "835366a41c98452cad72ed384e1a35f2",
            "0aa1498cde9e43a3acc9c1f84ab2b146",
            "1eed3e1ecbfc4243bcb9c49a83baffc8",
            "a45c8f46cd5a4d08a6f3d94499301fe3",
            "29ea7a5035204515b51fc890d0c06ad5",
            "0c1d423f97c24a66a20f95d0dd56516d",
            "95dfdace50e94647b4cf239f9ce71abb",
            "a0b2e66389844aa4ae417481ead37c2f",
            "0b3089f0b05045d3ba4be17a81a8ab40"
          ]
        },
        "outputId": "ce2401d4-17d7-4354-f03b-392091261063"
      },
      "execution_count": 10,
      "outputs": [
        {
          "output_type": "stream",
          "name": "stderr",
          "text": [
            "/usr/local/lib/python3.11/dist-packages/huggingface_hub/utils/_auth.py:94: UserWarning: \n",
            "The secret `HF_TOKEN` does not exist in your Colab secrets.\n",
            "To authenticate with the Hugging Face Hub, create a token in your settings tab (https://huggingface.co/settings/tokens), set it as secret in your Google Colab and restart your session.\n",
            "You will be able to reuse this secret in all of your notebooks.\n",
            "Please note that authentication is recommended but still optional to access public models or datasets.\n",
            "  warnings.warn(\n"
          ]
        },
        {
          "output_type": "display_data",
          "data": {
            "text/plain": [
              "tokenizer_config.json:   0%|          | 0.00/166 [00:00<?, ?B/s]"
            ],
            "application/vnd.jupyter.widget-view+json": {
              "version_major": 2,
              "version_minor": 0,
              "model_id": "9ceb9b97535444d4bc55590c9cbbe450"
            }
          },
          "metadata": {}
        },
        {
          "output_type": "display_data",
          "data": {
            "text/plain": [
              "config.json:   0%|          | 0.00/501 [00:00<?, ?B/s]"
            ],
            "application/vnd.jupyter.widget-view+json": {
              "version_major": 2,
              "version_minor": 0,
              "model_id": "ce4aa9b2c46944c09ef0844dff53564b"
            }
          },
          "metadata": {}
        },
        {
          "output_type": "display_data",
          "data": {
            "text/plain": [
              "vocab.json:   0%|          | 0.00/9.43k [00:00<?, ?B/s]"
            ],
            "application/vnd.jupyter.widget-view+json": {
              "version_major": 2,
              "version_minor": 0,
              "model_id": "dbc0769295e14de3aa49b680d643e8c4"
            }
          },
          "metadata": {}
        },
        {
          "output_type": "display_data",
          "data": {
            "text/plain": [
              "merges.txt:   0%|          | 0.00/3.21k [00:00<?, ?B/s]"
            ],
            "application/vnd.jupyter.widget-view+json": {
              "version_major": 2,
              "version_minor": 0,
              "model_id": "edbee2ccf2e94dbb98d8218b8ae3aab7"
            }
          },
          "metadata": {}
        },
        {
          "output_type": "display_data",
          "data": {
            "text/plain": [
              "special_tokens_map.json:   0%|          | 0.00/150 [00:00<?, ?B/s]"
            ],
            "application/vnd.jupyter.widget-view+json": {
              "version_major": 2,
              "version_minor": 0,
              "model_id": "c2f3afb79f9c4dfea4e0953b77a6d9b4"
            }
          },
          "metadata": {}
        },
        {
          "output_type": "display_data",
          "data": {
            "text/plain": [
              "pytorch_model.bin:   0%|          | 0.00/179M [00:00<?, ?B/s]"
            ],
            "application/vnd.jupyter.widget-view+json": {
              "version_major": 2,
              "version_minor": 0,
              "model_id": "13e7b67f04ca4a758ca36f8b5aef5ca1"
            }
          },
          "metadata": {}
        },
        {
          "output_type": "stream",
          "name": "stderr",
          "text": [
            "Some weights of RobertaForSequenceClassification were not initialized from the model checkpoint at seyonec/ChemBERTa-zinc-base-v1 and are newly initialized: ['classifier.dense.bias', 'classifier.dense.weight', 'classifier.out_proj.bias', 'classifier.out_proj.weight']\n",
            "You should probably TRAIN this model on a down-stream task to be able to use it for predictions and inference.\n"
          ]
        },
        {
          "output_type": "display_data",
          "data": {
            "text/plain": [
              "model.safetensors:   0%|          | 0.00/179M [00:00<?, ?B/s]"
            ],
            "application/vnd.jupyter.widget-view+json": {
              "version_major": 2,
              "version_minor": 0,
              "model_id": "1e89bdf9fd784e60a1e95136f7c2667f"
            }
          },
          "metadata": {}
        },
        {
          "output_type": "display_data",
          "data": {
            "text/plain": [
              "<IPython.core.display.HTML object>"
            ],
            "text/html": [
              "Tracking run with wandb version 0.19.10"
            ]
          },
          "metadata": {}
        },
        {
          "output_type": "display_data",
          "data": {
            "text/plain": [
              "<IPython.core.display.HTML object>"
            ],
            "text/html": [
              "Run data is saved locally in <code>/content/wandb/run-20250508_232027-czcr4p08</code>"
            ]
          },
          "metadata": {}
        },
        {
          "output_type": "display_data",
          "data": {
            "text/plain": [
              "<IPython.core.display.HTML object>"
            ],
            "text/html": [
              "Syncing run <strong><a href='https://wandb.ai/hpml-proj-deepchem/testing/runs/czcr4p08' target=\"_blank\">Baseline</a></strong> to <a href='https://wandb.ai/hpml-proj-deepchem/testing' target=\"_blank\">Weights & Biases</a> (<a href='https://wandb.me/developer-guide' target=\"_blank\">docs</a>)<br>"
            ]
          },
          "metadata": {}
        },
        {
          "output_type": "display_data",
          "data": {
            "text/plain": [
              "<IPython.core.display.HTML object>"
            ],
            "text/html": [
              " View project at <a href='https://wandb.ai/hpml-proj-deepchem/testing' target=\"_blank\">https://wandb.ai/hpml-proj-deepchem/testing</a>"
            ]
          },
          "metadata": {}
        },
        {
          "output_type": "display_data",
          "data": {
            "text/plain": [
              "<IPython.core.display.HTML object>"
            ],
            "text/html": [
              " View run at <a href='https://wandb.ai/hpml-proj-deepchem/testing/runs/czcr4p08' target=\"_blank\">https://wandb.ai/hpml-proj-deepchem/testing/runs/czcr4p08</a>"
            ]
          },
          "metadata": {}
        },
        {
          "output_type": "stream",
          "name": "stderr",
          "text": [
            "[23:20:28] DEPRECATION WARNING: please use MorganGenerator\n",
            "[23:20:28] DEPRECATION WARNING: please use MorganGenerator\n",
            "[23:20:28] DEPRECATION WARNING: please use MorganGenerator\n",
            "[23:20:28] DEPRECATION WARNING: please use MorganGenerator\n",
            "[23:20:28] DEPRECATION WARNING: please use MorganGenerator\n",
            "[23:20:28] DEPRECATION WARNING: please use MorganGenerator\n",
            "[23:20:28] DEPRECATION WARNING: please use MorganGenerator\n",
            "[23:20:28] Explicit valence for atom # 0 N, 5, is greater than permitted\n",
            "[23:20:28] DEPRECATION WARNING: please use MorganGenerator\n",
            "[23:20:28] DEPRECATION WARNING: please use MorganGenerator\n",
            "[23:20:28] DEPRECATION WARNING: please use MorganGenerator\n",
            "[23:20:28] DEPRECATION WARNING: please use MorganGenerator\n",
            "[23:20:28] DEPRECATION WARNING: please use MorganGenerator\n",
            "[23:20:28] DEPRECATION WARNING: please use MorganGenerator\n",
            "[23:20:28] DEPRECATION WARNING: please use MorganGenerator\n",
            "[23:20:28] DEPRECATION WARNING: please use MorganGenerator\n",
            "[23:20:28] DEPRECATION WARNING: please use MorganGenerator\n",
            "[23:20:28] DEPRECATION WARNING: please use MorganGenerator\n",
            "[23:20:28] DEPRECATION WARNING: please use MorganGenerator\n",
            "[23:20:28] DEPRECATION WARNING: please use MorganGenerator\n",
            "[23:20:28] DEPRECATION WARNING: please use MorganGenerator\n",
            "[23:20:28] DEPRECATION WARNING: please use MorganGenerator\n",
            "[23:20:28] DEPRECATION WARNING: please use MorganGenerator\n",
            "[23:20:28] DEPRECATION WARNING: please use MorganGenerator\n",
            "[23:20:28] DEPRECATION WARNING: please use MorganGenerator\n",
            "[23:20:28] DEPRECATION WARNING: please use MorganGenerator\n",
            "[23:20:28] DEPRECATION WARNING: please use MorganGenerator\n",
            "[23:20:28] DEPRECATION WARNING: please use MorganGenerator\n",
            "[23:20:28] DEPRECATION WARNING: please use MorganGenerator\n",
            "[23:20:28] DEPRECATION WARNING: please use MorganGenerator\n",
            "[23:20:28] DEPRECATION WARNING: please use MorganGenerator\n",
            "[23:20:28] DEPRECATION WARNING: please use MorganGenerator\n",
            "[23:20:28] DEPRECATION WARNING: please use MorganGenerator\n",
            "[23:20:28] DEPRECATION WARNING: please use MorganGenerator\n",
            "[23:20:28] DEPRECATION WARNING: please use MorganGenerator\n",
            "[23:20:28] DEPRECATION WARNING: please use MorganGenerator\n",
            "[23:20:28] DEPRECATION WARNING: please use MorganGenerator\n",
            "[23:20:28] DEPRECATION WARNING: please use MorganGenerator\n",
            "[23:20:28] DEPRECATION WARNING: please use MorganGenerator\n",
            "[23:20:28] DEPRECATION WARNING: please use MorganGenerator\n",
            "[23:20:28] DEPRECATION WARNING: please use MorganGenerator\n",
            "[23:20:28] DEPRECATION WARNING: please use MorganGenerator\n",
            "[23:20:28] DEPRECATION WARNING: please use MorganGenerator\n",
            "[23:20:28] DEPRECATION WARNING: please use MorganGenerator\n",
            "[23:20:28] DEPRECATION WARNING: please use MorganGenerator\n",
            "[23:20:28] DEPRECATION WARNING: please use MorganGenerator\n",
            "[23:20:28] DEPRECATION WARNING: please use MorganGenerator\n",
            "[23:20:28] DEPRECATION WARNING: please use MorganGenerator\n",
            "[23:20:28] DEPRECATION WARNING: please use MorganGenerator\n",
            "[23:20:28] DEPRECATION WARNING: please use MorganGenerator\n",
            "[23:20:28] DEPRECATION WARNING: please use MorganGenerator\n",
            "[23:20:28] DEPRECATION WARNING: please use MorganGenerator\n",
            "[23:20:28] DEPRECATION WARNING: please use MorganGenerator\n",
            "[23:20:28] DEPRECATION WARNING: please use MorganGenerator\n",
            "[23:20:28] DEPRECATION WARNING: please use MorganGenerator\n",
            "[23:20:28] DEPRECATION WARNING: please use MorganGenerator\n",
            "[23:20:28] DEPRECATION WARNING: please use MorganGenerator\n",
            "[23:20:28] DEPRECATION WARNING: please use MorganGenerator\n",
            "[23:20:28] DEPRECATION WARNING: please use MorganGenerator\n",
            "[23:20:28] DEPRECATION WARNING: please use MorganGenerator\n",
            "[23:20:28] DEPRECATION WARNING: please use MorganGenerator\n",
            "[23:20:28] DEPRECATION WARNING: please use MorganGenerator\n",
            "[23:20:28] DEPRECATION WARNING: please use MorganGenerator\n",
            "[23:20:28] DEPRECATION WARNING: please use MorganGenerator\n",
            "[23:20:28] DEPRECATION WARNING: please use MorganGenerator\n",
            "[23:20:28] DEPRECATION WARNING: please use MorganGenerator\n",
            "[23:20:28] DEPRECATION WARNING: please use MorganGenerator\n",
            "[23:20:28] DEPRECATION WARNING: please use MorganGenerator\n",
            "[23:20:28] DEPRECATION WARNING: please use MorganGenerator\n",
            "[23:20:28] DEPRECATION WARNING: please use MorganGenerator\n",
            "[23:20:28] DEPRECATION WARNING: please use MorganGenerator\n",
            "[23:20:28] DEPRECATION WARNING: please use MorganGenerator\n",
            "[23:20:28] DEPRECATION WARNING: please use MorganGenerator\n",
            "[23:20:28] DEPRECATION WARNING: please use MorganGenerator\n",
            "[23:20:28] DEPRECATION WARNING: please use MorganGenerator\n",
            "[23:20:28] DEPRECATION WARNING: please use MorganGenerator\n",
            "[23:20:28] DEPRECATION WARNING: please use MorganGenerator\n",
            "[23:20:28] DEPRECATION WARNING: please use MorganGenerator\n",
            "[23:20:28] DEPRECATION WARNING: please use MorganGenerator\n",
            "[23:20:28] DEPRECATION WARNING: please use MorganGenerator\n",
            "[23:20:28] DEPRECATION WARNING: please use MorganGenerator\n",
            "[23:20:28] DEPRECATION WARNING: please use MorganGenerator\n",
            "[23:20:28] DEPRECATION WARNING: please use MorganGenerator\n",
            "[23:20:28] DEPRECATION WARNING: please use MorganGenerator\n",
            "[23:20:28] DEPRECATION WARNING: please use MorganGenerator\n",
            "[23:20:28] DEPRECATION WARNING: please use MorganGenerator\n",
            "[23:20:28] DEPRECATION WARNING: please use MorganGenerator\n",
            "[23:20:28] DEPRECATION WARNING: please use MorganGenerator\n",
            "[23:20:28] DEPRECATION WARNING: please use MorganGenerator\n",
            "[23:20:28] DEPRECATION WARNING: please use MorganGenerator\n",
            "[23:20:28] DEPRECATION WARNING: please use MorganGenerator\n",
            "[23:20:28] DEPRECATION WARNING: please use MorganGenerator\n",
            "[23:20:28] DEPRECATION WARNING: please use MorganGenerator\n",
            "[23:20:28] DEPRECATION WARNING: please use MorganGenerator\n",
            "[23:20:28] DEPRECATION WARNING: please use MorganGenerator\n",
            "[23:20:28] DEPRECATION WARNING: please use MorganGenerator\n",
            "[23:20:28] DEPRECATION WARNING: please use MorganGenerator\n",
            "[23:20:28] DEPRECATION WARNING: please use MorganGenerator\n",
            "[23:20:28] DEPRECATION WARNING: please use MorganGenerator\n",
            "[23:20:28] DEPRECATION WARNING: please use MorganGenerator\n",
            "[23:20:28] DEPRECATION WARNING: please use MorganGenerator\n",
            "[23:20:28] DEPRECATION WARNING: please use MorganGenerator\n",
            "[23:20:28] DEPRECATION WARNING: please use MorganGenerator\n",
            "[23:20:28] DEPRECATION WARNING: please use MorganGenerator\n",
            "[23:20:28] DEPRECATION WARNING: please use MorganGenerator\n",
            "[23:20:28] DEPRECATION WARNING: please use MorganGenerator\n",
            "[23:20:28] DEPRECATION WARNING: please use MorganGenerator\n",
            "[23:20:28] DEPRECATION WARNING: please use MorganGenerator\n",
            "[23:20:28] DEPRECATION WARNING: please use MorganGenerator\n",
            "[23:20:28] DEPRECATION WARNING: please use MorganGenerator\n",
            "[23:20:28] DEPRECATION WARNING: please use MorganGenerator\n",
            "[23:20:28] DEPRECATION WARNING: please use MorganGenerator\n",
            "[23:20:28] DEPRECATION WARNING: please use MorganGenerator\n",
            "[23:20:28] DEPRECATION WARNING: please use MorganGenerator\n",
            "[23:20:28] DEPRECATION WARNING: please use MorganGenerator\n",
            "[23:20:28] DEPRECATION WARNING: please use MorganGenerator\n",
            "[23:20:28] DEPRECATION WARNING: please use MorganGenerator\n",
            "[23:20:28] DEPRECATION WARNING: please use MorganGenerator\n",
            "[23:20:28] DEPRECATION WARNING: please use MorganGenerator\n",
            "[23:20:28] DEPRECATION WARNING: please use MorganGenerator\n",
            "[23:20:28] DEPRECATION WARNING: please use MorganGenerator\n",
            "[23:20:28] DEPRECATION WARNING: please use MorganGenerator\n",
            "[23:20:28] DEPRECATION WARNING: please use MorganGenerator\n",
            "[23:20:28] DEPRECATION WARNING: please use MorganGenerator\n",
            "[23:20:28] DEPRECATION WARNING: please use MorganGenerator\n",
            "[23:20:28] DEPRECATION WARNING: please use MorganGenerator\n",
            "[23:20:28] DEPRECATION WARNING: please use MorganGenerator\n",
            "[23:20:28] DEPRECATION WARNING: please use MorganGenerator\n",
            "[23:20:28] DEPRECATION WARNING: please use MorganGenerator\n",
            "[23:20:28] DEPRECATION WARNING: please use MorganGenerator\n",
            "[23:20:28] DEPRECATION WARNING: please use MorganGenerator\n",
            "[23:20:28] DEPRECATION WARNING: please use MorganGenerator\n",
            "[23:20:28] DEPRECATION WARNING: please use MorganGenerator\n",
            "[23:20:28] DEPRECATION WARNING: please use MorganGenerator\n",
            "[23:20:28] DEPRECATION WARNING: please use MorganGenerator\n",
            "[23:20:28] DEPRECATION WARNING: please use MorganGenerator\n",
            "[23:20:28] DEPRECATION WARNING: please use MorganGenerator\n",
            "[23:20:28] DEPRECATION WARNING: please use MorganGenerator\n",
            "[23:20:28] DEPRECATION WARNING: please use MorganGenerator\n",
            "[23:20:28] DEPRECATION WARNING: please use MorganGenerator\n",
            "[23:20:28] DEPRECATION WARNING: please use MorganGenerator\n",
            "[23:20:28] DEPRECATION WARNING: please use MorganGenerator\n",
            "[23:20:28] DEPRECATION WARNING: please use MorganGenerator\n",
            "[23:20:28] DEPRECATION WARNING: please use MorganGenerator\n",
            "[23:20:28] DEPRECATION WARNING: please use MorganGenerator\n",
            "[23:20:28] DEPRECATION WARNING: please use MorganGenerator\n",
            "[23:20:28] DEPRECATION WARNING: please use MorganGenerator\n",
            "[23:20:28] DEPRECATION WARNING: please use MorganGenerator\n",
            "[23:20:28] DEPRECATION WARNING: please use MorganGenerator\n",
            "[23:20:28] DEPRECATION WARNING: please use MorganGenerator\n",
            "[23:20:28] DEPRECATION WARNING: please use MorganGenerator\n",
            "[23:20:28] DEPRECATION WARNING: please use MorganGenerator\n",
            "[23:20:28] DEPRECATION WARNING: please use MorganGenerator\n",
            "[23:20:28] DEPRECATION WARNING: please use MorganGenerator\n",
            "[23:20:28] DEPRECATION WARNING: please use MorganGenerator\n",
            "[23:20:28] DEPRECATION WARNING: please use MorganGenerator\n",
            "[23:20:28] DEPRECATION WARNING: please use MorganGenerator\n",
            "[23:20:28] DEPRECATION WARNING: please use MorganGenerator\n",
            "[23:20:28] DEPRECATION WARNING: please use MorganGenerator\n",
            "[23:20:28] DEPRECATION WARNING: please use MorganGenerator\n",
            "[23:20:28] DEPRECATION WARNING: please use MorganGenerator\n",
            "[23:20:28] DEPRECATION WARNING: please use MorganGenerator\n",
            "[23:20:28] DEPRECATION WARNING: please use MorganGenerator\n",
            "[23:20:28] DEPRECATION WARNING: please use MorganGenerator\n",
            "[23:20:28] DEPRECATION WARNING: please use MorganGenerator\n",
            "[23:20:28] DEPRECATION WARNING: please use MorganGenerator\n",
            "[23:20:28] DEPRECATION WARNING: please use MorganGenerator\n",
            "[23:20:28] DEPRECATION WARNING: please use MorganGenerator\n",
            "[23:20:28] DEPRECATION WARNING: please use MorganGenerator\n",
            "[23:20:28] DEPRECATION WARNING: please use MorganGenerator\n",
            "[23:20:28] DEPRECATION WARNING: please use MorganGenerator\n",
            "[23:20:28] DEPRECATION WARNING: please use MorganGenerator\n",
            "[23:20:28] DEPRECATION WARNING: please use MorganGenerator\n",
            "[23:20:28] DEPRECATION WARNING: please use MorganGenerator\n",
            "[23:20:28] DEPRECATION WARNING: please use MorganGenerator\n",
            "[23:20:28] DEPRECATION WARNING: please use MorganGenerator\n",
            "[23:20:28] DEPRECATION WARNING: please use MorganGenerator\n",
            "[23:20:28] DEPRECATION WARNING: please use MorganGenerator\n",
            "[23:20:28] DEPRECATION WARNING: please use MorganGenerator\n",
            "[23:20:28] DEPRECATION WARNING: please use MorganGenerator\n",
            "[23:20:28] DEPRECATION WARNING: please use MorganGenerator\n",
            "[23:20:28] DEPRECATION WARNING: please use MorganGenerator\n",
            "[23:20:28] DEPRECATION WARNING: please use MorganGenerator\n",
            "[23:20:28] DEPRECATION WARNING: please use MorganGenerator\n",
            "[23:20:28] DEPRECATION WARNING: please use MorganGenerator\n",
            "[23:20:28] DEPRECATION WARNING: please use MorganGenerator\n",
            "[23:20:28] DEPRECATION WARNING: please use MorganGenerator\n",
            "[23:20:28] DEPRECATION WARNING: please use MorganGenerator\n",
            "[23:20:28] DEPRECATION WARNING: please use MorganGenerator\n",
            "[23:20:28] DEPRECATION WARNING: please use MorganGenerator\n",
            "[23:20:28] DEPRECATION WARNING: please use MorganGenerator\n",
            "[23:20:28] DEPRECATION WARNING: please use MorganGenerator\n",
            "[23:20:28] DEPRECATION WARNING: please use MorganGenerator\n",
            "[23:20:28] DEPRECATION WARNING: please use MorganGenerator\n",
            "[23:20:28] DEPRECATION WARNING: please use MorganGenerator\n",
            "[23:20:28] DEPRECATION WARNING: please use MorganGenerator\n",
            "[23:20:28] DEPRECATION WARNING: please use MorganGenerator\n",
            "[23:20:28] DEPRECATION WARNING: please use MorganGenerator\n",
            "[23:20:28] DEPRECATION WARNING: please use MorganGenerator\n",
            "[23:20:28] DEPRECATION WARNING: please use MorganGenerator\n",
            "[23:20:28] DEPRECATION WARNING: please use MorganGenerator\n",
            "[23:20:28] DEPRECATION WARNING: please use MorganGenerator\n",
            "[23:20:28] DEPRECATION WARNING: please use MorganGenerator\n",
            "[23:20:28] DEPRECATION WARNING: please use MorganGenerator\n",
            "[23:20:28] DEPRECATION WARNING: please use MorganGenerator\n",
            "[23:20:28] DEPRECATION WARNING: please use MorganGenerator\n",
            "[23:20:28] DEPRECATION WARNING: please use MorganGenerator\n",
            "[23:20:28] DEPRECATION WARNING: please use MorganGenerator\n",
            "[23:20:28] DEPRECATION WARNING: please use MorganGenerator\n",
            "[23:20:28] DEPRECATION WARNING: please use MorganGenerator\n",
            "[23:20:28] DEPRECATION WARNING: please use MorganGenerator\n",
            "[23:20:28] DEPRECATION WARNING: please use MorganGenerator\n",
            "[23:20:28] DEPRECATION WARNING: please use MorganGenerator\n",
            "[23:20:28] DEPRECATION WARNING: please use MorganGenerator\n",
            "[23:20:28] DEPRECATION WARNING: please use MorganGenerator\n",
            "[23:20:28] DEPRECATION WARNING: please use MorganGenerator\n",
            "[23:20:28] DEPRECATION WARNING: please use MorganGenerator\n",
            "[23:20:28] DEPRECATION WARNING: please use MorganGenerator\n",
            "[23:20:28] DEPRECATION WARNING: please use MorganGenerator\n",
            "[23:20:28] DEPRECATION WARNING: please use MorganGenerator\n",
            "[23:20:28] DEPRECATION WARNING: please use MorganGenerator\n",
            "[23:20:28] DEPRECATION WARNING: please use MorganGenerator\n",
            "[23:20:28] DEPRECATION WARNING: please use MorganGenerator\n",
            "[23:20:28] DEPRECATION WARNING: please use MorganGenerator\n",
            "[23:20:28] DEPRECATION WARNING: please use MorganGenerator\n",
            "[23:20:28] DEPRECATION WARNING: please use MorganGenerator\n",
            "[23:20:28] DEPRECATION WARNING: please use MorganGenerator\n",
            "[23:20:28] DEPRECATION WARNING: please use MorganGenerator\n",
            "[23:20:28] DEPRECATION WARNING: please use MorganGenerator\n",
            "[23:20:28] DEPRECATION WARNING: please use MorganGenerator\n",
            "[23:20:28] DEPRECATION WARNING: please use MorganGenerator\n",
            "[23:20:28] DEPRECATION WARNING: please use MorganGenerator\n",
            "[23:20:28] DEPRECATION WARNING: please use MorganGenerator\n",
            "[23:20:28] DEPRECATION WARNING: please use MorganGenerator\n",
            "[23:20:28] DEPRECATION WARNING: please use MorganGenerator\n",
            "[23:20:28] DEPRECATION WARNING: please use MorganGenerator\n",
            "[23:20:28] DEPRECATION WARNING: please use MorganGenerator\n",
            "[23:20:28] DEPRECATION WARNING: please use MorganGenerator\n",
            "[23:20:28] DEPRECATION WARNING: please use MorganGenerator\n",
            "[23:20:28] DEPRECATION WARNING: please use MorganGenerator\n",
            "[23:20:28] DEPRECATION WARNING: please use MorganGenerator\n",
            "[23:20:28] DEPRECATION WARNING: please use MorganGenerator\n",
            "[23:20:28] DEPRECATION WARNING: please use MorganGenerator\n",
            "[23:20:28] DEPRECATION WARNING: please use MorganGenerator\n",
            "[23:20:28] DEPRECATION WARNING: please use MorganGenerator\n",
            "[23:20:28] DEPRECATION WARNING: please use MorganGenerator\n",
            "[23:20:28] DEPRECATION WARNING: please use MorganGenerator\n",
            "[23:20:28] DEPRECATION WARNING: please use MorganGenerator\n",
            "[23:20:28] DEPRECATION WARNING: please use MorganGenerator\n",
            "[23:20:28] DEPRECATION WARNING: please use MorganGenerator\n",
            "[23:20:28] DEPRECATION WARNING: please use MorganGenerator\n",
            "[23:20:28] DEPRECATION WARNING: please use MorganGenerator\n",
            "[23:20:28] DEPRECATION WARNING: please use MorganGenerator\n",
            "[23:20:28] DEPRECATION WARNING: please use MorganGenerator\n",
            "[23:20:28] DEPRECATION WARNING: please use MorganGenerator\n",
            "[23:20:28] DEPRECATION WARNING: please use MorganGenerator\n",
            "[23:20:28] DEPRECATION WARNING: please use MorganGenerator\n",
            "[23:20:28] DEPRECATION WARNING: please use MorganGenerator\n",
            "[23:20:28] DEPRECATION WARNING: please use MorganGenerator\n",
            "[23:20:28] DEPRECATION WARNING: please use MorganGenerator\n",
            "[23:20:28] DEPRECATION WARNING: please use MorganGenerator\n",
            "[23:20:28] DEPRECATION WARNING: please use MorganGenerator\n",
            "[23:20:28] DEPRECATION WARNING: please use MorganGenerator\n",
            "[23:20:28] DEPRECATION WARNING: please use MorganGenerator\n",
            "[23:20:28] DEPRECATION WARNING: please use MorganGenerator\n",
            "[23:20:28] DEPRECATION WARNING: please use MorganGenerator\n",
            "[23:20:28] DEPRECATION WARNING: please use MorganGenerator\n",
            "[23:20:28] DEPRECATION WARNING: please use MorganGenerator\n",
            "[23:20:28] DEPRECATION WARNING: please use MorganGenerator\n",
            "[23:20:28] DEPRECATION WARNING: please use MorganGenerator\n",
            "[23:20:28] DEPRECATION WARNING: please use MorganGenerator\n",
            "[23:20:28] DEPRECATION WARNING: please use MorganGenerator\n",
            "[23:20:28] DEPRECATION WARNING: please use MorganGenerator\n",
            "[23:20:28] DEPRECATION WARNING: please use MorganGenerator\n",
            "[23:20:28] DEPRECATION WARNING: please use MorganGenerator\n",
            "[23:20:28] DEPRECATION WARNING: please use MorganGenerator\n",
            "[23:20:28] DEPRECATION WARNING: please use MorganGenerator\n",
            "[23:20:28] DEPRECATION WARNING: please use MorganGenerator\n",
            "[23:20:28] DEPRECATION WARNING: please use MorganGenerator\n",
            "[23:20:28] DEPRECATION WARNING: please use MorganGenerator\n",
            "[23:20:28] DEPRECATION WARNING: please use MorganGenerator\n",
            "[23:20:28] DEPRECATION WARNING: please use MorganGenerator\n",
            "[23:20:28] DEPRECATION WARNING: please use MorganGenerator\n",
            "[23:20:29] DEPRECATION WARNING: please use MorganGenerator\n",
            "[23:20:29] DEPRECATION WARNING: please use MorganGenerator\n",
            "[23:20:29] DEPRECATION WARNING: please use MorganGenerator\n",
            "[23:20:29] DEPRECATION WARNING: please use MorganGenerator\n",
            "[23:20:29] DEPRECATION WARNING: please use MorganGenerator\n",
            "[23:20:29] DEPRECATION WARNING: please use MorganGenerator\n",
            "[23:20:29] DEPRECATION WARNING: please use MorganGenerator\n",
            "[23:20:29] DEPRECATION WARNING: please use MorganGenerator\n",
            "[23:20:29] DEPRECATION WARNING: please use MorganGenerator\n",
            "[23:20:29] DEPRECATION WARNING: please use MorganGenerator\n",
            "[23:20:29] DEPRECATION WARNING: please use MorganGenerator\n",
            "[23:20:29] DEPRECATION WARNING: please use MorganGenerator\n",
            "[23:20:29] DEPRECATION WARNING: please use MorganGenerator\n",
            "[23:20:29] DEPRECATION WARNING: please use MorganGenerator\n",
            "[23:20:29] DEPRECATION WARNING: please use MorganGenerator\n",
            "[23:20:29] DEPRECATION WARNING: please use MorganGenerator\n",
            "[23:20:29] DEPRECATION WARNING: please use MorganGenerator\n",
            "[23:20:29] DEPRECATION WARNING: please use MorganGenerator\n",
            "[23:20:29] DEPRECATION WARNING: please use MorganGenerator\n",
            "[23:20:29] Can't kekulize mol.  Unkekulized atoms: 9\n",
            "[23:20:29] DEPRECATION WARNING: please use MorganGenerator\n",
            "[23:20:29] DEPRECATION WARNING: please use MorganGenerator\n",
            "[23:20:29] DEPRECATION WARNING: please use MorganGenerator\n",
            "[23:20:29] DEPRECATION WARNING: please use MorganGenerator\n",
            "[23:20:29] DEPRECATION WARNING: please use MorganGenerator\n",
            "[23:20:29] DEPRECATION WARNING: please use MorganGenerator\n",
            "[23:20:29] DEPRECATION WARNING: please use MorganGenerator\n",
            "[23:20:29] DEPRECATION WARNING: please use MorganGenerator\n",
            "[23:20:29] DEPRECATION WARNING: please use MorganGenerator\n",
            "[23:20:29] DEPRECATION WARNING: please use MorganGenerator\n",
            "[23:20:29] DEPRECATION WARNING: please use MorganGenerator\n",
            "[23:20:29] DEPRECATION WARNING: please use MorganGenerator\n",
            "[23:20:29] DEPRECATION WARNING: please use MorganGenerator\n",
            "[23:20:29] DEPRECATION WARNING: please use MorganGenerator\n",
            "[23:20:29] DEPRECATION WARNING: please use MorganGenerator\n",
            "[23:20:29] DEPRECATION WARNING: please use MorganGenerator\n",
            "[23:20:29] DEPRECATION WARNING: please use MorganGenerator\n",
            "[23:20:29] DEPRECATION WARNING: please use MorganGenerator\n",
            "[23:20:29] DEPRECATION WARNING: please use MorganGenerator\n",
            "[23:20:29] DEPRECATION WARNING: please use MorganGenerator\n",
            "[23:20:29] DEPRECATION WARNING: please use MorganGenerator\n",
            "[23:20:29] DEPRECATION WARNING: please use MorganGenerator\n",
            "[23:20:29] DEPRECATION WARNING: please use MorganGenerator\n",
            "[23:20:29] DEPRECATION WARNING: please use MorganGenerator\n",
            "[23:20:29] DEPRECATION WARNING: please use MorganGenerator\n",
            "[23:20:29] DEPRECATION WARNING: please use MorganGenerator\n",
            "[23:20:29] DEPRECATION WARNING: please use MorganGenerator\n",
            "[23:20:29] DEPRECATION WARNING: please use MorganGenerator\n",
            "[23:20:29] DEPRECATION WARNING: please use MorganGenerator\n",
            "[23:20:29] DEPRECATION WARNING: please use MorganGenerator\n",
            "[23:20:29] DEPRECATION WARNING: please use MorganGenerator\n",
            "[23:20:29] DEPRECATION WARNING: please use MorganGenerator\n",
            "[23:20:29] DEPRECATION WARNING: please use MorganGenerator\n",
            "[23:20:29] DEPRECATION WARNING: please use MorganGenerator\n",
            "[23:20:29] DEPRECATION WARNING: please use MorganGenerator\n",
            "[23:20:29] DEPRECATION WARNING: please use MorganGenerator\n",
            "[23:20:29] DEPRECATION WARNING: please use MorganGenerator\n",
            "[23:20:29] DEPRECATION WARNING: please use MorganGenerator\n",
            "[23:20:29] DEPRECATION WARNING: please use MorganGenerator\n",
            "[23:20:29] DEPRECATION WARNING: please use MorganGenerator\n",
            "[23:20:29] DEPRECATION WARNING: please use MorganGenerator\n",
            "[23:20:29] DEPRECATION WARNING: please use MorganGenerator\n",
            "[23:20:29] DEPRECATION WARNING: please use MorganGenerator\n",
            "[23:20:29] DEPRECATION WARNING: please use MorganGenerator\n",
            "[23:20:29] DEPRECATION WARNING: please use MorganGenerator\n",
            "[23:20:29] DEPRECATION WARNING: please use MorganGenerator\n",
            "[23:20:29] DEPRECATION WARNING: please use MorganGenerator\n",
            "[23:20:29] DEPRECATION WARNING: please use MorganGenerator\n",
            "[23:20:29] DEPRECATION WARNING: please use MorganGenerator\n",
            "[23:20:29] DEPRECATION WARNING: please use MorganGenerator\n",
            "[23:20:29] DEPRECATION WARNING: please use MorganGenerator\n",
            "[23:20:29] DEPRECATION WARNING: please use MorganGenerator\n",
            "[23:20:29] DEPRECATION WARNING: please use MorganGenerator\n",
            "[23:20:29] DEPRECATION WARNING: please use MorganGenerator\n",
            "[23:20:29] DEPRECATION WARNING: please use MorganGenerator\n",
            "[23:20:29] DEPRECATION WARNING: please use MorganGenerator\n",
            "[23:20:29] DEPRECATION WARNING: please use MorganGenerator\n",
            "[23:20:29] DEPRECATION WARNING: please use MorganGenerator\n",
            "[23:20:29] DEPRECATION WARNING: please use MorganGenerator\n",
            "[23:20:29] DEPRECATION WARNING: please use MorganGenerator\n",
            "[23:20:29] DEPRECATION WARNING: please use MorganGenerator\n",
            "[23:20:29] DEPRECATION WARNING: please use MorganGenerator\n",
            "[23:20:29] DEPRECATION WARNING: please use MorganGenerator\n",
            "[23:20:29] DEPRECATION WARNING: please use MorganGenerator\n",
            "[23:20:29] DEPRECATION WARNING: please use MorganGenerator\n",
            "[23:20:29] DEPRECATION WARNING: please use MorganGenerator\n",
            "[23:20:29] DEPRECATION WARNING: please use MorganGenerator\n",
            "[23:20:29] DEPRECATION WARNING: please use MorganGenerator\n",
            "[23:20:29] DEPRECATION WARNING: please use MorganGenerator\n",
            "[23:20:29] DEPRECATION WARNING: please use MorganGenerator\n",
            "[23:20:29] DEPRECATION WARNING: please use MorganGenerator\n",
            "[23:20:29] DEPRECATION WARNING: please use MorganGenerator\n",
            "[23:20:29] DEPRECATION WARNING: please use MorganGenerator\n",
            "[23:20:29] DEPRECATION WARNING: please use MorganGenerator\n",
            "[23:20:29] DEPRECATION WARNING: please use MorganGenerator\n",
            "[23:20:29] DEPRECATION WARNING: please use MorganGenerator\n",
            "[23:20:29] DEPRECATION WARNING: please use MorganGenerator\n",
            "[23:20:29] DEPRECATION WARNING: please use MorganGenerator\n",
            "[23:20:29] DEPRECATION WARNING: please use MorganGenerator\n",
            "[23:20:29] DEPRECATION WARNING: please use MorganGenerator\n",
            "[23:20:29] DEPRECATION WARNING: please use MorganGenerator\n",
            "[23:20:29] DEPRECATION WARNING: please use MorganGenerator\n",
            "[23:20:29] DEPRECATION WARNING: please use MorganGenerator\n",
            "[23:20:29] DEPRECATION WARNING: please use MorganGenerator\n",
            "[23:20:29] DEPRECATION WARNING: please use MorganGenerator\n",
            "[23:20:29] DEPRECATION WARNING: please use MorganGenerator\n",
            "[23:20:29] DEPRECATION WARNING: please use MorganGenerator\n",
            "[23:20:29] DEPRECATION WARNING: please use MorganGenerator\n",
            "[23:20:29] DEPRECATION WARNING: please use MorganGenerator\n",
            "[23:20:29] DEPRECATION WARNING: please use MorganGenerator\n",
            "[23:20:29] DEPRECATION WARNING: please use MorganGenerator\n",
            "[23:20:29] DEPRECATION WARNING: please use MorganGenerator\n",
            "[23:20:29] DEPRECATION WARNING: please use MorganGenerator\n",
            "[23:20:29] DEPRECATION WARNING: please use MorganGenerator\n",
            "[23:20:29] DEPRECATION WARNING: please use MorganGenerator\n",
            "[23:20:29] DEPRECATION WARNING: please use MorganGenerator\n",
            "[23:20:29] DEPRECATION WARNING: please use MorganGenerator\n",
            "[23:20:29] DEPRECATION WARNING: please use MorganGenerator\n",
            "[23:20:29] DEPRECATION WARNING: please use MorganGenerator\n",
            "[23:20:29] DEPRECATION WARNING: please use MorganGenerator\n",
            "[23:20:29] DEPRECATION WARNING: please use MorganGenerator\n",
            "[23:20:29] DEPRECATION WARNING: please use MorganGenerator\n",
            "[23:20:29] DEPRECATION WARNING: please use MorganGenerator\n",
            "[23:20:29] DEPRECATION WARNING: please use MorganGenerator\n",
            "[23:20:29] DEPRECATION WARNING: please use MorganGenerator\n",
            "[23:20:29] DEPRECATION WARNING: please use MorganGenerator\n",
            "[23:20:29] DEPRECATION WARNING: please use MorganGenerator\n",
            "[23:20:29] DEPRECATION WARNING: please use MorganGenerator\n",
            "[23:20:29] DEPRECATION WARNING: please use MorganGenerator\n",
            "[23:20:29] DEPRECATION WARNING: please use MorganGenerator\n",
            "[23:20:29] DEPRECATION WARNING: please use MorganGenerator\n",
            "[23:20:29] DEPRECATION WARNING: please use MorganGenerator\n",
            "[23:20:29] DEPRECATION WARNING: please use MorganGenerator\n",
            "[23:20:29] DEPRECATION WARNING: please use MorganGenerator\n",
            "[23:20:29] DEPRECATION WARNING: please use MorganGenerator\n",
            "[23:20:29] DEPRECATION WARNING: please use MorganGenerator\n",
            "[23:20:29] DEPRECATION WARNING: please use MorganGenerator\n",
            "[23:20:29] DEPRECATION WARNING: please use MorganGenerator\n",
            "[23:20:29] DEPRECATION WARNING: please use MorganGenerator\n",
            "[23:20:29] DEPRECATION WARNING: please use MorganGenerator\n",
            "[23:20:29] DEPRECATION WARNING: please use MorganGenerator\n",
            "[23:20:29] DEPRECATION WARNING: please use MorganGenerator\n",
            "[23:20:29] DEPRECATION WARNING: please use MorganGenerator\n",
            "[23:20:29] DEPRECATION WARNING: please use MorganGenerator\n",
            "[23:20:29] DEPRECATION WARNING: please use MorganGenerator\n",
            "[23:20:29] DEPRECATION WARNING: please use MorganGenerator\n",
            "[23:20:29] DEPRECATION WARNING: please use MorganGenerator\n",
            "[23:20:29] DEPRECATION WARNING: please use MorganGenerator\n",
            "[23:20:29] DEPRECATION WARNING: please use MorganGenerator\n",
            "[23:20:29] DEPRECATION WARNING: please use MorganGenerator\n",
            "[23:20:29] DEPRECATION WARNING: please use MorganGenerator\n",
            "[23:20:29] DEPRECATION WARNING: please use MorganGenerator\n",
            "[23:20:29] DEPRECATION WARNING: please use MorganGenerator\n",
            "[23:20:29] DEPRECATION WARNING: please use MorganGenerator\n",
            "[23:20:29] DEPRECATION WARNING: please use MorganGenerator\n",
            "[23:20:29] DEPRECATION WARNING: please use MorganGenerator\n",
            "[23:20:29] DEPRECATION WARNING: please use MorganGenerator\n",
            "[23:20:29] DEPRECATION WARNING: please use MorganGenerator\n",
            "[23:20:29] DEPRECATION WARNING: please use MorganGenerator\n",
            "[23:20:29] DEPRECATION WARNING: please use MorganGenerator\n",
            "[23:20:29] DEPRECATION WARNING: please use MorganGenerator\n",
            "[23:20:29] DEPRECATION WARNING: please use MorganGenerator\n",
            "[23:20:29] DEPRECATION WARNING: please use MorganGenerator\n",
            "[23:20:29] DEPRECATION WARNING: please use MorganGenerator\n",
            "[23:20:29] DEPRECATION WARNING: please use MorganGenerator\n",
            "[23:20:29] DEPRECATION WARNING: please use MorganGenerator\n",
            "[23:20:29] DEPRECATION WARNING: please use MorganGenerator\n",
            "[23:20:29] DEPRECATION WARNING: please use MorganGenerator\n",
            "[23:20:29] DEPRECATION WARNING: please use MorganGenerator\n",
            "[23:20:29] DEPRECATION WARNING: please use MorganGenerator\n",
            "[23:20:29] DEPRECATION WARNING: please use MorganGenerator\n",
            "[23:20:29] DEPRECATION WARNING: please use MorganGenerator\n",
            "[23:20:29] DEPRECATION WARNING: please use MorganGenerator\n",
            "[23:20:29] DEPRECATION WARNING: please use MorganGenerator\n",
            "[23:20:29] DEPRECATION WARNING: please use MorganGenerator\n",
            "[23:20:29] DEPRECATION WARNING: please use MorganGenerator\n",
            "[23:20:29] DEPRECATION WARNING: please use MorganGenerator\n",
            "[23:20:29] DEPRECATION WARNING: please use MorganGenerator\n",
            "[23:20:29] DEPRECATION WARNING: please use MorganGenerator\n",
            "[23:20:29] DEPRECATION WARNING: please use MorganGenerator\n",
            "[23:20:29] DEPRECATION WARNING: please use MorganGenerator\n",
            "[23:20:29] DEPRECATION WARNING: please use MorganGenerator\n",
            "[23:20:29] DEPRECATION WARNING: please use MorganGenerator\n",
            "[23:20:29] DEPRECATION WARNING: please use MorganGenerator\n",
            "[23:20:29] DEPRECATION WARNING: please use MorganGenerator\n",
            "[23:20:29] DEPRECATION WARNING: please use MorganGenerator\n",
            "[23:20:29] DEPRECATION WARNING: please use MorganGenerator\n",
            "[23:20:29] DEPRECATION WARNING: please use MorganGenerator\n",
            "[23:20:29] DEPRECATION WARNING: please use MorganGenerator\n",
            "[23:20:29] DEPRECATION WARNING: please use MorganGenerator\n",
            "[23:20:29] DEPRECATION WARNING: please use MorganGenerator\n",
            "[23:20:29] DEPRECATION WARNING: please use MorganGenerator\n",
            "[23:20:29] DEPRECATION WARNING: please use MorganGenerator\n",
            "[23:20:29] DEPRECATION WARNING: please use MorganGenerator\n",
            "[23:20:29] DEPRECATION WARNING: please use MorganGenerator\n",
            "[23:20:29] DEPRECATION WARNING: please use MorganGenerator\n",
            "[23:20:29] DEPRECATION WARNING: please use MorganGenerator\n",
            "[23:20:29] DEPRECATION WARNING: please use MorganGenerator\n",
            "[23:20:29] DEPRECATION WARNING: please use MorganGenerator\n",
            "[23:20:29] DEPRECATION WARNING: please use MorganGenerator\n",
            "[23:20:29] DEPRECATION WARNING: please use MorganGenerator\n",
            "[23:20:29] DEPRECATION WARNING: please use MorganGenerator\n",
            "[23:20:29] DEPRECATION WARNING: please use MorganGenerator\n",
            "[23:20:29] DEPRECATION WARNING: please use MorganGenerator\n",
            "[23:20:29] DEPRECATION WARNING: please use MorganGenerator\n",
            "[23:20:29] DEPRECATION WARNING: please use MorganGenerator\n",
            "[23:20:29] DEPRECATION WARNING: please use MorganGenerator\n",
            "[23:20:29] DEPRECATION WARNING: please use MorganGenerator\n",
            "[23:20:29] DEPRECATION WARNING: please use MorganGenerator\n",
            "[23:20:29] DEPRECATION WARNING: please use MorganGenerator\n",
            "[23:20:29] DEPRECATION WARNING: please use MorganGenerator\n",
            "[23:20:29] DEPRECATION WARNING: please use MorganGenerator\n",
            "[23:20:29] DEPRECATION WARNING: please use MorganGenerator\n",
            "[23:20:29] DEPRECATION WARNING: please use MorganGenerator\n",
            "[23:20:29] DEPRECATION WARNING: please use MorganGenerator\n",
            "[23:20:29] DEPRECATION WARNING: please use MorganGenerator\n",
            "[23:20:29] DEPRECATION WARNING: please use MorganGenerator\n",
            "[23:20:29] DEPRECATION WARNING: please use MorganGenerator\n",
            "[23:20:29] DEPRECATION WARNING: please use MorganGenerator\n",
            "[23:20:29] DEPRECATION WARNING: please use MorganGenerator\n",
            "[23:20:29] DEPRECATION WARNING: please use MorganGenerator\n",
            "[23:20:29] DEPRECATION WARNING: please use MorganGenerator\n",
            "[23:20:29] DEPRECATION WARNING: please use MorganGenerator\n",
            "[23:20:29] DEPRECATION WARNING: please use MorganGenerator\n",
            "[23:20:29] DEPRECATION WARNING: please use MorganGenerator\n",
            "[23:20:29] DEPRECATION WARNING: please use MorganGenerator\n",
            "[23:20:29] DEPRECATION WARNING: please use MorganGenerator\n",
            "[23:20:29] DEPRECATION WARNING: please use MorganGenerator\n",
            "[23:20:29] DEPRECATION WARNING: please use MorganGenerator\n",
            "[23:20:29] DEPRECATION WARNING: please use MorganGenerator\n",
            "[23:20:29] DEPRECATION WARNING: please use MorganGenerator\n",
            "[23:20:29] DEPRECATION WARNING: please use MorganGenerator\n",
            "[23:20:29] DEPRECATION WARNING: please use MorganGenerator\n",
            "[23:20:29] DEPRECATION WARNING: please use MorganGenerator\n",
            "[23:20:29] DEPRECATION WARNING: please use MorganGenerator\n",
            "[23:20:29] DEPRECATION WARNING: please use MorganGenerator\n",
            "[23:20:29] DEPRECATION WARNING: please use MorganGenerator\n",
            "[23:20:29] DEPRECATION WARNING: please use MorganGenerator\n",
            "[23:20:29] DEPRECATION WARNING: please use MorganGenerator\n",
            "[23:20:29] DEPRECATION WARNING: please use MorganGenerator\n",
            "[23:20:29] DEPRECATION WARNING: please use MorganGenerator\n",
            "[23:20:29] DEPRECATION WARNING: please use MorganGenerator\n",
            "[23:20:29] DEPRECATION WARNING: please use MorganGenerator\n",
            "[23:20:29] DEPRECATION WARNING: please use MorganGenerator\n",
            "[23:20:29] DEPRECATION WARNING: please use MorganGenerator\n",
            "[23:20:29] DEPRECATION WARNING: please use MorganGenerator\n",
            "[23:20:29] DEPRECATION WARNING: please use MorganGenerator\n",
            "[23:20:29] DEPRECATION WARNING: please use MorganGenerator\n",
            "[23:20:29] DEPRECATION WARNING: please use MorganGenerator\n",
            "[23:20:29] DEPRECATION WARNING: please use MorganGenerator\n",
            "[23:20:29] DEPRECATION WARNING: please use MorganGenerator\n",
            "[23:20:29] DEPRECATION WARNING: please use MorganGenerator\n",
            "[23:20:29] DEPRECATION WARNING: please use MorganGenerator\n",
            "[23:20:29] DEPRECATION WARNING: please use MorganGenerator\n",
            "[23:20:29] DEPRECATION WARNING: please use MorganGenerator\n",
            "[23:20:29] DEPRECATION WARNING: please use MorganGenerator\n",
            "[23:20:29] DEPRECATION WARNING: please use MorganGenerator\n",
            "[23:20:29] DEPRECATION WARNING: please use MorganGenerator\n",
            "[23:20:29] DEPRECATION WARNING: please use MorganGenerator\n",
            "[23:20:29] DEPRECATION WARNING: please use MorganGenerator\n",
            "[23:20:29] DEPRECATION WARNING: please use MorganGenerator\n",
            "[23:20:29] DEPRECATION WARNING: please use MorganGenerator\n",
            "[23:20:29] DEPRECATION WARNING: please use MorganGenerator\n",
            "[23:20:29] DEPRECATION WARNING: please use MorganGenerator\n",
            "[23:20:29] DEPRECATION WARNING: please use MorganGenerator\n",
            "[23:20:29] DEPRECATION WARNING: please use MorganGenerator\n",
            "[23:20:29] DEPRECATION WARNING: please use MorganGenerator\n",
            "[23:20:29] DEPRECATION WARNING: please use MorganGenerator\n",
            "[23:20:29] DEPRECATION WARNING: please use MorganGenerator\n",
            "[23:20:29] DEPRECATION WARNING: please use MorganGenerator\n",
            "[23:20:29] DEPRECATION WARNING: please use MorganGenerator\n",
            "[23:20:29] DEPRECATION WARNING: please use MorganGenerator\n",
            "[23:20:29] DEPRECATION WARNING: please use MorganGenerator\n",
            "[23:20:29] DEPRECATION WARNING: please use MorganGenerator\n",
            "[23:20:29] DEPRECATION WARNING: please use MorganGenerator\n",
            "[23:20:29] DEPRECATION WARNING: please use MorganGenerator\n",
            "[23:20:29] DEPRECATION WARNING: please use MorganGenerator\n",
            "[23:20:29] DEPRECATION WARNING: please use MorganGenerator\n",
            "[23:20:29] DEPRECATION WARNING: please use MorganGenerator\n",
            "[23:20:29] DEPRECATION WARNING: please use MorganGenerator\n",
            "[23:20:29] DEPRECATION WARNING: please use MorganGenerator\n",
            "[23:20:29] DEPRECATION WARNING: please use MorganGenerator\n",
            "[23:20:29] DEPRECATION WARNING: please use MorganGenerator\n",
            "[23:20:29] DEPRECATION WARNING: please use MorganGenerator\n",
            "[23:20:29] DEPRECATION WARNING: please use MorganGenerator\n",
            "[23:20:29] DEPRECATION WARNING: please use MorganGenerator\n",
            "[23:20:29] DEPRECATION WARNING: please use MorganGenerator\n",
            "[23:20:29] DEPRECATION WARNING: please use MorganGenerator\n",
            "[23:20:29] DEPRECATION WARNING: please use MorganGenerator\n",
            "[23:20:29] DEPRECATION WARNING: please use MorganGenerator\n",
            "[23:20:29] DEPRECATION WARNING: please use MorganGenerator\n",
            "[23:20:29] DEPRECATION WARNING: please use MorganGenerator\n",
            "[23:20:29] DEPRECATION WARNING: please use MorganGenerator\n",
            "[23:20:29] DEPRECATION WARNING: please use MorganGenerator\n",
            "[23:20:29] DEPRECATION WARNING: please use MorganGenerator\n",
            "[23:20:29] DEPRECATION WARNING: please use MorganGenerator\n",
            "[23:20:29] DEPRECATION WARNING: please use MorganGenerator\n",
            "[23:20:29] DEPRECATION WARNING: please use MorganGenerator\n",
            "[23:20:29] DEPRECATION WARNING: please use MorganGenerator\n",
            "[23:20:29] DEPRECATION WARNING: please use MorganGenerator\n",
            "[23:20:29] DEPRECATION WARNING: please use MorganGenerator\n",
            "[23:20:29] DEPRECATION WARNING: please use MorganGenerator\n",
            "[23:20:29] DEPRECATION WARNING: please use MorganGenerator\n",
            "[23:20:29] DEPRECATION WARNING: please use MorganGenerator\n",
            "[23:20:29] DEPRECATION WARNING: please use MorganGenerator\n",
            "[23:20:29] DEPRECATION WARNING: please use MorganGenerator\n",
            "[23:20:29] DEPRECATION WARNING: please use MorganGenerator\n",
            "[23:20:29] DEPRECATION WARNING: please use MorganGenerator\n",
            "[23:20:29] DEPRECATION WARNING: please use MorganGenerator\n",
            "[23:20:29] DEPRECATION WARNING: please use MorganGenerator\n",
            "[23:20:29] DEPRECATION WARNING: please use MorganGenerator\n",
            "[23:20:29] DEPRECATION WARNING: please use MorganGenerator\n",
            "[23:20:29] DEPRECATION WARNING: please use MorganGenerator\n",
            "[23:20:29] DEPRECATION WARNING: please use MorganGenerator\n",
            "[23:20:29] DEPRECATION WARNING: please use MorganGenerator\n",
            "[23:20:29] DEPRECATION WARNING: please use MorganGenerator\n",
            "[23:20:29] DEPRECATION WARNING: please use MorganGenerator\n",
            "[23:20:29] DEPRECATION WARNING: please use MorganGenerator\n",
            "[23:20:29] DEPRECATION WARNING: please use MorganGenerator\n",
            "[23:20:29] DEPRECATION WARNING: please use MorganGenerator\n",
            "[23:20:29] DEPRECATION WARNING: please use MorganGenerator\n",
            "[23:20:29] DEPRECATION WARNING: please use MorganGenerator\n",
            "[23:20:29] DEPRECATION WARNING: please use MorganGenerator\n",
            "[23:20:29] DEPRECATION WARNING: please use MorganGenerator\n",
            "[23:20:29] DEPRECATION WARNING: please use MorganGenerator\n",
            "[23:20:29] DEPRECATION WARNING: please use MorganGenerator\n",
            "[23:20:29] DEPRECATION WARNING: please use MorganGenerator\n",
            "[23:20:29] DEPRECATION WARNING: please use MorganGenerator\n",
            "[23:20:29] DEPRECATION WARNING: please use MorganGenerator\n",
            "[23:20:29] DEPRECATION WARNING: please use MorganGenerator\n",
            "[23:20:29] DEPRECATION WARNING: please use MorganGenerator\n",
            "[23:20:29] DEPRECATION WARNING: please use MorganGenerator\n",
            "[23:20:29] DEPRECATION WARNING: please use MorganGenerator\n",
            "[23:20:29] DEPRECATION WARNING: please use MorganGenerator\n",
            "[23:20:29] DEPRECATION WARNING: please use MorganGenerator\n",
            "[23:20:29] DEPRECATION WARNING: please use MorganGenerator\n",
            "[23:20:29] DEPRECATION WARNING: please use MorganGenerator\n",
            "[23:20:29] DEPRECATION WARNING: please use MorganGenerator\n",
            "[23:20:29] DEPRECATION WARNING: please use MorganGenerator\n",
            "[23:20:29] DEPRECATION WARNING: please use MorganGenerator\n",
            "[23:20:29] DEPRECATION WARNING: please use MorganGenerator\n",
            "[23:20:29] DEPRECATION WARNING: please use MorganGenerator\n",
            "[23:20:29] DEPRECATION WARNING: please use MorganGenerator\n",
            "[23:20:29] DEPRECATION WARNING: please use MorganGenerator\n",
            "[23:20:29] DEPRECATION WARNING: please use MorganGenerator\n",
            "[23:20:29] DEPRECATION WARNING: please use MorganGenerator\n",
            "[23:20:29] DEPRECATION WARNING: please use MorganGenerator\n",
            "[23:20:29] DEPRECATION WARNING: please use MorganGenerator\n",
            "[23:20:29] DEPRECATION WARNING: please use MorganGenerator\n",
            "[23:20:29] DEPRECATION WARNING: please use MorganGenerator\n",
            "[23:20:29] DEPRECATION WARNING: please use MorganGenerator\n",
            "[23:20:29] DEPRECATION WARNING: please use MorganGenerator\n",
            "[23:20:29] DEPRECATION WARNING: please use MorganGenerator\n",
            "[23:20:29] DEPRECATION WARNING: please use MorganGenerator\n",
            "[23:20:29] DEPRECATION WARNING: please use MorganGenerator\n",
            "[23:20:29] DEPRECATION WARNING: please use MorganGenerator\n",
            "[23:20:29] DEPRECATION WARNING: please use MorganGenerator\n",
            "[23:20:29] DEPRECATION WARNING: please use MorganGenerator\n",
            "[23:20:29] DEPRECATION WARNING: please use MorganGenerator\n",
            "[23:20:29] DEPRECATION WARNING: please use MorganGenerator\n",
            "[23:20:29] DEPRECATION WARNING: please use MorganGenerator\n",
            "[23:20:29] DEPRECATION WARNING: please use MorganGenerator\n",
            "[23:20:29] DEPRECATION WARNING: please use MorganGenerator\n",
            "[23:20:29] DEPRECATION WARNING: please use MorganGenerator\n",
            "[23:20:29] DEPRECATION WARNING: please use MorganGenerator\n",
            "[23:20:29] DEPRECATION WARNING: please use MorganGenerator\n",
            "[23:20:29] DEPRECATION WARNING: please use MorganGenerator\n",
            "[23:20:29] DEPRECATION WARNING: please use MorganGenerator\n",
            "[23:20:29] DEPRECATION WARNING: please use MorganGenerator\n",
            "[23:20:29] DEPRECATION WARNING: please use MorganGenerator\n",
            "[23:20:29] DEPRECATION WARNING: please use MorganGenerator\n",
            "[23:20:29] DEPRECATION WARNING: please use MorganGenerator\n",
            "[23:20:29] DEPRECATION WARNING: please use MorganGenerator\n",
            "[23:20:29] DEPRECATION WARNING: please use MorganGenerator\n",
            "[23:20:29] DEPRECATION WARNING: please use MorganGenerator\n",
            "[23:20:29] DEPRECATION WARNING: please use MorganGenerator\n",
            "[23:20:29] DEPRECATION WARNING: please use MorganGenerator\n",
            "[23:20:29] DEPRECATION WARNING: please use MorganGenerator\n",
            "[23:20:29] DEPRECATION WARNING: please use MorganGenerator\n",
            "[23:20:29] DEPRECATION WARNING: please use MorganGenerator\n",
            "[23:20:29] DEPRECATION WARNING: please use MorganGenerator\n",
            "[23:20:29] DEPRECATION WARNING: please use MorganGenerator\n",
            "[23:20:29] DEPRECATION WARNING: please use MorganGenerator\n",
            "[23:20:29] DEPRECATION WARNING: please use MorganGenerator\n",
            "[23:20:29] DEPRECATION WARNING: please use MorganGenerator\n",
            "[23:20:29] DEPRECATION WARNING: please use MorganGenerator\n",
            "[23:20:29] DEPRECATION WARNING: please use MorganGenerator\n",
            "[23:20:29] DEPRECATION WARNING: please use MorganGenerator\n",
            "[23:20:29] DEPRECATION WARNING: please use MorganGenerator\n",
            "[23:20:29] DEPRECATION WARNING: please use MorganGenerator\n",
            "[23:20:29] DEPRECATION WARNING: please use MorganGenerator\n",
            "[23:20:29] DEPRECATION WARNING: please use MorganGenerator\n",
            "[23:20:29] DEPRECATION WARNING: please use MorganGenerator\n",
            "[23:20:29] DEPRECATION WARNING: please use MorganGenerator\n",
            "[23:20:29] DEPRECATION WARNING: please use MorganGenerator\n",
            "[23:20:29] DEPRECATION WARNING: please use MorganGenerator\n",
            "[23:20:29] DEPRECATION WARNING: please use MorganGenerator\n",
            "[23:20:29] DEPRECATION WARNING: please use MorganGenerator\n",
            "[23:20:29] DEPRECATION WARNING: please use MorganGenerator\n",
            "[23:20:29] DEPRECATION WARNING: please use MorganGenerator\n",
            "[23:20:29] DEPRECATION WARNING: please use MorganGenerator\n",
            "[23:20:29] DEPRECATION WARNING: please use MorganGenerator\n",
            "[23:20:29] DEPRECATION WARNING: please use MorganGenerator\n",
            "[23:20:29] DEPRECATION WARNING: please use MorganGenerator\n",
            "[23:20:29] DEPRECATION WARNING: please use MorganGenerator\n",
            "[23:20:29] DEPRECATION WARNING: please use MorganGenerator\n",
            "[23:20:29] DEPRECATION WARNING: please use MorganGenerator\n",
            "[23:20:29] DEPRECATION WARNING: please use MorganGenerator\n",
            "[23:20:29] DEPRECATION WARNING: please use MorganGenerator\n",
            "[23:20:29] DEPRECATION WARNING: please use MorganGenerator\n",
            "[23:20:29] DEPRECATION WARNING: please use MorganGenerator\n",
            "[23:20:29] DEPRECATION WARNING: please use MorganGenerator\n",
            "[23:20:29] DEPRECATION WARNING: please use MorganGenerator\n",
            "[23:20:29] DEPRECATION WARNING: please use MorganGenerator\n",
            "[23:20:29] DEPRECATION WARNING: please use MorganGenerator\n",
            "[23:20:29] DEPRECATION WARNING: please use MorganGenerator\n",
            "[23:20:29] DEPRECATION WARNING: please use MorganGenerator\n",
            "[23:20:29] DEPRECATION WARNING: please use MorganGenerator\n",
            "[23:20:29] DEPRECATION WARNING: please use MorganGenerator\n",
            "[23:20:29] DEPRECATION WARNING: please use MorganGenerator\n",
            "[23:20:29] DEPRECATION WARNING: please use MorganGenerator\n",
            "[23:20:29] DEPRECATION WARNING: please use MorganGenerator\n",
            "[23:20:29] DEPRECATION WARNING: please use MorganGenerator\n",
            "[23:20:29] DEPRECATION WARNING: please use MorganGenerator\n",
            "[23:20:29] DEPRECATION WARNING: please use MorganGenerator\n",
            "[23:20:29] DEPRECATION WARNING: please use MorganGenerator\n",
            "[23:20:29] DEPRECATION WARNING: please use MorganGenerator\n",
            "[23:20:29] DEPRECATION WARNING: please use MorganGenerator\n",
            "[23:20:29] DEPRECATION WARNING: please use MorganGenerator\n",
            "[23:20:29] DEPRECATION WARNING: please use MorganGenerator\n",
            "[23:20:29] DEPRECATION WARNING: please use MorganGenerator\n",
            "[23:20:29] DEPRECATION WARNING: please use MorganGenerator\n",
            "[23:20:29] DEPRECATION WARNING: please use MorganGenerator\n",
            "[23:20:29] DEPRECATION WARNING: please use MorganGenerator\n",
            "[23:20:29] DEPRECATION WARNING: please use MorganGenerator\n",
            "[23:20:29] DEPRECATION WARNING: please use MorganGenerator\n",
            "[23:20:29] DEPRECATION WARNING: please use MorganGenerator\n",
            "[23:20:29] DEPRECATION WARNING: please use MorganGenerator\n",
            "[23:20:29] DEPRECATION WARNING: please use MorganGenerator\n",
            "[23:20:29] DEPRECATION WARNING: please use MorganGenerator\n",
            "[23:20:29] DEPRECATION WARNING: please use MorganGenerator\n",
            "[23:20:29] DEPRECATION WARNING: please use MorganGenerator\n",
            "[23:20:29] DEPRECATION WARNING: please use MorganGenerator\n",
            "[23:20:29] DEPRECATION WARNING: please use MorganGenerator\n",
            "[23:20:29] DEPRECATION WARNING: please use MorganGenerator\n",
            "[23:20:29] DEPRECATION WARNING: please use MorganGenerator\n",
            "[23:20:29] DEPRECATION WARNING: please use MorganGenerator\n",
            "[23:20:29] DEPRECATION WARNING: please use MorganGenerator\n",
            "[23:20:29] DEPRECATION WARNING: please use MorganGenerator\n",
            "[23:20:29] DEPRECATION WARNING: please use MorganGenerator\n",
            "[23:20:29] DEPRECATION WARNING: please use MorganGenerator\n",
            "[23:20:29] DEPRECATION WARNING: please use MorganGenerator\n",
            "[23:20:29] DEPRECATION WARNING: please use MorganGenerator\n",
            "[23:20:29] DEPRECATION WARNING: please use MorganGenerator\n",
            "[23:20:29] DEPRECATION WARNING: please use MorganGenerator\n",
            "[23:20:29] DEPRECATION WARNING: please use MorganGenerator\n",
            "[23:20:29] DEPRECATION WARNING: please use MorganGenerator\n",
            "[23:20:29] DEPRECATION WARNING: please use MorganGenerator\n",
            "[23:20:29] DEPRECATION WARNING: please use MorganGenerator\n",
            "[23:20:29] DEPRECATION WARNING: please use MorganGenerator\n",
            "[23:20:29] DEPRECATION WARNING: please use MorganGenerator\n",
            "[23:20:29] DEPRECATION WARNING: please use MorganGenerator\n",
            "[23:20:29] DEPRECATION WARNING: please use MorganGenerator\n",
            "[23:20:29] DEPRECATION WARNING: please use MorganGenerator\n",
            "[23:20:29] DEPRECATION WARNING: please use MorganGenerator\n",
            "[23:20:29] DEPRECATION WARNING: please use MorganGenerator\n",
            "[23:20:29] DEPRECATION WARNING: please use MorganGenerator\n",
            "[23:20:29] DEPRECATION WARNING: please use MorganGenerator\n",
            "[23:20:29] DEPRECATION WARNING: please use MorganGenerator\n",
            "[23:20:29] DEPRECATION WARNING: please use MorganGenerator\n",
            "[23:20:29] DEPRECATION WARNING: please use MorganGenerator\n",
            "[23:20:29] DEPRECATION WARNING: please use MorganGenerator\n",
            "[23:20:29] DEPRECATION WARNING: please use MorganGenerator\n",
            "[23:20:29] DEPRECATION WARNING: please use MorganGenerator\n",
            "[23:20:29] DEPRECATION WARNING: please use MorganGenerator\n",
            "[23:20:29] DEPRECATION WARNING: please use MorganGenerator\n",
            "[23:20:29] DEPRECATION WARNING: please use MorganGenerator\n",
            "[23:20:29] DEPRECATION WARNING: please use MorganGenerator\n",
            "[23:20:29] DEPRECATION WARNING: please use MorganGenerator\n",
            "[23:20:29] DEPRECATION WARNING: please use MorganGenerator\n",
            "[23:20:29] DEPRECATION WARNING: please use MorganGenerator\n",
            "[23:20:29] DEPRECATION WARNING: please use MorganGenerator\n",
            "[23:20:29] DEPRECATION WARNING: please use MorganGenerator\n",
            "[23:20:29] DEPRECATION WARNING: please use MorganGenerator\n",
            "[23:20:29] DEPRECATION WARNING: please use MorganGenerator\n",
            "[23:20:29] DEPRECATION WARNING: please use MorganGenerator\n",
            "[23:20:29] DEPRECATION WARNING: please use MorganGenerator\n",
            "[23:20:29] DEPRECATION WARNING: please use MorganGenerator\n",
            "[23:20:29] DEPRECATION WARNING: please use MorganGenerator\n",
            "[23:20:29] DEPRECATION WARNING: please use MorganGenerator\n",
            "[23:20:29] DEPRECATION WARNING: please use MorganGenerator\n",
            "[23:20:29] DEPRECATION WARNING: please use MorganGenerator\n",
            "[23:20:29] DEPRECATION WARNING: please use MorganGenerator\n",
            "[23:20:29] DEPRECATION WARNING: please use MorganGenerator\n",
            "[23:20:29] DEPRECATION WARNING: please use MorganGenerator\n",
            "[23:20:29] DEPRECATION WARNING: please use MorganGenerator\n",
            "[23:20:29] DEPRECATION WARNING: please use MorganGenerator\n",
            "[23:20:29] DEPRECATION WARNING: please use MorganGenerator\n",
            "[23:20:29] DEPRECATION WARNING: please use MorganGenerator\n",
            "[23:20:29] DEPRECATION WARNING: please use MorganGenerator\n",
            "[23:20:29] DEPRECATION WARNING: please use MorganGenerator\n",
            "[23:20:29] DEPRECATION WARNING: please use MorganGenerator\n",
            "[23:20:29] DEPRECATION WARNING: please use MorganGenerator\n",
            "[23:20:29] DEPRECATION WARNING: please use MorganGenerator\n",
            "[23:20:29] DEPRECATION WARNING: please use MorganGenerator\n",
            "[23:20:29] DEPRECATION WARNING: please use MorganGenerator\n",
            "[23:20:29] DEPRECATION WARNING: please use MorganGenerator\n",
            "[23:20:29] DEPRECATION WARNING: please use MorganGenerator\n",
            "[23:20:29] DEPRECATION WARNING: please use MorganGenerator\n",
            "[23:20:29] DEPRECATION WARNING: please use MorganGenerator\n",
            "[23:20:29] DEPRECATION WARNING: please use MorganGenerator\n",
            "[23:20:29] DEPRECATION WARNING: please use MorganGenerator\n",
            "[23:20:29] DEPRECATION WARNING: please use MorganGenerator\n",
            "[23:20:29] DEPRECATION WARNING: please use MorganGenerator\n",
            "[23:20:29] DEPRECATION WARNING: please use MorganGenerator\n",
            "[23:20:29] DEPRECATION WARNING: please use MorganGenerator\n",
            "[23:20:29] DEPRECATION WARNING: please use MorganGenerator\n",
            "[23:20:29] DEPRECATION WARNING: please use MorganGenerator\n",
            "[23:20:29] DEPRECATION WARNING: please use MorganGenerator\n",
            "[23:20:29] DEPRECATION WARNING: please use MorganGenerator\n",
            "[23:20:29] DEPRECATION WARNING: please use MorganGenerator\n",
            "[23:20:29] DEPRECATION WARNING: please use MorganGenerator\n",
            "[23:20:29] DEPRECATION WARNING: please use MorganGenerator\n",
            "[23:20:29] DEPRECATION WARNING: please use MorganGenerator\n",
            "[23:20:29] DEPRECATION WARNING: please use MorganGenerator\n",
            "[23:20:29] DEPRECATION WARNING: please use MorganGenerator\n",
            "[23:20:29] DEPRECATION WARNING: please use MorganGenerator\n",
            "[23:20:29] DEPRECATION WARNING: please use MorganGenerator\n",
            "[23:20:29] DEPRECATION WARNING: please use MorganGenerator\n",
            "[23:20:29] DEPRECATION WARNING: please use MorganGenerator\n",
            "[23:20:29] DEPRECATION WARNING: please use MorganGenerator\n",
            "[23:20:29] DEPRECATION WARNING: please use MorganGenerator\n",
            "[23:20:29] DEPRECATION WARNING: please use MorganGenerator\n",
            "[23:20:29] DEPRECATION WARNING: please use MorganGenerator\n",
            "[23:20:29] DEPRECATION WARNING: please use MorganGenerator\n",
            "[23:20:29] DEPRECATION WARNING: please use MorganGenerator\n",
            "[23:20:29] DEPRECATION WARNING: please use MorganGenerator\n",
            "[23:20:29] DEPRECATION WARNING: please use MorganGenerator\n",
            "[23:20:29] DEPRECATION WARNING: please use MorganGenerator\n",
            "[23:20:29] DEPRECATION WARNING: please use MorganGenerator\n",
            "[23:20:29] DEPRECATION WARNING: please use MorganGenerator\n",
            "[23:20:29] DEPRECATION WARNING: please use MorganGenerator\n",
            "[23:20:29] DEPRECATION WARNING: please use MorganGenerator\n",
            "[23:20:29] DEPRECATION WARNING: please use MorganGenerator\n",
            "[23:20:29] DEPRECATION WARNING: please use MorganGenerator\n",
            "[23:20:29] DEPRECATION WARNING: please use MorganGenerator\n",
            "[23:20:29] DEPRECATION WARNING: please use MorganGenerator\n",
            "[23:20:29] DEPRECATION WARNING: please use MorganGenerator\n",
            "[23:20:29] DEPRECATION WARNING: please use MorganGenerator\n",
            "[23:20:29] DEPRECATION WARNING: please use MorganGenerator\n",
            "[23:20:29] DEPRECATION WARNING: please use MorganGenerator\n",
            "[23:20:29] DEPRECATION WARNING: please use MorganGenerator\n",
            "[23:20:29] DEPRECATION WARNING: please use MorganGenerator\n",
            "[23:20:29] DEPRECATION WARNING: please use MorganGenerator\n",
            "[23:20:29] DEPRECATION WARNING: please use MorganGenerator\n",
            "[23:20:29] DEPRECATION WARNING: please use MorganGenerator\n",
            "[23:20:29] DEPRECATION WARNING: please use MorganGenerator\n",
            "[23:20:29] DEPRECATION WARNING: please use MorganGenerator\n",
            "[23:20:29] DEPRECATION WARNING: please use MorganGenerator\n",
            "[23:20:29] DEPRECATION WARNING: please use MorganGenerator\n",
            "[23:20:29] DEPRECATION WARNING: please use MorganGenerator\n",
            "[23:20:29] DEPRECATION WARNING: please use MorganGenerator\n",
            "[23:20:29] DEPRECATION WARNING: please use MorganGenerator\n",
            "[23:20:29] DEPRECATION WARNING: please use MorganGenerator\n",
            "[23:20:29] DEPRECATION WARNING: please use MorganGenerator\n",
            "[23:20:29] DEPRECATION WARNING: please use MorganGenerator\n",
            "[23:20:29] DEPRECATION WARNING: please use MorganGenerator\n",
            "[23:20:29] DEPRECATION WARNING: please use MorganGenerator\n",
            "[23:20:29] DEPRECATION WARNING: please use MorganGenerator\n",
            "[23:20:29] DEPRECATION WARNING: please use MorganGenerator\n",
            "[23:20:29] DEPRECATION WARNING: please use MorganGenerator\n",
            "[23:20:29] DEPRECATION WARNING: please use MorganGenerator\n",
            "[23:20:29] DEPRECATION WARNING: please use MorganGenerator\n",
            "[23:20:29] DEPRECATION WARNING: please use MorganGenerator\n",
            "[23:20:29] DEPRECATION WARNING: please use MorganGenerator\n",
            "[23:20:29] DEPRECATION WARNING: please use MorganGenerator\n",
            "[23:20:29] DEPRECATION WARNING: please use MorganGenerator\n",
            "[23:20:29] DEPRECATION WARNING: please use MorganGenerator\n",
            "[23:20:29] DEPRECATION WARNING: please use MorganGenerator\n",
            "[23:20:29] DEPRECATION WARNING: please use MorganGenerator\n",
            "[23:20:29] DEPRECATION WARNING: please use MorganGenerator\n",
            "[23:20:29] DEPRECATION WARNING: please use MorganGenerator\n",
            "[23:20:29] DEPRECATION WARNING: please use MorganGenerator\n",
            "[23:20:29] DEPRECATION WARNING: please use MorganGenerator\n",
            "[23:20:29] DEPRECATION WARNING: please use MorganGenerator\n",
            "[23:20:29] DEPRECATION WARNING: please use MorganGenerator\n",
            "[23:20:29] DEPRECATION WARNING: please use MorganGenerator\n",
            "[23:20:29] DEPRECATION WARNING: please use MorganGenerator\n",
            "[23:20:29] DEPRECATION WARNING: please use MorganGenerator\n",
            "[23:20:29] DEPRECATION WARNING: please use MorganGenerator\n",
            "[23:20:29] DEPRECATION WARNING: please use MorganGenerator\n",
            "[23:20:29] DEPRECATION WARNING: please use MorganGenerator\n",
            "[23:20:29] DEPRECATION WARNING: please use MorganGenerator\n",
            "[23:20:29] DEPRECATION WARNING: please use MorganGenerator\n",
            "[23:20:29] DEPRECATION WARNING: please use MorganGenerator\n",
            "[23:20:29] DEPRECATION WARNING: please use MorganGenerator\n",
            "[23:20:29] DEPRECATION WARNING: please use MorganGenerator\n",
            "[23:20:29] DEPRECATION WARNING: please use MorganGenerator\n",
            "[23:20:29] DEPRECATION WARNING: please use MorganGenerator\n",
            "[23:20:29] DEPRECATION WARNING: please use MorganGenerator\n",
            "[23:20:29] DEPRECATION WARNING: please use MorganGenerator\n",
            "[23:20:29] DEPRECATION WARNING: please use MorganGenerator\n",
            "[23:20:29] DEPRECATION WARNING: please use MorganGenerator\n",
            "[23:20:29] DEPRECATION WARNING: please use MorganGenerator\n",
            "[23:20:29] DEPRECATION WARNING: please use MorganGenerator\n",
            "[23:20:29] DEPRECATION WARNING: please use MorganGenerator\n",
            "[23:20:29] DEPRECATION WARNING: please use MorganGenerator\n",
            "[23:20:29] DEPRECATION WARNING: please use MorganGenerator\n",
            "[23:20:29] DEPRECATION WARNING: please use MorganGenerator\n",
            "[23:20:29] DEPRECATION WARNING: please use MorganGenerator\n",
            "[23:20:29] DEPRECATION WARNING: please use MorganGenerator\n",
            "[23:20:29] DEPRECATION WARNING: please use MorganGenerator\n",
            "[23:20:29] DEPRECATION WARNING: please use MorganGenerator\n",
            "[23:20:29] DEPRECATION WARNING: please use MorganGenerator\n",
            "[23:20:29] DEPRECATION WARNING: please use MorganGenerator\n",
            "[23:20:29] DEPRECATION WARNING: please use MorganGenerator\n",
            "[23:20:29] DEPRECATION WARNING: please use MorganGenerator\n",
            "[23:20:29] DEPRECATION WARNING: please use MorganGenerator\n",
            "[23:20:29] DEPRECATION WARNING: please use MorganGenerator\n",
            "[23:20:29] DEPRECATION WARNING: please use MorganGenerator\n",
            "[23:20:29] DEPRECATION WARNING: please use MorganGenerator\n",
            "[23:20:29] DEPRECATION WARNING: please use MorganGenerator\n",
            "[23:20:29] DEPRECATION WARNING: please use MorganGenerator\n",
            "[23:20:29] DEPRECATION WARNING: please use MorganGenerator\n",
            "[23:20:29] DEPRECATION WARNING: please use MorganGenerator\n",
            "[23:20:29] DEPRECATION WARNING: please use MorganGenerator\n",
            "[23:20:29] DEPRECATION WARNING: please use MorganGenerator\n",
            "[23:20:29] DEPRECATION WARNING: please use MorganGenerator\n",
            "[23:20:29] DEPRECATION WARNING: please use MorganGenerator\n",
            "[23:20:29] DEPRECATION WARNING: please use MorganGenerator\n",
            "[23:20:29] DEPRECATION WARNING: please use MorganGenerator\n",
            "[23:20:29] DEPRECATION WARNING: please use MorganGenerator\n",
            "[23:20:29] DEPRECATION WARNING: please use MorganGenerator\n",
            "[23:20:29] DEPRECATION WARNING: please use MorganGenerator\n",
            "[23:20:29] DEPRECATION WARNING: please use MorganGenerator\n",
            "[23:20:29] DEPRECATION WARNING: please use MorganGenerator\n",
            "[23:20:29] DEPRECATION WARNING: please use MorganGenerator\n",
            "[23:20:29] DEPRECATION WARNING: please use MorganGenerator\n",
            "[23:20:29] DEPRECATION WARNING: please use MorganGenerator\n",
            "[23:20:29] DEPRECATION WARNING: please use MorganGenerator\n",
            "[23:20:29] DEPRECATION WARNING: please use MorganGenerator\n",
            "[23:20:29] DEPRECATION WARNING: please use MorganGenerator\n",
            "[23:20:29] DEPRECATION WARNING: please use MorganGenerator\n",
            "[23:20:29] DEPRECATION WARNING: please use MorganGenerator\n",
            "[23:20:29] DEPRECATION WARNING: please use MorganGenerator\n",
            "[23:20:29] DEPRECATION WARNING: please use MorganGenerator\n",
            "[23:20:29] DEPRECATION WARNING: please use MorganGenerator\n",
            "[23:20:29] DEPRECATION WARNING: please use MorganGenerator\n",
            "[23:20:29] DEPRECATION WARNING: please use MorganGenerator\n",
            "[23:20:29] DEPRECATION WARNING: please use MorganGenerator\n",
            "[23:20:29] DEPRECATION WARNING: please use MorganGenerator\n",
            "[23:20:29] DEPRECATION WARNING: please use MorganGenerator\n",
            "[23:20:29] DEPRECATION WARNING: please use MorganGenerator\n",
            "[23:20:29] DEPRECATION WARNING: please use MorganGenerator\n",
            "[23:20:29] DEPRECATION WARNING: please use MorganGenerator\n",
            "[23:20:29] DEPRECATION WARNING: please use MorganGenerator\n",
            "[23:20:29] DEPRECATION WARNING: please use MorganGenerator\n",
            "[23:20:29] DEPRECATION WARNING: please use MorganGenerator\n",
            "[23:20:29] DEPRECATION WARNING: please use MorganGenerator\n",
            "[23:20:29] DEPRECATION WARNING: please use MorganGenerator\n",
            "[23:20:29] DEPRECATION WARNING: please use MorganGenerator\n",
            "[23:20:29] DEPRECATION WARNING: please use MorganGenerator\n",
            "[23:20:29] DEPRECATION WARNING: please use MorganGenerator\n",
            "[23:20:29] DEPRECATION WARNING: please use MorganGenerator\n",
            "[23:20:29] DEPRECATION WARNING: please use MorganGenerator\n",
            "[23:20:29] DEPRECATION WARNING: please use MorganGenerator\n",
            "[23:20:29] DEPRECATION WARNING: please use MorganGenerator\n",
            "[23:20:29] DEPRECATION WARNING: please use MorganGenerator\n",
            "[23:20:29] DEPRECATION WARNING: please use MorganGenerator\n",
            "[23:20:29] DEPRECATION WARNING: please use MorganGenerator\n",
            "[23:20:29] DEPRECATION WARNING: please use MorganGenerator\n",
            "[23:20:29] DEPRECATION WARNING: please use MorganGenerator\n",
            "[23:20:29] DEPRECATION WARNING: please use MorganGenerator\n",
            "[23:20:29] DEPRECATION WARNING: please use MorganGenerator\n",
            "[23:20:29] DEPRECATION WARNING: please use MorganGenerator\n",
            "[23:20:29] DEPRECATION WARNING: please use MorganGenerator\n",
            "[23:20:29] DEPRECATION WARNING: please use MorganGenerator\n",
            "[23:20:29] DEPRECATION WARNING: please use MorganGenerator\n",
            "[23:20:29] DEPRECATION WARNING: please use MorganGenerator\n",
            "[23:20:29] DEPRECATION WARNING: please use MorganGenerator\n",
            "[23:20:29] DEPRECATION WARNING: please use MorganGenerator\n",
            "[23:20:29] DEPRECATION WARNING: please use MorganGenerator\n",
            "[23:20:29] DEPRECATION WARNING: please use MorganGenerator\n",
            "[23:20:29] DEPRECATION WARNING: please use MorganGenerator\n",
            "[23:20:29] DEPRECATION WARNING: please use MorganGenerator\n",
            "[23:20:29] DEPRECATION WARNING: please use MorganGenerator\n",
            "[23:20:29] DEPRECATION WARNING: please use MorganGenerator\n",
            "[23:20:29] DEPRECATION WARNING: please use MorganGenerator\n",
            "[23:20:29] DEPRECATION WARNING: please use MorganGenerator\n",
            "[23:20:29] DEPRECATION WARNING: please use MorganGenerator\n",
            "[23:20:29] DEPRECATION WARNING: please use MorganGenerator\n",
            "[23:20:29] DEPRECATION WARNING: please use MorganGenerator\n",
            "[23:20:29] DEPRECATION WARNING: please use MorganGenerator\n",
            "[23:20:29] DEPRECATION WARNING: please use MorganGenerator\n",
            "[23:20:29] DEPRECATION WARNING: please use MorganGenerator\n",
            "[23:20:29] DEPRECATION WARNING: please use MorganGenerator\n",
            "[23:20:29] DEPRECATION WARNING: please use MorganGenerator\n",
            "[23:20:29] DEPRECATION WARNING: please use MorganGenerator\n",
            "[23:20:29] DEPRECATION WARNING: please use MorganGenerator\n",
            "[23:20:29] DEPRECATION WARNING: please use MorganGenerator\n",
            "[23:20:29] DEPRECATION WARNING: please use MorganGenerator\n",
            "[23:20:29] DEPRECATION WARNING: please use MorganGenerator\n",
            "[23:20:29] DEPRECATION WARNING: please use MorganGenerator\n",
            "[23:20:29] DEPRECATION WARNING: please use MorganGenerator\n",
            "[23:20:29] DEPRECATION WARNING: please use MorganGenerator\n",
            "[23:20:29] DEPRECATION WARNING: please use MorganGenerator\n",
            "[23:20:29] DEPRECATION WARNING: please use MorganGenerator\n",
            "[23:20:29] DEPRECATION WARNING: please use MorganGenerator\n",
            "[23:20:29] DEPRECATION WARNING: please use MorganGenerator\n",
            "[23:20:29] DEPRECATION WARNING: please use MorganGenerator\n",
            "[23:20:29] DEPRECATION WARNING: please use MorganGenerator\n",
            "[23:20:29] DEPRECATION WARNING: please use MorganGenerator\n",
            "[23:20:29] DEPRECATION WARNING: please use MorganGenerator\n",
            "[23:20:29] DEPRECATION WARNING: please use MorganGenerator\n",
            "[23:20:29] DEPRECATION WARNING: please use MorganGenerator\n",
            "[23:20:29] DEPRECATION WARNING: please use MorganGenerator\n",
            "[23:20:29] DEPRECATION WARNING: please use MorganGenerator\n",
            "[23:20:29] DEPRECATION WARNING: please use MorganGenerator\n",
            "[23:20:29] DEPRECATION WARNING: please use MorganGenerator\n",
            "[23:20:29] DEPRECATION WARNING: please use MorganGenerator\n",
            "[23:20:29] DEPRECATION WARNING: please use MorganGenerator\n",
            "[23:20:29] DEPRECATION WARNING: please use MorganGenerator\n",
            "[23:20:29] DEPRECATION WARNING: please use MorganGenerator\n",
            "[23:20:29] DEPRECATION WARNING: please use MorganGenerator\n",
            "[23:20:29] DEPRECATION WARNING: please use MorganGenerator\n",
            "[23:20:29] DEPRECATION WARNING: please use MorganGenerator\n",
            "[23:20:29] DEPRECATION WARNING: please use MorganGenerator\n",
            "[23:20:29] DEPRECATION WARNING: please use MorganGenerator\n",
            "[23:20:29] DEPRECATION WARNING: please use MorganGenerator\n",
            "[23:20:29] DEPRECATION WARNING: please use MorganGenerator\n",
            "[23:20:29] DEPRECATION WARNING: please use MorganGenerator\n",
            "[23:20:29] DEPRECATION WARNING: please use MorganGenerator\n",
            "[23:20:29] DEPRECATION WARNING: please use MorganGenerator\n",
            "[23:20:29] DEPRECATION WARNING: please use MorganGenerator\n",
            "[23:20:29] DEPRECATION WARNING: please use MorganGenerator\n",
            "[23:20:29] DEPRECATION WARNING: please use MorganGenerator\n",
            "[23:20:29] DEPRECATION WARNING: please use MorganGenerator\n",
            "[23:20:29] DEPRECATION WARNING: please use MorganGenerator\n",
            "[23:20:29] DEPRECATION WARNING: please use MorganGenerator\n",
            "[23:20:29] DEPRECATION WARNING: please use MorganGenerator\n",
            "[23:20:29] DEPRECATION WARNING: please use MorganGenerator\n",
            "[23:20:29] DEPRECATION WARNING: please use MorganGenerator\n",
            "[23:20:29] DEPRECATION WARNING: please use MorganGenerator\n",
            "[23:20:29] DEPRECATION WARNING: please use MorganGenerator\n",
            "[23:20:29] DEPRECATION WARNING: please use MorganGenerator\n",
            "[23:20:29] DEPRECATION WARNING: please use MorganGenerator\n",
            "[23:20:29] DEPRECATION WARNING: please use MorganGenerator\n",
            "[23:20:29] DEPRECATION WARNING: please use MorganGenerator\n",
            "[23:20:29] DEPRECATION WARNING: please use MorganGenerator\n",
            "[23:20:29] DEPRECATION WARNING: please use MorganGenerator\n",
            "[23:20:29] DEPRECATION WARNING: please use MorganGenerator\n",
            "[23:20:29] DEPRECATION WARNING: please use MorganGenerator\n",
            "[23:20:29] DEPRECATION WARNING: please use MorganGenerator\n",
            "[23:20:29] DEPRECATION WARNING: please use MorganGenerator\n",
            "[23:20:29] DEPRECATION WARNING: please use MorganGenerator\n",
            "[23:20:29] DEPRECATION WARNING: please use MorganGenerator\n",
            "[23:20:29] DEPRECATION WARNING: please use MorganGenerator\n",
            "[23:20:29] DEPRECATION WARNING: please use MorganGenerator\n",
            "[23:20:29] DEPRECATION WARNING: please use MorganGenerator\n",
            "[23:20:29] DEPRECATION WARNING: please use MorganGenerator\n",
            "[23:20:29] DEPRECATION WARNING: please use MorganGenerator\n",
            "[23:20:29] DEPRECATION WARNING: please use MorganGenerator\n",
            "[23:20:29] DEPRECATION WARNING: please use MorganGenerator\n",
            "[23:20:29] DEPRECATION WARNING: please use MorganGenerator\n",
            "[23:20:29] DEPRECATION WARNING: please use MorganGenerator\n",
            "[23:20:29] DEPRECATION WARNING: please use MorganGenerator\n",
            "[23:20:29] DEPRECATION WARNING: please use MorganGenerator\n",
            "[23:20:29] DEPRECATION WARNING: please use MorganGenerator\n",
            "[23:20:29] DEPRECATION WARNING: please use MorganGenerator\n",
            "[23:20:29] DEPRECATION WARNING: please use MorganGenerator\n",
            "[23:20:29] DEPRECATION WARNING: please use MorganGenerator\n",
            "[23:20:29] DEPRECATION WARNING: please use MorganGenerator\n",
            "[23:20:29] DEPRECATION WARNING: please use MorganGenerator\n",
            "[23:20:29] DEPRECATION WARNING: please use MorganGenerator\n",
            "[23:20:29] DEPRECATION WARNING: please use MorganGenerator\n",
            "[23:20:29] DEPRECATION WARNING: please use MorganGenerator\n",
            "[23:20:29] DEPRECATION WARNING: please use MorganGenerator\n",
            "[23:20:29] DEPRECATION WARNING: please use MorganGenerator\n",
            "[23:20:29] DEPRECATION WARNING: please use MorganGenerator\n",
            "[23:20:29] DEPRECATION WARNING: please use MorganGenerator\n",
            "[23:20:29] DEPRECATION WARNING: please use MorganGenerator\n",
            "[23:20:29] DEPRECATION WARNING: please use MorganGenerator\n",
            "[23:20:29] DEPRECATION WARNING: please use MorganGenerator\n",
            "[23:20:29] DEPRECATION WARNING: please use MorganGenerator\n",
            "[23:20:29] DEPRECATION WARNING: please use MorganGenerator\n",
            "[23:20:29] DEPRECATION WARNING: please use MorganGenerator\n",
            "[23:20:29] DEPRECATION WARNING: please use MorganGenerator\n",
            "[23:20:29] DEPRECATION WARNING: please use MorganGenerator\n",
            "[23:20:29] DEPRECATION WARNING: please use MorganGenerator\n",
            "[23:20:29] DEPRECATION WARNING: please use MorganGenerator\n",
            "[23:20:29] DEPRECATION WARNING: please use MorganGenerator\n",
            "[23:20:29] DEPRECATION WARNING: please use MorganGenerator\n",
            "[23:20:29] DEPRECATION WARNING: please use MorganGenerator\n",
            "[23:20:29] DEPRECATION WARNING: please use MorganGenerator\n",
            "[23:20:29] DEPRECATION WARNING: please use MorganGenerator\n",
            "[23:20:29] DEPRECATION WARNING: please use MorganGenerator\n",
            "[23:20:29] DEPRECATION WARNING: please use MorganGenerator\n",
            "[23:20:29] DEPRECATION WARNING: please use MorganGenerator\n",
            "[23:20:29] DEPRECATION WARNING: please use MorganGenerator\n",
            "[23:20:29] DEPRECATION WARNING: please use MorganGenerator\n",
            "[23:20:29] DEPRECATION WARNING: please use MorganGenerator\n",
            "[23:20:29] DEPRECATION WARNING: please use MorganGenerator\n",
            "[23:20:29] DEPRECATION WARNING: please use MorganGenerator\n",
            "[23:20:29] DEPRECATION WARNING: please use MorganGenerator\n",
            "[23:20:29] DEPRECATION WARNING: please use MorganGenerator\n",
            "[23:20:29] DEPRECATION WARNING: please use MorganGenerator\n",
            "[23:20:29] DEPRECATION WARNING: please use MorganGenerator\n",
            "[23:20:29] DEPRECATION WARNING: please use MorganGenerator\n",
            "[23:20:29] DEPRECATION WARNING: please use MorganGenerator\n",
            "[23:20:29] DEPRECATION WARNING: please use MorganGenerator\n",
            "[23:20:29] DEPRECATION WARNING: please use MorganGenerator\n",
            "[23:20:29] DEPRECATION WARNING: please use MorganGenerator\n",
            "[23:20:29] DEPRECATION WARNING: please use MorganGenerator\n",
            "[23:20:29] DEPRECATION WARNING: please use MorganGenerator\n",
            "[23:20:29] DEPRECATION WARNING: please use MorganGenerator\n",
            "[23:20:29] DEPRECATION WARNING: please use MorganGenerator\n",
            "[23:20:29] DEPRECATION WARNING: please use MorganGenerator\n",
            "[23:20:29] DEPRECATION WARNING: please use MorganGenerator\n",
            "[23:20:29] DEPRECATION WARNING: please use MorganGenerator\n",
            "[23:20:30] DEPRECATION WARNING: please use MorganGenerator\n",
            "[23:20:30] DEPRECATION WARNING: please use MorganGenerator\n",
            "[23:20:30] DEPRECATION WARNING: please use MorganGenerator\n",
            "[23:20:30] DEPRECATION WARNING: please use MorganGenerator\n",
            "[23:20:30] DEPRECATION WARNING: please use MorganGenerator\n",
            "[23:20:30] DEPRECATION WARNING: please use MorganGenerator\n",
            "[23:20:30] DEPRECATION WARNING: please use MorganGenerator\n",
            "[23:20:30] DEPRECATION WARNING: please use MorganGenerator\n",
            "[23:20:30] DEPRECATION WARNING: please use MorganGenerator\n",
            "[23:20:30] DEPRECATION WARNING: please use MorganGenerator\n",
            "[23:20:30] DEPRECATION WARNING: please use MorganGenerator\n",
            "[23:20:30] DEPRECATION WARNING: please use MorganGenerator\n",
            "[23:20:30] DEPRECATION WARNING: please use MorganGenerator\n",
            "[23:20:30] DEPRECATION WARNING: please use MorganGenerator\n",
            "[23:20:30] DEPRECATION WARNING: please use MorganGenerator\n",
            "[23:20:30] DEPRECATION WARNING: please use MorganGenerator\n",
            "[23:20:30] DEPRECATION WARNING: please use MorganGenerator\n",
            "[23:20:30] DEPRECATION WARNING: please use MorganGenerator\n",
            "[23:20:30] DEPRECATION WARNING: please use MorganGenerator\n",
            "[23:20:30] DEPRECATION WARNING: please use MorganGenerator\n",
            "[23:20:30] DEPRECATION WARNING: please use MorganGenerator\n",
            "[23:20:30] DEPRECATION WARNING: please use MorganGenerator\n",
            "[23:20:30] DEPRECATION WARNING: please use MorganGenerator\n",
            "[23:20:30] DEPRECATION WARNING: please use MorganGenerator\n",
            "[23:20:30] DEPRECATION WARNING: please use MorganGenerator\n",
            "[23:20:30] DEPRECATION WARNING: please use MorganGenerator\n",
            "[23:20:30] DEPRECATION WARNING: please use MorganGenerator\n",
            "[23:20:30] DEPRECATION WARNING: please use MorganGenerator\n",
            "[23:20:30] DEPRECATION WARNING: please use MorganGenerator\n",
            "[23:20:30] DEPRECATION WARNING: please use MorganGenerator\n",
            "[23:20:30] DEPRECATION WARNING: please use MorganGenerator\n",
            "[23:20:30] DEPRECATION WARNING: please use MorganGenerator\n",
            "[23:20:30] DEPRECATION WARNING: please use MorganGenerator\n",
            "[23:20:30] DEPRECATION WARNING: please use MorganGenerator\n",
            "[23:20:30] DEPRECATION WARNING: please use MorganGenerator\n",
            "[23:20:30] DEPRECATION WARNING: please use MorganGenerator\n",
            "[23:20:30] DEPRECATION WARNING: please use MorganGenerator\n",
            "[23:20:30] DEPRECATION WARNING: please use MorganGenerator\n",
            "[23:20:30] DEPRECATION WARNING: please use MorganGenerator\n",
            "[23:20:30] DEPRECATION WARNING: please use MorganGenerator\n",
            "[23:20:30] DEPRECATION WARNING: please use MorganGenerator\n",
            "[23:20:30] DEPRECATION WARNING: please use MorganGenerator\n",
            "[23:20:30] DEPRECATION WARNING: please use MorganGenerator\n",
            "[23:20:30] DEPRECATION WARNING: please use MorganGenerator\n",
            "[23:20:30] DEPRECATION WARNING: please use MorganGenerator\n",
            "[23:20:30] DEPRECATION WARNING: please use MorganGenerator\n",
            "[23:20:30] DEPRECATION WARNING: please use MorganGenerator\n",
            "[23:20:30] DEPRECATION WARNING: please use MorganGenerator\n",
            "[23:20:30] DEPRECATION WARNING: please use MorganGenerator\n",
            "[23:20:30] DEPRECATION WARNING: please use MorganGenerator\n",
            "[23:20:30] DEPRECATION WARNING: please use MorganGenerator\n",
            "[23:20:30] DEPRECATION WARNING: please use MorganGenerator\n",
            "[23:20:30] DEPRECATION WARNING: please use MorganGenerator\n",
            "[23:20:30] DEPRECATION WARNING: please use MorganGenerator\n",
            "[23:20:30] DEPRECATION WARNING: please use MorganGenerator\n",
            "[23:20:30] DEPRECATION WARNING: please use MorganGenerator\n",
            "[23:20:30] DEPRECATION WARNING: please use MorganGenerator\n",
            "[23:20:30] DEPRECATION WARNING: please use MorganGenerator\n",
            "[23:20:30] DEPRECATION WARNING: please use MorganGenerator\n",
            "[23:20:30] DEPRECATION WARNING: please use MorganGenerator\n",
            "[23:20:30] DEPRECATION WARNING: please use MorganGenerator\n",
            "[23:20:30] DEPRECATION WARNING: please use MorganGenerator\n",
            "[23:20:30] DEPRECATION WARNING: please use MorganGenerator\n",
            "[23:20:30] DEPRECATION WARNING: please use MorganGenerator\n",
            "[23:20:30] DEPRECATION WARNING: please use MorganGenerator\n",
            "[23:20:30] DEPRECATION WARNING: please use MorganGenerator\n",
            "[23:20:30] DEPRECATION WARNING: please use MorganGenerator\n",
            "[23:20:30] DEPRECATION WARNING: please use MorganGenerator\n",
            "[23:20:30] DEPRECATION WARNING: please use MorganGenerator\n",
            "[23:20:30] DEPRECATION WARNING: please use MorganGenerator\n",
            "[23:20:30] DEPRECATION WARNING: please use MorganGenerator\n",
            "[23:20:30] DEPRECATION WARNING: please use MorganGenerator\n",
            "[23:20:30] DEPRECATION WARNING: please use MorganGenerator\n",
            "[23:20:30] DEPRECATION WARNING: please use MorganGenerator\n",
            "[23:20:30] DEPRECATION WARNING: please use MorganGenerator\n",
            "[23:20:30] DEPRECATION WARNING: please use MorganGenerator\n",
            "[23:20:30] DEPRECATION WARNING: please use MorganGenerator\n",
            "[23:20:30] DEPRECATION WARNING: please use MorganGenerator\n",
            "[23:20:30] DEPRECATION WARNING: please use MorganGenerator\n",
            "[23:20:30] DEPRECATION WARNING: please use MorganGenerator\n",
            "[23:20:30] DEPRECATION WARNING: please use MorganGenerator\n",
            "[23:20:30] DEPRECATION WARNING: please use MorganGenerator\n",
            "[23:20:30] DEPRECATION WARNING: please use MorganGenerator\n",
            "[23:20:30] DEPRECATION WARNING: please use MorganGenerator\n",
            "[23:20:30] DEPRECATION WARNING: please use MorganGenerator\n",
            "[23:20:30] DEPRECATION WARNING: please use MorganGenerator\n",
            "[23:20:30] DEPRECATION WARNING: please use MorganGenerator\n",
            "[23:20:30] DEPRECATION WARNING: please use MorganGenerator\n",
            "[23:20:30] DEPRECATION WARNING: please use MorganGenerator\n",
            "[23:20:30] DEPRECATION WARNING: please use MorganGenerator\n",
            "[23:20:30] DEPRECATION WARNING: please use MorganGenerator\n",
            "[23:20:30] DEPRECATION WARNING: please use MorganGenerator\n",
            "[23:20:30] DEPRECATION WARNING: please use MorganGenerator\n",
            "[23:20:30] DEPRECATION WARNING: please use MorganGenerator\n",
            "[23:20:30] DEPRECATION WARNING: please use MorganGenerator\n",
            "[23:20:30] DEPRECATION WARNING: please use MorganGenerator\n",
            "[23:20:30] DEPRECATION WARNING: please use MorganGenerator\n",
            "[23:20:30] DEPRECATION WARNING: please use MorganGenerator\n",
            "[23:20:30] DEPRECATION WARNING: please use MorganGenerator\n",
            "[23:20:30] DEPRECATION WARNING: please use MorganGenerator\n",
            "[23:20:30] DEPRECATION WARNING: please use MorganGenerator\n",
            "[23:20:30] DEPRECATION WARNING: please use MorganGenerator\n",
            "[23:20:30] DEPRECATION WARNING: please use MorganGenerator\n",
            "[23:20:30] DEPRECATION WARNING: please use MorganGenerator\n",
            "[23:20:30] DEPRECATION WARNING: please use MorganGenerator\n",
            "[23:20:30] DEPRECATION WARNING: please use MorganGenerator\n",
            "[23:20:30] DEPRECATION WARNING: please use MorganGenerator\n",
            "[23:20:30] DEPRECATION WARNING: please use MorganGenerator\n",
            "[23:20:30] DEPRECATION WARNING: please use MorganGenerator\n",
            "[23:20:30] DEPRECATION WARNING: please use MorganGenerator\n",
            "[23:20:30] DEPRECATION WARNING: please use MorganGenerator\n",
            "[23:20:30] DEPRECATION WARNING: please use MorganGenerator\n",
            "[23:20:30] DEPRECATION WARNING: please use MorganGenerator\n",
            "[23:20:30] DEPRECATION WARNING: please use MorganGenerator\n",
            "[23:20:30] DEPRECATION WARNING: please use MorganGenerator\n",
            "[23:20:30] DEPRECATION WARNING: please use MorganGenerator\n",
            "[23:20:30] DEPRECATION WARNING: please use MorganGenerator\n",
            "[23:20:30] Can't kekulize mol.  Unkekulized atoms: 4\n",
            "[23:20:30] Can't kekulize mol.  Unkekulized atoms: 4\n",
            "[23:20:30] DEPRECATION WARNING: please use MorganGenerator\n",
            "[23:20:30] DEPRECATION WARNING: please use MorganGenerator\n",
            "[23:20:30] DEPRECATION WARNING: please use MorganGenerator\n",
            "[23:20:30] DEPRECATION WARNING: please use MorganGenerator\n",
            "[23:20:30] DEPRECATION WARNING: please use MorganGenerator\n",
            "[23:20:30] DEPRECATION WARNING: please use MorganGenerator\n",
            "[23:20:30] DEPRECATION WARNING: please use MorganGenerator\n",
            "[23:20:30] DEPRECATION WARNING: please use MorganGenerator\n",
            "[23:20:30] DEPRECATION WARNING: please use MorganGenerator\n",
            "[23:20:30] DEPRECATION WARNING: please use MorganGenerator\n",
            "[23:20:30] DEPRECATION WARNING: please use MorganGenerator\n",
            "[23:20:30] DEPRECATION WARNING: please use MorganGenerator\n",
            "[23:20:30] DEPRECATION WARNING: please use MorganGenerator\n",
            "[23:20:30] DEPRECATION WARNING: please use MorganGenerator\n",
            "[23:20:30] DEPRECATION WARNING: please use MorganGenerator\n",
            "[23:20:30] DEPRECATION WARNING: please use MorganGenerator\n",
            "[23:20:30] DEPRECATION WARNING: please use MorganGenerator\n",
            "[23:20:30] DEPRECATION WARNING: please use MorganGenerator\n",
            "[23:20:30] DEPRECATION WARNING: please use MorganGenerator\n",
            "[23:20:30] DEPRECATION WARNING: please use MorganGenerator\n",
            "[23:20:30] DEPRECATION WARNING: please use MorganGenerator\n",
            "[23:20:30] DEPRECATION WARNING: please use MorganGenerator\n",
            "[23:20:30] DEPRECATION WARNING: please use MorganGenerator\n",
            "[23:20:30] DEPRECATION WARNING: please use MorganGenerator\n",
            "[23:20:30] DEPRECATION WARNING: please use MorganGenerator\n",
            "[23:20:30] DEPRECATION WARNING: please use MorganGenerator\n",
            "[23:20:30] DEPRECATION WARNING: please use MorganGenerator\n",
            "[23:20:30] DEPRECATION WARNING: please use MorganGenerator\n",
            "[23:20:30] DEPRECATION WARNING: please use MorganGenerator\n",
            "[23:20:30] DEPRECATION WARNING: please use MorganGenerator\n",
            "[23:20:30] DEPRECATION WARNING: please use MorganGenerator\n",
            "[23:20:30] DEPRECATION WARNING: please use MorganGenerator\n",
            "[23:20:30] DEPRECATION WARNING: please use MorganGenerator\n",
            "[23:20:30] DEPRECATION WARNING: please use MorganGenerator\n",
            "[23:20:30] DEPRECATION WARNING: please use MorganGenerator\n",
            "[23:20:30] DEPRECATION WARNING: please use MorganGenerator\n",
            "[23:20:30] DEPRECATION WARNING: please use MorganGenerator\n",
            "[23:20:30] DEPRECATION WARNING: please use MorganGenerator\n",
            "[23:20:30] DEPRECATION WARNING: please use MorganGenerator\n",
            "[23:20:30] DEPRECATION WARNING: please use MorganGenerator\n",
            "[23:20:30] DEPRECATION WARNING: please use MorganGenerator\n",
            "[23:20:30] DEPRECATION WARNING: please use MorganGenerator\n",
            "[23:20:30] DEPRECATION WARNING: please use MorganGenerator\n",
            "[23:20:30] DEPRECATION WARNING: please use MorganGenerator\n",
            "[23:20:30] DEPRECATION WARNING: please use MorganGenerator\n",
            "[23:20:30] DEPRECATION WARNING: please use MorganGenerator\n",
            "[23:20:30] DEPRECATION WARNING: please use MorganGenerator\n",
            "[23:20:30] DEPRECATION WARNING: please use MorganGenerator\n",
            "[23:20:30] DEPRECATION WARNING: please use MorganGenerator\n",
            "[23:20:30] DEPRECATION WARNING: please use MorganGenerator\n",
            "[23:20:30] DEPRECATION WARNING: please use MorganGenerator\n",
            "[23:20:30] DEPRECATION WARNING: please use MorganGenerator\n",
            "[23:20:30] DEPRECATION WARNING: please use MorganGenerator\n",
            "[23:20:30] DEPRECATION WARNING: please use MorganGenerator\n",
            "[23:20:30] DEPRECATION WARNING: please use MorganGenerator\n",
            "[23:20:30] DEPRECATION WARNING: please use MorganGenerator\n",
            "[23:20:30] DEPRECATION WARNING: please use MorganGenerator\n",
            "[23:20:30] DEPRECATION WARNING: please use MorganGenerator\n",
            "[23:20:30] DEPRECATION WARNING: please use MorganGenerator\n",
            "[23:20:30] DEPRECATION WARNING: please use MorganGenerator\n",
            "[23:20:30] DEPRECATION WARNING: please use MorganGenerator\n",
            "[23:20:30] DEPRECATION WARNING: please use MorganGenerator\n",
            "[23:20:30] DEPRECATION WARNING: please use MorganGenerator\n",
            "[23:20:30] DEPRECATION WARNING: please use MorganGenerator\n",
            "[23:20:30] DEPRECATION WARNING: please use MorganGenerator\n",
            "[23:20:30] DEPRECATION WARNING: please use MorganGenerator\n",
            "[23:20:30] DEPRECATION WARNING: please use MorganGenerator\n",
            "[23:20:30] DEPRECATION WARNING: please use MorganGenerator\n",
            "[23:20:30] DEPRECATION WARNING: please use MorganGenerator\n",
            "[23:20:30] DEPRECATION WARNING: please use MorganGenerator\n",
            "[23:20:30] DEPRECATION WARNING: please use MorganGenerator\n",
            "[23:20:30] DEPRECATION WARNING: please use MorganGenerator\n",
            "[23:20:30] DEPRECATION WARNING: please use MorganGenerator\n",
            "[23:20:30] DEPRECATION WARNING: please use MorganGenerator\n",
            "[23:20:30] DEPRECATION WARNING: please use MorganGenerator\n",
            "[23:20:30] DEPRECATION WARNING: please use MorganGenerator\n",
            "[23:20:30] DEPRECATION WARNING: please use MorganGenerator\n",
            "[23:20:30] DEPRECATION WARNING: please use MorganGenerator\n",
            "[23:20:30] DEPRECATION WARNING: please use MorganGenerator\n",
            "[23:20:30] DEPRECATION WARNING: please use MorganGenerator\n",
            "[23:20:30] DEPRECATION WARNING: please use MorganGenerator\n",
            "[23:20:30] DEPRECATION WARNING: please use MorganGenerator\n",
            "[23:20:30] DEPRECATION WARNING: please use MorganGenerator\n",
            "[23:20:30] DEPRECATION WARNING: please use MorganGenerator\n",
            "[23:20:30] DEPRECATION WARNING: please use MorganGenerator\n",
            "[23:20:30] DEPRECATION WARNING: please use MorganGenerator\n",
            "[23:20:30] DEPRECATION WARNING: please use MorganGenerator\n",
            "[23:20:30] DEPRECATION WARNING: please use MorganGenerator\n",
            "[23:20:30] DEPRECATION WARNING: please use MorganGenerator\n",
            "[23:20:30] DEPRECATION WARNING: please use MorganGenerator\n",
            "[23:20:30] DEPRECATION WARNING: please use MorganGenerator\n",
            "[23:20:30] DEPRECATION WARNING: please use MorganGenerator\n",
            "[23:20:30] DEPRECATION WARNING: please use MorganGenerator\n",
            "[23:20:30] DEPRECATION WARNING: please use MorganGenerator\n",
            "[23:20:30] DEPRECATION WARNING: please use MorganGenerator\n",
            "[23:20:30] DEPRECATION WARNING: please use MorganGenerator\n",
            "[23:20:30] DEPRECATION WARNING: please use MorganGenerator\n",
            "[23:20:30] DEPRECATION WARNING: please use MorganGenerator\n",
            "[23:20:30] DEPRECATION WARNING: please use MorganGenerator\n",
            "[23:20:30] DEPRECATION WARNING: please use MorganGenerator\n",
            "[23:20:30] DEPRECATION WARNING: please use MorganGenerator\n",
            "[23:20:30] DEPRECATION WARNING: please use MorganGenerator\n",
            "[23:20:30] DEPRECATION WARNING: please use MorganGenerator\n",
            "[23:20:30] DEPRECATION WARNING: please use MorganGenerator\n",
            "[23:20:30] DEPRECATION WARNING: please use MorganGenerator\n",
            "[23:20:30] DEPRECATION WARNING: please use MorganGenerator\n",
            "[23:20:30] DEPRECATION WARNING: please use MorganGenerator\n",
            "[23:20:30] DEPRECATION WARNING: please use MorganGenerator\n",
            "[23:20:30] DEPRECATION WARNING: please use MorganGenerator\n",
            "[23:20:30] DEPRECATION WARNING: please use MorganGenerator\n",
            "[23:20:30] DEPRECATION WARNING: please use MorganGenerator\n",
            "[23:20:30] DEPRECATION WARNING: please use MorganGenerator\n",
            "[23:20:30] DEPRECATION WARNING: please use MorganGenerator\n",
            "[23:20:30] DEPRECATION WARNING: please use MorganGenerator\n",
            "[23:20:30] DEPRECATION WARNING: please use MorganGenerator\n",
            "[23:20:30] DEPRECATION WARNING: please use MorganGenerator\n",
            "[23:20:30] DEPRECATION WARNING: please use MorganGenerator\n",
            "[23:20:30] DEPRECATION WARNING: please use MorganGenerator\n",
            "[23:20:30] DEPRECATION WARNING: please use MorganGenerator\n",
            "[23:20:30] DEPRECATION WARNING: please use MorganGenerator\n",
            "[23:20:30] DEPRECATION WARNING: please use MorganGenerator\n",
            "[23:20:30] DEPRECATION WARNING: please use MorganGenerator\n",
            "[23:20:30] DEPRECATION WARNING: please use MorganGenerator\n",
            "[23:20:30] DEPRECATION WARNING: please use MorganGenerator\n",
            "[23:20:30] DEPRECATION WARNING: please use MorganGenerator\n",
            "[23:20:30] DEPRECATION WARNING: please use MorganGenerator\n",
            "[23:20:30] DEPRECATION WARNING: please use MorganGenerator\n",
            "[23:20:30] DEPRECATION WARNING: please use MorganGenerator\n",
            "[23:20:30] DEPRECATION WARNING: please use MorganGenerator\n",
            "[23:20:30] DEPRECATION WARNING: please use MorganGenerator\n",
            "[23:20:30] DEPRECATION WARNING: please use MorganGenerator\n",
            "[23:20:30] DEPRECATION WARNING: please use MorganGenerator\n",
            "[23:20:30] DEPRECATION WARNING: please use MorganGenerator\n",
            "[23:20:30] DEPRECATION WARNING: please use MorganGenerator\n",
            "[23:20:30] DEPRECATION WARNING: please use MorganGenerator\n",
            "[23:20:30] DEPRECATION WARNING: please use MorganGenerator\n",
            "[23:20:30] DEPRECATION WARNING: please use MorganGenerator\n",
            "[23:20:30] DEPRECATION WARNING: please use MorganGenerator\n",
            "[23:20:30] DEPRECATION WARNING: please use MorganGenerator\n",
            "[23:20:30] DEPRECATION WARNING: please use MorganGenerator\n",
            "[23:20:30] DEPRECATION WARNING: please use MorganGenerator\n",
            "[23:20:30] DEPRECATION WARNING: please use MorganGenerator\n",
            "[23:20:30] DEPRECATION WARNING: please use MorganGenerator\n",
            "[23:20:30] DEPRECATION WARNING: please use MorganGenerator\n",
            "[23:20:30] DEPRECATION WARNING: please use MorganGenerator\n",
            "[23:20:30] DEPRECATION WARNING: please use MorganGenerator\n",
            "[23:20:30] DEPRECATION WARNING: please use MorganGenerator\n",
            "[23:20:30] DEPRECATION WARNING: please use MorganGenerator\n",
            "[23:20:30] DEPRECATION WARNING: please use MorganGenerator\n",
            "[23:20:30] DEPRECATION WARNING: please use MorganGenerator\n",
            "[23:20:30] DEPRECATION WARNING: please use MorganGenerator\n",
            "[23:20:30] DEPRECATION WARNING: please use MorganGenerator\n",
            "[23:20:30] DEPRECATION WARNING: please use MorganGenerator\n",
            "[23:20:30] DEPRECATION WARNING: please use MorganGenerator\n",
            "[23:20:30] DEPRECATION WARNING: please use MorganGenerator\n",
            "[23:20:30] DEPRECATION WARNING: please use MorganGenerator\n",
            "[23:20:30] DEPRECATION WARNING: please use MorganGenerator\n",
            "[23:20:30] DEPRECATION WARNING: please use MorganGenerator\n",
            "[23:20:30] DEPRECATION WARNING: please use MorganGenerator\n",
            "[23:20:30] DEPRECATION WARNING: please use MorganGenerator\n",
            "[23:20:30] DEPRECATION WARNING: please use MorganGenerator\n",
            "[23:20:30] DEPRECATION WARNING: please use MorganGenerator\n",
            "[23:20:30] DEPRECATION WARNING: please use MorganGenerator\n",
            "[23:20:30] DEPRECATION WARNING: please use MorganGenerator\n",
            "[23:20:30] DEPRECATION WARNING: please use MorganGenerator\n",
            "[23:20:30] DEPRECATION WARNING: please use MorganGenerator\n",
            "[23:20:30] DEPRECATION WARNING: please use MorganGenerator\n",
            "[23:20:30] DEPRECATION WARNING: please use MorganGenerator\n",
            "[23:20:30] DEPRECATION WARNING: please use MorganGenerator\n",
            "[23:20:30] DEPRECATION WARNING: please use MorganGenerator\n",
            "[23:20:30] DEPRECATION WARNING: please use MorganGenerator\n",
            "[23:20:30] DEPRECATION WARNING: please use MorganGenerator\n",
            "[23:20:30] DEPRECATION WARNING: please use MorganGenerator\n",
            "[23:20:30] DEPRECATION WARNING: please use MorganGenerator\n",
            "[23:20:30] DEPRECATION WARNING: please use MorganGenerator\n",
            "[23:20:30] DEPRECATION WARNING: please use MorganGenerator\n",
            "[23:20:30] DEPRECATION WARNING: please use MorganGenerator\n",
            "[23:20:30] DEPRECATION WARNING: please use MorganGenerator\n",
            "[23:20:30] DEPRECATION WARNING: please use MorganGenerator\n",
            "[23:20:30] DEPRECATION WARNING: please use MorganGenerator\n",
            "[23:20:30] DEPRECATION WARNING: please use MorganGenerator\n",
            "[23:20:30] DEPRECATION WARNING: please use MorganGenerator\n",
            "[23:20:30] DEPRECATION WARNING: please use MorganGenerator\n",
            "[23:20:30] DEPRECATION WARNING: please use MorganGenerator\n",
            "[23:20:30] DEPRECATION WARNING: please use MorganGenerator\n",
            "[23:20:30] DEPRECATION WARNING: please use MorganGenerator\n",
            "[23:20:30] DEPRECATION WARNING: please use MorganGenerator\n",
            "[23:20:30] DEPRECATION WARNING: please use MorganGenerator\n",
            "[23:20:30] DEPRECATION WARNING: please use MorganGenerator\n",
            "[23:20:30] DEPRECATION WARNING: please use MorganGenerator\n",
            "[23:20:30] DEPRECATION WARNING: please use MorganGenerator\n",
            "[23:20:30] DEPRECATION WARNING: please use MorganGenerator\n",
            "[23:20:30] DEPRECATION WARNING: please use MorganGenerator\n",
            "[23:20:30] DEPRECATION WARNING: please use MorganGenerator\n",
            "[23:20:30] DEPRECATION WARNING: please use MorganGenerator\n",
            "[23:20:30] DEPRECATION WARNING: please use MorganGenerator\n",
            "[23:20:30] DEPRECATION WARNING: please use MorganGenerator\n",
            "[23:20:30] DEPRECATION WARNING: please use MorganGenerator\n",
            "[23:20:30] DEPRECATION WARNING: please use MorganGenerator\n",
            "[23:20:30] DEPRECATION WARNING: please use MorganGenerator\n",
            "[23:20:30] DEPRECATION WARNING: please use MorganGenerator\n",
            "[23:20:30] DEPRECATION WARNING: please use MorganGenerator\n",
            "[23:20:30] DEPRECATION WARNING: please use MorganGenerator\n",
            "[23:20:30] DEPRECATION WARNING: please use MorganGenerator\n",
            "[23:20:30] DEPRECATION WARNING: please use MorganGenerator\n",
            "[23:20:30] DEPRECATION WARNING: please use MorganGenerator\n",
            "[23:20:30] DEPRECATION WARNING: please use MorganGenerator\n",
            "[23:20:30] DEPRECATION WARNING: please use MorganGenerator\n",
            "[23:20:30] DEPRECATION WARNING: please use MorganGenerator\n",
            "[23:20:30] DEPRECATION WARNING: please use MorganGenerator\n",
            "[23:20:30] DEPRECATION WARNING: please use MorganGenerator\n",
            "[23:20:30] DEPRECATION WARNING: please use MorganGenerator\n",
            "[23:20:30] DEPRECATION WARNING: please use MorganGenerator\n",
            "[23:20:30] DEPRECATION WARNING: please use MorganGenerator\n",
            "[23:20:30] DEPRECATION WARNING: please use MorganGenerator\n",
            "[23:20:30] DEPRECATION WARNING: please use MorganGenerator\n",
            "[23:20:30] DEPRECATION WARNING: please use MorganGenerator\n",
            "[23:20:30] DEPRECATION WARNING: please use MorganGenerator\n",
            "[23:20:30] DEPRECATION WARNING: please use MorganGenerator\n",
            "[23:20:30] DEPRECATION WARNING: please use MorganGenerator\n",
            "[23:20:30] DEPRECATION WARNING: please use MorganGenerator\n",
            "[23:20:30] DEPRECATION WARNING: please use MorganGenerator\n",
            "[23:20:30] DEPRECATION WARNING: please use MorganGenerator\n",
            "[23:20:30] DEPRECATION WARNING: please use MorganGenerator\n",
            "[23:20:30] DEPRECATION WARNING: please use MorganGenerator\n",
            "[23:20:30] DEPRECATION WARNING: please use MorganGenerator\n",
            "[23:20:30] DEPRECATION WARNING: please use MorganGenerator\n",
            "[23:20:30] DEPRECATION WARNING: please use MorganGenerator\n",
            "[23:20:30] DEPRECATION WARNING: please use MorganGenerator\n",
            "[23:20:30] DEPRECATION WARNING: please use MorganGenerator\n",
            "[23:20:30] DEPRECATION WARNING: please use MorganGenerator\n",
            "[23:20:30] DEPRECATION WARNING: please use MorganGenerator\n",
            "[23:20:30] DEPRECATION WARNING: please use MorganGenerator\n",
            "[23:20:30] DEPRECATION WARNING: please use MorganGenerator\n",
            "[23:20:30] DEPRECATION WARNING: please use MorganGenerator\n",
            "[23:20:30] DEPRECATION WARNING: please use MorganGenerator\n",
            "[23:20:30] DEPRECATION WARNING: please use MorganGenerator\n",
            "[23:20:30] DEPRECATION WARNING: please use MorganGenerator\n",
            "[23:20:30] DEPRECATION WARNING: please use MorganGenerator\n",
            "[23:20:30] DEPRECATION WARNING: please use MorganGenerator\n",
            "[23:20:30] DEPRECATION WARNING: please use MorganGenerator\n",
            "[23:20:30] DEPRECATION WARNING: please use MorganGenerator\n",
            "[23:20:30] DEPRECATION WARNING: please use MorganGenerator\n",
            "[23:20:30] DEPRECATION WARNING: please use MorganGenerator\n",
            "[23:20:30] DEPRECATION WARNING: please use MorganGenerator\n",
            "[23:20:30] DEPRECATION WARNING: please use MorganGenerator\n",
            "[23:20:30] DEPRECATION WARNING: please use MorganGenerator\n",
            "[23:20:30] DEPRECATION WARNING: please use MorganGenerator\n",
            "[23:20:30] DEPRECATION WARNING: please use MorganGenerator\n",
            "[23:20:30] DEPRECATION WARNING: please use MorganGenerator\n",
            "[23:20:30] DEPRECATION WARNING: please use MorganGenerator\n",
            "[23:20:30] DEPRECATION WARNING: please use MorganGenerator\n",
            "[23:20:30] DEPRECATION WARNING: please use MorganGenerator\n",
            "[23:20:30] DEPRECATION WARNING: please use MorganGenerator\n",
            "[23:20:30] DEPRECATION WARNING: please use MorganGenerator\n",
            "[23:20:30] DEPRECATION WARNING: please use MorganGenerator\n",
            "[23:20:30] DEPRECATION WARNING: please use MorganGenerator\n",
            "[23:20:30] DEPRECATION WARNING: please use MorganGenerator\n",
            "[23:20:30] DEPRECATION WARNING: please use MorganGenerator\n",
            "[23:20:30] DEPRECATION WARNING: please use MorganGenerator\n",
            "[23:20:30] DEPRECATION WARNING: please use MorganGenerator\n",
            "[23:20:30] DEPRECATION WARNING: please use MorganGenerator\n",
            "[23:20:30] DEPRECATION WARNING: please use MorganGenerator\n"
          ]
        },
        {
          "output_type": "stream",
          "name": "stdout",
          "text": [
            "\n",
            "--- Baseline ---\n"
          ]
        },
        {
          "output_type": "stream",
          "name": "stderr",
          "text": [
            "\n",
            "Epoch 1/10:   0%|          | 0/37 [00:00<?, ?it/s]\u001b[A\n",
            "Epoch 1/10:   0%|          | 0/37 [00:00<?, ?it/s, loss=0.705]\u001b[A\n",
            "Epoch 1/10:   3%|▎         | 1/37 [00:00<00:33,  1.08it/s, loss=0.705]\u001b[A\n",
            "Epoch 1/10:   3%|▎         | 1/37 [00:01<00:33,  1.08it/s, loss=0.493]\u001b[A\n",
            "Epoch 1/10:   3%|▎         | 1/37 [00:01<00:33,  1.08it/s, loss=0.322]\u001b[A\n",
            "Epoch 1/10:   8%|▊         | 3/37 [00:01<00:10,  3.36it/s, loss=0.322]\u001b[A\n",
            "Epoch 1/10:   8%|▊         | 3/37 [00:01<00:10,  3.36it/s, loss=0.157]\u001b[A\n",
            "Epoch 1/10:   8%|▊         | 3/37 [00:01<00:10,  3.36it/s, loss=0.261]\u001b[A\n",
            "Epoch 1/10:  14%|█▎        | 5/37 [00:01<00:05,  5.50it/s, loss=0.261]\u001b[A\n",
            "Epoch 1/10:  14%|█▎        | 5/37 [00:01<00:05,  5.50it/s, loss=0.25] \u001b[A\n",
            "Epoch 1/10:  14%|█▎        | 5/37 [00:01<00:05,  5.50it/s, loss=0.184]\u001b[A\n",
            "Epoch 1/10:  19%|█▉        | 7/37 [00:01<00:03,  7.56it/s, loss=0.184]\u001b[A\n",
            "Epoch 1/10:  19%|█▉        | 7/37 [00:01<00:03,  7.56it/s, loss=0.203]\u001b[A\n",
            "Epoch 1/10:  19%|█▉        | 7/37 [00:01<00:03,  7.56it/s, loss=0.248]\u001b[A\n",
            "Epoch 1/10:  24%|██▍       | 9/37 [00:01<00:02,  9.35it/s, loss=0.248]\u001b[A\n",
            "Epoch 1/10:  24%|██▍       | 9/37 [00:01<00:02,  9.35it/s, loss=0.141]\u001b[A\n",
            "Epoch 1/10:  24%|██▍       | 9/37 [00:01<00:02,  9.35it/s, loss=0.139]\u001b[A\n",
            "Epoch 1/10:  30%|██▉       | 11/37 [00:01<00:02, 10.86it/s, loss=0.139]\u001b[A\n",
            "Epoch 1/10:  30%|██▉       | 11/37 [00:01<00:02, 10.86it/s, loss=0.101]\u001b[A\n",
            "Epoch 1/10:  30%|██▉       | 11/37 [00:01<00:02, 10.86it/s, loss=0.227]\u001b[A\n",
            "Epoch 1/10:  35%|███▌      | 13/37 [00:01<00:02, 11.96it/s, loss=0.227]\u001b[A\n",
            "Epoch 1/10:  35%|███▌      | 13/37 [00:01<00:02, 11.96it/s, loss=0.276]\u001b[A\n",
            "Epoch 1/10:  35%|███▌      | 13/37 [00:01<00:02, 11.96it/s, loss=0.235]\u001b[A\n",
            "Epoch 1/10:  41%|████      | 15/37 [00:01<00:01, 12.84it/s, loss=0.235]\u001b[A\n",
            "Epoch 1/10:  41%|████      | 15/37 [00:01<00:01, 12.84it/s, loss=0.157]\u001b[A\n",
            "Epoch 1/10:  41%|████      | 15/37 [00:02<00:01, 12.84it/s, loss=0.13] \u001b[A\n",
            "Epoch 1/10:  46%|████▌     | 17/37 [00:02<00:01, 13.55it/s, loss=0.13]\u001b[A\n",
            "Epoch 1/10:  46%|████▌     | 17/37 [00:02<00:01, 13.55it/s, loss=0.0675]\u001b[A\n",
            "Epoch 1/10:  46%|████▌     | 17/37 [00:02<00:01, 13.55it/s, loss=0.06]  \u001b[A\n",
            "Epoch 1/10:  51%|█████▏    | 19/37 [00:02<00:01, 14.04it/s, loss=0.06]\u001b[A\n",
            "Epoch 1/10:  51%|█████▏    | 19/37 [00:02<00:01, 14.04it/s, loss=0.175]\u001b[A\n",
            "Epoch 1/10:  51%|█████▏    | 19/37 [00:02<00:01, 14.04it/s, loss=0.198]\u001b[A\n",
            "Epoch 1/10:  57%|█████▋    | 21/37 [00:02<00:01, 14.46it/s, loss=0.198]\u001b[A\n",
            "Epoch 1/10:  57%|█████▋    | 21/37 [00:02<00:01, 14.46it/s, loss=0.108]\u001b[A\n",
            "Epoch 1/10:  57%|█████▋    | 21/37 [00:02<00:01, 14.46it/s, loss=0.29] \u001b[A\n",
            "Epoch 1/10:  62%|██████▏   | 23/37 [00:02<00:00, 14.64it/s, loss=0.29]\u001b[A\n",
            "Epoch 1/10:  62%|██████▏   | 23/37 [00:02<00:00, 14.64it/s, loss=0.0315]\u001b[A\n",
            "Epoch 1/10:  62%|██████▏   | 23/37 [00:02<00:00, 14.64it/s, loss=0.066] \u001b[A\n",
            "Epoch 1/10:  68%|██████▊   | 25/37 [00:02<00:00, 14.89it/s, loss=0.066]\u001b[A\n",
            "Epoch 1/10:  68%|██████▊   | 25/37 [00:02<00:00, 14.89it/s, loss=0.0373]\u001b[A\n",
            "Epoch 1/10:  68%|██████▊   | 25/37 [00:02<00:00, 14.89it/s, loss=0.171] \u001b[A\n",
            "Epoch 1/10:  73%|███████▎  | 27/37 [00:02<00:00, 14.99it/s, loss=0.171]\u001b[A\n",
            "Epoch 1/10:  73%|███████▎  | 27/37 [00:02<00:00, 14.99it/s, loss=0.0897]\u001b[A\n",
            "Epoch 1/10:  73%|███████▎  | 27/37 [00:02<00:00, 14.99it/s, loss=0.029] \u001b[A\n",
            "Epoch 1/10:  78%|███████▊  | 29/37 [00:02<00:00, 15.13it/s, loss=0.029]\u001b[A\n",
            "Epoch 1/10:  78%|███████▊  | 29/37 [00:02<00:00, 15.13it/s, loss=0.144]\u001b[A\n",
            "Epoch 1/10:  78%|███████▊  | 29/37 [00:02<00:00, 15.13it/s, loss=0.11] \u001b[A\n",
            "Epoch 1/10:  84%|████████▍ | 31/37 [00:02<00:00, 15.13it/s, loss=0.11]\u001b[A\n",
            "Epoch 1/10:  84%|████████▍ | 31/37 [00:02<00:00, 15.13it/s, loss=0.138]\u001b[A\n",
            "Epoch 1/10:  84%|████████▍ | 31/37 [00:03<00:00, 15.13it/s, loss=0.192]\u001b[A\n",
            "Epoch 1/10:  89%|████████▉ | 33/37 [00:03<00:00, 15.23it/s, loss=0.192]\u001b[A\n",
            "Epoch 1/10:  89%|████████▉ | 33/37 [00:03<00:00, 15.23it/s, loss=0.141]\u001b[A\n",
            "Epoch 1/10:  89%|████████▉ | 33/37 [00:03<00:00, 15.23it/s, loss=0.128]\u001b[A\n",
            "Epoch 1/10:  95%|█████████▍| 35/37 [00:03<00:00, 15.21it/s, loss=0.128]\u001b[A\n",
            "Epoch 1/10:  95%|█████████▍| 35/37 [00:03<00:00, 15.21it/s, loss=0.1]  \u001b[A\n",
            "Epoch 1/10:  95%|█████████▍| 35/37 [00:03<00:00, 15.21it/s, loss=0.0396]\u001b[A\n",
            "Epoch 1/10: 100%|██████████| 37/37 [00:03<00:00, 11.14it/s, loss=0.0396]\n",
            "Evaluating: 100%|██████████| 5/5 [00:00<00:00, 29.22it/s]\n"
          ]
        },
        {
          "output_type": "stream",
          "name": "stdout",
          "text": [
            "Epoch 1 | Training Time: 3.33s | Train Loss: 0.1769 | Val Loss: 0.0998 | Val Accuracy: 0.9595\n"
          ]
        },
        {
          "output_type": "stream",
          "name": "stderr",
          "text": [
            "Epoch 2/10: 100%|██████████| 37/37 [00:02<00:00, 15.85it/s, loss=0.0166]\n",
            "Evaluating: 100%|██████████| 5/5 [00:00<00:00, 28.77it/s]\n"
          ]
        },
        {
          "output_type": "stream",
          "name": "stdout",
          "text": [
            "Epoch 2 | Training Time: 2.34s | Train Loss: 0.0730 | Val Loss: 0.0968 | Val Accuracy: 0.9730\n"
          ]
        },
        {
          "output_type": "stream",
          "name": "stderr",
          "text": [
            "Epoch 3/10: 100%|██████████| 37/37 [00:02<00:00, 16.00it/s, loss=0.00952]\n",
            "Evaluating: 100%|██████████| 5/5 [00:00<00:00, 29.41it/s]\n"
          ]
        },
        {
          "output_type": "stream",
          "name": "stdout",
          "text": [
            "Epoch 3 | Training Time: 2.32s | Train Loss: 0.0820 | Val Loss: 0.0732 | Val Accuracy: 0.9797\n"
          ]
        },
        {
          "output_type": "stream",
          "name": "stderr",
          "text": [
            "Epoch 4/10: 100%|██████████| 37/37 [00:02<00:00, 15.87it/s, loss=0.177]\n",
            "Evaluating: 100%|██████████| 5/5 [00:00<00:00, 28.46it/s]\n"
          ]
        },
        {
          "output_type": "stream",
          "name": "stdout",
          "text": [
            "Epoch 4 | Training Time: 2.33s | Train Loss: 0.0477 | Val Loss: 0.0850 | Val Accuracy: 0.9730\n"
          ]
        },
        {
          "output_type": "stream",
          "name": "stderr",
          "text": [
            "Epoch 5/10: 100%|██████████| 37/37 [00:02<00:00, 15.86it/s, loss=0.0625]\n",
            "Evaluating: 100%|██████████| 5/5 [00:00<00:00, 29.55it/s]\n"
          ]
        },
        {
          "output_type": "stream",
          "name": "stdout",
          "text": [
            "Epoch 5 | Training Time: 2.34s | Train Loss: 0.0436 | Val Loss: 0.0952 | Val Accuracy: 0.9662\n"
          ]
        },
        {
          "output_type": "stream",
          "name": "stderr",
          "text": [
            "Epoch 6/10: 100%|██████████| 37/37 [00:02<00:00, 15.87it/s, loss=0.00528]\n",
            "Evaluating: 100%|██████████| 5/5 [00:00<00:00, 29.61it/s]\n"
          ]
        },
        {
          "output_type": "stream",
          "name": "stdout",
          "text": [
            "Epoch 6 | Training Time: 2.33s | Train Loss: 0.0293 | Val Loss: 0.1219 | Val Accuracy: 0.9595\n"
          ]
        },
        {
          "output_type": "stream",
          "name": "stderr",
          "text": [
            "Epoch 7/10: 100%|██████████| 37/37 [00:02<00:00, 15.89it/s, loss=0.0175]\n",
            "Evaluating: 100%|██████████| 5/5 [00:00<00:00, 29.70it/s]\n"
          ]
        },
        {
          "output_type": "stream",
          "name": "stdout",
          "text": [
            "Epoch 7 | Training Time: 2.33s | Train Loss: 0.0282 | Val Loss: 0.1538 | Val Accuracy: 0.9189\n"
          ]
        },
        {
          "output_type": "stream",
          "name": "stderr",
          "text": [
            "Epoch 8/10: 100%|██████████| 37/37 [00:02<00:00, 15.97it/s, loss=0.00536]\n",
            "Evaluating: 100%|██████████| 5/5 [00:00<00:00, 29.71it/s]\n"
          ]
        },
        {
          "output_type": "stream",
          "name": "stdout",
          "text": [
            "Epoch 8 | Training Time: 2.32s | Train Loss: 0.0277 | Val Loss: 0.1028 | Val Accuracy: 0.9662\n"
          ]
        },
        {
          "output_type": "stream",
          "name": "stderr",
          "text": [
            "Epoch 9/10: 100%|██████████| 37/37 [00:02<00:00, 15.86it/s, loss=0.00135]\n",
            "Evaluating: 100%|██████████| 5/5 [00:00<00:00, 29.07it/s]\n"
          ]
        },
        {
          "output_type": "stream",
          "name": "stdout",
          "text": [
            "Epoch 9 | Training Time: 2.34s | Train Loss: 0.0248 | Val Loss: 0.1157 | Val Accuracy: 0.9459\n"
          ]
        },
        {
          "output_type": "stream",
          "name": "stderr",
          "text": [
            "Epoch 10/10: 100%|██████████| 37/37 [00:02<00:00, 15.85it/s, loss=0.00156]\n",
            "Evaluating: 100%|██████████| 5/5 [00:00<00:00, 28.85it/s]\n"
          ]
        },
        {
          "output_type": "stream",
          "name": "stdout",
          "text": [
            "Epoch 10 | Training Time: 2.34s | Train Loss: 0.0186 | Val Loss: 0.0854 | Val Accuracy: 0.9730\n"
          ]
        },
        {
          "output_type": "stream",
          "name": "stderr",
          "text": [
            "Evaluating: 100%|██████████| 5/5 [00:00<00:00, 30.65it/s]\n"
          ]
        },
        {
          "output_type": "display_data",
          "data": {
            "text/plain": [
              "<IPython.core.display.HTML object>"
            ],
            "text/html": [
              "Finishing previous runs because reinit is set to 'default'."
            ]
          },
          "metadata": {}
        },
        {
          "output_type": "display_data",
          "data": {
            "text/plain": [
              "<IPython.core.display.HTML object>"
            ],
            "text/html": []
          },
          "metadata": {}
        },
        {
          "output_type": "display_data",
          "data": {
            "text/plain": [
              "<IPython.core.display.HTML object>"
            ],
            "text/html": [
              "<br>    <style><br>        .wandb-row {<br>            display: flex;<br>            flex-direction: row;<br>            flex-wrap: wrap;<br>            justify-content: flex-start;<br>            width: 100%;<br>        }<br>        .wandb-col {<br>            display: flex;<br>            flex-direction: column;<br>            flex-basis: 100%;<br>            flex: 1;<br>            padding: 10px;<br>        }<br>    </style><br><div class=\"wandb-row\"><div class=\"wandb-col\"><h3>Run history:</h3><br/><table class=\"wandb\"><tr><td>peak_gpu_memory</td><td>▁</td></tr><tr><td>test_accuracy</td><td>▁</td></tr><tr><td>test_loss</td><td>▁</td></tr><tr><td>throughput</td><td>▁</td></tr><tr><td>training_time</td><td>▁</td></tr></table><br/></div><div class=\"wandb-col\"><h3>Run summary:</h3><br/><table class=\"wandb\"><tr><td>peak_gpu_memory</td><td>1239.98145</td></tr><tr><td>test_accuracy</td><td>0.98649</td></tr><tr><td>test_loss</td><td>0.06173</td></tr><tr><td>throughput</td><td>453.93731</td></tr><tr><td>training_time</td><td>26.0829</td></tr></table><br/></div></div>"
            ]
          },
          "metadata": {}
        },
        {
          "output_type": "display_data",
          "data": {
            "text/plain": [
              "<IPython.core.display.HTML object>"
            ],
            "text/html": [
              " View run <strong style=\"color:#cdcd00\">Baseline</strong> at: <a href='https://wandb.ai/hpml-proj-deepchem/testing/runs/czcr4p08' target=\"_blank\">https://wandb.ai/hpml-proj-deepchem/testing/runs/czcr4p08</a><br> View project at: <a href='https://wandb.ai/hpml-proj-deepchem/testing' target=\"_blank\">https://wandb.ai/hpml-proj-deepchem/testing</a><br>Synced 5 W&B file(s), 0 media file(s), 0 artifact file(s) and 0 other file(s)"
            ]
          },
          "metadata": {}
        },
        {
          "output_type": "display_data",
          "data": {
            "text/plain": [
              "<IPython.core.display.HTML object>"
            ],
            "text/html": [
              "Find logs at: <code>./wandb/run-20250508_232027-czcr4p08/logs</code>"
            ]
          },
          "metadata": {}
        },
        {
          "output_type": "display_data",
          "data": {
            "text/plain": [
              "<IPython.core.display.HTML object>"
            ],
            "text/html": [
              "Tracking run with wandb version 0.19.10"
            ]
          },
          "metadata": {}
        },
        {
          "output_type": "display_data",
          "data": {
            "text/plain": [
              "<IPython.core.display.HTML object>"
            ],
            "text/html": [
              "Run data is saved locally in <code>/content/wandb/run-20250508_232059-ka3n44fg</code>"
            ]
          },
          "metadata": {}
        },
        {
          "output_type": "display_data",
          "data": {
            "text/plain": [
              "<IPython.core.display.HTML object>"
            ],
            "text/html": [
              "Syncing run <strong><a href='https://wandb.ai/hpml-proj-deepchem/testing/runs/ka3n44fg' target=\"_blank\">Baseline_loss_curves</a></strong> to <a href='https://wandb.ai/hpml-proj-deepchem/testing' target=\"_blank\">Weights & Biases</a> (<a href='https://wandb.me/developer-guide' target=\"_blank\">docs</a>)<br>"
            ]
          },
          "metadata": {}
        },
        {
          "output_type": "display_data",
          "data": {
            "text/plain": [
              "<IPython.core.display.HTML object>"
            ],
            "text/html": [
              " View project at <a href='https://wandb.ai/hpml-proj-deepchem/testing' target=\"_blank\">https://wandb.ai/hpml-proj-deepchem/testing</a>"
            ]
          },
          "metadata": {}
        },
        {
          "output_type": "display_data",
          "data": {
            "text/plain": [
              "<IPython.core.display.HTML object>"
            ],
            "text/html": [
              " View run at <a href='https://wandb.ai/hpml-proj-deepchem/testing/runs/ka3n44fg' target=\"_blank\">https://wandb.ai/hpml-proj-deepchem/testing/runs/ka3n44fg</a>"
            ]
          },
          "metadata": {}
        },
        {
          "output_type": "display_data",
          "data": {
            "text/plain": [
              "<IPython.core.display.HTML object>"
            ],
            "text/html": []
          },
          "metadata": {}
        },
        {
          "output_type": "display_data",
          "data": {
            "text/plain": [
              "<IPython.core.display.HTML object>"
            ],
            "text/html": [
              " View run <strong style=\"color:#cdcd00\">Baseline_loss_curves</strong> at: <a href='https://wandb.ai/hpml-proj-deepchem/testing/runs/ka3n44fg' target=\"_blank\">https://wandb.ai/hpml-proj-deepchem/testing/runs/ka3n44fg</a><br> View project at: <a href='https://wandb.ai/hpml-proj-deepchem/testing' target=\"_blank\">https://wandb.ai/hpml-proj-deepchem/testing</a><br>Synced 5 W&B file(s), 1 media file(s), 0 artifact file(s) and 0 other file(s)"
            ]
          },
          "metadata": {}
        },
        {
          "output_type": "display_data",
          "data": {
            "text/plain": [
              "<IPython.core.display.HTML object>"
            ],
            "text/html": [
              "Find logs at: <code>./wandb/run-20250508_232059-ka3n44fg/logs</code>"
            ]
          },
          "metadata": {}
        },
        {
          "output_type": "display_data",
          "data": {
            "text/plain": [
              "<IPython.core.display.HTML object>"
            ],
            "text/html": [
              "Tracking run with wandb version 0.19.10"
            ]
          },
          "metadata": {}
        },
        {
          "output_type": "display_data",
          "data": {
            "text/plain": [
              "<IPython.core.display.HTML object>"
            ],
            "text/html": [
              "Run data is saved locally in <code>/content/wandb/run-20250508_232100-9x1ejtu2</code>"
            ]
          },
          "metadata": {}
        },
        {
          "output_type": "display_data",
          "data": {
            "text/plain": [
              "<IPython.core.display.HTML object>"
            ],
            "text/html": [
              "Syncing run <strong><a href='https://wandb.ai/hpml-proj-deepchem/testing/runs/9x1ejtu2' target=\"_blank\">Baseline_accuracy_curves</a></strong> to <a href='https://wandb.ai/hpml-proj-deepchem/testing' target=\"_blank\">Weights & Biases</a> (<a href='https://wandb.me/developer-guide' target=\"_blank\">docs</a>)<br>"
            ]
          },
          "metadata": {}
        },
        {
          "output_type": "display_data",
          "data": {
            "text/plain": [
              "<IPython.core.display.HTML object>"
            ],
            "text/html": [
              " View project at <a href='https://wandb.ai/hpml-proj-deepchem/testing' target=\"_blank\">https://wandb.ai/hpml-proj-deepchem/testing</a>"
            ]
          },
          "metadata": {}
        },
        {
          "output_type": "display_data",
          "data": {
            "text/plain": [
              "<IPython.core.display.HTML object>"
            ],
            "text/html": [
              " View run at <a href='https://wandb.ai/hpml-proj-deepchem/testing/runs/9x1ejtu2' target=\"_blank\">https://wandb.ai/hpml-proj-deepchem/testing/runs/9x1ejtu2</a>"
            ]
          },
          "metadata": {}
        },
        {
          "output_type": "display_data",
          "data": {
            "text/plain": [
              "<IPython.core.display.HTML object>"
            ],
            "text/html": []
          },
          "metadata": {}
        },
        {
          "output_type": "display_data",
          "data": {
            "text/plain": [
              "<IPython.core.display.HTML object>"
            ],
            "text/html": [
              " View run <strong style=\"color:#cdcd00\">Baseline_accuracy_curves</strong> at: <a href='https://wandb.ai/hpml-proj-deepchem/testing/runs/9x1ejtu2' target=\"_blank\">https://wandb.ai/hpml-proj-deepchem/testing/runs/9x1ejtu2</a><br> View project at: <a href='https://wandb.ai/hpml-proj-deepchem/testing' target=\"_blank\">https://wandb.ai/hpml-proj-deepchem/testing</a><br>Synced 5 W&B file(s), 1 media file(s), 0 artifact file(s) and 0 other file(s)"
            ]
          },
          "metadata": {}
        },
        {
          "output_type": "display_data",
          "data": {
            "text/plain": [
              "<IPython.core.display.HTML object>"
            ],
            "text/html": [
              "Find logs at: <code>./wandb/run-20250508_232100-9x1ejtu2/logs</code>"
            ]
          },
          "metadata": {}
        },
        {
          "output_type": "display_data",
          "data": {
            "text/plain": [
              "<IPython.core.display.HTML object>"
            ],
            "text/html": [
              "Tracking run with wandb version 0.19.10"
            ]
          },
          "metadata": {}
        },
        {
          "output_type": "display_data",
          "data": {
            "text/plain": [
              "<IPython.core.display.HTML object>"
            ],
            "text/html": [
              "Run data is saved locally in <code>/content/wandb/run-20250508_232102-p1du7qwb</code>"
            ]
          },
          "metadata": {}
        },
        {
          "output_type": "display_data",
          "data": {
            "text/plain": [
              "<IPython.core.display.HTML object>"
            ],
            "text/html": [
              "Syncing run <strong><a href='https://wandb.ai/hpml-proj-deepchem/testing/runs/p1du7qwb' target=\"_blank\">Baseline_epoch_times</a></strong> to <a href='https://wandb.ai/hpml-proj-deepchem/testing' target=\"_blank\">Weights & Biases</a> (<a href='https://wandb.me/developer-guide' target=\"_blank\">docs</a>)<br>"
            ]
          },
          "metadata": {}
        },
        {
          "output_type": "display_data",
          "data": {
            "text/plain": [
              "<IPython.core.display.HTML object>"
            ],
            "text/html": [
              " View project at <a href='https://wandb.ai/hpml-proj-deepchem/testing' target=\"_blank\">https://wandb.ai/hpml-proj-deepchem/testing</a>"
            ]
          },
          "metadata": {}
        },
        {
          "output_type": "display_data",
          "data": {
            "text/plain": [
              "<IPython.core.display.HTML object>"
            ],
            "text/html": [
              " View run at <a href='https://wandb.ai/hpml-proj-deepchem/testing/runs/p1du7qwb' target=\"_blank\">https://wandb.ai/hpml-proj-deepchem/testing/runs/p1du7qwb</a>"
            ]
          },
          "metadata": {}
        },
        {
          "output_type": "display_data",
          "data": {
            "text/plain": [
              "<IPython.core.display.HTML object>"
            ],
            "text/html": []
          },
          "metadata": {}
        },
        {
          "output_type": "display_data",
          "data": {
            "text/plain": [
              "<IPython.core.display.HTML object>"
            ],
            "text/html": [
              " View run <strong style=\"color:#cdcd00\">Baseline_epoch_times</strong> at: <a href='https://wandb.ai/hpml-proj-deepchem/testing/runs/p1du7qwb' target=\"_blank\">https://wandb.ai/hpml-proj-deepchem/testing/runs/p1du7qwb</a><br> View project at: <a href='https://wandb.ai/hpml-proj-deepchem/testing' target=\"_blank\">https://wandb.ai/hpml-proj-deepchem/testing</a><br>Synced 5 W&B file(s), 1 media file(s), 0 artifact file(s) and 0 other file(s)"
            ]
          },
          "metadata": {}
        },
        {
          "output_type": "display_data",
          "data": {
            "text/plain": [
              "<IPython.core.display.HTML object>"
            ],
            "text/html": [
              "Find logs at: <code>./wandb/run-20250508_232102-p1du7qwb/logs</code>"
            ]
          },
          "metadata": {}
        },
        {
          "output_type": "stream",
          "name": "stdout",
          "text": [
            "\n",
            "--- Baseline ---\n",
            "Total Training Time: 26.08 seconds\n",
            "Test Loss: 0.0617 | Test Accuracy: 0.9865\n",
            "Throughput: 453.94 samples/sec\n",
            "Peak GPU Memory Usage: 1239.98 MB\n"
          ]
        },
        {
          "output_type": "display_data",
          "data": {
            "text/plain": [
              "<Figure size 1000x600 with 1 Axes>"
            ],
            "image/png": "[encoded data removed]"
          },
          "metadata": {}
        },
        {
          "output_type": "display_data",
          "data": {
            "text/plain": [
              "<Figure size 1000x600 with 1 Axes>"
            ],
            "image/png": "[encoded data removed]"
          },
          "metadata": {}
        },
        {
          "output_type": "display_data",
          "data": {
            "text/plain": [
              "<Figure size 1000x600 with 1 Axes>"
            ],
            "image/png": "[encoded data removed]"
          },
          "metadata": {}
        }
      ]
    },
    {
      "cell_type": "code",
      "source": [
        "tokenizer = AutoTokenizer.from_pretrained(MODEL_NAME)\n",
        "model = setup_lora_model(MODEL_NAME)\n",
        "\n",
        "compiled_model = torch.compile(model)\n",
        "\n",
        "torch_compile_metrics = train_and_profile(compiled_model, tokenizer, \"Torch.Compile\")"
      ],
      "metadata": {
        "colab": {
          "base_uri": "https://localhost:8080/",
          "height": 1000
        },
        "id": "RFpyEQK56Lny",
        "outputId": "0715664b-822e-49df-ea26-0f961cd6a31b"
      },
      "execution_count": 11,
      "outputs": [
        {
          "output_type": "stream",
          "name": "stderr",
          "text": [
            "Some weights of RobertaForSequenceClassification were not initialized from the model checkpoint at seyonec/ChemBERTa-zinc-base-v1 and are newly initialized: ['classifier.dense.bias', 'classifier.dense.weight', 'classifier.out_proj.bias', 'classifier.out_proj.weight']\n",
            "You should probably TRAIN this model on a down-stream task to be able to use it for predictions and inference.\n"
          ]
        },
        {
          "output_type": "display_data",
          "data": {
            "text/plain": [
              "<IPython.core.display.HTML object>"
            ],
            "text/html": [
              "Tracking run with wandb version 0.19.10"
            ]
          },
          "metadata": {}
        },
        {
          "output_type": "display_data",
          "data": {
            "text/plain": [
              "<IPython.core.display.HTML object>"
            ],
            "text/html": [
              "Run data is saved locally in <code>/content/wandb/run-20250508_232106-coj0fl95</code>"
            ]
          },
          "metadata": {}
        },
        {
          "output_type": "display_data",
          "data": {
            "text/plain": [
              "<IPython.core.display.HTML object>"
            ],
            "text/html": [
              "Syncing run <strong><a href='https://wandb.ai/hpml-proj-deepchem/testing/runs/coj0fl95' target=\"_blank\">Torch.Compile</a></strong> to <a href='https://wandb.ai/hpml-proj-deepchem/testing' target=\"_blank\">Weights & Biases</a> (<a href='https://wandb.me/developer-guide' target=\"_blank\">docs</a>)<br>"
            ]
          },
          "metadata": {}
        },
        {
          "output_type": "display_data",
          "data": {
            "text/plain": [
              "<IPython.core.display.HTML object>"
            ],
            "text/html": [
              " View project at <a href='https://wandb.ai/hpml-proj-deepchem/testing' target=\"_blank\">https://wandb.ai/hpml-proj-deepchem/testing</a>"
            ]
          },
          "metadata": {}
        },
        {
          "output_type": "display_data",
          "data": {
            "text/plain": [
              "<IPython.core.display.HTML object>"
            ],
            "text/html": [
              " View run at <a href='https://wandb.ai/hpml-proj-deepchem/testing/runs/coj0fl95' target=\"_blank\">https://wandb.ai/hpml-proj-deepchem/testing/runs/coj0fl95</a>"
            ]
          },
          "metadata": {}
        },
        {
          "output_type": "stream",
          "name": "stdout",
          "text": [
            "\n",
            "--- Torch.Compile ---\n"
          ]
        },
        {
          "output_type": "stream",
          "name": "stderr",
          "text": [
            "\rEpoch 1/10:   0%|          | 0/37 [00:00<?, ?it/s]/usr/local/lib/python3.11/dist-packages/torch/_inductor/compile_fx.py:194: UserWarning: TensorFloat32 tensor cores for float32 matrix multiplication available but not enabled. Consider setting `torch.set_float32_matmul_precision('high')` for better performance.\n",
            "  warnings.warn(\n",
            "Epoch 1/10: 100%|██████████| 37/37 [00:27<00:00,  1.33it/s, loss=0.21]\n",
            "Evaluating: 100%|██████████| 5/5 [00:22<00:00,  4.42s/it]\n"
          ]
        },
        {
          "output_type": "stream",
          "name": "stdout",
          "text": [
            "Epoch 1 | Training Time: 27.78s | Train Loss: 0.2055 | Val Loss: 0.0966 | Val Accuracy: 0.9662\n"
          ]
        },
        {
          "output_type": "stream",
          "name": "stderr",
          "text": [
            "Epoch 2/10: 100%|██████████| 37/37 [00:02<00:00, 16.28it/s, loss=0.013]\n",
            "Evaluating: 100%|██████████| 5/5 [00:00<00:00, 29.57it/s]\n"
          ]
        },
        {
          "output_type": "stream",
          "name": "stdout",
          "text": [
            "Epoch 2 | Training Time: 2.28s | Train Loss: 0.0795 | Val Loss: 0.0871 | Val Accuracy: 0.9730\n"
          ]
        },
        {
          "output_type": "stream",
          "name": "stderr",
          "text": [
            "Epoch 3/10: 100%|██████████| 37/37 [00:02<00:00, 16.28it/s, loss=0.116]\n",
            "Evaluating: 100%|██████████| 5/5 [00:00<00:00, 29.83it/s]\n"
          ]
        },
        {
          "output_type": "stream",
          "name": "stdout",
          "text": [
            "Epoch 3 | Training Time: 2.28s | Train Loss: 0.0587 | Val Loss: 0.0820 | Val Accuracy: 0.9797\n"
          ]
        },
        {
          "output_type": "stream",
          "name": "stderr",
          "text": [
            "Epoch 4/10: 100%|██████████| 37/37 [00:02<00:00, 16.29it/s, loss=0.0227]\n",
            "Evaluating: 100%|██████████| 5/5 [00:00<00:00, 29.74it/s]\n"
          ]
        },
        {
          "output_type": "stream",
          "name": "stdout",
          "text": [
            "Epoch 4 | Training Time: 2.27s | Train Loss: 0.0513 | Val Loss: 0.1091 | Val Accuracy: 0.9662\n"
          ]
        },
        {
          "output_type": "stream",
          "name": "stderr",
          "text": [
            "Epoch 5/10: 100%|██████████| 37/37 [00:02<00:00, 16.07it/s, loss=0.0243]\n",
            "Evaluating: 100%|██████████| 5/5 [00:00<00:00, 29.35it/s]\n"
          ]
        },
        {
          "output_type": "stream",
          "name": "stdout",
          "text": [
            "Epoch 5 | Training Time: 2.31s | Train Loss: 0.0424 | Val Loss: 0.0941 | Val Accuracy: 0.9662\n"
          ]
        },
        {
          "output_type": "stream",
          "name": "stderr",
          "text": [
            "Epoch 6/10: 100%|██████████| 37/37 [00:02<00:00, 16.15it/s, loss=0.081]\n",
            "Evaluating: 100%|██████████| 5/5 [00:00<00:00, 29.91it/s]\n"
          ]
        },
        {
          "output_type": "stream",
          "name": "stdout",
          "text": [
            "Epoch 6 | Training Time: 2.29s | Train Loss: 0.0336 | Val Loss: 0.1362 | Val Accuracy: 0.9459\n"
          ]
        },
        {
          "output_type": "stream",
          "name": "stderr",
          "text": [
            "Epoch 7/10: 100%|██████████| 37/37 [00:02<00:00, 16.21it/s, loss=0.0984]\n",
            "Evaluating: 100%|██████████| 5/5 [00:00<00:00, 29.76it/s]\n"
          ]
        },
        {
          "output_type": "stream",
          "name": "stdout",
          "text": [
            "Epoch 7 | Training Time: 2.29s | Train Loss: 0.0227 | Val Loss: 0.0862 | Val Accuracy: 0.9662\n"
          ]
        },
        {
          "output_type": "stream",
          "name": "stderr",
          "text": [
            "Epoch 8/10: 100%|██████████| 37/37 [00:02<00:00, 16.03it/s, loss=0.00511]\n",
            "Evaluating: 100%|██████████| 5/5 [00:00<00:00, 29.28it/s]\n"
          ]
        },
        {
          "output_type": "stream",
          "name": "stdout",
          "text": [
            "Epoch 8 | Training Time: 2.31s | Train Loss: 0.0238 | Val Loss: 0.1349 | Val Accuracy: 0.9662\n"
          ]
        },
        {
          "output_type": "stream",
          "name": "stderr",
          "text": [
            "Epoch 9/10: 100%|██████████| 37/37 [00:02<00:00, 16.27it/s, loss=0.000895]\n",
            "Evaluating: 100%|██████████| 5/5 [00:00<00:00, 29.60it/s]\n"
          ]
        },
        {
          "output_type": "stream",
          "name": "stdout",
          "text": [
            "Epoch 9 | Training Time: 2.28s | Train Loss: 0.0233 | Val Loss: 0.0764 | Val Accuracy: 0.9865\n"
          ]
        },
        {
          "output_type": "stream",
          "name": "stderr",
          "text": [
            "Epoch 10/10: 100%|██████████| 37/37 [00:02<00:00, 16.05it/s, loss=0.119]\n",
            "Evaluating: 100%|██████████| 5/5 [00:00<00:00, 29.25it/s]\n"
          ]
        },
        {
          "output_type": "stream",
          "name": "stdout",
          "text": [
            "Epoch 10 | Training Time: 2.31s | Train Loss: 0.0279 | Val Loss: 0.0757 | Val Accuracy: 0.9797\n"
          ]
        },
        {
          "output_type": "stream",
          "name": "stderr",
          "text": [
            "Evaluating: 100%|██████████| 5/5 [00:00<00:00, 30.81it/s]\n"
          ]
        },
        {
          "output_type": "display_data",
          "data": {
            "text/plain": [
              "<IPython.core.display.HTML object>"
            ],
            "text/html": [
              "Finishing previous runs because reinit is set to 'default'."
            ]
          },
          "metadata": {}
        },
        {
          "output_type": "display_data",
          "data": {
            "text/plain": [
              "<IPython.core.display.HTML object>"
            ],
            "text/html": []
          },
          "metadata": {}
        },
        {
          "output_type": "display_data",
          "data": {
            "text/plain": [
              "<IPython.core.display.HTML object>"
            ],
            "text/html": [
              "<br>    <style><br>        .wandb-row {<br>            display: flex;<br>            flex-direction: row;<br>            flex-wrap: wrap;<br>            justify-content: flex-start;<br>            width: 100%;<br>        }<br>        .wandb-col {<br>            display: flex;<br>            flex-direction: column;<br>            flex-basis: 100%;<br>            flex: 1;<br>            padding: 10px;<br>        }<br>    </style><br><div class=\"wandb-row\"><div class=\"wandb-col\"><h3>Run history:</h3><br/><table class=\"wandb\"><tr><td>peak_gpu_memory</td><td>▁</td></tr><tr><td>test_accuracy</td><td>▁</td></tr><tr><td>test_loss</td><td>▁</td></tr><tr><td>throughput</td><td>▁</td></tr><tr><td>training_time</td><td>▁</td></tr></table><br/></div><div class=\"wandb-col\"><h3>Run summary:</h3><br/><table class=\"wandb\"><tr><td>peak_gpu_memory</td><td>1494.97021</td></tr><tr><td>test_accuracy</td><td>0.98649</td></tr><tr><td>test_loss</td><td>0.06591</td></tr><tr><td>throughput</td><td>164.34009</td></tr><tr><td>training_time</td><td>72.04572</td></tr></table><br/></div></div>"
            ]
          },
          "metadata": {}
        },
        {
          "output_type": "display_data",
          "data": {
            "text/plain": [
              "<IPython.core.display.HTML object>"
            ],
            "text/html": [
              " View run <strong style=\"color:#cdcd00\">Torch.Compile</strong> at: <a href='https://wandb.ai/hpml-proj-deepchem/testing/runs/coj0fl95' target=\"_blank\">https://wandb.ai/hpml-proj-deepchem/testing/runs/coj0fl95</a><br> View project at: <a href='https://wandb.ai/hpml-proj-deepchem/testing' target=\"_blank\">https://wandb.ai/hpml-proj-deepchem/testing</a><br>Synced 5 W&B file(s), 0 media file(s), 0 artifact file(s) and 0 other file(s)"
            ]
          },
          "metadata": {}
        },
        {
          "output_type": "display_data",
          "data": {
            "text/plain": [
              "<IPython.core.display.HTML object>"
            ],
            "text/html": [
              "Find logs at: <code>./wandb/run-20250508_232106-coj0fl95/logs</code>"
            ]
          },
          "metadata": {}
        },
        {
          "output_type": "display_data",
          "data": {
            "text/plain": [
              "<IPython.core.display.HTML object>"
            ],
            "text/html": [
              "Tracking run with wandb version 0.19.10"
            ]
          },
          "metadata": {}
        },
        {
          "output_type": "display_data",
          "data": {
            "text/plain": [
              "<IPython.core.display.HTML object>"
            ],
            "text/html": [
              "Run data is saved locally in <code>/content/wandb/run-20250508_232220-2us542ff</code>"
            ]
          },
          "metadata": {}
        },
        {
          "output_type": "display_data",
          "data": {
            "text/plain": [
              "<IPython.core.display.HTML object>"
            ],
            "text/html": [
              "Syncing run <strong><a href='https://wandb.ai/hpml-proj-deepchem/testing/runs/2us542ff' target=\"_blank\">Torch.Compile_loss_curves</a></strong> to <a href='https://wandb.ai/hpml-proj-deepchem/testing' target=\"_blank\">Weights & Biases</a> (<a href='https://wandb.me/developer-guide' target=\"_blank\">docs</a>)<br>"
            ]
          },
          "metadata": {}
        },
        {
          "output_type": "display_data",
          "data": {
            "text/plain": [
              "<IPython.core.display.HTML object>"
            ],
            "text/html": [
              " View project at <a href='https://wandb.ai/hpml-proj-deepchem/testing' target=\"_blank\">https://wandb.ai/hpml-proj-deepchem/testing</a>"
            ]
          },
          "metadata": {}
        },
        {
          "output_type": "display_data",
          "data": {
            "text/plain": [
              "<IPython.core.display.HTML object>"
            ],
            "text/html": [
              " View run at <a href='https://wandb.ai/hpml-proj-deepchem/testing/runs/2us542ff' target=\"_blank\">https://wandb.ai/hpml-proj-deepchem/testing/runs/2us542ff</a>"
            ]
          },
          "metadata": {}
        },
        {
          "output_type": "display_data",
          "data": {
            "text/plain": [
              "<IPython.core.display.HTML object>"
            ],
            "text/html": []
          },
          "metadata": {}
        },
        {
          "output_type": "display_data",
          "data": {
            "text/plain": [
              "<IPython.core.display.HTML object>"
            ],
            "text/html": [
              " View run <strong style=\"color:#cdcd00\">Torch.Compile_loss_curves</strong> at: <a href='https://wandb.ai/hpml-proj-deepchem/testing/runs/2us542ff' target=\"_blank\">https://wandb.ai/hpml-proj-deepchem/testing/runs/2us542ff</a><br> View project at: <a href='https://wandb.ai/hpml-proj-deepchem/testing' target=\"_blank\">https://wandb.ai/hpml-proj-deepchem/testing</a><br>Synced 5 W&B file(s), 1 media file(s), 0 artifact file(s) and 0 other file(s)"
            ]
          },
          "metadata": {}
        },
        {
          "output_type": "display_data",
          "data": {
            "text/plain": [
              "<IPython.core.display.HTML object>"
            ],
            "text/html": [
              "Find logs at: <code>./wandb/run-20250508_232220-2us542ff/logs</code>"
            ]
          },
          "metadata": {}
        },
        {
          "output_type": "display_data",
          "data": {
            "text/plain": [
              "<IPython.core.display.HTML object>"
            ],
            "text/html": [
              "Tracking run with wandb version 0.19.10"
            ]
          },
          "metadata": {}
        },
        {
          "output_type": "display_data",
          "data": {
            "text/plain": [
              "<IPython.core.display.HTML object>"
            ],
            "text/html": [
              "Run data is saved locally in <code>/content/wandb/run-20250508_232222-sk1jolts</code>"
            ]
          },
          "metadata": {}
        },
        {
          "output_type": "display_data",
          "data": {
            "text/plain": [
              "<IPython.core.display.HTML object>"
            ],
            "text/html": [
              "Syncing run <strong><a href='https://wandb.ai/hpml-proj-deepchem/testing/runs/sk1jolts' target=\"_blank\">Torch.Compile_accuracy_curves</a></strong> to <a href='https://wandb.ai/hpml-proj-deepchem/testing' target=\"_blank\">Weights & Biases</a> (<a href='https://wandb.me/developer-guide' target=\"_blank\">docs</a>)<br>"
            ]
          },
          "metadata": {}
        },
        {
          "output_type": "display_data",
          "data": {
            "text/plain": [
              "<IPython.core.display.HTML object>"
            ],
            "text/html": [
              " View project at <a href='https://wandb.ai/hpml-proj-deepchem/testing' target=\"_blank\">https://wandb.ai/hpml-proj-deepchem/testing</a>"
            ]
          },
          "metadata": {}
        },
        {
          "output_type": "display_data",
          "data": {
            "text/plain": [
              "<IPython.core.display.HTML object>"
            ],
            "text/html": [
              " View run at <a href='https://wandb.ai/hpml-proj-deepchem/testing/runs/sk1jolts' target=\"_blank\">https://wandb.ai/hpml-proj-deepchem/testing/runs/sk1jolts</a>"
            ]
          },
          "metadata": {}
        },
        {
          "output_type": "display_data",
          "data": {
            "text/plain": [
              "<IPython.core.display.HTML object>"
            ],
            "text/html": []
          },
          "metadata": {}
        },
        {
          "output_type": "display_data",
          "data": {
            "text/plain": [
              "<IPython.core.display.HTML object>"
            ],
            "text/html": [
              " View run <strong style=\"color:#cdcd00\">Torch.Compile_accuracy_curves</strong> at: <a href='https://wandb.ai/hpml-proj-deepchem/testing/runs/sk1jolts' target=\"_blank\">https://wandb.ai/hpml-proj-deepchem/testing/runs/sk1jolts</a><br> View project at: <a href='https://wandb.ai/hpml-proj-deepchem/testing' target=\"_blank\">https://wandb.ai/hpml-proj-deepchem/testing</a><br>Synced 5 W&B file(s), 1 media file(s), 0 artifact file(s) and 0 other file(s)"
            ]
          },
          "metadata": {}
        },
        {
          "output_type": "display_data",
          "data": {
            "text/plain": [
              "<IPython.core.display.HTML object>"
            ],
            "text/html": [
              "Find logs at: <code>./wandb/run-20250508_232222-sk1jolts/logs</code>"
            ]
          },
          "metadata": {}
        },
        {
          "output_type": "display_data",
          "data": {
            "text/plain": [
              "<IPython.core.display.HTML object>"
            ],
            "text/html": [
              "Tracking run with wandb version 0.19.10"
            ]
          },
          "metadata": {}
        },
        {
          "output_type": "display_data",
          "data": {
            "text/plain": [
              "<IPython.core.display.HTML object>"
            ],
            "text/html": [
              "Run data is saved locally in <code>/content/wandb/run-20250508_232223-xfpho2vh</code>"
            ]
          },
          "metadata": {}
        },
        {
          "output_type": "display_data",
          "data": {
            "text/plain": [
              "<IPython.core.display.HTML object>"
            ],
            "text/html": [
              "Syncing run <strong><a href='https://wandb.ai/hpml-proj-deepchem/testing/runs/xfpho2vh' target=\"_blank\">Torch.Compile_epoch_times</a></strong> to <a href='https://wandb.ai/hpml-proj-deepchem/testing' target=\"_blank\">Weights & Biases</a> (<a href='https://wandb.me/developer-guide' target=\"_blank\">docs</a>)<br>"
            ]
          },
          "metadata": {}
        },
        {
          "output_type": "display_data",
          "data": {
            "text/plain": [
              "<IPython.core.display.HTML object>"
            ],
            "text/html": [
              " View project at <a href='https://wandb.ai/hpml-proj-deepchem/testing' target=\"_blank\">https://wandb.ai/hpml-proj-deepchem/testing</a>"
            ]
          },
          "metadata": {}
        },
        {
          "output_type": "display_data",
          "data": {
            "text/plain": [
              "<IPython.core.display.HTML object>"
            ],
            "text/html": [
              " View run at <a href='https://wandb.ai/hpml-proj-deepchem/testing/runs/xfpho2vh' target=\"_blank\">https://wandb.ai/hpml-proj-deepchem/testing/runs/xfpho2vh</a>"
            ]
          },
          "metadata": {}
        },
        {
          "output_type": "display_data",
          "data": {
            "text/plain": [
              "<IPython.core.display.HTML object>"
            ],
            "text/html": []
          },
          "metadata": {}
        },
        {
          "output_type": "display_data",
          "data": {
            "text/plain": [
              "<IPython.core.display.HTML object>"
            ],
            "text/html": [
              " View run <strong style=\"color:#cdcd00\">Torch.Compile_epoch_times</strong> at: <a href='https://wandb.ai/hpml-proj-deepchem/testing/runs/xfpho2vh' target=\"_blank\">https://wandb.ai/hpml-proj-deepchem/testing/runs/xfpho2vh</a><br> View project at: <a href='https://wandb.ai/hpml-proj-deepchem/testing' target=\"_blank\">https://wandb.ai/hpml-proj-deepchem/testing</a><br>Synced 5 W&B file(s), 1 media file(s), 0 artifact file(s) and 0 other file(s)"
            ]
          },
          "metadata": {}
        },
        {
          "output_type": "display_data",
          "data": {
            "text/plain": [
              "<IPython.core.display.HTML object>"
            ],
            "text/html": [
              "Find logs at: <code>./wandb/run-20250508_232223-xfpho2vh/logs</code>"
            ]
          },
          "metadata": {}
        },
        {
          "output_type": "stream",
          "name": "stdout",
          "text": [
            "\n",
            "--- Torch.Compile ---\n",
            "Total Training Time: 72.05 seconds\n",
            "Test Loss: 0.0659 | Test Accuracy: 0.9865\n",
            "Throughput: 164.34 samples/sec\n",
            "Peak GPU Memory Usage: 1494.97 MB\n"
          ]
        },
        {
          "output_type": "display_data",
          "data": {
            "text/plain": [
              "<Figure size 1000x600 with 1 Axes>"
            ],
            "image/png": "[encoded data removed]"
          },
          "metadata": {}
        },
        {
          "output_type": "display_data",
          "data": {
            "text/plain": [
              "<Figure size 1000x600 with 1 Axes>"
            ],
            "image/png": "[encoded data removed]"
          },
          "metadata": {}
        },
        {
          "output_type": "display_data",
          "data": {
            "text/plain": [
              "<Figure size 1000x600 with 1 Axes>"
            ],
            "image/png": "[encoded data removed]"
          },
          "metadata": {}
        }
      ]
    },
    {
      "cell_type": "code",
      "source": [
        "tokenizer = AutoTokenizer.from_pretrained(MODEL_NAME)\n",
        "model = setup_lora_model(MODEL_NAME)\n",
        "\n",
        "compiled_overhead_model = torch.compile(model, mode = \"reduce-overhead\")\n",
        "\n",
        "compile_overhead_metrics = train_and_profile(compiled_overhead_model, tokenizer, \"Torch.Compile Reduce-Overhead Mode\")"
      ],
      "metadata": {
        "colab": {
          "base_uri": "https://localhost:8080/",
          "height": 1000
        },
        "id": "mfPhwd3k9rcw",
        "outputId": "c04c1f27-b9e9-4f59-d25e-99269a3ffac7"
      },
      "execution_count": 12,
      "outputs": [
        {
          "output_type": "stream",
          "name": "stderr",
          "text": [
            "Some weights of RobertaForSequenceClassification were not initialized from the model checkpoint at seyonec/ChemBERTa-zinc-base-v1 and are newly initialized: ['classifier.dense.bias', 'classifier.dense.weight', 'classifier.out_proj.bias', 'classifier.out_proj.weight']\n",
            "You should probably TRAIN this model on a down-stream task to be able to use it for predictions and inference.\n"
          ]
        },
        {
          "output_type": "display_data",
          "data": {
            "text/plain": [
              "<IPython.core.display.HTML object>"
            ],
            "text/html": [
              "Tracking run with wandb version 0.19.10"
            ]
          },
          "metadata": {}
        },
        {
          "output_type": "display_data",
          "data": {
            "text/plain": [
              "<IPython.core.display.HTML object>"
            ],
            "text/html": [
              "Run data is saved locally in <code>/content/wandb/run-20250508_232226-lqfz8vqo</code>"
            ]
          },
          "metadata": {}
        },
        {
          "output_type": "display_data",
          "data": {
            "text/plain": [
              "<IPython.core.display.HTML object>"
            ],
            "text/html": [
              "Syncing run <strong><a href='https://wandb.ai/hpml-proj-deepchem/testing/runs/lqfz8vqo' target=\"_blank\">Torch.Compile Reduce-Overhead Mode</a></strong> to <a href='https://wandb.ai/hpml-proj-deepchem/testing' target=\"_blank\">Weights & Biases</a> (<a href='https://wandb.me/developer-guide' target=\"_blank\">docs</a>)<br>"
            ]
          },
          "metadata": {}
        },
        {
          "output_type": "display_data",
          "data": {
            "text/plain": [
              "<IPython.core.display.HTML object>"
            ],
            "text/html": [
              " View project at <a href='https://wandb.ai/hpml-proj-deepchem/testing' target=\"_blank\">https://wandb.ai/hpml-proj-deepchem/testing</a>"
            ]
          },
          "metadata": {}
        },
        {
          "output_type": "display_data",
          "data": {
            "text/plain": [
              "<IPython.core.display.HTML object>"
            ],
            "text/html": [
              " View run at <a href='https://wandb.ai/hpml-proj-deepchem/testing/runs/lqfz8vqo' target=\"_blank\">https://wandb.ai/hpml-proj-deepchem/testing/runs/lqfz8vqo</a>"
            ]
          },
          "metadata": {}
        },
        {
          "output_type": "stream",
          "name": "stdout",
          "text": [
            "\n",
            "--- Torch.Compile Reduce-Overhead Mode ---\n"
          ]
        },
        {
          "output_type": "stream",
          "name": "stderr",
          "text": [
            "Epoch 1/10: 100%|██████████| 37/37 [00:29<00:00,  1.25it/s, loss=0.181]\n",
            "Evaluating: 100%|██████████| 5/5 [00:12<00:00,  2.55s/it]\n"
          ]
        },
        {
          "output_type": "stream",
          "name": "stdout",
          "text": [
            "Epoch 1 | Training Time: 29.51s | Train Loss: 0.1973 | Val Loss: 0.0962 | Val Accuracy: 0.9730\n"
          ]
        },
        {
          "output_type": "stream",
          "name": "stderr",
          "text": [
            "Epoch 2/10: 100%|██████████| 37/37 [00:02<00:00, 16.28it/s, loss=0.113]\n",
            "Evaluating: 100%|██████████| 5/5 [00:00<00:00,  5.60it/s]\n"
          ]
        },
        {
          "output_type": "stream",
          "name": "stdout",
          "text": [
            "Epoch 2 | Training Time: 2.28s | Train Loss: 0.0899 | Val Loss: 0.0880 | Val Accuracy: 0.9730\n"
          ]
        },
        {
          "output_type": "stream",
          "name": "stderr",
          "text": [
            "Epoch 3/10: 100%|██████████| 37/37 [00:02<00:00, 16.41it/s, loss=0.0589]\n",
            "Evaluating: 100%|██████████| 5/5 [00:00<00:00, 30.23it/s]\n"
          ]
        },
        {
          "output_type": "stream",
          "name": "stdout",
          "text": [
            "Epoch 3 | Training Time: 2.26s | Train Loss: 0.0583 | Val Loss: 0.0814 | Val Accuracy: 0.9662\n"
          ]
        },
        {
          "output_type": "stream",
          "name": "stderr",
          "text": [
            "Epoch 4/10: 100%|██████████| 37/37 [00:02<00:00, 16.39it/s, loss=0.149]\n",
            "Evaluating: 100%|██████████| 5/5 [00:00<00:00, 29.39it/s]\n"
          ]
        },
        {
          "output_type": "stream",
          "name": "stdout",
          "text": [
            "Epoch 4 | Training Time: 2.26s | Train Loss: 0.0478 | Val Loss: 0.0759 | Val Accuracy: 0.9797\n"
          ]
        },
        {
          "output_type": "stream",
          "name": "stderr",
          "text": [
            "Epoch 5/10: 100%|██████████| 37/37 [00:02<00:00, 16.16it/s, loss=0.0126]\n",
            "Evaluating: 100%|██████████| 5/5 [00:00<00:00, 30.07it/s]\n"
          ]
        },
        {
          "output_type": "stream",
          "name": "stdout",
          "text": [
            "Epoch 5 | Training Time: 2.29s | Train Loss: 0.0437 | Val Loss: 0.1119 | Val Accuracy: 0.9459\n"
          ]
        },
        {
          "output_type": "stream",
          "name": "stderr",
          "text": [
            "Epoch 6/10: 100%|██████████| 37/37 [00:02<00:00, 16.39it/s, loss=0.0688]\n",
            "Evaluating: 100%|██████████| 5/5 [00:00<00:00, 29.51it/s]\n"
          ]
        },
        {
          "output_type": "stream",
          "name": "stdout",
          "text": [
            "Epoch 6 | Training Time: 2.26s | Train Loss: 0.0354 | Val Loss: 0.0854 | Val Accuracy: 0.9662\n"
          ]
        },
        {
          "output_type": "stream",
          "name": "stderr",
          "text": [
            "Epoch 7/10: 100%|██████████| 37/37 [00:02<00:00, 16.25it/s, loss=0.011]\n",
            "Evaluating: 100%|██████████| 5/5 [00:00<00:00, 30.23it/s]\n"
          ]
        },
        {
          "output_type": "stream",
          "name": "stdout",
          "text": [
            "Epoch 7 | Training Time: 2.28s | Train Loss: 0.0284 | Val Loss: 0.0777 | Val Accuracy: 0.9797\n"
          ]
        },
        {
          "output_type": "stream",
          "name": "stderr",
          "text": [
            "Epoch 8/10: 100%|██████████| 37/37 [00:02<00:00, 16.40it/s, loss=0.141]\n",
            "Evaluating: 100%|██████████| 5/5 [00:00<00:00, 29.80it/s]\n"
          ]
        },
        {
          "output_type": "stream",
          "name": "stdout",
          "text": [
            "Epoch 8 | Training Time: 2.26s | Train Loss: 0.0288 | Val Loss: 0.0783 | Val Accuracy: 0.9730\n"
          ]
        },
        {
          "output_type": "stream",
          "name": "stderr",
          "text": [
            "Epoch 9/10: 100%|██████████| 37/37 [00:02<00:00, 16.30it/s, loss=0.000583]\n",
            "Evaluating: 100%|██████████| 5/5 [00:00<00:00, 29.65it/s]\n"
          ]
        },
        {
          "output_type": "stream",
          "name": "stdout",
          "text": [
            "Epoch 9 | Training Time: 2.27s | Train Loss: 0.0240 | Val Loss: 0.1309 | Val Accuracy: 0.9459\n"
          ]
        },
        {
          "output_type": "stream",
          "name": "stderr",
          "text": [
            "Epoch 10/10: 100%|██████████| 37/37 [00:02<00:00, 16.23it/s, loss=0.102]\n",
            "Evaluating: 100%|██████████| 5/5 [00:00<00:00, 29.74it/s]\n"
          ]
        },
        {
          "output_type": "stream",
          "name": "stdout",
          "text": [
            "Epoch 10 | Training Time: 2.28s | Train Loss: 0.0195 | Val Loss: 0.1236 | Val Accuracy: 0.9392\n"
          ]
        },
        {
          "output_type": "stream",
          "name": "stderr",
          "text": [
            "Evaluating: 100%|██████████| 5/5 [00:00<00:00, 30.99it/s]\n"
          ]
        },
        {
          "output_type": "display_data",
          "data": {
            "text/plain": [
              "<IPython.core.display.HTML object>"
            ],
            "text/html": [
              "Finishing previous runs because reinit is set to 'default'."
            ]
          },
          "metadata": {}
        },
        {
          "output_type": "display_data",
          "data": {
            "text/plain": [
              "<IPython.core.display.HTML object>"
            ],
            "text/html": []
          },
          "metadata": {}
        },
        {
          "output_type": "display_data",
          "data": {
            "text/plain": [
              "<IPython.core.display.HTML object>"
            ],
            "text/html": [
              "<br>    <style><br>        .wandb-row {<br>            display: flex;<br>            flex-direction: row;<br>            flex-wrap: wrap;<br>            justify-content: flex-start;<br>            width: 100%;<br>        }<br>        .wandb-col {<br>            display: flex;<br>            flex-direction: column;<br>            flex-basis: 100%;<br>            flex: 1;<br>            padding: 10px;<br>        }<br>    </style><br><div class=\"wandb-row\"><div class=\"wandb-col\"><h3>Run history:</h3><br/><table class=\"wandb\"><tr><td>peak_gpu_memory</td><td>▁</td></tr><tr><td>test_accuracy</td><td>▁</td></tr><tr><td>test_loss</td><td>▁</td></tr><tr><td>throughput</td><td>▁</td></tr><tr><td>training_time</td><td>▁</td></tr></table><br/></div><div class=\"wandb-col\"><h3>Run summary:</h3><br/><table class=\"wandb\"><tr><td>peak_gpu_memory</td><td>1671.99805</td></tr><tr><td>test_accuracy</td><td>0.98649</td></tr><tr><td>test_loss</td><td>0.06563</td></tr><tr><td>throughput</td><td>182.11447</td></tr><tr><td>training_time</td><td>65.01406</td></tr></table><br/></div></div>"
            ]
          },
          "metadata": {}
        },
        {
          "output_type": "display_data",
          "data": {
            "text/plain": [
              "<IPython.core.display.HTML object>"
            ],
            "text/html": [
              " View run <strong style=\"color:#cdcd00\">Torch.Compile Reduce-Overhead Mode</strong> at: <a href='https://wandb.ai/hpml-proj-deepchem/testing/runs/lqfz8vqo' target=\"_blank\">https://wandb.ai/hpml-proj-deepchem/testing/runs/lqfz8vqo</a><br> View project at: <a href='https://wandb.ai/hpml-proj-deepchem/testing' target=\"_blank\">https://wandb.ai/hpml-proj-deepchem/testing</a><br>Synced 5 W&B file(s), 0 media file(s), 0 artifact file(s) and 0 other file(s)"
            ]
          },
          "metadata": {}
        },
        {
          "output_type": "display_data",
          "data": {
            "text/plain": [
              "<IPython.core.display.HTML object>"
            ],
            "text/html": [
              "Find logs at: <code>./wandb/run-20250508_232226-lqfz8vqo/logs</code>"
            ]
          },
          "metadata": {}
        },
        {
          "output_type": "display_data",
          "data": {
            "text/plain": [
              "<IPython.core.display.HTML object>"
            ],
            "text/html": [
              "Tracking run with wandb version 0.19.10"
            ]
          },
          "metadata": {}
        },
        {
          "output_type": "display_data",
          "data": {
            "text/plain": [
              "<IPython.core.display.HTML object>"
            ],
            "text/html": [
              "Run data is saved locally in <code>/content/wandb/run-20250508_232333-2koabnfu</code>"
            ]
          },
          "metadata": {}
        },
        {
          "output_type": "display_data",
          "data": {
            "text/plain": [
              "<IPython.core.display.HTML object>"
            ],
            "text/html": [
              "Syncing run <strong><a href='https://wandb.ai/hpml-proj-deepchem/testing/runs/2koabnfu' target=\"_blank\">Torch.Compile Reduce-Overhead Mode_loss_curves</a></strong> to <a href='https://wandb.ai/hpml-proj-deepchem/testing' target=\"_blank\">Weights & Biases</a> (<a href='https://wandb.me/developer-guide' target=\"_blank\">docs</a>)<br>"
            ]
          },
          "metadata": {}
        },
        {
          "output_type": "display_data",
          "data": {
            "text/plain": [
              "<IPython.core.display.HTML object>"
            ],
            "text/html": [
              " View project at <a href='https://wandb.ai/hpml-proj-deepchem/testing' target=\"_blank\">https://wandb.ai/hpml-proj-deepchem/testing</a>"
            ]
          },
          "metadata": {}
        },
        {
          "output_type": "display_data",
          "data": {
            "text/plain": [
              "<IPython.core.display.HTML object>"
            ],
            "text/html": [
              " View run at <a href='https://wandb.ai/hpml-proj-deepchem/testing/runs/2koabnfu' target=\"_blank\">https://wandb.ai/hpml-proj-deepchem/testing/runs/2koabnfu</a>"
            ]
          },
          "metadata": {}
        },
        {
          "output_type": "display_data",
          "data": {
            "text/plain": [
              "<IPython.core.display.HTML object>"
            ],
            "text/html": []
          },
          "metadata": {}
        },
        {
          "output_type": "display_data",
          "data": {
            "text/plain": [
              "<IPython.core.display.HTML object>"
            ],
            "text/html": [
              " View run <strong style=\"color:#cdcd00\">Torch.Compile Reduce-Overhead Mode_loss_curves</strong> at: <a href='https://wandb.ai/hpml-proj-deepchem/testing/runs/2koabnfu' target=\"_blank\">https://wandb.ai/hpml-proj-deepchem/testing/runs/2koabnfu</a><br> View project at: <a href='https://wandb.ai/hpml-proj-deepchem/testing' target=\"_blank\">https://wandb.ai/hpml-proj-deepchem/testing</a><br>Synced 5 W&B file(s), 1 media file(s), 0 artifact file(s) and 0 other file(s)"
            ]
          },
          "metadata": {}
        },
        {
          "output_type": "display_data",
          "data": {
            "text/plain": [
              "<IPython.core.display.HTML object>"
            ],
            "text/html": [
              "Find logs at: <code>./wandb/run-20250508_232333-2koabnfu/logs</code>"
            ]
          },
          "metadata": {}
        },
        {
          "output_type": "display_data",
          "data": {
            "text/plain": [
              "<IPython.core.display.HTML object>"
            ],
            "text/html": [
              "Tracking run with wandb version 0.19.10"
            ]
          },
          "metadata": {}
        },
        {
          "output_type": "display_data",
          "data": {
            "text/plain": [
              "<IPython.core.display.HTML object>"
            ],
            "text/html": [
              "Run data is saved locally in <code>/content/wandb/run-20250508_232335-imwf563e</code>"
            ]
          },
          "metadata": {}
        },
        {
          "output_type": "display_data",
          "data": {
            "text/plain": [
              "<IPython.core.display.HTML object>"
            ],
            "text/html": [
              "Syncing run <strong><a href='https://wandb.ai/hpml-proj-deepchem/testing/runs/imwf563e' target=\"_blank\">Torch.Compile Reduce-Overhead Mode_accuracy_curves</a></strong> to <a href='https://wandb.ai/hpml-proj-deepchem/testing' target=\"_blank\">Weights & Biases</a> (<a href='https://wandb.me/developer-guide' target=\"_blank\">docs</a>)<br>"
            ]
          },
          "metadata": {}
        },
        {
          "output_type": "display_data",
          "data": {
            "text/plain": [
              "<IPython.core.display.HTML object>"
            ],
            "text/html": [
              " View project at <a href='https://wandb.ai/hpml-proj-deepchem/testing' target=\"_blank\">https://wandb.ai/hpml-proj-deepchem/testing</a>"
            ]
          },
          "metadata": {}
        },
        {
          "output_type": "display_data",
          "data": {
            "text/plain": [
              "<IPython.core.display.HTML object>"
            ],
            "text/html": [
              " View run at <a href='https://wandb.ai/hpml-proj-deepchem/testing/runs/imwf563e' target=\"_blank\">https://wandb.ai/hpml-proj-deepchem/testing/runs/imwf563e</a>"
            ]
          },
          "metadata": {}
        },
        {
          "output_type": "display_data",
          "data": {
            "text/plain": [
              "<IPython.core.display.HTML object>"
            ],
            "text/html": []
          },
          "metadata": {}
        },
        {
          "output_type": "display_data",
          "data": {
            "text/plain": [
              "<IPython.core.display.HTML object>"
            ],
            "text/html": [
              " View run <strong style=\"color:#cdcd00\">Torch.Compile Reduce-Overhead Mode_accuracy_curves</strong> at: <a href='https://wandb.ai/hpml-proj-deepchem/testing/runs/imwf563e' target=\"_blank\">https://wandb.ai/hpml-proj-deepchem/testing/runs/imwf563e</a><br> View project at: <a href='https://wandb.ai/hpml-proj-deepchem/testing' target=\"_blank\">https://wandb.ai/hpml-proj-deepchem/testing</a><br>Synced 5 W&B file(s), 1 media file(s), 0 artifact file(s) and 0 other file(s)"
            ]
          },
          "metadata": {}
        },
        {
          "output_type": "display_data",
          "data": {
            "text/plain": [
              "<IPython.core.display.HTML object>"
            ],
            "text/html": [
              "Find logs at: <code>./wandb/run-20250508_232335-imwf563e/logs</code>"
            ]
          },
          "metadata": {}
        },
        {
          "output_type": "display_data",
          "data": {
            "text/plain": [
              "<IPython.core.display.HTML object>"
            ],
            "text/html": [
              "Tracking run with wandb version 0.19.10"
            ]
          },
          "metadata": {}
        },
        {
          "output_type": "display_data",
          "data": {
            "text/plain": [
              "<IPython.core.display.HTML object>"
            ],
            "text/html": [
              "Run data is saved locally in <code>/content/wandb/run-20250508_232336-m6yd2aec</code>"
            ]
          },
          "metadata": {}
        },
        {
          "output_type": "display_data",
          "data": {
            "text/plain": [
              "<IPython.core.display.HTML object>"
            ],
            "text/html": [
              "Syncing run <strong><a href='https://wandb.ai/hpml-proj-deepchem/testing/runs/m6yd2aec' target=\"_blank\">Torch.Compile Reduce-Overhead Mode_epoch_times</a></strong> to <a href='https://wandb.ai/hpml-proj-deepchem/testing' target=\"_blank\">Weights & Biases</a> (<a href='https://wandb.me/developer-guide' target=\"_blank\">docs</a>)<br>"
            ]
          },
          "metadata": {}
        },
        {
          "output_type": "display_data",
          "data": {
            "text/plain": [
              "<IPython.core.display.HTML object>"
            ],
            "text/html": [
              " View project at <a href='https://wandb.ai/hpml-proj-deepchem/testing' target=\"_blank\">https://wandb.ai/hpml-proj-deepchem/testing</a>"
            ]
          },
          "metadata": {}
        },
        {
          "output_type": "display_data",
          "data": {
            "text/plain": [
              "<IPython.core.display.HTML object>"
            ],
            "text/html": [
              " View run at <a href='https://wandb.ai/hpml-proj-deepchem/testing/runs/m6yd2aec' target=\"_blank\">https://wandb.ai/hpml-proj-deepchem/testing/runs/m6yd2aec</a>"
            ]
          },
          "metadata": {}
        },
        {
          "output_type": "display_data",
          "data": {
            "text/plain": [
              "<IPython.core.display.HTML object>"
            ],
            "text/html": []
          },
          "metadata": {}
        },
        {
          "output_type": "display_data",
          "data": {
            "text/plain": [
              "<IPython.core.display.HTML object>"
            ],
            "text/html": [
              " View run <strong style=\"color:#cdcd00\">Torch.Compile Reduce-Overhead Mode_epoch_times</strong> at: <a href='https://wandb.ai/hpml-proj-deepchem/testing/runs/m6yd2aec' target=\"_blank\">https://wandb.ai/hpml-proj-deepchem/testing/runs/m6yd2aec</a><br> View project at: <a href='https://wandb.ai/hpml-proj-deepchem/testing' target=\"_blank\">https://wandb.ai/hpml-proj-deepchem/testing</a><br>Synced 5 W&B file(s), 1 media file(s), 0 artifact file(s) and 0 other file(s)"
            ]
          },
          "metadata": {}
        },
        {
          "output_type": "display_data",
          "data": {
            "text/plain": [
              "<IPython.core.display.HTML object>"
            ],
            "text/html": [
              "Find logs at: <code>./wandb/run-20250508_232336-m6yd2aec/logs</code>"
            ]
          },
          "metadata": {}
        },
        {
          "output_type": "stream",
          "name": "stdout",
          "text": [
            "\n",
            "--- Torch.Compile Reduce-Overhead Mode ---\n",
            "Total Training Time: 65.01 seconds\n",
            "Test Loss: 0.0656 | Test Accuracy: 0.9865\n",
            "Throughput: 182.11 samples/sec\n",
            "Peak GPU Memory Usage: 1672.00 MB\n"
          ]
        },
        {
          "output_type": "display_data",
          "data": {
            "text/plain": [
              "<Figure size 1000x600 with 1 Axes>"
            ],
            "image/png": "[encoded data removed]"
          },
          "metadata": {}
        },
        {
          "output_type": "display_data",
          "data": {
            "text/plain": [
              "<Figure size 1000x600 with 1 Axes>"
            ],
            "image/png": "[encoded data removed]"
          },
          "metadata": {}
        },
        {
          "output_type": "display_data",
          "data": {
            "text/plain": [
              "<Figure size 1000x600 with 1 Axes>"
            ],
            "image/png": "[encoded data removed]"
          },
          "metadata": {}
        }
      ]
    },
    {
      "cell_type": "code",
      "source": [
        "def plot_metrics(baseline_metrics, torch_compile_metrics, compile_overhead_metrics):\n",
        "    \"\"\"\n",
        "    Log a bar chart comparing training time, test accuracy, throughputs, and peak memory usages for all models.\n",
        "    \"\"\"\n",
        "\n",
        "    models = [\"Baseline\", \"Torch.Compile\", \"Torch.Compile\\nReduce-Overhead\\nMode\"]\n",
        "\n",
        "    training_times = [baseline_metrics[\"training_time\"], torch_compile_metrics[\"training_time\"], compile_overhead_metrics[\"training_time\"]]\n",
        "    test_accuracies = [baseline_metrics[\"test_accuracy\"], torch_compile_metrics[\"test_accuracy\"], compile_overhead_metrics[\"test_accuracy\"]]\n",
        "    throughputs = [baseline_metrics[\"throughput\"], torch_compile_metrics[\"throughput\"], compile_overhead_metrics[\"throughput\"]]\n",
        "    peak_memory_usages = [baseline_metrics[\"peak_memory_usage\"], torch_compile_metrics[\"peak_memory_usage\"], compile_overhead_metrics[\"peak_memory_usage\"]]\n",
        "\n",
        "\n",
        "    fig, axs = plt.subplots(2, 2, figsize=(10, 10))\n",
        "    axs = axs.flatten()\n",
        "    axs[0].bar(models, training_times, color=[\"blue\", \"green\", \"red\"])\n",
        "    axs[0].set_title(\"Training Times\")\n",
        "    axs[0].set_ylabel(\"Seconds\")\n",
        "    #axs[0].set_xticklabels(models, rotation=45)\n",
        "\n",
        "    axs[1].bar(models, test_accuracies, color=[\"blue\", \"green\", \"red\"])\n",
        "    axs[1].set_title(\"Test Accuracies\")\n",
        "    axs[1].set_ylabel(\"Accuracy\")\n",
        "\n",
        "    axs[2].bar(models, throughputs, color=[\"blue\", \"green\", \"red\"])\n",
        "    axs[2].set_title(\"Throughput\")\n",
        "    axs[2].set_ylabel(\"Samples/sec\")\n",
        "\n",
        "    axs[3].bar(models, peak_memory_usages, color=[\"blue\", \"green\", \"red\"])\n",
        "    axs[3].set_title(\"Peak GPU Memory Usage\")\n",
        "    axs[3].set_ylabel(\"MB\")\n",
        "\n",
        "    plt.tight_layout()\n",
        "\n"
      ],
      "metadata": {
        "id": "lq8O_YYzEEMo"
      },
      "execution_count": 13,
      "outputs": []
    },
    {
      "cell_type": "code",
      "source": [
        "plot_metrics(baseline_metrics, torch_compile_metrics, compile_overhead_metrics)"
      ],
      "metadata": {
        "colab": {
          "base_uri": "https://localhost:8080/",
          "height": 1000
        },
        "id": "pjgWv5fTFOgd",
        "outputId": "ed89af7b-a7e4-4eef-dc21-28d8a073a236"
      },
      "execution_count": 14,
      "outputs": [
        {
          "output_type": "display_data",
          "data": {
            "text/plain": [
              "<Figure size 1000x1000 with 4 Axes>"
            ],
            "image/png": "[encoded data removed]"
          },
          "metadata": {}
        }
      ]
    },
    {
      "cell_type": "code",
      "source": [
        "def plot_epoch_times(baseline_metrics, torch_compile_metrics, compile_overhead_metrics):\n",
        "    baseline_times = baseline_metrics[\"epoch_times\"]\n",
        "    torch_compile_times = torch_compile_metrics[\"epoch_times\"]\n",
        "    compile_overhead_times = compile_overhead_metrics[\"epoch_times\"]\n",
        "\n",
        "    # Only show epochs 2 to 10\n",
        "    epochs = list(range(2, 11))\n",
        "    baseline_times = baseline_times[1:10]\n",
        "    torch_compile_times = torch_compile_times[1:10]\n",
        "    compile_overhead_times = compile_overhead_times[1:10]\n",
        "\n",
        "    plt.figure(figsize=(10, 6))\n",
        "    plt.plot(epochs, baseline_times, marker='o', label='Baseline')\n",
        "    plt.plot(epochs, torch_compile_times, marker='s', label='Torch.compile')\n",
        "    plt.plot(epochs, compile_overhead_times, marker='^', label='Torch.compile (Reduce Overhead)')\n",
        "    plt.xlabel(\"Epoch\")\n",
        "    plt.ylabel(\"Time (seconds)\")\n",
        "    plt.title(\"Epoch Training Times\")\n",
        "    plt.legend()\n",
        "    plt.grid(True)\n",
        "    plt.tight_layout()\n",
        "    plt.show()\n",
        "\n",
        "plot_epoch_times(baseline_metrics, torch_compile_metrics, compile_overhead_metrics)"
      ],
      "metadata": {
        "colab": {
          "base_uri": "https://localhost:8080/",
          "height": 607
        },
        "id": "rSHW1_GdPIph",
        "outputId": "0cd61ea5-4e1d-4637-bd41-754dedcc48a1"
      },
      "execution_count": 20,
      "outputs": [
        {
          "output_type": "display_data",
          "data": {
            "text/plain": [
              "<Figure size 1000x600 with 1 Axes>"
            ],
            "image/png": "[encoded data removed]"
          },
          "metadata": {}
        }
      ]
    }
  ]
}