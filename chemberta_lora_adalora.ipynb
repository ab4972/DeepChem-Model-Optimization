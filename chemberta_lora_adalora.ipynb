{
  "cells": [
    {
      "cell_type": "code",
      "execution_count": null,
      "metadata": {},
      "outputs": [],
      "source": [
        "\"\"\"\n",
        "chemberta_lora_adalora.ipynb\n",
        "\n",
        "This script fine-tunes the ChemBERTa model on the ClinTox dataset using parameter-efficient techniques:\n",
        "- LoRA (Low-Rank Adaptation): Adds trainable low-rank adapters to attention layers, allowing efficient fine-tuning with a small parameter budget.\n",
        "- AdaLoRA (Adaptive LoRA): Dynamically reallocates the parameter budget during training by mimicking SVD decomposition, enabling even more efficient adaptation.\n",
        "\n",
        "Key Features:\n",
        "- Loads and preprocesses the ClinTox dataset using DeepChem and tokenizes SMILES strings.\n",
        "- Configures and injects LoRA or AdaLoRA adapters into ChemBERTa using Hugging Face PEFT.\n",
        "- Implements hyperparameter tuning for the learning rate\n",
        "- Trains only the adapter parameters, keeping the base model frozen.\n",
        "- Evaluates model performance on validation and test splits.\n",
        "- Logs metrics (loss, accuracy, parameter counts) for comparison.\n",
        "\n",
        "You can adjust hyperparameters (rank, alpha, dropout, learning rate, etc.)\n",
        "\"\"\""
      ]
    },
    {
      "cell_type": "code",
      "execution_count": 1,
      "metadata": {
        "id": "9nzNqawxU3Mh"
      },
      "outputs": [],
      "source": [
        "%%capture\n",
        "!pip install deepchem transformers peft"
      ]
    },
    {
      "cell_type": "code",
      "execution_count": 2,
      "metadata": {
        "id": "uFwAMby8ea04"
      },
      "outputs": [],
      "source": [
        "import warnings\n",
        "import logging\n",
        "\n",
        "warnings.filterwarnings(\"ignore\", category=DeprecationWarning)\n",
        "logging.getLogger(\"deepchem\").setLevel(logging.ERROR)"
      ]
    },
    {
      "cell_type": "code",
      "execution_count": 3,
      "metadata": {
        "colab": {
          "base_uri": "https://localhost:8080/"
        },
        "id": "z4GBncRqVVbX",
        "outputId": "c59cb3f3-4e13-4eac-9c41-7d4e1f9575d5"
      },
      "outputs": [
        {
          "name": "stderr",
          "output_type": "stream",
          "text": [
            "\u001b[34m\u001b[1mwandb\u001b[0m: \u001b[33mWARNING\u001b[0m W&B installed but not logged in.  Run `wandb login` or set the WANDB_API_KEY env variable.\n",
            "WARNING:tensorflow:From /usr/local/lib/python3.11/dist-packages/tensorflow/python/util/deprecation.py:588: calling function (from tensorflow.python.eager.polymorphic_function.polymorphic_function) with experimental_relax_shapes is deprecated and will be removed in a future version.\n",
            "Instructions for updating:\n",
            "experimental_relax_shapes is deprecated, use reduce_retracing instead\n",
            "\u001b[34m\u001b[1mwandb\u001b[0m: \u001b[33mWARNING\u001b[0m W&B installed but not logged in.  Run `wandb login` or set the WANDB_API_KEY env variable.\n"
          ]
        }
      ],
      "source": [
        "import torch\n",
        "import torch.nn as nn\n",
        "import torch.optim as optim\n",
        "from transformers import AutoTokenizer, AutoModelForSequenceClassification\n",
        "from torch.utils.data import Dataset, DataLoader, random_split\n",
        "import numpy as np\n",
        "from tqdm import tqdm\n",
        "import matplotlib.pyplot as plt\n",
        "import os\n",
        "import deepchem as dc\n",
        "from peft import get_peft_model, LoraConfig, TaskType, AdaLoraConfig\n",
        "import time\n",
        "from sklearn.metrics import accuracy_score\n",
        "from rdkit import Chem\n",
        "import pandas as pd\n",
        "import matplotlib.pyplot as plt\n",
        "import random\n",
        "\n",
        "random.seed(10)"
      ]
    },
    {
      "cell_type": "code",
      "execution_count": 4,
      "metadata": {
        "colab": {
          "base_uri": "https://localhost:8080/",
          "height": 191
        },
        "id": "cbsp5hH7kJyX",
        "outputId": "20c832da-c41a-4369-b97d-b1822a337a04"
      },
      "outputs": [
        {
          "data": {
            "application/javascript": "\n        window._wandbApiKey = new Promise((resolve, reject) => {\n            function loadScript(url) {\n            return new Promise(function(resolve, reject) {\n                let newScript = document.createElement(\"script\");\n                newScript.onerror = reject;\n                newScript.onload = resolve;\n                document.body.appendChild(newScript);\n                newScript.src = url;\n            });\n            }\n            loadScript(\"https://cdn.jsdelivr.net/npm/postmate/build/postmate.min.js\").then(() => {\n            const iframe = document.createElement('iframe')\n            iframe.style.cssText = \"width:0;height:0;border:none\"\n            document.body.appendChild(iframe)\n            const handshake = new Postmate({\n                container: iframe,\n                url: 'https://wandb.ai/authorize'\n            });\n            const timeout = setTimeout(() => reject(\"Couldn't auto authenticate\"), 5000)\n            handshake.then(function(child) {\n                child.on('authorize', data => {\n                    clearTimeout(timeout)\n                    resolve(data)\n                });\n            });\n            })\n        });\n    ",
            "text/plain": [
              "<IPython.core.display.Javascript object>"
            ]
          },
          "metadata": {},
          "output_type": "display_data"
        },
        {
          "name": "stderr",
          "output_type": "stream",
          "text": [
            "\u001b[34m\u001b[1mwandb\u001b[0m: Logging into wandb.ai. (Learn how to deploy a W&B server locally: https://wandb.me/wandb-server)\n",
            "\u001b[34m\u001b[1mwandb\u001b[0m: You can find your API key in your browser here: https://wandb.ai/authorize\n",
            "wandb: Paste an API key from your profile and hit enter:"
          ]
        },
        {
          "name": "stdout",
          "output_type": "stream",
          "text": [
            " ··········\n"
          ]
        },
        {
          "name": "stderr",
          "output_type": "stream",
          "text": [
            "\u001b[34m\u001b[1mwandb\u001b[0m: \u001b[33mWARNING\u001b[0m If you're specifying your api key in code, ensure this code is not shared publicly.\n",
            "\u001b[34m\u001b[1mwandb\u001b[0m: \u001b[33mWARNING\u001b[0m Consider setting the WANDB_API_KEY environment variable, or running `wandb login` from the command line.\n",
            "\u001b[34m\u001b[1mwandb\u001b[0m: No netrc file found, creating one.\n",
            "\u001b[34m\u001b[1mwandb\u001b[0m: Appending key for api.wandb.ai to your netrc file: /root/.netrc\n",
            "\u001b[34m\u001b[1mwandb\u001b[0m: W&B API key is configured. Use \u001b[1m`wandb login --relogin`\u001b[0m to force relogin\n"
          ]
        },
        {
          "data": {
            "text/plain": [
              "True"
            ]
          },
          "execution_count": 4,
          "metadata": {},
          "output_type": "execute_result"
        }
      ],
      "source": [
        "import wandb\n",
        "wandb.login()"
      ]
    },
    {
      "cell_type": "code",
      "execution_count": 5,
      "metadata": {
        "id": "Mj3k4DdTXm3t"
      },
      "outputs": [],
      "source": [
        "# Define paths and parameters\n",
        "MODEL_NAME = \"seyonec/ChemBERTa-zinc-base-v1\"\n",
        "MAX_LENGTH = 128\n",
        "BATCH_SIZE = 32\n",
        "EPOCHS = 5\n",
        "LEARNING_RATE = 2e-5\n",
        "\n",
        "# LoRA Configuration\n",
        "LORA_R = 8  # Rank of LoRA\n",
        "LORA_ALPHA = 16\n",
        "LORA_DROPOUT = 0.1"
      ]
    },
    {
      "cell_type": "code",
      "execution_count": 6,
      "metadata": {
        "id": "cVUIwWpkXm0m"
      },
      "outputs": [],
      "source": [
        "class ClinToxDataset(Dataset):\n",
        "    def __init__(self, data_path, tokenizer, split='train', max_length=128):\n",
        "        \"\"\"\n",
        "        Custom PyTorch Dataset for the ClinTox dataset.\n",
        "        \"\"\"\n",
        "        self.tokenizer = tokenizer\n",
        "        self.max_length = max_length\n",
        "        self.split = split\n",
        "\n",
        "        # Load ClinTox dataset from DeepChem\n",
        "        tasks, datasets, transformers = dc.molnet.load_clintox()\n",
        "        train_dataset, valid_dataset, test_dataset = datasets\n",
        "\n",
        "        # Convert to SMILES and labels\n",
        "        self.smiles_train, self.labels_train = self.remove_invalid_smiles(train_dataset.ids, train_dataset.y)\n",
        "        self.smiles_valid, self.labels_valid = self.remove_invalid_smiles(valid_dataset.ids, valid_dataset.y)\n",
        "        self.smiles_test, self.labels_test = self.remove_invalid_smiles(test_dataset.ids, test_dataset.y)\n",
        "\n",
        "        # Set active data split based on input parameter\n",
        "        if split == 'train':\n",
        "            self.smiles = self.smiles_train\n",
        "            self.labels = self.labels_train\n",
        "        elif split == 'valid':\n",
        "            self.smiles = self.smiles_valid\n",
        "            self.labels = self.labels_valid\n",
        "        elif split == 'test':\n",
        "            self.smiles = self.smiles_test\n",
        "            self.labels = self.labels_test\n",
        "        else:\n",
        "            raise ValueError(\"Invalid split. Use 'train', 'valid', or 'test'.\")\n",
        "\n",
        "    def __len__(self):\n",
        "        return len(self.smiles)\n",
        "\n",
        "    def __getitem__(self, idx):\n",
        "        smiles = self.smiles[idx]\n",
        "        label = self.labels[idx]\n",
        "\n",
        "        encoding = self.tokenizer(\n",
        "            smiles,\n",
        "            return_tensors=\"pt\",\n",
        "            max_length=self.max_length,\n",
        "            padding=\"max_length\",\n",
        "            truncation=True\n",
        "        )\n",
        "\n",
        "        return {\n",
        "            'input_ids': encoding['input_ids'].squeeze(),\n",
        "            'attention_mask': encoding['attention_mask'].squeeze(),\n",
        "            'labels': torch.tensor(label, dtype=torch.float)\n",
        "        }\n",
        "\n",
        "    def remove_invalid_smiles(self, smiles, labels):\n",
        "        \"\"\"\n",
        "        Filters out invalid SMILES strings using RDKit validation.\n",
        "        \"\"\"\n",
        "        valid_indices = []\n",
        "        for i, smile in enumerate(smiles):\n",
        "            try:\n",
        "                mol = Chem.MolFromSmiles(smile)\n",
        "                if mol is not None:\n",
        "                    valid_indices.append(i)\n",
        "            except:\n",
        "                pass\n",
        "\n",
        "        return smiles[valid_indices], labels[valid_indices]"
      ]
    },
    {
      "cell_type": "code",
      "execution_count": 7,
      "metadata": {
        "id": "cxRAKno7Xmsl"
      },
      "outputs": [],
      "source": [
        "def evaluate_model(model, dataloader, device):\n",
        "    \"\"\"\n",
        "    Evaluate the model on the validation or test set.\n",
        "    \"\"\"\n",
        "    model.eval()\n",
        "    total_loss = 0\n",
        "    all_labels = []\n",
        "    all_preds = []\n",
        "    criterion = nn.BCEWithLogitsLoss()\n",
        "\n",
        "    with torch.no_grad():\n",
        "        for batch in tqdm(dataloader, desc=\"Evaluating\"):\n",
        "            input_ids = batch['input_ids'].to(device)\n",
        "            attention_mask = batch['attention_mask'].to(device)\n",
        "            labels = batch['labels'].to(device)\n",
        "\n",
        "            outputs = model(input_ids=input_ids, attention_mask=attention_mask)\n",
        "            logits = outputs.logits.squeeze(-1)\n",
        "\n",
        "            loss = criterion(logits, labels)\n",
        "            total_loss += loss.item()\n",
        "\n",
        "            probs = torch.sigmoid(logits)\n",
        "            all_preds.extend(probs.cpu().numpy())\n",
        "            all_labels.extend(labels.cpu().numpy())\n",
        "\n",
        "    # Convert to numpy arrays\n",
        "    all_preds = np.array(all_preds)\n",
        "    all_labels = np.array(all_labels)\n",
        "\n",
        "    # Binary predictions for accuracy\n",
        "    bin_preds = (all_preds > 0.5).astype(int)\n",
        "    accuracy = accuracy_score(all_labels, bin_preds)\n",
        "\n",
        "    avg_loss = total_loss / len(dataloader)\n",
        "    return avg_loss, accuracy"
      ]
    },
    {
      "cell_type": "code",
      "execution_count": 8,
      "metadata": {
        "id": "rMyvPobUn8oo"
      },
      "outputs": [],
      "source": [
        "def print_trainable_parameters(model):\n",
        "    \"\"\"\n",
        "    Prints the number of trainable parameters in the model.\n",
        "    \"\"\"\n",
        "    trainable_params = sum(p.numel() for p in model.parameters() if p.requires_grad)\n",
        "    all_params = sum(p.numel() for p in model.parameters())\n",
        "    percentage_trained = round(100*trainable_params/all_params, 2)\n",
        "    print(f\"Trainable: {trainable_params} | All: {all_params} | % Trained: {percentage_trained}\")\n",
        "    return trainable_params, all_params, percentage_trained"
      ]
    },
    {
      "cell_type": "code",
      "execution_count": 9,
      "metadata": {
        "id": "o55jzgLvYCn4"
      },
      "outputs": [],
      "source": [
        "def train_and_profile(model, tokenizer, optimization_name, lr=LEARNING_RATE):\n",
        "    \"\"\"\n",
        "    Train and evaluate a model with comprehensive logging to Weights & Biases\n",
        "    \"\"\"\n",
        "\n",
        "    print(f\"\\n--- {optimization_name} - Trainable Parameters ---\")\n",
        "    trainable_params, all_params, percentage_trained = print_trainable_parameters(model)\n",
        "\n",
        "    # Initialize a new wandb run for this experiment\n",
        "    run = wandb.init(\n",
        "        project=\"chemberta\",\n",
        "        entity=\"hpml-proj-deepchem\",\n",
        "        name=f\"Training_{optimization_name}_lr{lr}\",\n",
        "        config={\n",
        "            \"model_name\": MODEL_NAME,\n",
        "            \"optimization\": optimization_name,\n",
        "            \"learning_rate\": lr,\n",
        "            \"batch_size\": BATCH_SIZE,\n",
        "            \"epochs\": EPOCHS,\n",
        "            \"max_length\": MAX_LENGTH,\n",
        "            \"lora_r\": LORA_R,\n",
        "            \"lora_alpha\": LORA_ALPHA,\n",
        "            \"lora_dropout\": LORA_DROPOUT,\n",
        "        }\n",
        "    )\n",
        "\n",
        "    wandb.log({\n",
        "        \"trainable_parameters\": trainable_params,\n",
        "        \"total_parameters\": all_params,\n",
        "        \"parameter_efficiency\": percentage_trained\n",
        "    })\n",
        "\n",
        "    # Create datasets for each split\n",
        "    train_dataset = ClinToxDataset(\"clintox\", tokenizer, split=\"train\", max_length=MAX_LENGTH)\n",
        "    val_dataset = ClinToxDataset(\"clintox\", tokenizer, split=\"valid\", max_length=MAX_LENGTH)\n",
        "    test_dataset = ClinToxDataset(\"clintox\", tokenizer, split=\"test\", max_length=MAX_LENGTH)\n",
        "\n",
        "    # Create dataloaders\n",
        "    train_dataloader = DataLoader(train_dataset, batch_size=BATCH_SIZE, shuffle=True)\n",
        "    val_dataloader = DataLoader(val_dataset, batch_size=BATCH_SIZE, shuffle=False)\n",
        "    test_dataloader = DataLoader(test_dataset, batch_size=BATCH_SIZE, shuffle=False)\n",
        "\n",
        "    optimizer = optim.AdamW(model.parameters(), lr=lr)\n",
        "    criterion = nn.BCEWithLogitsLoss()\n",
        "    device = torch.device(\"cuda\" if torch.cuda.is_available() else \"cpu\")\n",
        "    model.to(device)\n",
        "\n",
        "    # training loop\n",
        "    train_losses, val_losses, val_accuracies = [], [], []\n",
        "\n",
        "    print(f\"\\n--- {optimization_name} ---\")\n",
        "\n",
        "    start_time = time.time()\n",
        "\n",
        "    for epoch in range(EPOCHS):\n",
        "        epoch_start_time = time.time()\n",
        "        model.train()\n",
        "        total_train_loss = 0\n",
        "        progress_bar = tqdm(train_dataloader, desc=f\"Epoch {epoch+1}/{EPOCHS}\")\n",
        "\n",
        "        # batch processing\n",
        "        for batch in progress_bar:\n",
        "            # move batch data to device\n",
        "            input_ids = batch['input_ids'].to(device)\n",
        "            attention_mask = batch['attention_mask'].to(device)\n",
        "            labels = batch['labels'].to(device)\n",
        "\n",
        "            # forward pass\n",
        "            outputs = model(input_ids=input_ids, attention_mask=attention_mask)\n",
        "            logits = outputs.logits.squeeze(-1)\n",
        "\n",
        "            loss = criterion(logits, labels)\n",
        "\n",
        "            # BACKWARD PASS\n",
        "            optimizer.zero_grad()\n",
        "            loss.backward()\n",
        "            optimizer.step()\n",
        "\n",
        "            total_train_loss += loss.item()\n",
        "            progress_bar.set_postfix({\"loss\": loss.item()})\n",
        "\n",
        "        # metric calculations\n",
        "        epoch_time = time.time() - epoch_start_time\n",
        "\n",
        "        avg_train_loss = total_train_loss / len(train_dataloader)\n",
        "        val_loss, val_acc = evaluate_model(model, val_dataloader, device)\n",
        "\n",
        "        train_losses.append(avg_train_loss)\n",
        "        val_losses.append(val_loss)\n",
        "        val_accuracies.append(val_acc)\n",
        "\n",
        "        # wandb logging\n",
        "        wandb.log({\n",
        "            \"epoch\": epoch + 1,\n",
        "            \"train_loss\": avg_train_loss,\n",
        "            \"val_loss\": val_loss,\n",
        "            \"val_accuracy\": val_acc,\n",
        "            \"epoch_time\": epoch_time,\n",
        "            \"model_type\": optimization_name\n",
        "        })\n",
        "\n",
        "\n",
        "        print(f\"Epoch {epoch+1} | Training Time: {epoch_time:.2f} s | Train Loss: {avg_train_loss:.4f} | Val Loss: {val_loss:.4f} | Val Accuracy: {val_acc:.4f}\")\n",
        "\n",
        "    end_time = time.time()\n",
        "\n",
        "    test_loss, test_acc = evaluate_model(model, test_dataloader, device)\n",
        "    training_time = round(end_time - start_time, 2)\n",
        "    print(f\"\\n--- {optimization_name} ---\")\n",
        "    print(f\"Training time: {training_time} seconds\")\n",
        "    print(f\"Test Loss: {test_loss:.4f} | Test Accuracy: {test_acc:.4f}\")\n",
        "\n",
        "    wandb.log({\n",
        "        \"test_loss\": test_loss,\n",
        "        \"test_accuracy\": test_acc,\n",
        "        \"training_time\": training_time,\n",
        "        \"trainable_parameters\": trainable_params,\n",
        "        \"total_parameters\": all_params,\n",
        "        \"parameter_efficiency\": percentage_trained,\n",
        "        \"model_type\": optimization_name\n",
        "    })\n",
        "\n",
        "    wandb.log({\n",
        "        f\"{optimization_name}_train_loss_curve\": wandb.plot.line_series(\n",
        "            xs=list(range(1, EPOCHS+1)),\n",
        "            ys=[train_losses],\n",
        "            keys=[f\"{optimization_name}_train_loss\"],\n",
        "            title=f\"{optimization_name} Training Loss\",\n",
        "            xname=\"Epoch\"\n",
        "        ),\n",
        "        f\"{optimization_name}_val_loss_curve\": wandb.plot.line_series(\n",
        "            xs=list(range(1, EPOCHS+1)),\n",
        "            ys=[val_losses],\n",
        "            keys=[f\"{optimization_name}_val_loss\"],\n",
        "            title=f\"{optimization_name} Validation Loss\",\n",
        "            xname=\"Epoch\"\n",
        "        )\n",
        "    })\n",
        "\n",
        "    wandb.finish()\n",
        "\n",
        "    return {\n",
        "        \"train_losses\": train_losses,\n",
        "        \"val_losses\": val_losses,\n",
        "        \"val_accuracies\": val_accuracies,\n",
        "        \"training_time\": training_time,\n",
        "        \"test_accuracy\": test_acc,\n",
        "        \"trainable_parameters\": trainable_params}"
      ]
    },
    {
      "cell_type": "code",
      "execution_count": 10,
      "metadata": {
        "id": "4SR2sBI0ZI4B"
      },
      "outputs": [],
      "source": [
        "def hyperparameter_tuning(model_type=\"LoRA\", learning_rates=[1e-5, 2e-5, 3e-5, 5e-5, 1e-4, 3e-4]):\n",
        "    \"\"\"\n",
        "    Run hyperparameter tuning  with wandb tracking\n",
        "    \"\"\"\n",
        "\n",
        "    # Initialize the main sweep run\n",
        "    parent_run = wandb.init(project=\"chemberta\", entity=\"hpml-proj-deepchem\", name=f\"{model_type}_Hyperparameter_Sweep\", job_type=\"sweep\")\n",
        "\n",
        "    results = {\n",
        "        \"learning_rate\": [],\n",
        "        \"test_accuracy\": [],\n",
        "        \"training_time\": [],\n",
        "    }\n",
        "\n",
        "    # Run experiment for each learning rate\n",
        "    for lr in learning_rates:\n",
        "        print(f\"\\n--- {model_type} with learning_rate={lr} ---\")\n",
        "\n",
        "        # new model for each run\n",
        "        tokenizer = AutoTokenizer.from_pretrained(MODEL_NAME)\n",
        "        model = None\n",
        "\n",
        "        if model_type.lower() == \"lora\":\n",
        "            model = setup_lora_model(MODEL_NAME)\n",
        "        elif model_type.lower() == \"adalora\":\n",
        "            model = setup_adalora_model(MODEL_NAME)\n",
        "\n",
        "        with wandb.init(\n",
        "            project=\"chemberta\",\n",
        "            entity=\"hpml-proj-deepchem\",\n",
        "            name=f\"{model_type}_lr_{lr}\",\n",
        "            group=f\"{model_type}_Sweep\",\n",
        "            job_type=\"run\",\n",
        "            config={\"learning_rate\": lr},\n",
        "            reinit=True  # Allows multiple init calls\n",
        "        ):\n",
        "\n",
        "            metrics = train_and_profile(model, tokenizer, f\"{model_type}_lr_{lr}\", lr=lr)\n",
        "\n",
        "            results[\"learning_rate\"].append(lr)\n",
        "            results[\"test_accuracy\"].append(metrics[\"test_accuracy\"])\n",
        "            results[\"training_time\"].append(metrics[\"training_time\"])\n",
        "\n",
        "        # Clean up memory\n",
        "        del model, tokenizer\n",
        "        torch.cuda.empty_cache()\n",
        "\n",
        "    # Create results dataframe\n",
        "    results_df = pd.DataFrame(results)\n",
        "\n",
        "    # Create and log summary visualization\n",
        "    fig, ax = plt.subplots(figsize=(10, 6))\n",
        "    ax.plot(results_df[\"learning_rate\"], results_df[\"test_accuracy\"], 'bo-')\n",
        "    ax.set_xscale('log')\n",
        "    ax.set_xlabel('Learning Rate')\n",
        "    ax.set_ylabel('Test Accuracy')\n",
        "    ax.set_title(f'{model_type} Performance vs Learning Rate')\n",
        "    ax.grid(True)\n",
        "\n",
        "    # Add text annotations for each point\n",
        "    for i, lr in enumerate(results_df[\"learning_rate\"]):\n",
        "        ax.annotate(\n",
        "            f\"Time: {results_df['training_time'][i]:.1f}s\\nAcc: {results_df['test_accuracy'][i]:.4f}\",\n",
        "            (lr, results_df[\"test_accuracy\"][i]),\n",
        "            textcoords=\"offset points\",\n",
        "            xytext=(0, 10),\n",
        "            ha='center'\n",
        "        )\n",
        "\n",
        "    second_run = wandb.init(project=\"chemberta\", entity=\"hpml-proj-deepchem\", name=f\"{model_type}_Hyperparameter_Graph\")\n",
        "    wandb.log({f\"{model_type}_lr_tuning_curve\": wandb.Image(fig)})\n",
        "    wandb.finish()\n",
        "\n",
        "    third_run = wandb.init(project=\"chemberta\", entity=\"hpml-proj-deepchem\", name=f\"{model_type}_Hyperparameter_Graph\")\n",
        "    wandb.log({f\"{model_type}_lr_tuning_table\": wandb.Table(dataframe=results_df)})\n",
        "    wandb.finish()\n",
        "\n",
        "    return results_df\n"
      ]
    },
    {
      "cell_type": "markdown",
      "metadata": {
        "id": "TtgrWa1VepCU"
      },
      "source": [
        "## Base ChemBeRTa Model Without Any Additional Fine-Tuning"
      ]
    },
    {
      "cell_type": "code",
      "execution_count": 13,
      "metadata": {
        "colab": {
          "base_uri": "https://localhost:8080/"
        },
        "id": "w-jt4zRXms1q",
        "outputId": "79991a09-04c3-4314-8727-1127c89f15e4"
      },
      "outputs": [
        {
          "name": "stderr",
          "output_type": "stream",
          "text": [
            "Some weights of RobertaForSequenceClassification were not initialized from the model checkpoint at seyonec/ChemBERTa-zinc-base-v1 and are newly initialized: ['classifier.dense.bias', 'classifier.dense.weight', 'classifier.out_proj.bias', 'classifier.out_proj.weight']\n",
            "You should probably TRAIN this model on a down-stream task to be able to use it for predictions and inference.\n",
            "Evaluating: 100%|██████████| 5/5 [00:00<00:00, 21.76it/s]"
          ]
        },
        {
          "name": "stdout",
          "output_type": "stream",
          "text": [
            "Baseline (Not Fine-Tuned) Test Accuracy: 0.5068\n"
          ]
        },
        {
          "name": "stderr",
          "output_type": "stream",
          "text": [
            "\n"
          ]
        }
      ],
      "source": [
        "baseline = AutoModelForSequenceClassification.from_pretrained(\n",
        "        MODEL_NAME,\n",
        "        num_labels=2,  # Binary classification for ClinTox\n",
        "        return_dict=True\n",
        "    )\n",
        "\n",
        "device = torch.device(\"cuda\" if torch.cuda.is_available() else \"cpu\")\n",
        "baseline.to(device)\n",
        "tokenizer = AutoTokenizer.from_pretrained(MODEL_NAME)\n",
        "test_dataset = ClinToxDataset(\"clintox\", tokenizer, split=\"test\", max_length=MAX_LENGTH)\n",
        "test_dataloader = DataLoader(test_dataset, batch_size=BATCH_SIZE, shuffle=False)\n",
        "\n",
        "\n",
        "_, test_acc = evaluate_model(baseline, test_dataloader, device)\n",
        "\n",
        "print(f\"Baseline (Not Fine-Tuned) Test Accuracy: {test_acc:.4f}\")\n"
      ]
    },
    {
      "cell_type": "markdown",
      "metadata": {
        "id": "gPPDM-IleuBf"
      },
      "source": [
        "## Base ChemBeRTa Model with Full Parameter Fine-Tuning\n"
      ]
    },
    {
      "cell_type": "code",
      "execution_count": 14,
      "metadata": {
        "colab": {
          "base_uri": "https://localhost:8080/",
          "height": 1000
        },
        "id": "DFSO4MO4JuxW",
        "outputId": "84a2d6ba-c3c4-4ee2-ddba-14a97d6df4cc"
      },
      "outputs": [
        {
          "name": "stderr",
          "output_type": "stream",
          "text": [
            "Some weights of RobertaForSequenceClassification were not initialized from the model checkpoint at seyonec/ChemBERTa-zinc-base-v1 and are newly initialized: ['classifier.dense.bias', 'classifier.dense.weight', 'classifier.out_proj.bias', 'classifier.out_proj.weight']\n",
            "You should probably TRAIN this model on a down-stream task to be able to use it for predictions and inference.\n"
          ]
        },
        {
          "name": "stdout",
          "output_type": "stream",
          "text": [
            "\n",
            "--- Model_Baseline_Finetuned - Trainable Parameters ---\n",
            "Trainable: 44105474 | All: 44105474 | % Trained: 100.0\n"
          ]
        },
        {
          "data": {
            "text/html": [
              "Finishing previous runs because reinit is set to 'default'."
            ],
            "text/plain": [
              "<IPython.core.display.HTML object>"
            ]
          },
          "metadata": {},
          "output_type": "display_data"
        },
        {
          "data": {
            "text/html": [],
            "text/plain": [
              "<IPython.core.display.HTML object>"
            ]
          },
          "metadata": {},
          "output_type": "display_data"
        },
        {
          "data": {
            "text/html": [
              "<br>    <style><br>        .wandb-row {<br>            display: flex;<br>            flex-direction: row;<br>            flex-wrap: wrap;<br>            justify-content: flex-start;<br>            width: 100%;<br>        }<br>        .wandb-col {<br>            display: flex;<br>            flex-direction: column;<br>            flex-basis: 100%;<br>            flex: 1;<br>            padding: 10px;<br>        }<br>    </style><br><div class=\"wandb-row\"><div class=\"wandb-col\"><h3>Run history:</h3><br/><table class=\"wandb\"><tr><td>epoch</td><td>▁▅█</td></tr><tr><td>epoch_time</td><td>█▁▁</td></tr><tr><td>parameter_efficiency</td><td>▁</td></tr><tr><td>total_parameters</td><td>▁</td></tr><tr><td>train_loss</td><td>█▂▁</td></tr><tr><td>trainable_parameters</td><td>▁</td></tr><tr><td>val_accuracy</td><td>▁█▁</td></tr><tr><td>val_loss</td><td>█▁▁</td></tr></table><br/></div><div class=\"wandb-col\"><h3>Run summary:</h3><br/><table class=\"wandb\"><tr><td>epoch</td><td>3</td></tr><tr><td>epoch_time</td><td>5.27659</td></tr><tr><td>model_type</td><td>Model_Baseline_Finet...</td></tr><tr><td>parameter_efficiency</td><td>100</td></tr><tr><td>total_parameters</td><td>44105474</td></tr><tr><td>train_loss</td><td>0.05698</td></tr><tr><td>trainable_parameters</td><td>44105474</td></tr><tr><td>val_accuracy</td><td>0.97297</td></tr><tr><td>val_loss</td><td>0.06927</td></tr></table><br/></div></div>"
            ],
            "text/plain": [
              "<IPython.core.display.HTML object>"
            ]
          },
          "metadata": {},
          "output_type": "display_data"
        },
        {
          "data": {
            "text/html": [
              " View run <strong style=\"color:#cdcd00\">Training_Model_Baseline_Finetuned_lr2e-05</strong> at: <a href='https://wandb.ai/hpml-proj-deepchem/chemberta/runs/9ep7s3q1' target=\"_blank\">https://wandb.ai/hpml-proj-deepchem/chemberta/runs/9ep7s3q1</a><br> View project at: <a href='https://wandb.ai/hpml-proj-deepchem/chemberta' target=\"_blank\">https://wandb.ai/hpml-proj-deepchem/chemberta</a><br>Synced 5 W&B file(s), 0 media file(s), 0 artifact file(s) and 0 other file(s)"
            ],
            "text/plain": [
              "<IPython.core.display.HTML object>"
            ]
          },
          "metadata": {},
          "output_type": "display_data"
        },
        {
          "data": {
            "text/html": [
              "Find logs at: <code>./wandb/run-20250511_180846-9ep7s3q1/logs</code>"
            ],
            "text/plain": [
              "<IPython.core.display.HTML object>"
            ]
          },
          "metadata": {},
          "output_type": "display_data"
        },
        {
          "data": {
            "text/html": [
              "Tracking run with wandb version 0.19.10"
            ],
            "text/plain": [
              "<IPython.core.display.HTML object>"
            ]
          },
          "metadata": {},
          "output_type": "display_data"
        },
        {
          "data": {
            "text/html": [
              "Run data is saved locally in <code>/content/wandb/run-20250511_180925-szw2zy4y</code>"
            ],
            "text/plain": [
              "<IPython.core.display.HTML object>"
            ]
          },
          "metadata": {},
          "output_type": "display_data"
        },
        {
          "data": {
            "text/html": [
              "Syncing run <strong><a href='https://wandb.ai/hpml-proj-deepchem/chemberta/runs/szw2zy4y' target=\"_blank\">Training_Model_Baseline_Finetuned_lr2e-05</a></strong> to <a href='https://wandb.ai/hpml-proj-deepchem/chemberta' target=\"_blank\">Weights & Biases</a> (<a href='https://wandb.me/developer-guide' target=\"_blank\">docs</a>)<br>"
            ],
            "text/plain": [
              "<IPython.core.display.HTML object>"
            ]
          },
          "metadata": {},
          "output_type": "display_data"
        },
        {
          "data": {
            "text/html": [
              " View project at <a href='https://wandb.ai/hpml-proj-deepchem/chemberta' target=\"_blank\">https://wandb.ai/hpml-proj-deepchem/chemberta</a>"
            ],
            "text/plain": [
              "<IPython.core.display.HTML object>"
            ]
          },
          "metadata": {},
          "output_type": "display_data"
        },
        {
          "data": {
            "text/html": [
              " View run at <a href='https://wandb.ai/hpml-proj-deepchem/chemberta/runs/szw2zy4y' target=\"_blank\">https://wandb.ai/hpml-proj-deepchem/chemberta/runs/szw2zy4y</a>"
            ],
            "text/plain": [
              "<IPython.core.display.HTML object>"
            ]
          },
          "metadata": {},
          "output_type": "display_data"
        },
        {
          "name": "stdout",
          "output_type": "stream",
          "text": [
            "\n",
            "--- Model_Baseline_Finetuned ---\n"
          ]
        },
        {
          "name": "stderr",
          "output_type": "stream",
          "text": [
            "Epoch 1/5: 100%|██████████| 37/37 [00:05<00:00,  7.02it/s, loss=0.0606]\n",
            "Evaluating: 100%|██████████| 5/5 [00:00<00:00, 20.81it/s]\n"
          ]
        },
        {
          "name": "stdout",
          "output_type": "stream",
          "text": [
            "Epoch 1 | Training Time: 5.27 s | Train Loss: 0.2478 | Val Loss: 0.0877 | Val Accuracy: 0.9730\n"
          ]
        },
        {
          "name": "stderr",
          "output_type": "stream",
          "text": [
            "Epoch 2/5: 100%|██████████| 37/37 [00:05<00:00,  6.97it/s, loss=0.0905]\n",
            "Evaluating: 100%|██████████| 5/5 [00:00<00:00, 21.12it/s]\n"
          ]
        },
        {
          "name": "stdout",
          "output_type": "stream",
          "text": [
            "Epoch 2 | Training Time: 5.31 s | Train Loss: 0.0860 | Val Loss: 0.1477 | Val Accuracy: 0.9324\n"
          ]
        },
        {
          "name": "stderr",
          "output_type": "stream",
          "text": [
            "Epoch 3/5: 100%|██████████| 37/37 [00:05<00:00,  6.96it/s, loss=0.18]\n",
            "Evaluating: 100%|██████████| 5/5 [00:00<00:00, 20.85it/s]\n"
          ]
        },
        {
          "name": "stdout",
          "output_type": "stream",
          "text": [
            "Epoch 3 | Training Time: 5.32 s | Train Loss: 0.0571 | Val Loss: 0.0961 | Val Accuracy: 0.9662\n"
          ]
        },
        {
          "name": "stderr",
          "output_type": "stream",
          "text": [
            "Epoch 4/5: 100%|██████████| 37/37 [00:05<00:00,  6.92it/s, loss=0.0535]\n",
            "Evaluating: 100%|██████████| 5/5 [00:00<00:00, 21.10it/s]\n"
          ]
        },
        {
          "name": "stdout",
          "output_type": "stream",
          "text": [
            "Epoch 4 | Training Time: 5.35 s | Train Loss: 0.0477 | Val Loss: 0.0851 | Val Accuracy: 0.9662\n"
          ]
        },
        {
          "name": "stderr",
          "output_type": "stream",
          "text": [
            "Epoch 5/5: 100%|██████████| 37/37 [00:05<00:00,  6.90it/s, loss=0.0926]\n",
            "Evaluating: 100%|██████████| 5/5 [00:00<00:00, 21.08it/s]\n"
          ]
        },
        {
          "name": "stdout",
          "output_type": "stream",
          "text": [
            "Epoch 5 | Training Time: 5.36 s | Train Loss: 0.0373 | Val Loss: 0.1079 | Val Accuracy: 0.9595\n"
          ]
        },
        {
          "name": "stderr",
          "output_type": "stream",
          "text": [
            "Evaluating: 100%|██████████| 5/5 [00:00<00:00, 21.26it/s]\n"
          ]
        },
        {
          "name": "stdout",
          "output_type": "stream",
          "text": [
            "\n",
            "--- Model_Baseline_Finetuned ---\n",
            "Training time: 27.84 seconds\n",
            "Test Loss: 0.0520 | Test Accuracy: 0.9865\n"
          ]
        },
        {
          "data": {
            "text/html": [],
            "text/plain": [
              "<IPython.core.display.HTML object>"
            ]
          },
          "metadata": {},
          "output_type": "display_data"
        },
        {
          "data": {
            "text/html": [
              "<br>    <style><br>        .wandb-row {<br>            display: flex;<br>            flex-direction: row;<br>            flex-wrap: wrap;<br>            justify-content: flex-start;<br>            width: 100%;<br>        }<br>        .wandb-col {<br>            display: flex;<br>            flex-direction: column;<br>            flex-basis: 100%;<br>            flex: 1;<br>            padding: 10px;<br>        }<br>    </style><br><div class=\"wandb-row\"><div class=\"wandb-col\"><h3>Run history:</h3><br/><table class=\"wandb\"><tr><td>epoch</td><td>▁▃▅▆█</td></tr><tr><td>epoch_time</td><td>▁▄▅▇█</td></tr><tr><td>parameter_efficiency</td><td>▁▁</td></tr><tr><td>test_accuracy</td><td>▁</td></tr><tr><td>test_loss</td><td>▁</td></tr><tr><td>total_parameters</td><td>▁▁</td></tr><tr><td>train_loss</td><td>█▃▂▁▁</td></tr><tr><td>trainable_parameters</td><td>▁▁</td></tr><tr><td>training_time</td><td>▁</td></tr><tr><td>val_accuracy</td><td>█▁▇▇▆</td></tr><tr><td>val_loss</td><td>▁█▂▁▄</td></tr></table><br/></div><div class=\"wandb-col\"><h3>Run summary:</h3><br/><table class=\"wandb\"><tr><td>epoch</td><td>5</td></tr><tr><td>epoch_time</td><td>5.36443</td></tr><tr><td>model_type</td><td>Model_Baseline_Finet...</td></tr><tr><td>parameter_efficiency</td><td>100</td></tr><tr><td>test_accuracy</td><td>0.98649</td></tr><tr><td>test_loss</td><td>0.05202</td></tr><tr><td>total_parameters</td><td>44105474</td></tr><tr><td>train_loss</td><td>0.03733</td></tr><tr><td>trainable_parameters</td><td>44105474</td></tr><tr><td>training_time</td><td>27.84</td></tr><tr><td>val_accuracy</td><td>0.95946</td></tr><tr><td>val_loss</td><td>0.10793</td></tr></table><br/></div></div>"
            ],
            "text/plain": [
              "<IPython.core.display.HTML object>"
            ]
          },
          "metadata": {},
          "output_type": "display_data"
        },
        {
          "data": {
            "text/html": [
              " View run <strong style=\"color:#cdcd00\">Training_Model_Baseline_Finetuned_lr2e-05</strong> at: <a href='https://wandb.ai/hpml-proj-deepchem/chemberta/runs/szw2zy4y' target=\"_blank\">https://wandb.ai/hpml-proj-deepchem/chemberta/runs/szw2zy4y</a><br> View project at: <a href='https://wandb.ai/hpml-proj-deepchem/chemberta' target=\"_blank\">https://wandb.ai/hpml-proj-deepchem/chemberta</a><br>Synced 5 W&B file(s), 2 media file(s), 4 artifact file(s) and 0 other file(s)"
            ],
            "text/plain": [
              "<IPython.core.display.HTML object>"
            ]
          },
          "metadata": {},
          "output_type": "display_data"
        },
        {
          "data": {
            "text/html": [
              "Find logs at: <code>./wandb/run-20250511_180925-szw2zy4y/logs</code>"
            ],
            "text/plain": [
              "<IPython.core.display.HTML object>"
            ]
          },
          "metadata": {},
          "output_type": "display_data"
        }
      ],
      "source": [
        "def setup_baseline_model(model_name):\n",
        "    \"\"\"\n",
        "    Set up a baseline model\n",
        "    \"\"\"\n",
        "    model = AutoModelForSequenceClassification.from_pretrained(\n",
        "        model_name,\n",
        "        num_labels=2,  # Binary classification for ClinTox\n",
        "        return_dict=True\n",
        "    )\n",
        "    return model\n",
        "\n",
        "tokenizer = AutoTokenizer.from_pretrained(MODEL_NAME)\n",
        "model_baseline = setup_baseline_model(MODEL_NAME)\n",
        "\n",
        "baseline_metrics = train_and_profile(model_baseline, tokenizer, \"Model_Baseline_Finetuned\")"
      ]
    },
    {
      "cell_type": "code",
      "execution_count": 15,
      "metadata": {
        "colab": {
          "base_uri": "https://localhost:8080/",
          "height": 1000
        },
        "id": "mUN7vzlHzAKP",
        "outputId": "1de75ab9-a067-4e4a-ecb7-281dd75778a5"
      },
      "outputs": [
        {
          "data": {
            "text/html": [
              "Tracking run with wandb version 0.19.10"
            ],
            "text/plain": [
              "<IPython.core.display.HTML object>"
            ]
          },
          "metadata": {},
          "output_type": "display_data"
        },
        {
          "data": {
            "text/html": [
              "Run data is saved locally in <code>/content/wandb/run-20250511_181001-5k3lkkkt</code>"
            ],
            "text/plain": [
              "<IPython.core.display.HTML object>"
            ]
          },
          "metadata": {},
          "output_type": "display_data"
        },
        {
          "data": {
            "text/html": [
              "Syncing run <strong><a href='https://wandb.ai/hpml-proj-deepchem/chemberta/runs/5k3lkkkt' target=\"_blank\">Baseline_Loss_Curves</a></strong> to <a href='https://wandb.ai/hpml-proj-deepchem/chemberta' target=\"_blank\">Weights & Biases</a> (<a href='https://wandb.me/developer-guide' target=\"_blank\">docs</a>)<br>"
            ],
            "text/plain": [
              "<IPython.core.display.HTML object>"
            ]
          },
          "metadata": {},
          "output_type": "display_data"
        },
        {
          "data": {
            "text/html": [
              " View project at <a href='https://wandb.ai/hpml-proj-deepchem/chemberta' target=\"_blank\">https://wandb.ai/hpml-proj-deepchem/chemberta</a>"
            ],
            "text/plain": [
              "<IPython.core.display.HTML object>"
            ]
          },
          "metadata": {},
          "output_type": "display_data"
        },
        {
          "data": {
            "text/html": [
              " View run at <a href='https://wandb.ai/hpml-proj-deepchem/chemberta/runs/5k3lkkkt' target=\"_blank\">https://wandb.ai/hpml-proj-deepchem/chemberta/runs/5k3lkkkt</a>"
            ],
            "text/plain": [
              "<IPython.core.display.HTML object>"
            ]
          },
          "metadata": {},
          "output_type": "display_data"
        },
        {
          "data": {
            "image/png": "[encoded data removed]",
            "text/plain": [
              "<Figure size 1000x600 with 1 Axes>"
            ]
          },
          "metadata": {},
          "output_type": "display_data"
        },
        {
          "data": {
            "text/html": [],
            "text/plain": [
              "<IPython.core.display.HTML object>"
            ]
          },
          "metadata": {},
          "output_type": "display_data"
        },
        {
          "data": {
            "text/html": [
              "<br>    <style><br>        .wandb-row {<br>            display: flex;<br>            flex-direction: row;<br>            flex-wrap: wrap;<br>            justify-content: flex-start;<br>            width: 100%;<br>        }<br>        .wandb-col {<br>            display: flex;<br>            flex-direction: column;<br>            flex-basis: 100%;<br>            flex: 1;<br>            padding: 10px;<br>        }<br>    </style><br><div class=\"wandb-row\"><div class=\"wandb-col\"><h3>Run history:</h3><br/><table class=\"wandb\"><tr><td>epoch</td><td>▁▃▅▆█</td></tr><tr><td>train_loss</td><td>█▃▂▁▁</td></tr><tr><td>val_loss</td><td>▁█▂▁▄</td></tr></table><br/></div><div class=\"wandb-col\"><h3>Run summary:</h3><br/><table class=\"wandb\"><tr><td>epoch</td><td>5</td></tr><tr><td>train_loss</td><td>0.03733</td></tr><tr><td>val_loss</td><td>0.10793</td></tr></table><br/></div></div>"
            ],
            "text/plain": [
              "<IPython.core.display.HTML object>"
            ]
          },
          "metadata": {},
          "output_type": "display_data"
        },
        {
          "data": {
            "text/html": [
              " View run <strong style=\"color:#cdcd00\">Baseline_Loss_Curves</strong> at: <a href='https://wandb.ai/hpml-proj-deepchem/chemberta/runs/5k3lkkkt' target=\"_blank\">https://wandb.ai/hpml-proj-deepchem/chemberta/runs/5k3lkkkt</a><br> View project at: <a href='https://wandb.ai/hpml-proj-deepchem/chemberta' target=\"_blank\">https://wandb.ai/hpml-proj-deepchem/chemberta</a><br>Synced 5 W&B file(s), 1 media file(s), 0 artifact file(s) and 0 other file(s)"
            ],
            "text/plain": [
              "<IPython.core.display.HTML object>"
            ]
          },
          "metadata": {},
          "output_type": "display_data"
        },
        {
          "data": {
            "text/html": [
              "Find logs at: <code>./wandb/run-20250511_181001-5k3lkkkt/logs</code>"
            ],
            "text/plain": [
              "<IPython.core.display.HTML object>"
            ]
          },
          "metadata": {},
          "output_type": "display_data"
        },
        {
          "data": {
            "text/plain": [
              "<Figure size 640x480 with 0 Axes>"
            ]
          },
          "metadata": {},
          "output_type": "display_data"
        }
      ],
      "source": [
        "# Graph training and validation losses from baseline_metrics\n",
        "train_losses = baseline_metrics['train_losses']\n",
        "val_losses = baseline_metrics['val_losses']\n",
        "epochs = range(1, len(train_losses) + 1)\n",
        "\n",
        "wandb.init(\n",
        "    project=\"chemberta\",\n",
        "    entity=\"hpml-proj-deepchem\",\n",
        "    name=\"Baseline_Loss_Curves\"\n",
        ")\n",
        "\n",
        "plt.figure(figsize=(10, 6))\n",
        "plt.plot(epochs, train_losses, label='Training Loss', color='teal')\n",
        "plt.plot(epochs, val_losses, label='Validation Loss', color='orange')\n",
        "plt.xlabel('Epochs')\n",
        "plt.ylabel('Loss')\n",
        "plt.title('Training and Validation Loss over Epochs for Baseline (Fine-Tuned)')\n",
        "plt.legend()\n",
        "plt.grid(True)\n",
        "plt.show()\n",
        "\n",
        "wandb.log({\"baseline_train_val_loss\": wandb.Image(plt)})\n",
        "\n",
        "for i in range(len(train_losses)):\n",
        "    wandb.log({\n",
        "        \"epoch\": i+1,\n",
        "        \"train_loss\": train_losses[i],\n",
        "        \"val_loss\": val_losses[i]\n",
        "    })\n",
        "\n",
        "wandb.finish()"
      ]
    },
    {
      "cell_type": "markdown",
      "metadata": {
        "id": "irYHHy1mfAWN"
      },
      "source": [
        "## ChemBeRTa With LoRA Fine-Tuning"
      ]
    },
    {
      "cell_type": "code",
      "execution_count": 16,
      "metadata": {
        "id": "nNFP2D9Osreq"
      },
      "outputs": [],
      "source": [
        "def setup_lora_model(model_name):\n",
        "    \"\"\"\n",
        "    Set up a model with LoRA configuration\n",
        "    \"\"\"\n",
        "    model = AutoModelForSequenceClassification.from_pretrained(\n",
        "        model_name,\n",
        "        num_labels=2,  # Binary classification for ClinTox\n",
        "        return_dict=True\n",
        "    )\n",
        "\n",
        "    peft_config = LoraConfig(\n",
        "        task_type=TaskType.SEQ_CLS,\n",
        "        inference_mode=False,\n",
        "        r=LORA_R,\n",
        "        lora_alpha=LORA_ALPHA,\n",
        "        lora_dropout=LORA_DROPOUT,\n",
        "        target_modules=[\"query\", \"value\"]  # Target attention modules\n",
        "    )\n",
        "\n",
        "    model = get_peft_model(model, peft_config)\n",
        "    return model"
      ]
    },
    {
      "cell_type": "code",
      "execution_count": 17,
      "metadata": {
        "colab": {
          "base_uri": "https://localhost:8080/",
          "height": 1000
        },
        "id": "zm65C-ZdWi89",
        "outputId": "6761ec05-b262-49bf-a197-4dcd271cb2cc"
      },
      "outputs": [
        {
          "data": {
            "text/html": [
              "Tracking run with wandb version 0.19.10"
            ],
            "text/plain": [
              "<IPython.core.display.HTML object>"
            ]
          },
          "metadata": {},
          "output_type": "display_data"
        },
        {
          "data": {
            "text/html": [
              "Run data is saved locally in <code>/content/wandb/run-20250511_181005-4xjljret</code>"
            ],
            "text/plain": [
              "<IPython.core.display.HTML object>"
            ]
          },
          "metadata": {},
          "output_type": "display_data"
        },
        {
          "data": {
            "text/html": [
              "Syncing run <strong><a href='https://wandb.ai/hpml-proj-deepchem/chemberta/runs/4xjljret' target=\"_blank\">LoRA_Hyperparameter_Sweep</a></strong> to <a href='https://wandb.ai/hpml-proj-deepchem/chemberta' target=\"_blank\">Weights & Biases</a> (<a href='https://wandb.me/developer-guide' target=\"_blank\">docs</a>)<br>"
            ],
            "text/plain": [
              "<IPython.core.display.HTML object>"
            ]
          },
          "metadata": {},
          "output_type": "display_data"
        },
        {
          "data": {
            "text/html": [
              " View project at <a href='https://wandb.ai/hpml-proj-deepchem/chemberta' target=\"_blank\">https://wandb.ai/hpml-proj-deepchem/chemberta</a>"
            ],
            "text/plain": [
              "<IPython.core.display.HTML object>"
            ]
          },
          "metadata": {},
          "output_type": "display_data"
        },
        {
          "data": {
            "text/html": [
              " View run at <a href='https://wandb.ai/hpml-proj-deepchem/chemberta/runs/4xjljret' target=\"_blank\">https://wandb.ai/hpml-proj-deepchem/chemberta/runs/4xjljret</a>"
            ],
            "text/plain": [
              "<IPython.core.display.HTML object>"
            ]
          },
          "metadata": {},
          "output_type": "display_data"
        },
        {
          "name": "stdout",
          "output_type": "stream",
          "text": [
            "\n",
            "--- LoRA with learning_rate=1e-05 ---\n"
          ]
        },
        {
          "name": "stderr",
          "output_type": "stream",
          "text": [
            "Some weights of RobertaForSequenceClassification were not initialized from the model checkpoint at seyonec/ChemBERTa-zinc-base-v1 and are newly initialized: ['classifier.dense.bias', 'classifier.dense.weight', 'classifier.out_proj.bias', 'classifier.out_proj.weight']\n",
            "You should probably TRAIN this model on a down-stream task to be able to use it for predictions and inference.\n"
          ]
        },
        {
          "data": {
            "text/html": [
              "Finishing previous runs because reinit is set to True."
            ],
            "text/plain": [
              "<IPython.core.display.HTML object>"
            ]
          },
          "metadata": {},
          "output_type": "display_data"
        },
        {
          "data": {
            "text/html": [],
            "text/plain": [
              "<IPython.core.display.HTML object>"
            ]
          },
          "metadata": {},
          "output_type": "display_data"
        },
        {
          "data": {
            "text/html": [
              " View run <strong style=\"color:#cdcd00\">LoRA_Hyperparameter_Sweep</strong> at: <a href='https://wandb.ai/hpml-proj-deepchem/chemberta/runs/4xjljret' target=\"_blank\">https://wandb.ai/hpml-proj-deepchem/chemberta/runs/4xjljret</a><br> View project at: <a href='https://wandb.ai/hpml-proj-deepchem/chemberta' target=\"_blank\">https://wandb.ai/hpml-proj-deepchem/chemberta</a><br>Synced 5 W&B file(s), 0 media file(s), 0 artifact file(s) and 0 other file(s)"
            ],
            "text/plain": [
              "<IPython.core.display.HTML object>"
            ]
          },
          "metadata": {},
          "output_type": "display_data"
        },
        {
          "data": {
            "text/html": [
              "Find logs at: <code>./wandb/run-20250511_181005-4xjljret/logs</code>"
            ],
            "text/plain": [
              "<IPython.core.display.HTML object>"
            ]
          },
          "metadata": {},
          "output_type": "display_data"
        },
        {
          "name": "stderr",
          "output_type": "stream",
          "text": [
            "\u001b[34m\u001b[1mwandb\u001b[0m: \u001b[33mWARNING\u001b[0m Using a boolean value for 'reinit' is deprecated. Use 'return_previous' or 'finish_previous' instead.\n"
          ]
        },
        {
          "data": {
            "text/html": [
              "Tracking run with wandb version 0.19.10"
            ],
            "text/plain": [
              "<IPython.core.display.HTML object>"
            ]
          },
          "metadata": {},
          "output_type": "display_data"
        },
        {
          "data": {
            "text/html": [
              "Run data is saved locally in <code>/content/wandb/run-20250511_181007-o7wrk5cj</code>"
            ],
            "text/plain": [
              "<IPython.core.display.HTML object>"
            ]
          },
          "metadata": {},
          "output_type": "display_data"
        },
        {
          "data": {
            "text/html": [
              "Syncing run <strong><a href='https://wandb.ai/hpml-proj-deepchem/chemberta/runs/o7wrk5cj' target=\"_blank\">LoRA_lr_1e-05</a></strong> to <a href='https://wandb.ai/hpml-proj-deepchem/chemberta' target=\"_blank\">Weights & Biases</a> (<a href='https://wandb.me/developer-guide' target=\"_blank\">docs</a>)<br>"
            ],
            "text/plain": [
              "<IPython.core.display.HTML object>"
            ]
          },
          "metadata": {},
          "output_type": "display_data"
        },
        {
          "data": {
            "text/html": [
              " View project at <a href='https://wandb.ai/hpml-proj-deepchem/chemberta' target=\"_blank\">https://wandb.ai/hpml-proj-deepchem/chemberta</a>"
            ],
            "text/plain": [
              "<IPython.core.display.HTML object>"
            ]
          },
          "metadata": {},
          "output_type": "display_data"
        },
        {
          "data": {
            "text/html": [
              " View run at <a href='https://wandb.ai/hpml-proj-deepchem/chemberta/runs/o7wrk5cj' target=\"_blank\">https://wandb.ai/hpml-proj-deepchem/chemberta/runs/o7wrk5cj</a>"
            ],
            "text/plain": [
              "<IPython.core.display.HTML object>"
            ]
          },
          "metadata": {},
          "output_type": "display_data"
        },
        {
          "name": "stdout",
          "output_type": "stream",
          "text": [
            "\n",
            "--- LoRA_lr_1e-05 - Trainable Parameters ---\n",
            "Trainable: 739586 | All: 44845060 | % Trained: 1.65\n"
          ]
        },
        {
          "data": {
            "text/html": [
              "Finishing previous runs because reinit is set to 'default'."
            ],
            "text/plain": [
              "<IPython.core.display.HTML object>"
            ]
          },
          "metadata": {},
          "output_type": "display_data"
        },
        {
          "data": {
            "text/html": [],
            "text/plain": [
              "<IPython.core.display.HTML object>"
            ]
          },
          "metadata": {},
          "output_type": "display_data"
        },
        {
          "data": {
            "text/html": [
              " View run <strong style=\"color:#cdcd00\">LoRA_lr_1e-05</strong> at: <a href='https://wandb.ai/hpml-proj-deepchem/chemberta/runs/o7wrk5cj' target=\"_blank\">https://wandb.ai/hpml-proj-deepchem/chemberta/runs/o7wrk5cj</a><br> View project at: <a href='https://wandb.ai/hpml-proj-deepchem/chemberta' target=\"_blank\">https://wandb.ai/hpml-proj-deepchem/chemberta</a><br>Synced 5 W&B file(s), 0 media file(s), 0 artifact file(s) and 0 other file(s)"
            ],
            "text/plain": [
              "<IPython.core.display.HTML object>"
            ]
          },
          "metadata": {},
          "output_type": "display_data"
        },
        {
          "data": {
            "text/html": [
              "Find logs at: <code>./wandb/run-20250511_181007-o7wrk5cj/logs</code>"
            ],
            "text/plain": [
              "<IPython.core.display.HTML object>"
            ]
          },
          "metadata": {},
          "output_type": "display_data"
        },
        {
          "data": {
            "text/html": [
              "Tracking run with wandb version 0.19.10"
            ],
            "text/plain": [
              "<IPython.core.display.HTML object>"
            ]
          },
          "metadata": {},
          "output_type": "display_data"
        },
        {
          "data": {
            "text/html": [
              "Run data is saved locally in <code>/content/wandb/run-20250511_181010-24ixxf8w</code>"
            ],
            "text/plain": [
              "<IPython.core.display.HTML object>"
            ]
          },
          "metadata": {},
          "output_type": "display_data"
        },
        {
          "data": {
            "text/html": [
              "Syncing run <strong><a href='https://wandb.ai/hpml-proj-deepchem/chemberta/runs/24ixxf8w' target=\"_blank\">Training_LoRA_lr_1e-05_lr1e-05</a></strong> to <a href='https://wandb.ai/hpml-proj-deepchem/chemberta' target=\"_blank\">Weights & Biases</a> (<a href='https://wandb.me/developer-guide' target=\"_blank\">docs</a>)<br>"
            ],
            "text/plain": [
              "<IPython.core.display.HTML object>"
            ]
          },
          "metadata": {},
          "output_type": "display_data"
        },
        {
          "data": {
            "text/html": [
              " View project at <a href='https://wandb.ai/hpml-proj-deepchem/chemberta' target=\"_blank\">https://wandb.ai/hpml-proj-deepchem/chemberta</a>"
            ],
            "text/plain": [
              "<IPython.core.display.HTML object>"
            ]
          },
          "metadata": {},
          "output_type": "display_data"
        },
        {
          "data": {
            "text/html": [
              " View run at <a href='https://wandb.ai/hpml-proj-deepchem/chemberta/runs/24ixxf8w' target=\"_blank\">https://wandb.ai/hpml-proj-deepchem/chemberta/runs/24ixxf8w</a>"
            ],
            "text/plain": [
              "<IPython.core.display.HTML object>"
            ]
          },
          "metadata": {},
          "output_type": "display_data"
        },
        {
          "name": "stdout",
          "output_type": "stream",
          "text": [
            "\n",
            "--- LoRA_lr_1e-05 ---\n"
          ]
        },
        {
          "name": "stderr",
          "output_type": "stream",
          "text": [
            "Epoch 1/5: 100%|██████████| 37/37 [00:03<00:00,  9.62it/s, loss=0.315]\n",
            "Evaluating: 100%|██████████| 5/5 [00:00<00:00, 19.87it/s]\n"
          ]
        },
        {
          "name": "stdout",
          "output_type": "stream",
          "text": [
            "Epoch 1 | Training Time: 3.85 s | Train Loss: 0.4744 | Val Loss: 0.3164 | Val Accuracy: 0.9527\n"
          ]
        },
        {
          "name": "stderr",
          "output_type": "stream",
          "text": [
            "Epoch 2/5: 100%|██████████| 37/37 [00:03<00:00,  9.63it/s, loss=0.347]\n",
            "Evaluating: 100%|██████████| 5/5 [00:00<00:00, 19.91it/s]\n"
          ]
        },
        {
          "name": "stdout",
          "output_type": "stream",
          "text": [
            "Epoch 2 | Training Time: 3.85 s | Train Loss: 0.3088 | Val Loss: 0.2212 | Val Accuracy: 0.9527\n"
          ]
        },
        {
          "name": "stderr",
          "output_type": "stream",
          "text": [
            "Epoch 3/5: 100%|██████████| 37/37 [00:03<00:00,  9.62it/s, loss=0.161]\n",
            "Evaluating: 100%|██████████| 5/5 [00:00<00:00, 20.18it/s]\n"
          ]
        },
        {
          "name": "stdout",
          "output_type": "stream",
          "text": [
            "Epoch 3 | Training Time: 3.85 s | Train Loss: 0.2563 | Val Loss: 0.1899 | Val Accuracy: 0.9527\n"
          ]
        },
        {
          "name": "stderr",
          "output_type": "stream",
          "text": [
            "Epoch 4/5: 100%|██████████| 37/37 [00:03<00:00,  9.57it/s, loss=0.267]\n",
            "Evaluating: 100%|██████████| 5/5 [00:00<00:00, 19.96it/s]\n"
          ]
        },
        {
          "name": "stdout",
          "output_type": "stream",
          "text": [
            "Epoch 4 | Training Time: 3.87 s | Train Loss: 0.2315 | Val Loss: 0.1755 | Val Accuracy: 0.9527\n"
          ]
        },
        {
          "name": "stderr",
          "output_type": "stream",
          "text": [
            "Epoch 5/5: 100%|██████████| 37/37 [00:03<00:00,  9.56it/s, loss=0.279]\n",
            "Evaluating: 100%|██████████| 5/5 [00:00<00:00, 19.81it/s]\n"
          ]
        },
        {
          "name": "stdout",
          "output_type": "stream",
          "text": [
            "Epoch 5 | Training Time: 3.87 s | Train Loss: 0.2155 | Val Loss: 0.1652 | Val Accuracy: 0.9527\n"
          ]
        },
        {
          "name": "stderr",
          "output_type": "stream",
          "text": [
            "Evaluating: 100%|██████████| 5/5 [00:00<00:00, 20.02it/s]\n"
          ]
        },
        {
          "name": "stdout",
          "output_type": "stream",
          "text": [
            "\n",
            "--- LoRA_lr_1e-05 ---\n",
            "Training time: 20.57 seconds\n",
            "Test Loss: 0.1685 | Test Accuracy: 0.9392\n"
          ]
        },
        {
          "data": {
            "text/html": [],
            "text/plain": [
              "<IPython.core.display.HTML object>"
            ]
          },
          "metadata": {},
          "output_type": "display_data"
        },
        {
          "data": {
            "text/html": [
              "<br>    <style><br>        .wandb-row {<br>            display: flex;<br>            flex-direction: row;<br>            flex-wrap: wrap;<br>            justify-content: flex-start;<br>            width: 100%;<br>        }<br>        .wandb-col {<br>            display: flex;<br>            flex-direction: column;<br>            flex-basis: 100%;<br>            flex: 1;<br>            padding: 10px;<br>        }<br>    </style><br><div class=\"wandb-row\"><div class=\"wandb-col\"><h3>Run history:</h3><br/><table class=\"wandb\"><tr><td>epoch</td><td>▁▃▅▆█</td></tr><tr><td>epoch_time</td><td>▁▁▁▇█</td></tr><tr><td>parameter_efficiency</td><td>▁▁</td></tr><tr><td>test_accuracy</td><td>▁</td></tr><tr><td>test_loss</td><td>▁</td></tr><tr><td>total_parameters</td><td>▁▁</td></tr><tr><td>train_loss</td><td>█▄▂▁▁</td></tr><tr><td>trainable_parameters</td><td>▁▁</td></tr><tr><td>training_time</td><td>▁</td></tr><tr><td>val_accuracy</td><td>▁▁▁▁▁</td></tr><tr><td>val_loss</td><td>█▄▂▁▁</td></tr></table><br/></div><div class=\"wandb-col\"><h3>Run summary:</h3><br/><table class=\"wandb\"><tr><td>epoch</td><td>5</td></tr><tr><td>epoch_time</td><td>3.8724</td></tr><tr><td>model_type</td><td>LoRA_lr_1e-05</td></tr><tr><td>parameter_efficiency</td><td>1.65</td></tr><tr><td>test_accuracy</td><td>0.93919</td></tr><tr><td>test_loss</td><td>0.16847</td></tr><tr><td>total_parameters</td><td>44845060</td></tr><tr><td>train_loss</td><td>0.21553</td></tr><tr><td>trainable_parameters</td><td>739586</td></tr><tr><td>training_time</td><td>20.57</td></tr><tr><td>val_accuracy</td><td>0.9527</td></tr><tr><td>val_loss</td><td>0.1652</td></tr></table><br/></div></div>"
            ],
            "text/plain": [
              "<IPython.core.display.HTML object>"
            ]
          },
          "metadata": {},
          "output_type": "display_data"
        },
        {
          "data": {
            "text/html": [
              " View run <strong style=\"color:#cdcd00\">Training_LoRA_lr_1e-05_lr1e-05</strong> at: <a href='https://wandb.ai/hpml-proj-deepchem/chemberta/runs/24ixxf8w' target=\"_blank\">https://wandb.ai/hpml-proj-deepchem/chemberta/runs/24ixxf8w</a><br> View project at: <a href='https://wandb.ai/hpml-proj-deepchem/chemberta' target=\"_blank\">https://wandb.ai/hpml-proj-deepchem/chemberta</a><br>Synced 5 W&B file(s), 2 media file(s), 4 artifact file(s) and 0 other file(s)"
            ],
            "text/plain": [
              "<IPython.core.display.HTML object>"
            ]
          },
          "metadata": {},
          "output_type": "display_data"
        },
        {
          "data": {
            "text/html": [
              "Find logs at: <code>./wandb/run-20250511_181010-24ixxf8w/logs</code>"
            ],
            "text/plain": [
              "<IPython.core.display.HTML object>"
            ]
          },
          "metadata": {},
          "output_type": "display_data"
        },
        {
          "name": "stdout",
          "output_type": "stream",
          "text": [
            "\n",
            "--- LoRA with learning_rate=2e-05 ---\n"
          ]
        },
        {
          "name": "stderr",
          "output_type": "stream",
          "text": [
            "Some weights of RobertaForSequenceClassification were not initialized from the model checkpoint at seyonec/ChemBERTa-zinc-base-v1 and are newly initialized: ['classifier.dense.bias', 'classifier.dense.weight', 'classifier.out_proj.bias', 'classifier.out_proj.weight']\n",
            "You should probably TRAIN this model on a down-stream task to be able to use it for predictions and inference.\n"
          ]
        },
        {
          "data": {
            "text/html": [
              "Tracking run with wandb version 0.19.10"
            ],
            "text/plain": [
              "<IPython.core.display.HTML object>"
            ]
          },
          "metadata": {},
          "output_type": "display_data"
        },
        {
          "data": {
            "text/html": [
              "Run data is saved locally in <code>/content/wandb/run-20250511_181042-miw3jmvf</code>"
            ],
            "text/plain": [
              "<IPython.core.display.HTML object>"
            ]
          },
          "metadata": {},
          "output_type": "display_data"
        },
        {
          "data": {
            "text/html": [
              "Syncing run <strong><a href='https://wandb.ai/hpml-proj-deepchem/chemberta/runs/miw3jmvf' target=\"_blank\">LoRA_lr_2e-05</a></strong> to <a href='https://wandb.ai/hpml-proj-deepchem/chemberta' target=\"_blank\">Weights & Biases</a> (<a href='https://wandb.me/developer-guide' target=\"_blank\">docs</a>)<br>"
            ],
            "text/plain": [
              "<IPython.core.display.HTML object>"
            ]
          },
          "metadata": {},
          "output_type": "display_data"
        },
        {
          "data": {
            "text/html": [
              " View project at <a href='https://wandb.ai/hpml-proj-deepchem/chemberta' target=\"_blank\">https://wandb.ai/hpml-proj-deepchem/chemberta</a>"
            ],
            "text/plain": [
              "<IPython.core.display.HTML object>"
            ]
          },
          "metadata": {},
          "output_type": "display_data"
        },
        {
          "data": {
            "text/html": [
              " View run at <a href='https://wandb.ai/hpml-proj-deepchem/chemberta/runs/miw3jmvf' target=\"_blank\">https://wandb.ai/hpml-proj-deepchem/chemberta/runs/miw3jmvf</a>"
            ],
            "text/plain": [
              "<IPython.core.display.HTML object>"
            ]
          },
          "metadata": {},
          "output_type": "display_data"
        },
        {
          "name": "stdout",
          "output_type": "stream",
          "text": [
            "\n",
            "--- LoRA_lr_2e-05 - Trainable Parameters ---\n",
            "Trainable: 739586 | All: 44845060 | % Trained: 1.65\n"
          ]
        },
        {
          "data": {
            "text/html": [
              "Finishing previous runs because reinit is set to 'default'."
            ],
            "text/plain": [
              "<IPython.core.display.HTML object>"
            ]
          },
          "metadata": {},
          "output_type": "display_data"
        },
        {
          "data": {
            "text/html": [],
            "text/plain": [
              "<IPython.core.display.HTML object>"
            ]
          },
          "metadata": {},
          "output_type": "display_data"
        },
        {
          "data": {
            "text/html": [
              " View run <strong style=\"color:#cdcd00\">LoRA_lr_2e-05</strong> at: <a href='https://wandb.ai/hpml-proj-deepchem/chemberta/runs/miw3jmvf' target=\"_blank\">https://wandb.ai/hpml-proj-deepchem/chemberta/runs/miw3jmvf</a><br> View project at: <a href='https://wandb.ai/hpml-proj-deepchem/chemberta' target=\"_blank\">https://wandb.ai/hpml-proj-deepchem/chemberta</a><br>Synced 5 W&B file(s), 0 media file(s), 0 artifact file(s) and 0 other file(s)"
            ],
            "text/plain": [
              "<IPython.core.display.HTML object>"
            ]
          },
          "metadata": {},
          "output_type": "display_data"
        },
        {
          "data": {
            "text/html": [
              "Find logs at: <code>./wandb/run-20250511_181042-miw3jmvf/logs</code>"
            ],
            "text/plain": [
              "<IPython.core.display.HTML object>"
            ]
          },
          "metadata": {},
          "output_type": "display_data"
        },
        {
          "data": {
            "text/html": [
              "Tracking run with wandb version 0.19.10"
            ],
            "text/plain": [
              "<IPython.core.display.HTML object>"
            ]
          },
          "metadata": {},
          "output_type": "display_data"
        },
        {
          "data": {
            "text/html": [
              "Run data is saved locally in <code>/content/wandb/run-20250511_181043-0m3h8c6y</code>"
            ],
            "text/plain": [
              "<IPython.core.display.HTML object>"
            ]
          },
          "metadata": {},
          "output_type": "display_data"
        },
        {
          "data": {
            "text/html": [
              "Syncing run <strong><a href='https://wandb.ai/hpml-proj-deepchem/chemberta/runs/0m3h8c6y' target=\"_blank\">Training_LoRA_lr_2e-05_lr2e-05</a></strong> to <a href='https://wandb.ai/hpml-proj-deepchem/chemberta' target=\"_blank\">Weights & Biases</a> (<a href='https://wandb.me/developer-guide' target=\"_blank\">docs</a>)<br>"
            ],
            "text/plain": [
              "<IPython.core.display.HTML object>"
            ]
          },
          "metadata": {},
          "output_type": "display_data"
        },
        {
          "data": {
            "text/html": [
              " View project at <a href='https://wandb.ai/hpml-proj-deepchem/chemberta' target=\"_blank\">https://wandb.ai/hpml-proj-deepchem/chemberta</a>"
            ],
            "text/plain": [
              "<IPython.core.display.HTML object>"
            ]
          },
          "metadata": {},
          "output_type": "display_data"
        },
        {
          "data": {
            "text/html": [
              " View run at <a href='https://wandb.ai/hpml-proj-deepchem/chemberta/runs/0m3h8c6y' target=\"_blank\">https://wandb.ai/hpml-proj-deepchem/chemberta/runs/0m3h8c6y</a>"
            ],
            "text/plain": [
              "<IPython.core.display.HTML object>"
            ]
          },
          "metadata": {},
          "output_type": "display_data"
        },
        {
          "name": "stdout",
          "output_type": "stream",
          "text": [
            "\n",
            "--- LoRA_lr_2e-05 ---\n"
          ]
        },
        {
          "name": "stderr",
          "output_type": "stream",
          "text": [
            "Epoch 1/5: 100%|██████████| 37/37 [00:03<00:00,  9.57it/s, loss=0.274]\n",
            "Evaluating: 100%|██████████| 5/5 [00:00<00:00, 19.74it/s]\n"
          ]
        },
        {
          "name": "stdout",
          "output_type": "stream",
          "text": [
            "Epoch 1 | Training Time: 3.87 s | Train Loss: 0.4462 | Val Loss: 0.2270 | Val Accuracy: 0.9527\n"
          ]
        },
        {
          "name": "stderr",
          "output_type": "stream",
          "text": [
            "Epoch 2/5: 100%|██████████| 37/37 [00:03<00:00,  9.44it/s, loss=0.168]\n",
            "Evaluating: 100%|██████████| 5/5 [00:00<00:00, 19.78it/s]\n"
          ]
        },
        {
          "name": "stdout",
          "output_type": "stream",
          "text": [
            "Epoch 2 | Training Time: 3.92 s | Train Loss: 0.2523 | Val Loss: 0.1789 | Val Accuracy: 0.9527\n"
          ]
        },
        {
          "name": "stderr",
          "output_type": "stream",
          "text": [
            "Epoch 3/5: 100%|██████████| 37/37 [00:03<00:00,  9.46it/s, loss=0.118]\n",
            "Evaluating: 100%|██████████| 5/5 [00:00<00:00, 19.76it/s]\n"
          ]
        },
        {
          "name": "stdout",
          "output_type": "stream",
          "text": [
            "Epoch 3 | Training Time: 3.92 s | Train Loss: 0.2148 | Val Loss: 0.1620 | Val Accuracy: 0.9527\n"
          ]
        },
        {
          "name": "stderr",
          "output_type": "stream",
          "text": [
            "Epoch 4/5: 100%|██████████| 37/37 [00:03<00:00,  9.42it/s, loss=0.17]\n",
            "Evaluating: 100%|██████████| 5/5 [00:00<00:00, 19.59it/s]\n"
          ]
        },
        {
          "name": "stdout",
          "output_type": "stream",
          "text": [
            "Epoch 4 | Training Time: 3.93 s | Train Loss: 0.1862 | Val Loss: 0.1465 | Val Accuracy: 0.9527\n"
          ]
        },
        {
          "name": "stderr",
          "output_type": "stream",
          "text": [
            "Epoch 5/5: 100%|██████████| 37/37 [00:03<00:00,  9.36it/s, loss=0.234]\n",
            "Evaluating: 100%|██████████| 5/5 [00:00<00:00, 19.53it/s]\n"
          ]
        },
        {
          "name": "stdout",
          "output_type": "stream",
          "text": [
            "Epoch 5 | Training Time: 3.96 s | Train Loss: 0.1625 | Val Loss: 0.1308 | Val Accuracy: 0.9527\n"
          ]
        },
        {
          "name": "stderr",
          "output_type": "stream",
          "text": [
            "Evaluating: 100%|██████████| 5/5 [00:00<00:00, 19.77it/s]\n"
          ]
        },
        {
          "name": "stdout",
          "output_type": "stream",
          "text": [
            "\n",
            "--- LoRA_lr_2e-05 ---\n",
            "Training time: 20.89 seconds\n",
            "Test Loss: 0.1229 | Test Accuracy: 0.9459\n"
          ]
        },
        {
          "data": {
            "text/html": [],
            "text/plain": [
              "<IPython.core.display.HTML object>"
            ]
          },
          "metadata": {},
          "output_type": "display_data"
        },
        {
          "data": {
            "text/html": [
              "<br>    <style><br>        .wandb-row {<br>            display: flex;<br>            flex-direction: row;<br>            flex-wrap: wrap;<br>            justify-content: flex-start;<br>            width: 100%;<br>        }<br>        .wandb-col {<br>            display: flex;<br>            flex-direction: column;<br>            flex-basis: 100%;<br>            flex: 1;<br>            padding: 10px;<br>        }<br>    </style><br><div class=\"wandb-row\"><div class=\"wandb-col\"><h3>Run history:</h3><br/><table class=\"wandb\"><tr><td>epoch</td><td>▁▃▅▆█</td></tr><tr><td>epoch_time</td><td>▁▅▅▆█</td></tr><tr><td>parameter_efficiency</td><td>▁▁</td></tr><tr><td>test_accuracy</td><td>▁</td></tr><tr><td>test_loss</td><td>▁</td></tr><tr><td>total_parameters</td><td>▁▁</td></tr><tr><td>train_loss</td><td>█▃▂▂▁</td></tr><tr><td>trainable_parameters</td><td>▁▁</td></tr><tr><td>training_time</td><td>▁</td></tr><tr><td>val_accuracy</td><td>▁▁▁▁▁</td></tr><tr><td>val_loss</td><td>█▄▃▂▁</td></tr></table><br/></div><div class=\"wandb-col\"><h3>Run summary:</h3><br/><table class=\"wandb\"><tr><td>epoch</td><td>5</td></tr><tr><td>epoch_time</td><td>3.95554</td></tr><tr><td>model_type</td><td>LoRA_lr_2e-05</td></tr><tr><td>parameter_efficiency</td><td>1.65</td></tr><tr><td>test_accuracy</td><td>0.94595</td></tr><tr><td>test_loss</td><td>0.12285</td></tr><tr><td>total_parameters</td><td>44845060</td></tr><tr><td>train_loss</td><td>0.16245</td></tr><tr><td>trainable_parameters</td><td>739586</td></tr><tr><td>training_time</td><td>20.89</td></tr><tr><td>val_accuracy</td><td>0.9527</td></tr><tr><td>val_loss</td><td>0.13082</td></tr></table><br/></div></div>"
            ],
            "text/plain": [
              "<IPython.core.display.HTML object>"
            ]
          },
          "metadata": {},
          "output_type": "display_data"
        },
        {
          "data": {
            "text/html": [
              " View run <strong style=\"color:#cdcd00\">Training_LoRA_lr_2e-05_lr2e-05</strong> at: <a href='https://wandb.ai/hpml-proj-deepchem/chemberta/runs/0m3h8c6y' target=\"_blank\">https://wandb.ai/hpml-proj-deepchem/chemberta/runs/0m3h8c6y</a><br> View project at: <a href='https://wandb.ai/hpml-proj-deepchem/chemberta' target=\"_blank\">https://wandb.ai/hpml-proj-deepchem/chemberta</a><br>Synced 5 W&B file(s), 2 media file(s), 4 artifact file(s) and 0 other file(s)"
            ],
            "text/plain": [
              "<IPython.core.display.HTML object>"
            ]
          },
          "metadata": {},
          "output_type": "display_data"
        },
        {
          "data": {
            "text/html": [
              "Find logs at: <code>./wandb/run-20250511_181043-0m3h8c6y/logs</code>"
            ],
            "text/plain": [
              "<IPython.core.display.HTML object>"
            ]
          },
          "metadata": {},
          "output_type": "display_data"
        },
        {
          "name": "stdout",
          "output_type": "stream",
          "text": [
            "\n",
            "--- LoRA with learning_rate=3e-05 ---\n"
          ]
        },
        {
          "name": "stderr",
          "output_type": "stream",
          "text": [
            "Some weights of RobertaForSequenceClassification were not initialized from the model checkpoint at seyonec/ChemBERTa-zinc-base-v1 and are newly initialized: ['classifier.dense.bias', 'classifier.dense.weight', 'classifier.out_proj.bias', 'classifier.out_proj.weight']\n",
            "You should probably TRAIN this model on a down-stream task to be able to use it for predictions and inference.\n"
          ]
        },
        {
          "data": {
            "text/html": [
              "Tracking run with wandb version 0.19.10"
            ],
            "text/plain": [
              "<IPython.core.display.HTML object>"
            ]
          },
          "metadata": {},
          "output_type": "display_data"
        },
        {
          "data": {
            "text/html": [
              "Run data is saved locally in <code>/content/wandb/run-20250511_181114-4vbk6ubq</code>"
            ],
            "text/plain": [
              "<IPython.core.display.HTML object>"
            ]
          },
          "metadata": {},
          "output_type": "display_data"
        },
        {
          "data": {
            "text/html": [
              "Syncing run <strong><a href='https://wandb.ai/hpml-proj-deepchem/chemberta/runs/4vbk6ubq' target=\"_blank\">LoRA_lr_3e-05</a></strong> to <a href='https://wandb.ai/hpml-proj-deepchem/chemberta' target=\"_blank\">Weights & Biases</a> (<a href='https://wandb.me/developer-guide' target=\"_blank\">docs</a>)<br>"
            ],
            "text/plain": [
              "<IPython.core.display.HTML object>"
            ]
          },
          "metadata": {},
          "output_type": "display_data"
        },
        {
          "data": {
            "text/html": [
              " View project at <a href='https://wandb.ai/hpml-proj-deepchem/chemberta' target=\"_blank\">https://wandb.ai/hpml-proj-deepchem/chemberta</a>"
            ],
            "text/plain": [
              "<IPython.core.display.HTML object>"
            ]
          },
          "metadata": {},
          "output_type": "display_data"
        },
        {
          "data": {
            "text/html": [
              " View run at <a href='https://wandb.ai/hpml-proj-deepchem/chemberta/runs/4vbk6ubq' target=\"_blank\">https://wandb.ai/hpml-proj-deepchem/chemberta/runs/4vbk6ubq</a>"
            ],
            "text/plain": [
              "<IPython.core.display.HTML object>"
            ]
          },
          "metadata": {},
          "output_type": "display_data"
        },
        {
          "name": "stdout",
          "output_type": "stream",
          "text": [
            "\n",
            "--- LoRA_lr_3e-05 - Trainable Parameters ---\n",
            "Trainable: 739586 | All: 44845060 | % Trained: 1.65\n"
          ]
        },
        {
          "data": {
            "text/html": [
              "Finishing previous runs because reinit is set to 'default'."
            ],
            "text/plain": [
              "<IPython.core.display.HTML object>"
            ]
          },
          "metadata": {},
          "output_type": "display_data"
        },
        {
          "data": {
            "text/html": [],
            "text/plain": [
              "<IPython.core.display.HTML object>"
            ]
          },
          "metadata": {},
          "output_type": "display_data"
        },
        {
          "data": {
            "text/html": [
              " View run <strong style=\"color:#cdcd00\">LoRA_lr_3e-05</strong> at: <a href='https://wandb.ai/hpml-proj-deepchem/chemberta/runs/4vbk6ubq' target=\"_blank\">https://wandb.ai/hpml-proj-deepchem/chemberta/runs/4vbk6ubq</a><br> View project at: <a href='https://wandb.ai/hpml-proj-deepchem/chemberta' target=\"_blank\">https://wandb.ai/hpml-proj-deepchem/chemberta</a><br>Synced 5 W&B file(s), 0 media file(s), 0 artifact file(s) and 0 other file(s)"
            ],
            "text/plain": [
              "<IPython.core.display.HTML object>"
            ]
          },
          "metadata": {},
          "output_type": "display_data"
        },
        {
          "data": {
            "text/html": [
              "Find logs at: <code>./wandb/run-20250511_181114-4vbk6ubq/logs</code>"
            ],
            "text/plain": [
              "<IPython.core.display.HTML object>"
            ]
          },
          "metadata": {},
          "output_type": "display_data"
        },
        {
          "data": {
            "text/html": [
              "Tracking run with wandb version 0.19.10"
            ],
            "text/plain": [
              "<IPython.core.display.HTML object>"
            ]
          },
          "metadata": {},
          "output_type": "display_data"
        },
        {
          "data": {
            "text/html": [
              "Run data is saved locally in <code>/content/wandb/run-20250511_181116-qcsr2xai</code>"
            ],
            "text/plain": [
              "<IPython.core.display.HTML object>"
            ]
          },
          "metadata": {},
          "output_type": "display_data"
        },
        {
          "data": {
            "text/html": [
              "Syncing run <strong><a href='https://wandb.ai/hpml-proj-deepchem/chemberta/runs/qcsr2xai' target=\"_blank\">Training_LoRA_lr_3e-05_lr3e-05</a></strong> to <a href='https://wandb.ai/hpml-proj-deepchem/chemberta' target=\"_blank\">Weights & Biases</a> (<a href='https://wandb.me/developer-guide' target=\"_blank\">docs</a>)<br>"
            ],
            "text/plain": [
              "<IPython.core.display.HTML object>"
            ]
          },
          "metadata": {},
          "output_type": "display_data"
        },
        {
          "data": {
            "text/html": [
              " View project at <a href='https://wandb.ai/hpml-proj-deepchem/chemberta' target=\"_blank\">https://wandb.ai/hpml-proj-deepchem/chemberta</a>"
            ],
            "text/plain": [
              "<IPython.core.display.HTML object>"
            ]
          },
          "metadata": {},
          "output_type": "display_data"
        },
        {
          "data": {
            "text/html": [
              " View run at <a href='https://wandb.ai/hpml-proj-deepchem/chemberta/runs/qcsr2xai' target=\"_blank\">https://wandb.ai/hpml-proj-deepchem/chemberta/runs/qcsr2xai</a>"
            ],
            "text/plain": [
              "<IPython.core.display.HTML object>"
            ]
          },
          "metadata": {},
          "output_type": "display_data"
        },
        {
          "name": "stdout",
          "output_type": "stream",
          "text": [
            "\n",
            "--- LoRA_lr_3e-05 ---\n"
          ]
        },
        {
          "name": "stderr",
          "output_type": "stream",
          "text": [
            "Epoch 1/5: 100%|██████████| 37/37 [00:03<00:00,  9.34it/s, loss=0.291]\n",
            "Evaluating: 100%|██████████| 5/5 [00:00<00:00, 19.52it/s]\n"
          ]
        },
        {
          "name": "stdout",
          "output_type": "stream",
          "text": [
            "Epoch 1 | Training Time: 3.96 s | Train Loss: 0.3590 | Val Loss: 0.1828 | Val Accuracy: 0.9527\n"
          ]
        },
        {
          "name": "stderr",
          "output_type": "stream",
          "text": [
            "Epoch 2/5: 100%|██████████| 37/37 [00:03<00:00,  9.29it/s, loss=0.338]\n",
            "Evaluating: 100%|██████████| 5/5 [00:00<00:00, 19.50it/s]\n"
          ]
        },
        {
          "name": "stdout",
          "output_type": "stream",
          "text": [
            "Epoch 2 | Training Time: 3.99 s | Train Loss: 0.2208 | Val Loss: 0.1592 | Val Accuracy: 0.9527\n"
          ]
        },
        {
          "name": "stderr",
          "output_type": "stream",
          "text": [
            "Epoch 3/5: 100%|██████████| 37/37 [00:03<00:00,  9.28it/s, loss=0.0854]\n",
            "Evaluating: 100%|██████████| 5/5 [00:00<00:00, 19.51it/s]\n"
          ]
        },
        {
          "name": "stdout",
          "output_type": "stream",
          "text": [
            "Epoch 3 | Training Time: 3.99 s | Train Loss: 0.1848 | Val Loss: 0.1397 | Val Accuracy: 0.9527\n"
          ]
        },
        {
          "name": "stderr",
          "output_type": "stream",
          "text": [
            "Epoch 4/5: 100%|██████████| 37/37 [00:03<00:00,  9.28it/s, loss=0.167]\n",
            "Evaluating: 100%|██████████| 5/5 [00:00<00:00, 19.56it/s]\n"
          ]
        },
        {
          "name": "stdout",
          "output_type": "stream",
          "text": [
            "Epoch 4 | Training Time: 3.99 s | Train Loss: 0.1447 | Val Loss: 0.1180 | Val Accuracy: 0.9662\n"
          ]
        },
        {
          "name": "stderr",
          "output_type": "stream",
          "text": [
            "Epoch 5/5: 100%|██████████| 37/37 [00:04<00:00,  9.25it/s, loss=0.0498]\n",
            "Evaluating: 100%|██████████| 5/5 [00:00<00:00, 19.24it/s]\n"
          ]
        },
        {
          "name": "stdout",
          "output_type": "stream",
          "text": [
            "Epoch 5 | Training Time: 4.00 s | Train Loss: 0.1154 | Val Loss: 0.1026 | Val Accuracy: 0.9730\n"
          ]
        },
        {
          "name": "stderr",
          "output_type": "stream",
          "text": [
            "Evaluating: 100%|██████████| 5/5 [00:00<00:00, 19.25it/s]\n"
          ]
        },
        {
          "name": "stdout",
          "output_type": "stream",
          "text": [
            "\n",
            "--- LoRA_lr_3e-05 ---\n",
            "Training time: 21.25 seconds\n",
            "Test Loss: 0.0890 | Test Accuracy: 0.9662\n"
          ]
        },
        {
          "data": {
            "text/html": [],
            "text/plain": [
              "<IPython.core.display.HTML object>"
            ]
          },
          "metadata": {},
          "output_type": "display_data"
        },
        {
          "data": {
            "text/html": [
              "<br>    <style><br>        .wandb-row {<br>            display: flex;<br>            flex-direction: row;<br>            flex-wrap: wrap;<br>            justify-content: flex-start;<br>            width: 100%;<br>        }<br>        .wandb-col {<br>            display: flex;<br>            flex-direction: column;<br>            flex-basis: 100%;<br>            flex: 1;<br>            padding: 10px;<br>        }<br>    </style><br><div class=\"wandb-row\"><div class=\"wandb-col\"><h3>Run history:</h3><br/><table class=\"wandb\"><tr><td>epoch</td><td>▁▃▅▆█</td></tr><tr><td>epoch_time</td><td>▁▅▆▆█</td></tr><tr><td>parameter_efficiency</td><td>▁▁</td></tr><tr><td>test_accuracy</td><td>▁</td></tr><tr><td>test_loss</td><td>▁</td></tr><tr><td>total_parameters</td><td>▁▁</td></tr><tr><td>train_loss</td><td>█▄▃▂▁</td></tr><tr><td>trainable_parameters</td><td>▁▁</td></tr><tr><td>training_time</td><td>▁</td></tr><tr><td>val_accuracy</td><td>▁▁▁▆█</td></tr><tr><td>val_loss</td><td>█▆▄▂▁</td></tr></table><br/></div><div class=\"wandb-col\"><h3>Run summary:</h3><br/><table class=\"wandb\"><tr><td>epoch</td><td>5</td></tr><tr><td>epoch_time</td><td>4.00374</td></tr><tr><td>model_type</td><td>LoRA_lr_3e-05</td></tr><tr><td>parameter_efficiency</td><td>1.65</td></tr><tr><td>test_accuracy</td><td>0.96622</td></tr><tr><td>test_loss</td><td>0.08898</td></tr><tr><td>total_parameters</td><td>44845060</td></tr><tr><td>train_loss</td><td>0.11542</td></tr><tr><td>trainable_parameters</td><td>739586</td></tr><tr><td>training_time</td><td>21.25</td></tr><tr><td>val_accuracy</td><td>0.97297</td></tr><tr><td>val_loss</td><td>0.10257</td></tr></table><br/></div></div>"
            ],
            "text/plain": [
              "<IPython.core.display.HTML object>"
            ]
          },
          "metadata": {},
          "output_type": "display_data"
        },
        {
          "data": {
            "text/html": [
              " View run <strong style=\"color:#cdcd00\">Training_LoRA_lr_3e-05_lr3e-05</strong> at: <a href='https://wandb.ai/hpml-proj-deepchem/chemberta/runs/qcsr2xai' target=\"_blank\">https://wandb.ai/hpml-proj-deepchem/chemberta/runs/qcsr2xai</a><br> View project at: <a href='https://wandb.ai/hpml-proj-deepchem/chemberta' target=\"_blank\">https://wandb.ai/hpml-proj-deepchem/chemberta</a><br>Synced 5 W&B file(s), 2 media file(s), 4 artifact file(s) and 0 other file(s)"
            ],
            "text/plain": [
              "<IPython.core.display.HTML object>"
            ]
          },
          "metadata": {},
          "output_type": "display_data"
        },
        {
          "data": {
            "text/html": [
              "Find logs at: <code>./wandb/run-20250511_181116-qcsr2xai/logs</code>"
            ],
            "text/plain": [
              "<IPython.core.display.HTML object>"
            ]
          },
          "metadata": {},
          "output_type": "display_data"
        },
        {
          "name": "stdout",
          "output_type": "stream",
          "text": [
            "\n",
            "--- LoRA with learning_rate=5e-05 ---\n"
          ]
        },
        {
          "name": "stderr",
          "output_type": "stream",
          "text": [
            "Some weights of RobertaForSequenceClassification were not initialized from the model checkpoint at seyonec/ChemBERTa-zinc-base-v1 and are newly initialized: ['classifier.dense.bias', 'classifier.dense.weight', 'classifier.out_proj.bias', 'classifier.out_proj.weight']\n",
            "You should probably TRAIN this model on a down-stream task to be able to use it for predictions and inference.\n"
          ]
        },
        {
          "data": {
            "text/html": [
              "Tracking run with wandb version 0.19.10"
            ],
            "text/plain": [
              "<IPython.core.display.HTML object>"
            ]
          },
          "metadata": {},
          "output_type": "display_data"
        },
        {
          "data": {
            "text/html": [
              "Run data is saved locally in <code>/content/wandb/run-20250511_181148-4c79kvs4</code>"
            ],
            "text/plain": [
              "<IPython.core.display.HTML object>"
            ]
          },
          "metadata": {},
          "output_type": "display_data"
        },
        {
          "data": {
            "text/html": [
              "Syncing run <strong><a href='https://wandb.ai/hpml-proj-deepchem/chemberta/runs/4c79kvs4' target=\"_blank\">LoRA_lr_5e-05</a></strong> to <a href='https://wandb.ai/hpml-proj-deepchem/chemberta' target=\"_blank\">Weights & Biases</a> (<a href='https://wandb.me/developer-guide' target=\"_blank\">docs</a>)<br>"
            ],
            "text/plain": [
              "<IPython.core.display.HTML object>"
            ]
          },
          "metadata": {},
          "output_type": "display_data"
        },
        {
          "data": {
            "text/html": [
              " View project at <a href='https://wandb.ai/hpml-proj-deepchem/chemberta' target=\"_blank\">https://wandb.ai/hpml-proj-deepchem/chemberta</a>"
            ],
            "text/plain": [
              "<IPython.core.display.HTML object>"
            ]
          },
          "metadata": {},
          "output_type": "display_data"
        },
        {
          "data": {
            "text/html": [
              " View run at <a href='https://wandb.ai/hpml-proj-deepchem/chemberta/runs/4c79kvs4' target=\"_blank\">https://wandb.ai/hpml-proj-deepchem/chemberta/runs/4c79kvs4</a>"
            ],
            "text/plain": [
              "<IPython.core.display.HTML object>"
            ]
          },
          "metadata": {},
          "output_type": "display_data"
        },
        {
          "name": "stdout",
          "output_type": "stream",
          "text": [
            "\n",
            "--- LoRA_lr_5e-05 - Trainable Parameters ---\n",
            "Trainable: 739586 | All: 44845060 | % Trained: 1.65\n"
          ]
        },
        {
          "data": {
            "text/html": [
              "Finishing previous runs because reinit is set to 'default'."
            ],
            "text/plain": [
              "<IPython.core.display.HTML object>"
            ]
          },
          "metadata": {},
          "output_type": "display_data"
        },
        {
          "data": {
            "text/html": [],
            "text/plain": [
              "<IPython.core.display.HTML object>"
            ]
          },
          "metadata": {},
          "output_type": "display_data"
        },
        {
          "data": {
            "text/html": [
              " View run <strong style=\"color:#cdcd00\">LoRA_lr_5e-05</strong> at: <a href='https://wandb.ai/hpml-proj-deepchem/chemberta/runs/4c79kvs4' target=\"_blank\">https://wandb.ai/hpml-proj-deepchem/chemberta/runs/4c79kvs4</a><br> View project at: <a href='https://wandb.ai/hpml-proj-deepchem/chemberta' target=\"_blank\">https://wandb.ai/hpml-proj-deepchem/chemberta</a><br>Synced 5 W&B file(s), 0 media file(s), 0 artifact file(s) and 0 other file(s)"
            ],
            "text/plain": [
              "<IPython.core.display.HTML object>"
            ]
          },
          "metadata": {},
          "output_type": "display_data"
        },
        {
          "data": {
            "text/html": [
              "Find logs at: <code>./wandb/run-20250511_181148-4c79kvs4/logs</code>"
            ],
            "text/plain": [
              "<IPython.core.display.HTML object>"
            ]
          },
          "metadata": {},
          "output_type": "display_data"
        },
        {
          "data": {
            "text/html": [
              "Tracking run with wandb version 0.19.10"
            ],
            "text/plain": [
              "<IPython.core.display.HTML object>"
            ]
          },
          "metadata": {},
          "output_type": "display_data"
        },
        {
          "data": {
            "text/html": [
              "Run data is saved locally in <code>/content/wandb/run-20250511_181149-ad2hn3xi</code>"
            ],
            "text/plain": [
              "<IPython.core.display.HTML object>"
            ]
          },
          "metadata": {},
          "output_type": "display_data"
        },
        {
          "data": {
            "text/html": [
              "Syncing run <strong><a href='https://wandb.ai/hpml-proj-deepchem/chemberta/runs/ad2hn3xi' target=\"_blank\">Training_LoRA_lr_5e-05_lr5e-05</a></strong> to <a href='https://wandb.ai/hpml-proj-deepchem/chemberta' target=\"_blank\">Weights & Biases</a> (<a href='https://wandb.me/developer-guide' target=\"_blank\">docs</a>)<br>"
            ],
            "text/plain": [
              "<IPython.core.display.HTML object>"
            ]
          },
          "metadata": {},
          "output_type": "display_data"
        },
        {
          "data": {
            "text/html": [
              " View project at <a href='https://wandb.ai/hpml-proj-deepchem/chemberta' target=\"_blank\">https://wandb.ai/hpml-proj-deepchem/chemberta</a>"
            ],
            "text/plain": [
              "<IPython.core.display.HTML object>"
            ]
          },
          "metadata": {},
          "output_type": "display_data"
        },
        {
          "data": {
            "text/html": [
              " View run at <a href='https://wandb.ai/hpml-proj-deepchem/chemberta/runs/ad2hn3xi' target=\"_blank\">https://wandb.ai/hpml-proj-deepchem/chemberta/runs/ad2hn3xi</a>"
            ],
            "text/plain": [
              "<IPython.core.display.HTML object>"
            ]
          },
          "metadata": {},
          "output_type": "display_data"
        },
        {
          "name": "stdout",
          "output_type": "stream",
          "text": [
            "\n",
            "--- LoRA_lr_5e-05 ---\n"
          ]
        },
        {
          "name": "stderr",
          "output_type": "stream",
          "text": [
            "Epoch 1/5: 100%|██████████| 37/37 [00:03<00:00,  9.35it/s, loss=0.35]\n",
            "Evaluating: 100%|██████████| 5/5 [00:00<00:00, 19.58it/s]\n"
          ]
        },
        {
          "name": "stdout",
          "output_type": "stream",
          "text": [
            "Epoch 1 | Training Time: 3.96 s | Train Loss: 0.3202 | Val Loss: 0.1673 | Val Accuracy: 0.9527\n"
          ]
        },
        {
          "name": "stderr",
          "output_type": "stream",
          "text": [
            "Epoch 2/5: 100%|██████████| 37/37 [00:03<00:00,  9.31it/s, loss=0.17]\n",
            "Evaluating: 100%|██████████| 5/5 [00:00<00:00, 19.08it/s]\n"
          ]
        },
        {
          "name": "stdout",
          "output_type": "stream",
          "text": [
            "Epoch 2 | Training Time: 3.98 s | Train Loss: 0.1845 | Val Loss: 0.1337 | Val Accuracy: 0.9595\n"
          ]
        },
        {
          "name": "stderr",
          "output_type": "stream",
          "text": [
            "Epoch 3/5: 100%|██████████| 37/37 [00:04<00:00,  9.23it/s, loss=0.0869]\n",
            "Evaluating: 100%|██████████| 5/5 [00:00<00:00, 18.97it/s]\n"
          ]
        },
        {
          "name": "stdout",
          "output_type": "stream",
          "text": [
            "Epoch 3 | Training Time: 4.01 s | Train Loss: 0.1347 | Val Loss: 0.1064 | Val Accuracy: 0.9662\n"
          ]
        },
        {
          "name": "stderr",
          "output_type": "stream",
          "text": [
            "Epoch 4/5: 100%|██████████| 37/37 [00:03<00:00,  9.25it/s, loss=0.026]\n",
            "Evaluating: 100%|██████████| 5/5 [00:00<00:00, 19.35it/s]\n"
          ]
        },
        {
          "name": "stdout",
          "output_type": "stream",
          "text": [
            "Epoch 4 | Training Time: 4.00 s | Train Loss: 0.1006 | Val Loss: 0.0942 | Val Accuracy: 0.9797\n"
          ]
        },
        {
          "name": "stderr",
          "output_type": "stream",
          "text": [
            "Epoch 5/5: 100%|██████████| 37/37 [00:04<00:00,  9.24it/s, loss=0.0131]\n",
            "Evaluating: 100%|██████████| 5/5 [00:00<00:00, 19.18it/s]\n"
          ]
        },
        {
          "name": "stdout",
          "output_type": "stream",
          "text": [
            "Epoch 5 | Training Time: 4.01 s | Train Loss: 0.0775 | Val Loss: 0.0957 | Val Accuracy: 0.9730\n"
          ]
        },
        {
          "name": "stderr",
          "output_type": "stream",
          "text": [
            "Evaluating: 100%|██████████| 5/5 [00:00<00:00, 19.48it/s]\n"
          ]
        },
        {
          "name": "stdout",
          "output_type": "stream",
          "text": [
            "\n",
            "--- LoRA_lr_5e-05 ---\n",
            "Training time: 21.29 seconds\n",
            "Test Loss: 0.0770 | Test Accuracy: 0.9662\n"
          ]
        },
        {
          "data": {
            "text/html": [],
            "text/plain": [
              "<IPython.core.display.HTML object>"
            ]
          },
          "metadata": {},
          "output_type": "display_data"
        },
        {
          "data": {
            "text/html": [
              "<br>    <style><br>        .wandb-row {<br>            display: flex;<br>            flex-direction: row;<br>            flex-wrap: wrap;<br>            justify-content: flex-start;<br>            width: 100%;<br>        }<br>        .wandb-col {<br>            display: flex;<br>            flex-direction: column;<br>            flex-basis: 100%;<br>            flex: 1;<br>            padding: 10px;<br>        }<br>    </style><br><div class=\"wandb-row\"><div class=\"wandb-col\"><h3>Run history:</h3><br/><table class=\"wandb\"><tr><td>epoch</td><td>▁▃▅▆█</td></tr><tr><td>epoch_time</td><td>▁▄█▇█</td></tr><tr><td>parameter_efficiency</td><td>▁▁</td></tr><tr><td>test_accuracy</td><td>▁</td></tr><tr><td>test_loss</td><td>▁</td></tr><tr><td>total_parameters</td><td>▁▁</td></tr><tr><td>train_loss</td><td>█▄▃▂▁</td></tr><tr><td>trainable_parameters</td><td>▁▁</td></tr><tr><td>training_time</td><td>▁</td></tr><tr><td>val_accuracy</td><td>▁▃▅█▆</td></tr><tr><td>val_loss</td><td>█▅▂▁▁</td></tr></table><br/></div><div class=\"wandb-col\"><h3>Run summary:</h3><br/><table class=\"wandb\"><tr><td>epoch</td><td>5</td></tr><tr><td>epoch_time</td><td>4.00901</td></tr><tr><td>model_type</td><td>LoRA_lr_5e-05</td></tr><tr><td>parameter_efficiency</td><td>1.65</td></tr><tr><td>test_accuracy</td><td>0.96622</td></tr><tr><td>test_loss</td><td>0.07697</td></tr><tr><td>total_parameters</td><td>44845060</td></tr><tr><td>train_loss</td><td>0.07746</td></tr><tr><td>trainable_parameters</td><td>739586</td></tr><tr><td>training_time</td><td>21.29</td></tr><tr><td>val_accuracy</td><td>0.97297</td></tr><tr><td>val_loss</td><td>0.09566</td></tr></table><br/></div></div>"
            ],
            "text/plain": [
              "<IPython.core.display.HTML object>"
            ]
          },
          "metadata": {},
          "output_type": "display_data"
        },
        {
          "data": {
            "text/html": [
              " View run <strong style=\"color:#cdcd00\">Training_LoRA_lr_5e-05_lr5e-05</strong> at: <a href='https://wandb.ai/hpml-proj-deepchem/chemberta/runs/ad2hn3xi' target=\"_blank\">https://wandb.ai/hpml-proj-deepchem/chemberta/runs/ad2hn3xi</a><br> View project at: <a href='https://wandb.ai/hpml-proj-deepchem/chemberta' target=\"_blank\">https://wandb.ai/hpml-proj-deepchem/chemberta</a><br>Synced 5 W&B file(s), 2 media file(s), 4 artifact file(s) and 0 other file(s)"
            ],
            "text/plain": [
              "<IPython.core.display.HTML object>"
            ]
          },
          "metadata": {},
          "output_type": "display_data"
        },
        {
          "data": {
            "text/html": [
              "Find logs at: <code>./wandb/run-20250511_181149-ad2hn3xi/logs</code>"
            ],
            "text/plain": [
              "<IPython.core.display.HTML object>"
            ]
          },
          "metadata": {},
          "output_type": "display_data"
        },
        {
          "name": "stdout",
          "output_type": "stream",
          "text": [
            "\n",
            "--- LoRA with learning_rate=0.0001 ---\n"
          ]
        },
        {
          "name": "stderr",
          "output_type": "stream",
          "text": [
            "Some weights of RobertaForSequenceClassification were not initialized from the model checkpoint at seyonec/ChemBERTa-zinc-base-v1 and are newly initialized: ['classifier.dense.bias', 'classifier.dense.weight', 'classifier.out_proj.bias', 'classifier.out_proj.weight']\n",
            "You should probably TRAIN this model on a down-stream task to be able to use it for predictions and inference.\n"
          ]
        },
        {
          "data": {
            "text/html": [
              "Tracking run with wandb version 0.19.10"
            ],
            "text/plain": [
              "<IPython.core.display.HTML object>"
            ]
          },
          "metadata": {},
          "output_type": "display_data"
        },
        {
          "data": {
            "text/html": [
              "Run data is saved locally in <code>/content/wandb/run-20250511_181221-256emepa</code>"
            ],
            "text/plain": [
              "<IPython.core.display.HTML object>"
            ]
          },
          "metadata": {},
          "output_type": "display_data"
        },
        {
          "data": {
            "text/html": [
              "Syncing run <strong><a href='https://wandb.ai/hpml-proj-deepchem/chemberta/runs/256emepa' target=\"_blank\">LoRA_lr_0.0001</a></strong> to <a href='https://wandb.ai/hpml-proj-deepchem/chemberta' target=\"_blank\">Weights & Biases</a> (<a href='https://wandb.me/developer-guide' target=\"_blank\">docs</a>)<br>"
            ],
            "text/plain": [
              "<IPython.core.display.HTML object>"
            ]
          },
          "metadata": {},
          "output_type": "display_data"
        },
        {
          "data": {
            "text/html": [
              " View project at <a href='https://wandb.ai/hpml-proj-deepchem/chemberta' target=\"_blank\">https://wandb.ai/hpml-proj-deepchem/chemberta</a>"
            ],
            "text/plain": [
              "<IPython.core.display.HTML object>"
            ]
          },
          "metadata": {},
          "output_type": "display_data"
        },
        {
          "data": {
            "text/html": [
              " View run at <a href='https://wandb.ai/hpml-proj-deepchem/chemberta/runs/256emepa' target=\"_blank\">https://wandb.ai/hpml-proj-deepchem/chemberta/runs/256emepa</a>"
            ],
            "text/plain": [
              "<IPython.core.display.HTML object>"
            ]
          },
          "metadata": {},
          "output_type": "display_data"
        },
        {
          "name": "stdout",
          "output_type": "stream",
          "text": [
            "\n",
            "--- LoRA_lr_0.0001 - Trainable Parameters ---\n",
            "Trainable: 739586 | All: 44845060 | % Trained: 1.65\n"
          ]
        },
        {
          "data": {
            "text/html": [
              "Finishing previous runs because reinit is set to 'default'."
            ],
            "text/plain": [
              "<IPython.core.display.HTML object>"
            ]
          },
          "metadata": {},
          "output_type": "display_data"
        },
        {
          "data": {
            "text/html": [],
            "text/plain": [
              "<IPython.core.display.HTML object>"
            ]
          },
          "metadata": {},
          "output_type": "display_data"
        },
        {
          "data": {
            "text/html": [
              " View run <strong style=\"color:#cdcd00\">LoRA_lr_0.0001</strong> at: <a href='https://wandb.ai/hpml-proj-deepchem/chemberta/runs/256emepa' target=\"_blank\">https://wandb.ai/hpml-proj-deepchem/chemberta/runs/256emepa</a><br> View project at: <a href='https://wandb.ai/hpml-proj-deepchem/chemberta' target=\"_blank\">https://wandb.ai/hpml-proj-deepchem/chemberta</a><br>Synced 5 W&B file(s), 0 media file(s), 0 artifact file(s) and 0 other file(s)"
            ],
            "text/plain": [
              "<IPython.core.display.HTML object>"
            ]
          },
          "metadata": {},
          "output_type": "display_data"
        },
        {
          "data": {
            "text/html": [
              "Find logs at: <code>./wandb/run-20250511_181221-256emepa/logs</code>"
            ],
            "text/plain": [
              "<IPython.core.display.HTML object>"
            ]
          },
          "metadata": {},
          "output_type": "display_data"
        },
        {
          "data": {
            "text/html": [
              "Tracking run with wandb version 0.19.10"
            ],
            "text/plain": [
              "<IPython.core.display.HTML object>"
            ]
          },
          "metadata": {},
          "output_type": "display_data"
        },
        {
          "data": {
            "text/html": [
              "Run data is saved locally in <code>/content/wandb/run-20250511_181222-wbv42wgt</code>"
            ],
            "text/plain": [
              "<IPython.core.display.HTML object>"
            ]
          },
          "metadata": {},
          "output_type": "display_data"
        },
        {
          "data": {
            "text/html": [
              "Syncing run <strong><a href='https://wandb.ai/hpml-proj-deepchem/chemberta/runs/wbv42wgt' target=\"_blank\">Training_LoRA_lr_0.0001_lr0.0001</a></strong> to <a href='https://wandb.ai/hpml-proj-deepchem/chemberta' target=\"_blank\">Weights & Biases</a> (<a href='https://wandb.me/developer-guide' target=\"_blank\">docs</a>)<br>"
            ],
            "text/plain": [
              "<IPython.core.display.HTML object>"
            ]
          },
          "metadata": {},
          "output_type": "display_data"
        },
        {
          "data": {
            "text/html": [
              " View project at <a href='https://wandb.ai/hpml-proj-deepchem/chemberta' target=\"_blank\">https://wandb.ai/hpml-proj-deepchem/chemberta</a>"
            ],
            "text/plain": [
              "<IPython.core.display.HTML object>"
            ]
          },
          "metadata": {},
          "output_type": "display_data"
        },
        {
          "data": {
            "text/html": [
              " View run at <a href='https://wandb.ai/hpml-proj-deepchem/chemberta/runs/wbv42wgt' target=\"_blank\">https://wandb.ai/hpml-proj-deepchem/chemberta/runs/wbv42wgt</a>"
            ],
            "text/plain": [
              "<IPython.core.display.HTML object>"
            ]
          },
          "metadata": {},
          "output_type": "display_data"
        },
        {
          "name": "stdout",
          "output_type": "stream",
          "text": [
            "\n",
            "--- LoRA_lr_0.0001 ---\n"
          ]
        },
        {
          "name": "stderr",
          "output_type": "stream",
          "text": [
            "Epoch 1/5: 100%|██████████| 37/37 [00:04<00:00,  9.22it/s, loss=0.198]\n",
            "Evaluating: 100%|██████████| 5/5 [00:00<00:00, 19.21it/s]\n"
          ]
        },
        {
          "name": "stdout",
          "output_type": "stream",
          "text": [
            "Epoch 1 | Training Time: 4.02 s | Train Loss: 0.2413 | Val Loss: 0.1343 | Val Accuracy: 0.9527\n"
          ]
        },
        {
          "name": "stderr",
          "output_type": "stream",
          "text": [
            "Epoch 2/5: 100%|██████████| 37/37 [00:04<00:00,  9.15it/s, loss=0.159]\n",
            "Evaluating: 100%|██████████| 5/5 [00:00<00:00, 19.01it/s]\n"
          ]
        },
        {
          "name": "stdout",
          "output_type": "stream",
          "text": [
            "Epoch 2 | Training Time: 4.04 s | Train Loss: 0.1273 | Val Loss: 0.0969 | Val Accuracy: 0.9662\n"
          ]
        },
        {
          "name": "stderr",
          "output_type": "stream",
          "text": [
            "Epoch 3/5: 100%|██████████| 37/37 [00:04<00:00,  9.12it/s, loss=0.0369]\n",
            "Evaluating: 100%|██████████| 5/5 [00:00<00:00, 18.84it/s]\n"
          ]
        },
        {
          "name": "stdout",
          "output_type": "stream",
          "text": [
            "Epoch 3 | Training Time: 4.06 s | Train Loss: 0.0796 | Val Loss: 0.0929 | Val Accuracy: 0.9730\n"
          ]
        },
        {
          "name": "stderr",
          "output_type": "stream",
          "text": [
            "Epoch 4/5: 100%|██████████| 37/37 [00:04<00:00,  9.05it/s, loss=0.152]\n",
            "Evaluating: 100%|██████████| 5/5 [00:00<00:00, 19.03it/s]\n"
          ]
        },
        {
          "name": "stdout",
          "output_type": "stream",
          "text": [
            "Epoch 4 | Training Time: 4.09 s | Train Loss: 0.0724 | Val Loss: 0.0906 | Val Accuracy: 0.9797\n"
          ]
        },
        {
          "name": "stderr",
          "output_type": "stream",
          "text": [
            "Epoch 5/5: 100%|██████████| 37/37 [00:04<00:00,  9.07it/s, loss=0.0329]\n",
            "Evaluating: 100%|██████████| 5/5 [00:00<00:00, 18.95it/s]\n"
          ]
        },
        {
          "name": "stdout",
          "output_type": "stream",
          "text": [
            "Epoch 5 | Training Time: 4.08 s | Train Loss: 0.0569 | Val Loss: 0.0845 | Val Accuracy: 0.9730\n"
          ]
        },
        {
          "name": "stderr",
          "output_type": "stream",
          "text": [
            "Evaluating: 100%|██████████| 5/5 [00:00<00:00, 19.39it/s]\n"
          ]
        },
        {
          "name": "stdout",
          "output_type": "stream",
          "text": [
            "\n",
            "--- LoRA_lr_0.0001 ---\n",
            "Training time: 21.64 seconds\n",
            "Test Loss: 0.0663 | Test Accuracy: 0.9730\n"
          ]
        },
        {
          "data": {
            "text/html": [],
            "text/plain": [
              "<IPython.core.display.HTML object>"
            ]
          },
          "metadata": {},
          "output_type": "display_data"
        },
        {
          "data": {
            "text/html": [
              "<br>    <style><br>        .wandb-row {<br>            display: flex;<br>            flex-direction: row;<br>            flex-wrap: wrap;<br>            justify-content: flex-start;<br>            width: 100%;<br>        }<br>        .wandb-col {<br>            display: flex;<br>            flex-direction: column;<br>            flex-basis: 100%;<br>            flex: 1;<br>            padding: 10px;<br>        }<br>    </style><br><div class=\"wandb-row\"><div class=\"wandb-col\"><h3>Run history:</h3><br/><table class=\"wandb\"><tr><td>epoch</td><td>▁▃▅▆█</td></tr><tr><td>epoch_time</td><td>▁▄▅█▇</td></tr><tr><td>parameter_efficiency</td><td>▁▁</td></tr><tr><td>test_accuracy</td><td>▁</td></tr><tr><td>test_loss</td><td>▁</td></tr><tr><td>total_parameters</td><td>▁▁</td></tr><tr><td>train_loss</td><td>█▄▂▂▁</td></tr><tr><td>trainable_parameters</td><td>▁▁</td></tr><tr><td>training_time</td><td>▁</td></tr><tr><td>val_accuracy</td><td>▁▅▆█▆</td></tr><tr><td>val_loss</td><td>█▃▂▂▁</td></tr></table><br/></div><div class=\"wandb-col\"><h3>Run summary:</h3><br/><table class=\"wandb\"><tr><td>epoch</td><td>5</td></tr><tr><td>epoch_time</td><td>4.08451</td></tr><tr><td>model_type</td><td>LoRA_lr_0.0001</td></tr><tr><td>parameter_efficiency</td><td>1.65</td></tr><tr><td>test_accuracy</td><td>0.97297</td></tr><tr><td>test_loss</td><td>0.06632</td></tr><tr><td>total_parameters</td><td>44845060</td></tr><tr><td>train_loss</td><td>0.05691</td></tr><tr><td>trainable_parameters</td><td>739586</td></tr><tr><td>training_time</td><td>21.64</td></tr><tr><td>val_accuracy</td><td>0.97297</td></tr><tr><td>val_loss</td><td>0.08451</td></tr></table><br/></div></div>"
            ],
            "text/plain": [
              "<IPython.core.display.HTML object>"
            ]
          },
          "metadata": {},
          "output_type": "display_data"
        },
        {
          "data": {
            "text/html": [
              " View run <strong style=\"color:#cdcd00\">Training_LoRA_lr_0.0001_lr0.0001</strong> at: <a href='https://wandb.ai/hpml-proj-deepchem/chemberta/runs/wbv42wgt' target=\"_blank\">https://wandb.ai/hpml-proj-deepchem/chemberta/runs/wbv42wgt</a><br> View project at: <a href='https://wandb.ai/hpml-proj-deepchem/chemberta' target=\"_blank\">https://wandb.ai/hpml-proj-deepchem/chemberta</a><br>Synced 5 W&B file(s), 2 media file(s), 4 artifact file(s) and 0 other file(s)"
            ],
            "text/plain": [
              "<IPython.core.display.HTML object>"
            ]
          },
          "metadata": {},
          "output_type": "display_data"
        },
        {
          "data": {
            "text/html": [
              "Find logs at: <code>./wandb/run-20250511_181222-wbv42wgt/logs</code>"
            ],
            "text/plain": [
              "<IPython.core.display.HTML object>"
            ]
          },
          "metadata": {},
          "output_type": "display_data"
        },
        {
          "name": "stdout",
          "output_type": "stream",
          "text": [
            "\n",
            "--- LoRA with learning_rate=0.0003 ---\n"
          ]
        },
        {
          "name": "stderr",
          "output_type": "stream",
          "text": [
            "Some weights of RobertaForSequenceClassification were not initialized from the model checkpoint at seyonec/ChemBERTa-zinc-base-v1 and are newly initialized: ['classifier.dense.bias', 'classifier.dense.weight', 'classifier.out_proj.bias', 'classifier.out_proj.weight']\n",
            "You should probably TRAIN this model on a down-stream task to be able to use it for predictions and inference.\n"
          ]
        },
        {
          "data": {
            "text/html": [
              "Tracking run with wandb version 0.19.10"
            ],
            "text/plain": [
              "<IPython.core.display.HTML object>"
            ]
          },
          "metadata": {},
          "output_type": "display_data"
        },
        {
          "data": {
            "text/html": [
              "Run data is saved locally in <code>/content/wandb/run-20250511_181254-sn9ndwnz</code>"
            ],
            "text/plain": [
              "<IPython.core.display.HTML object>"
            ]
          },
          "metadata": {},
          "output_type": "display_data"
        },
        {
          "data": {
            "text/html": [
              "Syncing run <strong><a href='https://wandb.ai/hpml-proj-deepchem/chemberta/runs/sn9ndwnz' target=\"_blank\">LoRA_lr_0.0003</a></strong> to <a href='https://wandb.ai/hpml-proj-deepchem/chemberta' target=\"_blank\">Weights & Biases</a> (<a href='https://wandb.me/developer-guide' target=\"_blank\">docs</a>)<br>"
            ],
            "text/plain": [
              "<IPython.core.display.HTML object>"
            ]
          },
          "metadata": {},
          "output_type": "display_data"
        },
        {
          "data": {
            "text/html": [
              " View project at <a href='https://wandb.ai/hpml-proj-deepchem/chemberta' target=\"_blank\">https://wandb.ai/hpml-proj-deepchem/chemberta</a>"
            ],
            "text/plain": [
              "<IPython.core.display.HTML object>"
            ]
          },
          "metadata": {},
          "output_type": "display_data"
        },
        {
          "data": {
            "text/html": [
              " View run at <a href='https://wandb.ai/hpml-proj-deepchem/chemberta/runs/sn9ndwnz' target=\"_blank\">https://wandb.ai/hpml-proj-deepchem/chemberta/runs/sn9ndwnz</a>"
            ],
            "text/plain": [
              "<IPython.core.display.HTML object>"
            ]
          },
          "metadata": {},
          "output_type": "display_data"
        },
        {
          "name": "stdout",
          "output_type": "stream",
          "text": [
            "\n",
            "--- LoRA_lr_0.0003 - Trainable Parameters ---\n",
            "Trainable: 739586 | All: 44845060 | % Trained: 1.65\n"
          ]
        },
        {
          "data": {
            "text/html": [
              "Finishing previous runs because reinit is set to 'default'."
            ],
            "text/plain": [
              "<IPython.core.display.HTML object>"
            ]
          },
          "metadata": {},
          "output_type": "display_data"
        },
        {
          "data": {
            "text/html": [],
            "text/plain": [
              "<IPython.core.display.HTML object>"
            ]
          },
          "metadata": {},
          "output_type": "display_data"
        },
        {
          "data": {
            "text/html": [
              " View run <strong style=\"color:#cdcd00\">LoRA_lr_0.0003</strong> at: <a href='https://wandb.ai/hpml-proj-deepchem/chemberta/runs/sn9ndwnz' target=\"_blank\">https://wandb.ai/hpml-proj-deepchem/chemberta/runs/sn9ndwnz</a><br> View project at: <a href='https://wandb.ai/hpml-proj-deepchem/chemberta' target=\"_blank\">https://wandb.ai/hpml-proj-deepchem/chemberta</a><br>Synced 5 W&B file(s), 0 media file(s), 0 artifact file(s) and 0 other file(s)"
            ],
            "text/plain": [
              "<IPython.core.display.HTML object>"
            ]
          },
          "metadata": {},
          "output_type": "display_data"
        },
        {
          "data": {
            "text/html": [
              "Find logs at: <code>./wandb/run-20250511_181254-sn9ndwnz/logs</code>"
            ],
            "text/plain": [
              "<IPython.core.display.HTML object>"
            ]
          },
          "metadata": {},
          "output_type": "display_data"
        },
        {
          "data": {
            "text/html": [
              "Tracking run with wandb version 0.19.10"
            ],
            "text/plain": [
              "<IPython.core.display.HTML object>"
            ]
          },
          "metadata": {},
          "output_type": "display_data"
        },
        {
          "data": {
            "text/html": [
              "Run data is saved locally in <code>/content/wandb/run-20250511_181255-4hcplwf4</code>"
            ],
            "text/plain": [
              "<IPython.core.display.HTML object>"
            ]
          },
          "metadata": {},
          "output_type": "display_data"
        },
        {
          "data": {
            "text/html": [
              "Syncing run <strong><a href='https://wandb.ai/hpml-proj-deepchem/chemberta/runs/4hcplwf4' target=\"_blank\">Training_LoRA_lr_0.0003_lr0.0003</a></strong> to <a href='https://wandb.ai/hpml-proj-deepchem/chemberta' target=\"_blank\">Weights & Biases</a> (<a href='https://wandb.me/developer-guide' target=\"_blank\">docs</a>)<br>"
            ],
            "text/plain": [
              "<IPython.core.display.HTML object>"
            ]
          },
          "metadata": {},
          "output_type": "display_data"
        },
        {
          "data": {
            "text/html": [
              " View project at <a href='https://wandb.ai/hpml-proj-deepchem/chemberta' target=\"_blank\">https://wandb.ai/hpml-proj-deepchem/chemberta</a>"
            ],
            "text/plain": [
              "<IPython.core.display.HTML object>"
            ]
          },
          "metadata": {},
          "output_type": "display_data"
        },
        {
          "data": {
            "text/html": [
              " View run at <a href='https://wandb.ai/hpml-proj-deepchem/chemberta/runs/4hcplwf4' target=\"_blank\">https://wandb.ai/hpml-proj-deepchem/chemberta/runs/4hcplwf4</a>"
            ],
            "text/plain": [
              "<IPython.core.display.HTML object>"
            ]
          },
          "metadata": {},
          "output_type": "display_data"
        },
        {
          "name": "stdout",
          "output_type": "stream",
          "text": [
            "\n",
            "--- LoRA_lr_0.0003 ---\n"
          ]
        },
        {
          "name": "stderr",
          "output_type": "stream",
          "text": [
            "Epoch 1/5: 100%|██████████| 37/37 [00:04<00:00,  9.20it/s, loss=0.207]\n",
            "Evaluating: 100%|██████████| 5/5 [00:00<00:00, 19.01it/s]\n"
          ]
        },
        {
          "name": "stdout",
          "output_type": "stream",
          "text": [
            "Epoch 1 | Training Time: 4.03 s | Train Loss: 0.1878 | Val Loss: 0.0951 | Val Accuracy: 0.9797\n"
          ]
        },
        {
          "name": "stderr",
          "output_type": "stream",
          "text": [
            "Epoch 2/5: 100%|██████████| 37/37 [00:04<00:00,  9.18it/s, loss=0.0569]\n",
            "Evaluating: 100%|██████████| 5/5 [00:00<00:00, 19.08it/s]\n"
          ]
        },
        {
          "name": "stdout",
          "output_type": "stream",
          "text": [
            "Epoch 2 | Training Time: 4.04 s | Train Loss: 0.0833 | Val Loss: 0.0829 | Val Accuracy: 0.9730\n"
          ]
        },
        {
          "name": "stderr",
          "output_type": "stream",
          "text": [
            "Epoch 3/5: 100%|██████████| 37/37 [00:04<00:00,  9.15it/s, loss=0.00824]\n",
            "Evaluating: 100%|██████████| 5/5 [00:00<00:00, 19.06it/s]\n"
          ]
        },
        {
          "name": "stdout",
          "output_type": "stream",
          "text": [
            "Epoch 3 | Training Time: 4.05 s | Train Loss: 0.0677 | Val Loss: 0.1049 | Val Accuracy: 0.9595\n"
          ]
        },
        {
          "name": "stderr",
          "output_type": "stream",
          "text": [
            "Epoch 4/5: 100%|██████████| 37/37 [00:04<00:00,  9.09it/s, loss=0.0248]\n",
            "Evaluating: 100%|██████████| 5/5 [00:00<00:00, 18.97it/s]\n"
          ]
        },
        {
          "name": "stdout",
          "output_type": "stream",
          "text": [
            "Epoch 4 | Training Time: 4.07 s | Train Loss: 0.0522 | Val Loss: 0.0933 | Val Accuracy: 0.9392\n"
          ]
        },
        {
          "name": "stderr",
          "output_type": "stream",
          "text": [
            "Epoch 5/5: 100%|██████████| 37/37 [00:04<00:00,  9.10it/s, loss=0.0277]\n",
            "Evaluating: 100%|██████████| 5/5 [00:00<00:00, 18.84it/s]\n"
          ]
        },
        {
          "name": "stdout",
          "output_type": "stream",
          "text": [
            "Epoch 5 | Training Time: 4.07 s | Train Loss: 0.0399 | Val Loss: 0.0799 | Val Accuracy: 0.9797\n"
          ]
        },
        {
          "name": "stderr",
          "output_type": "stream",
          "text": [
            "Evaluating: 100%|██████████| 5/5 [00:00<00:00, 19.33it/s]\n"
          ]
        },
        {
          "name": "stdout",
          "output_type": "stream",
          "text": [
            "\n",
            "--- LoRA_lr_0.0003 ---\n",
            "Training time: 21.6 seconds\n",
            "Test Loss: 0.0608 | Test Accuracy: 0.9797\n"
          ]
        },
        {
          "data": {
            "text/html": [],
            "text/plain": [
              "<IPython.core.display.HTML object>"
            ]
          },
          "metadata": {},
          "output_type": "display_data"
        },
        {
          "data": {
            "text/html": [
              "<br>    <style><br>        .wandb-row {<br>            display: flex;<br>            flex-direction: row;<br>            flex-wrap: wrap;<br>            justify-content: flex-start;<br>            width: 100%;<br>        }<br>        .wandb-col {<br>            display: flex;<br>            flex-direction: column;<br>            flex-basis: 100%;<br>            flex: 1;<br>            padding: 10px;<br>        }<br>    </style><br><div class=\"wandb-row\"><div class=\"wandb-col\"><h3>Run history:</h3><br/><table class=\"wandb\"><tr><td>epoch</td><td>▁▃▅▆█</td></tr><tr><td>epoch_time</td><td>▁▂▄██</td></tr><tr><td>parameter_efficiency</td><td>▁▁</td></tr><tr><td>test_accuracy</td><td>▁</td></tr><tr><td>test_loss</td><td>▁</td></tr><tr><td>total_parameters</td><td>▁▁</td></tr><tr><td>train_loss</td><td>█▃▂▂▁</td></tr><tr><td>trainable_parameters</td><td>▁▁</td></tr><tr><td>training_time</td><td>▁</td></tr><tr><td>val_accuracy</td><td>█▇▅▁█</td></tr><tr><td>val_loss</td><td>▅▂█▅▁</td></tr></table><br/></div><div class=\"wandb-col\"><h3>Run summary:</h3><br/><table class=\"wandb\"><tr><td>epoch</td><td>5</td></tr><tr><td>epoch_time</td><td>4.07037</td></tr><tr><td>model_type</td><td>LoRA_lr_0.0003</td></tr><tr><td>parameter_efficiency</td><td>1.65</td></tr><tr><td>test_accuracy</td><td>0.97973</td></tr><tr><td>test_loss</td><td>0.06076</td></tr><tr><td>total_parameters</td><td>44845060</td></tr><tr><td>train_loss</td><td>0.03988</td></tr><tr><td>trainable_parameters</td><td>739586</td></tr><tr><td>training_time</td><td>21.6</td></tr><tr><td>val_accuracy</td><td>0.97973</td></tr><tr><td>val_loss</td><td>0.07995</td></tr></table><br/></div></div>"
            ],
            "text/plain": [
              "<IPython.core.display.HTML object>"
            ]
          },
          "metadata": {},
          "output_type": "display_data"
        },
        {
          "data": {
            "text/html": [
              " View run <strong style=\"color:#cdcd00\">Training_LoRA_lr_0.0003_lr0.0003</strong> at: <a href='https://wandb.ai/hpml-proj-deepchem/chemberta/runs/4hcplwf4' target=\"_blank\">https://wandb.ai/hpml-proj-deepchem/chemberta/runs/4hcplwf4</a><br> View project at: <a href='https://wandb.ai/hpml-proj-deepchem/chemberta' target=\"_blank\">https://wandb.ai/hpml-proj-deepchem/chemberta</a><br>Synced 5 W&B file(s), 2 media file(s), 4 artifact file(s) and 0 other file(s)"
            ],
            "text/plain": [
              "<IPython.core.display.HTML object>"
            ]
          },
          "metadata": {},
          "output_type": "display_data"
        },
        {
          "data": {
            "text/html": [
              "Find logs at: <code>./wandb/run-20250511_181255-4hcplwf4/logs</code>"
            ],
            "text/plain": [
              "<IPython.core.display.HTML object>"
            ]
          },
          "metadata": {},
          "output_type": "display_data"
        },
        {
          "data": {
            "text/html": [
              "Tracking run with wandb version 0.19.10"
            ],
            "text/plain": [
              "<IPython.core.display.HTML object>"
            ]
          },
          "metadata": {},
          "output_type": "display_data"
        },
        {
          "data": {
            "text/html": [
              "Run data is saved locally in <code>/content/wandb/run-20250511_181327-slzbzclq</code>"
            ],
            "text/plain": [
              "<IPython.core.display.HTML object>"
            ]
          },
          "metadata": {},
          "output_type": "display_data"
        },
        {
          "data": {
            "text/html": [
              "Syncing run <strong><a href='https://wandb.ai/hpml-proj-deepchem/chemberta/runs/slzbzclq' target=\"_blank\">LoRA_Hyperparameter_Graph</a></strong> to <a href='https://wandb.ai/hpml-proj-deepchem/chemberta' target=\"_blank\">Weights & Biases</a> (<a href='https://wandb.me/developer-guide' target=\"_blank\">docs</a>)<br>"
            ],
            "text/plain": [
              "<IPython.core.display.HTML object>"
            ]
          },
          "metadata": {},
          "output_type": "display_data"
        },
        {
          "data": {
            "text/html": [
              " View project at <a href='https://wandb.ai/hpml-proj-deepchem/chemberta' target=\"_blank\">https://wandb.ai/hpml-proj-deepchem/chemberta</a>"
            ],
            "text/plain": [
              "<IPython.core.display.HTML object>"
            ]
          },
          "metadata": {},
          "output_type": "display_data"
        },
        {
          "data": {
            "text/html": [
              " View run at <a href='https://wandb.ai/hpml-proj-deepchem/chemberta/runs/slzbzclq' target=\"_blank\">https://wandb.ai/hpml-proj-deepchem/chemberta/runs/slzbzclq</a>"
            ],
            "text/plain": [
              "<IPython.core.display.HTML object>"
            ]
          },
          "metadata": {},
          "output_type": "display_data"
        },
        {
          "data": {
            "text/html": [],
            "text/plain": [
              "<IPython.core.display.HTML object>"
            ]
          },
          "metadata": {},
          "output_type": "display_data"
        },
        {
          "data": {
            "text/html": [
              " View run <strong style=\"color:#cdcd00\">LoRA_Hyperparameter_Graph</strong> at: <a href='https://wandb.ai/hpml-proj-deepchem/chemberta/runs/slzbzclq' target=\"_blank\">https://wandb.ai/hpml-proj-deepchem/chemberta/runs/slzbzclq</a><br> View project at: <a href='https://wandb.ai/hpml-proj-deepchem/chemberta' target=\"_blank\">https://wandb.ai/hpml-proj-deepchem/chemberta</a><br>Synced 5 W&B file(s), 1 media file(s), 0 artifact file(s) and 0 other file(s)"
            ],
            "text/plain": [
              "<IPython.core.display.HTML object>"
            ]
          },
          "metadata": {},
          "output_type": "display_data"
        },
        {
          "data": {
            "text/html": [
              "Find logs at: <code>./wandb/run-20250511_181327-slzbzclq/logs</code>"
            ],
            "text/plain": [
              "<IPython.core.display.HTML object>"
            ]
          },
          "metadata": {},
          "output_type": "display_data"
        },
        {
          "data": {
            "text/html": [
              "Tracking run with wandb version 0.19.10"
            ],
            "text/plain": [
              "<IPython.core.display.HTML object>"
            ]
          },
          "metadata": {},
          "output_type": "display_data"
        },
        {
          "data": {
            "text/html": [
              "Run data is saved locally in <code>/content/wandb/run-20250511_181330-r1pd8nm4</code>"
            ],
            "text/plain": [
              "<IPython.core.display.HTML object>"
            ]
          },
          "metadata": {},
          "output_type": "display_data"
        },
        {
          "data": {
            "text/html": [
              "Syncing run <strong><a href='https://wandb.ai/hpml-proj-deepchem/chemberta/runs/r1pd8nm4' target=\"_blank\">LoRA_Hyperparameter_Graph</a></strong> to <a href='https://wandb.ai/hpml-proj-deepchem/chemberta' target=\"_blank\">Weights & Biases</a> (<a href='https://wandb.me/developer-guide' target=\"_blank\">docs</a>)<br>"
            ],
            "text/plain": [
              "<IPython.core.display.HTML object>"
            ]
          },
          "metadata": {},
          "output_type": "display_data"
        },
        {
          "data": {
            "text/html": [
              " View project at <a href='https://wandb.ai/hpml-proj-deepchem/chemberta' target=\"_blank\">https://wandb.ai/hpml-proj-deepchem/chemberta</a>"
            ],
            "text/plain": [
              "<IPython.core.display.HTML object>"
            ]
          },
          "metadata": {},
          "output_type": "display_data"
        },
        {
          "data": {
            "text/html": [
              " View run at <a href='https://wandb.ai/hpml-proj-deepchem/chemberta/runs/r1pd8nm4' target=\"_blank\">https://wandb.ai/hpml-proj-deepchem/chemberta/runs/r1pd8nm4</a>"
            ],
            "text/plain": [
              "<IPython.core.display.HTML object>"
            ]
          },
          "metadata": {},
          "output_type": "display_data"
        },
        {
          "data": {
            "text/html": [],
            "text/plain": [
              "<IPython.core.display.HTML object>"
            ]
          },
          "metadata": {},
          "output_type": "display_data"
        },
        {
          "data": {
            "text/html": [
              " View run <strong style=\"color:#cdcd00\">LoRA_Hyperparameter_Graph</strong> at: <a href='https://wandb.ai/hpml-proj-deepchem/chemberta/runs/r1pd8nm4' target=\"_blank\">https://wandb.ai/hpml-proj-deepchem/chemberta/runs/r1pd8nm4</a><br> View project at: <a href='https://wandb.ai/hpml-proj-deepchem/chemberta' target=\"_blank\">https://wandb.ai/hpml-proj-deepchem/chemberta</a><br>Synced 5 W&B file(s), 1 media file(s), 2 artifact file(s) and 0 other file(s)"
            ],
            "text/plain": [
              "<IPython.core.display.HTML object>"
            ]
          },
          "metadata": {},
          "output_type": "display_data"
        },
        {
          "data": {
            "text/html": [
              "Find logs at: <code>./wandb/run-20250511_181330-r1pd8nm4/logs</code>"
            ],
            "text/plain": [
              "<IPython.core.display.HTML object>"
            ]
          },
          "metadata": {},
          "output_type": "display_data"
        },
        {
          "data": {
            "application/vnd.google.colaboratory.intrinsic+json": {
              "summary": "{\n  \"name\": \"hyperparameter_tuning(\\\"LoRA\\\")\",\n  \"rows\": 6,\n  \"fields\": [\n    {\n      \"column\": \"learning_rate\",\n      \"properties\": {\n        \"dtype\": \"number\",\n        \"std\": 0.00011004544515789829,\n        \"min\": 1e-05,\n        \"max\": 0.0003,\n        \"num_unique_values\": 6,\n        \"samples\": [\n          1e-05,\n          2e-05,\n          0.0003\n        ],\n        \"semantic_type\": \"\",\n        \"description\": \"\"\n      }\n    },\n    {\n      \"column\": \"test_accuracy\",\n      \"properties\": {\n        \"dtype\": \"number\",\n        \"std\": 0.015797908033108293,\n        \"min\": 0.9391891891891891,\n        \"max\": 0.9797297297297297,\n        \"num_unique_values\": 5,\n        \"samples\": [\n          0.9459459459459459,\n          0.9797297297297297,\n          0.9662162162162162\n        ],\n        \"semantic_type\": \"\",\n        \"description\": \"\"\n      }\n    },\n    {\n      \"column\": \"training_time\",\n      \"properties\": {\n        \"dtype\": \"number\",\n        \"std\": 0.4139887277048335,\n        \"min\": 20.57,\n        \"max\": 21.64,\n        \"num_unique_values\": 6,\n        \"samples\": [\n          20.57,\n          20.89,\n          21.6\n        ],\n        \"semantic_type\": \"\",\n        \"description\": \"\"\n      }\n    }\n  ]\n}",
              "type": "dataframe"
            },
            "text/html": [
              "\n",
              "  <div id=\"df-84a59bd2-3bd5-4893-aab3-d96a6c3045f4\" class=\"colab-df-container\">\n",
              "    <div>\n",
              "<style scoped>\n",
              "    .dataframe tbody tr th:only-of-type {\n",
              "        vertical-align: middle;\n",
              "    }\n",
              "\n",
              "    .dataframe tbody tr th {\n",
              "        vertical-align: top;\n",
              "    }\n",
              "\n",
              "    .dataframe thead th {\n",
              "        text-align: right;\n",
              "    }\n",
              "</style>\n",
              "<table border=\"1\" class=\"dataframe\">\n",
              "  <thead>\n",
              "    <tr style=\"text-align: right;\">\n",
              "      <th></th>\n",
              "      <th>learning_rate</th>\n",
              "      <th>test_accuracy</th>\n",
              "      <th>training_time</th>\n",
              "    </tr>\n",
              "  </thead>\n",
              "  <tbody>\n",
              "    <tr>\n",
              "      <th>0</th>\n",
              "      <td>0.00001</td>\n",
              "      <td>0.939189</td>\n",
              "      <td>20.57</td>\n",
              "    </tr>\n",
              "    <tr>\n",
              "      <th>1</th>\n",
              "      <td>0.00002</td>\n",
              "      <td>0.945946</td>\n",
              "      <td>20.89</td>\n",
              "    </tr>\n",
              "    <tr>\n",
              "      <th>2</th>\n",
              "      <td>0.00003</td>\n",
              "      <td>0.966216</td>\n",
              "      <td>21.25</td>\n",
              "    </tr>\n",
              "    <tr>\n",
              "      <th>3</th>\n",
              "      <td>0.00005</td>\n",
              "      <td>0.966216</td>\n",
              "      <td>21.29</td>\n",
              "    </tr>\n",
              "    <tr>\n",
              "      <th>4</th>\n",
              "      <td>0.00010</td>\n",
              "      <td>0.972973</td>\n",
              "      <td>21.64</td>\n",
              "    </tr>\n",
              "    <tr>\n",
              "      <th>5</th>\n",
              "      <td>0.00030</td>\n",
              "      <td>0.979730</td>\n",
              "      <td>21.60</td>\n",
              "    </tr>\n",
              "  </tbody>\n",
              "</table>\n",
              "</div>\n",
              "    <div class=\"colab-df-buttons\">\n",
              "\n",
              "  <div class=\"colab-df-container\">\n",
              "    <button class=\"colab-df-convert\" onclick=\"convertToInteractive('df-84a59bd2-3bd5-4893-aab3-d96a6c3045f4')\"\n",
              "            title=\"Convert this dataframe to an interactive table.\"\n",
              "            style=\"display:none;\">\n",
              "\n",
              "  <svg xmlns=\"http://www.w3.org/2000/svg\" height=\"24px\" viewBox=\"0 -960 960 960\">\n",
              "    <path d=\"M120-120v-720h720v720H120Zm60-500h600v-160H180v160Zm220 220h160v-160H400v160Zm0 220h160v-160H400v160ZM180-400h160v-160H180v160Zm440 0h160v-160H620v160ZM180-180h160v-160H180v160Zm440 0h160v-160H620v160Z\"/>\n",
              "  </svg>\n",
              "    </button>\n",
              "\n",
              "  <style>\n",
              "    .colab-df-container {\n",
              "      display:flex;\n",
              "      gap: 12px;\n",
              "    }\n",
              "\n",
              "    .colab-df-convert {\n",
              "      background-color: #E8F0FE;\n",
              "      border: none;\n",
              "      border-radius: 50%;\n",
              "      cursor: pointer;\n",
              "      display: none;\n",
              "      fill: #1967D2;\n",
              "      height: 32px;\n",
              "      padding: 0 0 0 0;\n",
              "      width: 32px;\n",
              "    }\n",
              "\n",
              "    .colab-df-convert:hover {\n",
              "      background-color: #E2EBFA;\n",
              "      box-shadow: 0px 1px 2px rgba(60, 64, 67, 0.3), 0px 1px 3px 1px rgba(60, 64, 67, 0.15);\n",
              "      fill: #174EA6;\n",
              "    }\n",
              "\n",
              "    .colab-df-buttons div {\n",
              "      margin-bottom: 4px;\n",
              "    }\n",
              "\n",
              "    [theme=dark] .colab-df-convert {\n",
              "      background-color: #3B4455;\n",
              "      fill: #D2E3FC;\n",
              "    }\n",
              "\n",
              "    [theme=dark] .colab-df-convert:hover {\n",
              "      background-color: #434B5C;\n",
              "      box-shadow: 0px 1px 3px 1px rgba(0, 0, 0, 0.15);\n",
              "      filter: drop-shadow(0px 1px 2px rgba(0, 0, 0, 0.3));\n",
              "      fill: #FFFFFF;\n",
              "    }\n",
              "  </style>\n",
              "\n",
              "    <script>\n",
              "      const buttonEl =\n",
              "        document.querySelector('#df-84a59bd2-3bd5-4893-aab3-d96a6c3045f4 button.colab-df-convert');\n",
              "      buttonEl.style.display =\n",
              "        google.colab.kernel.accessAllowed ? 'block' : 'none';\n",
              "\n",
              "      async function convertToInteractive(key) {\n",
              "        const element = document.querySelector('#df-84a59bd2-3bd5-4893-aab3-d96a6c3045f4');\n",
              "        const dataTable =\n",
              "          await google.colab.kernel.invokeFunction('convertToInteractive',\n",
              "                                                    [key], {});\n",
              "        if (!dataTable) return;\n",
              "\n",
              "        const docLinkHtml = 'Like what you see? Visit the ' +\n",
              "          '<a target=\"_blank\" href=https://colab.research.google.com/notebooks/data_table.ipynb>data table notebook</a>'\n",
              "          + ' to learn more about interactive tables.';\n",
              "        element.innerHTML = '';\n",
              "        dataTable['output_type'] = 'display_data';\n",
              "        await google.colab.output.renderOutput(dataTable, element);\n",
              "        const docLink = document.createElement('div');\n",
              "        docLink.innerHTML = docLinkHtml;\n",
              "        element.appendChild(docLink);\n",
              "      }\n",
              "    </script>\n",
              "  </div>\n",
              "\n",
              "\n",
              "    <div id=\"df-501a00bd-16d0-4817-a900-418aa14cf146\">\n",
              "      <button class=\"colab-df-quickchart\" onclick=\"quickchart('df-501a00bd-16d0-4817-a900-418aa14cf146')\"\n",
              "                title=\"Suggest charts\"\n",
              "                style=\"display:none;\">\n",
              "\n",
              "<svg xmlns=\"http://www.w3.org/2000/svg\" height=\"24px\"viewBox=\"0 0 24 24\"\n",
              "     width=\"24px\">\n",
              "    <g>\n",
              "        <path d=\"M19 3H5c-1.1 0-2 .9-2 2v14c0 1.1.9 2 2 2h14c1.1 0 2-.9 2-2V5c0-1.1-.9-2-2-2zM9 17H7v-7h2v7zm4 0h-2V7h2v10zm4 0h-2v-4h2v4z\"/>\n",
              "    </g>\n",
              "</svg>\n",
              "      </button>\n",
              "\n",
              "<style>\n",
              "  .colab-df-quickchart {\n",
              "      --bg-color: #E8F0FE;\n",
              "      --fill-color: #1967D2;\n",
              "      --hover-bg-color: #E2EBFA;\n",
              "      --hover-fill-color: #174EA6;\n",
              "      --disabled-fill-color: #AAA;\n",
              "      --disabled-bg-color: #DDD;\n",
              "  }\n",
              "\n",
              "  [theme=dark] .colab-df-quickchart {\n",
              "      --bg-color: #3B4455;\n",
              "      --fill-color: #D2E3FC;\n",
              "      --hover-bg-color: #434B5C;\n",
              "      --hover-fill-color: #FFFFFF;\n",
              "      --disabled-bg-color: #3B4455;\n",
              "      --disabled-fill-color: #666;\n",
              "  }\n",
              "\n",
              "  .colab-df-quickchart {\n",
              "    background-color: var(--bg-color);\n",
              "    border: none;\n",
              "    border-radius: 50%;\n",
              "    cursor: pointer;\n",
              "    display: none;\n",
              "    fill: var(--fill-color);\n",
              "    height: 32px;\n",
              "    padding: 0;\n",
              "    width: 32px;\n",
              "  }\n",
              "\n",
              "  .colab-df-quickchart:hover {\n",
              "    background-color: var(--hover-bg-color);\n",
              "    box-shadow: 0 1px 2px rgba(60, 64, 67, 0.3), 0 1px 3px 1px rgba(60, 64, 67, 0.15);\n",
              "    fill: var(--button-hover-fill-color);\n",
              "  }\n",
              "\n",
              "  .colab-df-quickchart-complete:disabled,\n",
              "  .colab-df-quickchart-complete:disabled:hover {\n",
              "    background-color: var(--disabled-bg-color);\n",
              "    fill: var(--disabled-fill-color);\n",
              "    box-shadow: none;\n",
              "  }\n",
              "\n",
              "  .colab-df-spinner {\n",
              "    border: 2px solid var(--fill-color);\n",
              "    border-color: transparent;\n",
              "    border-bottom-color: var(--fill-color);\n",
              "    animation:\n",
              "      spin 1s steps(1) infinite;\n",
              "  }\n",
              "\n",
              "  @keyframes spin {\n",
              "    0% {\n",
              "      border-color: transparent;\n",
              "      border-bottom-color: var(--fill-color);\n",
              "      border-left-color: var(--fill-color);\n",
              "    }\n",
              "    20% {\n",
              "      border-color: transparent;\n",
              "      border-left-color: var(--fill-color);\n",
              "      border-top-color: var(--fill-color);\n",
              "    }\n",
              "    30% {\n",
              "      border-color: transparent;\n",
              "      border-left-color: var(--fill-color);\n",
              "      border-top-color: var(--fill-color);\n",
              "      border-right-color: var(--fill-color);\n",
              "    }\n",
              "    40% {\n",
              "      border-color: transparent;\n",
              "      border-right-color: var(--fill-color);\n",
              "      border-top-color: var(--fill-color);\n",
              "    }\n",
              "    60% {\n",
              "      border-color: transparent;\n",
              "      border-right-color: var(--fill-color);\n",
              "    }\n",
              "    80% {\n",
              "      border-color: transparent;\n",
              "      border-right-color: var(--fill-color);\n",
              "      border-bottom-color: var(--fill-color);\n",
              "    }\n",
              "    90% {\n",
              "      border-color: transparent;\n",
              "      border-bottom-color: var(--fill-color);\n",
              "    }\n",
              "  }\n",
              "</style>\n",
              "\n",
              "      <script>\n",
              "        async function quickchart(key) {\n",
              "          const quickchartButtonEl =\n",
              "            document.querySelector('#' + key + ' button');\n",
              "          quickchartButtonEl.disabled = true;  // To prevent multiple clicks.\n",
              "          quickchartButtonEl.classList.add('colab-df-spinner');\n",
              "          try {\n",
              "            const charts = await google.colab.kernel.invokeFunction(\n",
              "                'suggestCharts', [key], {});\n",
              "          } catch (error) {\n",
              "            console.error('Error during call to suggestCharts:', error);\n",
              "          }\n",
              "          quickchartButtonEl.classList.remove('colab-df-spinner');\n",
              "          quickchartButtonEl.classList.add('colab-df-quickchart-complete');\n",
              "        }\n",
              "        (() => {\n",
              "          let quickchartButtonEl =\n",
              "            document.querySelector('#df-501a00bd-16d0-4817-a900-418aa14cf146 button');\n",
              "          quickchartButtonEl.style.display =\n",
              "            google.colab.kernel.accessAllowed ? 'block' : 'none';\n",
              "        })();\n",
              "      </script>\n",
              "    </div>\n",
              "\n",
              "    </div>\n",
              "  </div>\n"
            ],
            "text/plain": [
              "   learning_rate  test_accuracy  training_time\n",
              "0        0.00001       0.939189          20.57\n",
              "1        0.00002       0.945946          20.89\n",
              "2        0.00003       0.966216          21.25\n",
              "3        0.00005       0.966216          21.29\n",
              "4        0.00010       0.972973          21.64\n",
              "5        0.00030       0.979730          21.60"
            ]
          },
          "execution_count": 17,
          "metadata": {},
          "output_type": "execute_result"
        },
        {
          "data": {
            "image/png": "[encoded data removed]",
            "text/plain": [
              "<Figure size 1000x600 with 1 Axes>"
            ]
          },
          "metadata": {},
          "output_type": "display_data"
        }
      ],
      "source": [
        "hyperparameter_tuning(\"LoRA\")"
      ]
    },
    {
      "cell_type": "code",
      "execution_count": 18,
      "metadata": {
        "colab": {
          "base_uri": "https://localhost:8080/",
          "height": 1000
        },
        "id": "7UsVqPxdYCld",
        "outputId": "5c408e00-c45f-4db4-fc44-3e8039ed0730"
      },
      "outputs": [
        {
          "name": "stderr",
          "output_type": "stream",
          "text": [
            "Some weights of RobertaForSequenceClassification were not initialized from the model checkpoint at seyonec/ChemBERTa-zinc-base-v1 and are newly initialized: ['classifier.dense.bias', 'classifier.dense.weight', 'classifier.out_proj.bias', 'classifier.out_proj.weight']\n",
            "You should probably TRAIN this model on a down-stream task to be able to use it for predictions and inference.\n"
          ]
        },
        {
          "name": "stdout",
          "output_type": "stream",
          "text": [
            "\n",
            "--- LoRA - Trainable Parameters ---\n",
            "Trainable: 739586 | All: 44845060 | % Trained: 1.65\n"
          ]
        },
        {
          "data": {
            "text/html": [
              "Tracking run with wandb version 0.19.10"
            ],
            "text/plain": [
              "<IPython.core.display.HTML object>"
            ]
          },
          "metadata": {},
          "output_type": "display_data"
        },
        {
          "data": {
            "text/html": [
              "Run data is saved locally in <code>/content/wandb/run-20250511_181337-tu15m6qz</code>"
            ],
            "text/plain": [
              "<IPython.core.display.HTML object>"
            ]
          },
          "metadata": {},
          "output_type": "display_data"
        },
        {
          "data": {
            "text/html": [
              "Syncing run <strong><a href='https://wandb.ai/hpml-proj-deepchem/chemberta/runs/tu15m6qz' target=\"_blank\">Training_LoRA_lr0.0003</a></strong> to <a href='https://wandb.ai/hpml-proj-deepchem/chemberta' target=\"_blank\">Weights & Biases</a> (<a href='https://wandb.me/developer-guide' target=\"_blank\">docs</a>)<br>"
            ],
            "text/plain": [
              "<IPython.core.display.HTML object>"
            ]
          },
          "metadata": {},
          "output_type": "display_data"
        },
        {
          "data": {
            "text/html": [
              " View project at <a href='https://wandb.ai/hpml-proj-deepchem/chemberta' target=\"_blank\">https://wandb.ai/hpml-proj-deepchem/chemberta</a>"
            ],
            "text/plain": [
              "<IPython.core.display.HTML object>"
            ]
          },
          "metadata": {},
          "output_type": "display_data"
        },
        {
          "data": {
            "text/html": [
              " View run at <a href='https://wandb.ai/hpml-proj-deepchem/chemberta/runs/tu15m6qz' target=\"_blank\">https://wandb.ai/hpml-proj-deepchem/chemberta/runs/tu15m6qz</a>"
            ],
            "text/plain": [
              "<IPython.core.display.HTML object>"
            ]
          },
          "metadata": {},
          "output_type": "display_data"
        },
        {
          "name": "stdout",
          "output_type": "stream",
          "text": [
            "\n",
            "--- LoRA ---\n"
          ]
        },
        {
          "name": "stderr",
          "output_type": "stream",
          "text": [
            "Epoch 1/5: 100%|██████████| 37/37 [00:03<00:00,  9.25it/s, loss=0.0758]\n",
            "Evaluating: 100%|██████████| 5/5 [00:00<00:00, 19.24it/s]\n"
          ]
        },
        {
          "name": "stdout",
          "output_type": "stream",
          "text": [
            "Epoch 1 | Training Time: 4.00 s | Train Loss: 0.1930 | Val Loss: 0.0989 | Val Accuracy: 0.9662\n"
          ]
        },
        {
          "name": "stderr",
          "output_type": "stream",
          "text": [
            "Epoch 2/5: 100%|██████████| 37/37 [00:04<00:00,  9.20it/s, loss=0.165]\n",
            "Evaluating: 100%|██████████| 5/5 [00:00<00:00, 18.78it/s]\n"
          ]
        },
        {
          "name": "stdout",
          "output_type": "stream",
          "text": [
            "Epoch 2 | Training Time: 4.02 s | Train Loss: 0.0702 | Val Loss: 0.0816 | Val Accuracy: 0.9797\n"
          ]
        },
        {
          "name": "stderr",
          "output_type": "stream",
          "text": [
            "Epoch 3/5: 100%|██████████| 37/37 [00:04<00:00,  9.11it/s, loss=0.042]\n",
            "Evaluating: 100%|██████████| 5/5 [00:00<00:00, 18.86it/s]\n"
          ]
        },
        {
          "name": "stdout",
          "output_type": "stream",
          "text": [
            "Epoch 3 | Training Time: 4.06 s | Train Loss: 0.0550 | Val Loss: 0.0827 | Val Accuracy: 0.9797\n"
          ]
        },
        {
          "name": "stderr",
          "output_type": "stream",
          "text": [
            "Epoch 4/5: 100%|██████████| 37/37 [00:04<00:00,  9.12it/s, loss=0.0781]\n",
            "Evaluating: 100%|██████████| 5/5 [00:00<00:00, 19.20it/s]\n"
          ]
        },
        {
          "name": "stdout",
          "output_type": "stream",
          "text": [
            "Epoch 4 | Training Time: 4.06 s | Train Loss: 0.0491 | Val Loss: 0.1186 | Val Accuracy: 0.9324\n"
          ]
        },
        {
          "name": "stderr",
          "output_type": "stream",
          "text": [
            "Epoch 5/5: 100%|██████████| 37/37 [00:04<00:00,  9.12it/s, loss=0.0443]\n",
            "Evaluating: 100%|██████████| 5/5 [00:00<00:00, 18.78it/s]\n"
          ]
        },
        {
          "name": "stdout",
          "output_type": "stream",
          "text": [
            "Epoch 5 | Training Time: 4.06 s | Train Loss: 0.0421 | Val Loss: 0.1006 | Val Accuracy: 0.9662\n"
          ]
        },
        {
          "name": "stderr",
          "output_type": "stream",
          "text": [
            "Evaluating: 100%|██████████| 5/5 [00:00<00:00, 19.36it/s]\n"
          ]
        },
        {
          "name": "stdout",
          "output_type": "stream",
          "text": [
            "\n",
            "--- LoRA ---\n",
            "Training time: 21.56 seconds\n",
            "Test Loss: 0.0697 | Test Accuracy: 0.9797\n"
          ]
        },
        {
          "data": {
            "text/html": [],
            "text/plain": [
              "<IPython.core.display.HTML object>"
            ]
          },
          "metadata": {},
          "output_type": "display_data"
        },
        {
          "data": {
            "text/html": [
              "<br>    <style><br>        .wandb-row {<br>            display: flex;<br>            flex-direction: row;<br>            flex-wrap: wrap;<br>            justify-content: flex-start;<br>            width: 100%;<br>        }<br>        .wandb-col {<br>            display: flex;<br>            flex-direction: column;<br>            flex-basis: 100%;<br>            flex: 1;<br>            padding: 10px;<br>        }<br>    </style><br><div class=\"wandb-row\"><div class=\"wandb-col\"><h3>Run history:</h3><br/><table class=\"wandb\"><tr><td>epoch</td><td>▁▃▅▆█</td></tr><tr><td>epoch_time</td><td>▁▄█▇█</td></tr><tr><td>parameter_efficiency</td><td>▁▁</td></tr><tr><td>test_accuracy</td><td>▁</td></tr><tr><td>test_loss</td><td>▁</td></tr><tr><td>total_parameters</td><td>▁▁</td></tr><tr><td>train_loss</td><td>█▂▂▁▁</td></tr><tr><td>trainable_parameters</td><td>▁▁</td></tr><tr><td>training_time</td><td>▁</td></tr><tr><td>val_accuracy</td><td>▆██▁▆</td></tr><tr><td>val_loss</td><td>▄▁▁█▅</td></tr></table><br/></div><div class=\"wandb-col\"><h3>Run summary:</h3><br/><table class=\"wandb\"><tr><td>epoch</td><td>5</td></tr><tr><td>epoch_time</td><td>4.06242</td></tr><tr><td>model_type</td><td>LoRA</td></tr><tr><td>parameter_efficiency</td><td>1.65</td></tr><tr><td>test_accuracy</td><td>0.97973</td></tr><tr><td>test_loss</td><td>0.06972</td></tr><tr><td>total_parameters</td><td>44845060</td></tr><tr><td>train_loss</td><td>0.04205</td></tr><tr><td>trainable_parameters</td><td>739586</td></tr><tr><td>training_time</td><td>21.56</td></tr><tr><td>val_accuracy</td><td>0.96622</td></tr><tr><td>val_loss</td><td>0.10056</td></tr></table><br/></div></div>"
            ],
            "text/plain": [
              "<IPython.core.display.HTML object>"
            ]
          },
          "metadata": {},
          "output_type": "display_data"
        },
        {
          "data": {
            "text/html": [
              " View run <strong style=\"color:#cdcd00\">Training_LoRA_lr0.0003</strong> at: <a href='https://wandb.ai/hpml-proj-deepchem/chemberta/runs/tu15m6qz' target=\"_blank\">https://wandb.ai/hpml-proj-deepchem/chemberta/runs/tu15m6qz</a><br> View project at: <a href='https://wandb.ai/hpml-proj-deepchem/chemberta' target=\"_blank\">https://wandb.ai/hpml-proj-deepchem/chemberta</a><br>Synced 5 W&B file(s), 2 media file(s), 4 artifact file(s) and 0 other file(s)"
            ],
            "text/plain": [
              "<IPython.core.display.HTML object>"
            ]
          },
          "metadata": {},
          "output_type": "display_data"
        },
        {
          "data": {
            "text/html": [
              "Find logs at: <code>./wandb/run-20250511_181337-tu15m6qz/logs</code>"
            ],
            "text/plain": [
              "<IPython.core.display.HTML object>"
            ]
          },
          "metadata": {},
          "output_type": "display_data"
        }
      ],
      "source": [
        "tokenizer = AutoTokenizer.from_pretrained(MODEL_NAME)\n",
        "model_lora = setup_lora_model(MODEL_NAME)\n",
        "BEST_LR_LORA = 3e-4\n",
        "lora_metrics = train_and_profile(model_lora, tokenizer, \"LoRA\", lr=BEST_LR_LORA)"
      ]
    },
    {
      "cell_type": "code",
      "execution_count": 19,
      "metadata": {
        "colab": {
          "base_uri": "https://localhost:8080/",
          "height": 1000
        },
        "id": "8pK5gad7yiuX",
        "outputId": "8cb67a72-f613-4886-cdf1-d43709c83d49"
      },
      "outputs": [
        {
          "data": {
            "text/html": [
              "Tracking run with wandb version 0.19.10"
            ],
            "text/plain": [
              "<IPython.core.display.HTML object>"
            ]
          },
          "metadata": {},
          "output_type": "display_data"
        },
        {
          "data": {
            "text/html": [
              "Run data is saved locally in <code>/content/wandb/run-20250511_181407-wd0dktf9</code>"
            ],
            "text/plain": [
              "<IPython.core.display.HTML object>"
            ]
          },
          "metadata": {},
          "output_type": "display_data"
        },
        {
          "data": {
            "text/html": [
              "Syncing run <strong><a href='https://wandb.ai/hpml-proj-deepchem/chemberta/runs/wd0dktf9' target=\"_blank\">LoRA_Loss_Curves</a></strong> to <a href='https://wandb.ai/hpml-proj-deepchem/chemberta' target=\"_blank\">Weights & Biases</a> (<a href='https://wandb.me/developer-guide' target=\"_blank\">docs</a>)<br>"
            ],
            "text/plain": [
              "<IPython.core.display.HTML object>"
            ]
          },
          "metadata": {},
          "output_type": "display_data"
        },
        {
          "data": {
            "text/html": [
              " View project at <a href='https://wandb.ai/hpml-proj-deepchem/chemberta' target=\"_blank\">https://wandb.ai/hpml-proj-deepchem/chemberta</a>"
            ],
            "text/plain": [
              "<IPython.core.display.HTML object>"
            ]
          },
          "metadata": {},
          "output_type": "display_data"
        },
        {
          "data": {
            "text/html": [
              " View run at <a href='https://wandb.ai/hpml-proj-deepchem/chemberta/runs/wd0dktf9' target=\"_blank\">https://wandb.ai/hpml-proj-deepchem/chemberta/runs/wd0dktf9</a>"
            ],
            "text/plain": [
              "<IPython.core.display.HTML object>"
            ]
          },
          "metadata": {},
          "output_type": "display_data"
        },
        {
          "data": {
            "image/png": "[encoded data removed]",
            "text/plain": [
              "<Figure size 1000x600 with 1 Axes>"
            ]
          },
          "metadata": {},
          "output_type": "display_data"
        },
        {
          "data": {
            "text/html": [],
            "text/plain": [
              "<IPython.core.display.HTML object>"
            ]
          },
          "metadata": {},
          "output_type": "display_data"
        },
        {
          "data": {
            "text/html": [
              "<br>    <style><br>        .wandb-row {<br>            display: flex;<br>            flex-direction: row;<br>            flex-wrap: wrap;<br>            justify-content: flex-start;<br>            width: 100%;<br>        }<br>        .wandb-col {<br>            display: flex;<br>            flex-direction: column;<br>            flex-basis: 100%;<br>            flex: 1;<br>            padding: 10px;<br>        }<br>    </style><br><div class=\"wandb-row\"><div class=\"wandb-col\"><h3>Run history:</h3><br/><table class=\"wandb\"><tr><td>epoch</td><td>▁▃▅▆█</td></tr><tr><td>train_loss</td><td>█▂▂▁▁</td></tr><tr><td>val_loss</td><td>▄▁▁█▅</td></tr></table><br/></div><div class=\"wandb-col\"><h3>Run summary:</h3><br/><table class=\"wandb\"><tr><td>epoch</td><td>5</td></tr><tr><td>train_loss</td><td>0.04205</td></tr><tr><td>val_loss</td><td>0.10056</td></tr></table><br/></div></div>"
            ],
            "text/plain": [
              "<IPython.core.display.HTML object>"
            ]
          },
          "metadata": {},
          "output_type": "display_data"
        },
        {
          "data": {
            "text/html": [
              " View run <strong style=\"color:#cdcd00\">LoRA_Loss_Curves</strong> at: <a href='https://wandb.ai/hpml-proj-deepchem/chemberta/runs/wd0dktf9' target=\"_blank\">https://wandb.ai/hpml-proj-deepchem/chemberta/runs/wd0dktf9</a><br> View project at: <a href='https://wandb.ai/hpml-proj-deepchem/chemberta' target=\"_blank\">https://wandb.ai/hpml-proj-deepchem/chemberta</a><br>Synced 5 W&B file(s), 1 media file(s), 0 artifact file(s) and 0 other file(s)"
            ],
            "text/plain": [
              "<IPython.core.display.HTML object>"
            ]
          },
          "metadata": {},
          "output_type": "display_data"
        },
        {
          "data": {
            "text/html": [
              "Find logs at: <code>./wandb/run-20250511_181407-wd0dktf9/logs</code>"
            ],
            "text/plain": [
              "<IPython.core.display.HTML object>"
            ]
          },
          "metadata": {},
          "output_type": "display_data"
        },
        {
          "data": {
            "text/plain": [
              "<Figure size 640x480 with 0 Axes>"
            ]
          },
          "metadata": {},
          "output_type": "display_data"
        }
      ],
      "source": [
        "# Graph training and validation losses from lora_metrics\n",
        "train_losses = lora_metrics['train_losses']\n",
        "val_losses = lora_metrics['val_losses']\n",
        "epochs = range(1, len(train_losses) + 1)\n",
        "\n",
        "wandb.init(\n",
        "    project=\"chemberta\",\n",
        "    entity=\"hpml-proj-deepchem\",\n",
        "    name=\"LoRA_Loss_Curves\"\n",
        ")\n",
        "\n",
        "plt.figure(figsize=(10, 6))\n",
        "plt.plot(epochs, train_losses, label='Training Loss', color='teal')\n",
        "plt.plot(epochs, val_losses, label='Validation Loss', color='orange')\n",
        "plt.xlabel('Epochs')\n",
        "plt.ylabel('Loss')\n",
        "plt.title('Training and Validation Loss over Epochs for LoRA')\n",
        "plt.legend()\n",
        "plt.grid(True)\n",
        "plt.show()\n",
        "\n",
        "wandb.log({\"lora_train_val_loss\": wandb.Image(plt)})\n",
        "\n",
        "for i in range(len(train_losses)):\n",
        "    wandb.log({\n",
        "        \"epoch\": i+1,\n",
        "        \"train_loss\": train_losses[i],\n",
        "        \"val_loss\": val_losses[i]\n",
        "    })\n",
        "\n",
        "wandb.finish()"
      ]
    },
    {
      "cell_type": "markdown",
      "metadata": {
        "id": "fgg2HPjJfscE"
      },
      "source": [
        "## ChemBeRTa With AdaLoRA Fine-Tuning"
      ]
    },
    {
      "cell_type": "code",
      "execution_count": 20,
      "metadata": {
        "id": "xaxGII1HstqT"
      },
      "outputs": [],
      "source": [
        "def setup_adalora_model(model_name):\n",
        "    \"\"\"\n",
        "    Set up a model with AdaLoRA configuration\n",
        "    \"\"\"\n",
        "    model = AutoModelForSequenceClassification.from_pretrained(\n",
        "        model_name,\n",
        "        num_labels=2,  # Binary classification for ClinTox\n",
        "        return_dict=True\n",
        "    )\n",
        "\n",
        "    train_dataset = ClinToxDataset(\"clintox\", tokenizer, split=\"train\", max_length=MAX_LENGTH)\n",
        "    train_dataloader = DataLoader(train_dataset, batch_size=BATCH_SIZE, shuffle=True)\n",
        "    ADA_TOTALSTEP = EPOCHS * len(train_dataloader)\n",
        "\n",
        "    peft_config = AdaLoraConfig(\n",
        "        task_type=TaskType.SEQ_CLS,\n",
        "        inference_mode=False,\n",
        "        r=LORA_R,\n",
        "        lora_alpha=LORA_ALPHA,\n",
        "        lora_dropout=LORA_DROPOUT,\n",
        "        total_step = ADA_TOTALSTEP\n",
        "    )\n",
        "\n",
        "    model = get_peft_model(model, peft_config)\n",
        "    return model"
      ]
    },
    {
      "cell_type": "code",
      "execution_count": 21,
      "metadata": {
        "colab": {
          "base_uri": "https://localhost:8080/",
          "height": 1000
        },
        "id": "CMey4JZ1f-s5",
        "outputId": "84fae639-6dfb-4c18-8a1c-858e59b8ada0"
      },
      "outputs": [
        {
          "data": {
            "text/html": [
              "Tracking run with wandb version 0.19.10"
            ],
            "text/plain": [
              "<IPython.core.display.HTML object>"
            ]
          },
          "metadata": {},
          "output_type": "display_data"
        },
        {
          "data": {
            "text/html": [
              "Run data is saved locally in <code>/content/wandb/run-20250511_181410-k5r2fc0r</code>"
            ],
            "text/plain": [
              "<IPython.core.display.HTML object>"
            ]
          },
          "metadata": {},
          "output_type": "display_data"
        },
        {
          "data": {
            "text/html": [
              "Syncing run <strong><a href='https://wandb.ai/hpml-proj-deepchem/chemberta/runs/k5r2fc0r' target=\"_blank\">AdaLoRA_Hyperparameter_Sweep</a></strong> to <a href='https://wandb.ai/hpml-proj-deepchem/chemberta' target=\"_blank\">Weights & Biases</a> (<a href='https://wandb.me/developer-guide' target=\"_blank\">docs</a>)<br>"
            ],
            "text/plain": [
              "<IPython.core.display.HTML object>"
            ]
          },
          "metadata": {},
          "output_type": "display_data"
        },
        {
          "data": {
            "text/html": [
              " View project at <a href='https://wandb.ai/hpml-proj-deepchem/chemberta' target=\"_blank\">https://wandb.ai/hpml-proj-deepchem/chemberta</a>"
            ],
            "text/plain": [
              "<IPython.core.display.HTML object>"
            ]
          },
          "metadata": {},
          "output_type": "display_data"
        },
        {
          "data": {
            "text/html": [
              " View run at <a href='https://wandb.ai/hpml-proj-deepchem/chemberta/runs/k5r2fc0r' target=\"_blank\">https://wandb.ai/hpml-proj-deepchem/chemberta/runs/k5r2fc0r</a>"
            ],
            "text/plain": [
              "<IPython.core.display.HTML object>"
            ]
          },
          "metadata": {},
          "output_type": "display_data"
        },
        {
          "name": "stdout",
          "output_type": "stream",
          "text": [
            "\n",
            "--- AdaLoRA with learning_rate=1e-05 ---\n"
          ]
        },
        {
          "name": "stderr",
          "output_type": "stream",
          "text": [
            "Some weights of RobertaForSequenceClassification were not initialized from the model checkpoint at seyonec/ChemBERTa-zinc-base-v1 and are newly initialized: ['classifier.dense.bias', 'classifier.dense.weight', 'classifier.out_proj.bias', 'classifier.out_proj.weight']\n",
            "You should probably TRAIN this model on a down-stream task to be able to use it for predictions and inference.\n"
          ]
        },
        {
          "data": {
            "text/html": [
              "Finishing previous runs because reinit is set to True."
            ],
            "text/plain": [
              "<IPython.core.display.HTML object>"
            ]
          },
          "metadata": {},
          "output_type": "display_data"
        },
        {
          "data": {
            "text/html": [],
            "text/plain": [
              "<IPython.core.display.HTML object>"
            ]
          },
          "metadata": {},
          "output_type": "display_data"
        },
        {
          "data": {
            "text/html": [
              " View run <strong style=\"color:#cdcd00\">AdaLoRA_Hyperparameter_Sweep</strong> at: <a href='https://wandb.ai/hpml-proj-deepchem/chemberta/runs/k5r2fc0r' target=\"_blank\">https://wandb.ai/hpml-proj-deepchem/chemberta/runs/k5r2fc0r</a><br> View project at: <a href='https://wandb.ai/hpml-proj-deepchem/chemberta' target=\"_blank\">https://wandb.ai/hpml-proj-deepchem/chemberta</a><br>Synced 5 W&B file(s), 0 media file(s), 0 artifact file(s) and 0 other file(s)"
            ],
            "text/plain": [
              "<IPython.core.display.HTML object>"
            ]
          },
          "metadata": {},
          "output_type": "display_data"
        },
        {
          "data": {
            "text/html": [
              "Find logs at: <code>./wandb/run-20250511_181410-k5r2fc0r/logs</code>"
            ],
            "text/plain": [
              "<IPython.core.display.HTML object>"
            ]
          },
          "metadata": {},
          "output_type": "display_data"
        },
        {
          "data": {
            "text/html": [
              "Tracking run with wandb version 0.19.10"
            ],
            "text/plain": [
              "<IPython.core.display.HTML object>"
            ]
          },
          "metadata": {},
          "output_type": "display_data"
        },
        {
          "data": {
            "text/html": [
              "Run data is saved locally in <code>/content/wandb/run-20250511_181413-awsnrj7u</code>"
            ],
            "text/plain": [
              "<IPython.core.display.HTML object>"
            ]
          },
          "metadata": {},
          "output_type": "display_data"
        },
        {
          "data": {
            "text/html": [
              "Syncing run <strong><a href='https://wandb.ai/hpml-proj-deepchem/chemberta/runs/awsnrj7u' target=\"_blank\">AdaLoRA_lr_1e-05</a></strong> to <a href='https://wandb.ai/hpml-proj-deepchem/chemberta' target=\"_blank\">Weights & Biases</a> (<a href='https://wandb.me/developer-guide' target=\"_blank\">docs</a>)<br>"
            ],
            "text/plain": [
              "<IPython.core.display.HTML object>"
            ]
          },
          "metadata": {},
          "output_type": "display_data"
        },
        {
          "data": {
            "text/html": [
              " View project at <a href='https://wandb.ai/hpml-proj-deepchem/chemberta' target=\"_blank\">https://wandb.ai/hpml-proj-deepchem/chemberta</a>"
            ],
            "text/plain": [
              "<IPython.core.display.HTML object>"
            ]
          },
          "metadata": {},
          "output_type": "display_data"
        },
        {
          "data": {
            "text/html": [
              " View run at <a href='https://wandb.ai/hpml-proj-deepchem/chemberta/runs/awsnrj7u' target=\"_blank\">https://wandb.ai/hpml-proj-deepchem/chemberta/runs/awsnrj7u</a>"
            ],
            "text/plain": [
              "<IPython.core.display.HTML object>"
            ]
          },
          "metadata": {},
          "output_type": "display_data"
        },
        {
          "name": "stdout",
          "output_type": "stream",
          "text": [
            "\n",
            "--- AdaLoRA_lr_1e-05 - Trainable Parameters ---\n",
            "Trainable: 1606335 | All: 45730290 | % Trained: 3.51\n"
          ]
        },
        {
          "data": {
            "text/html": [
              "Finishing previous runs because reinit is set to 'default'."
            ],
            "text/plain": [
              "<IPython.core.display.HTML object>"
            ]
          },
          "metadata": {},
          "output_type": "display_data"
        },
        {
          "data": {
            "text/html": [],
            "text/plain": [
              "<IPython.core.display.HTML object>"
            ]
          },
          "metadata": {},
          "output_type": "display_data"
        },
        {
          "data": {
            "text/html": [
              " View run <strong style=\"color:#cdcd00\">AdaLoRA_lr_1e-05</strong> at: <a href='https://wandb.ai/hpml-proj-deepchem/chemberta/runs/awsnrj7u' target=\"_blank\">https://wandb.ai/hpml-proj-deepchem/chemberta/runs/awsnrj7u</a><br> View project at: <a href='https://wandb.ai/hpml-proj-deepchem/chemberta' target=\"_blank\">https://wandb.ai/hpml-proj-deepchem/chemberta</a><br>Synced 5 W&B file(s), 0 media file(s), 0 artifact file(s) and 0 other file(s)"
            ],
            "text/plain": [
              "<IPython.core.display.HTML object>"
            ]
          },
          "metadata": {},
          "output_type": "display_data"
        },
        {
          "data": {
            "text/html": [
              "Find logs at: <code>./wandb/run-20250511_181413-awsnrj7u/logs</code>"
            ],
            "text/plain": [
              "<IPython.core.display.HTML object>"
            ]
          },
          "metadata": {},
          "output_type": "display_data"
        },
        {
          "data": {
            "text/html": [
              "Tracking run with wandb version 0.19.10"
            ],
            "text/plain": [
              "<IPython.core.display.HTML object>"
            ]
          },
          "metadata": {},
          "output_type": "display_data"
        },
        {
          "data": {
            "text/html": [
              "Run data is saved locally in <code>/content/wandb/run-20250511_181416-7gjho9k4</code>"
            ],
            "text/plain": [
              "<IPython.core.display.HTML object>"
            ]
          },
          "metadata": {},
          "output_type": "display_data"
        },
        {
          "data": {
            "text/html": [
              "Syncing run <strong><a href='https://wandb.ai/hpml-proj-deepchem/chemberta/runs/7gjho9k4' target=\"_blank\">Training_AdaLoRA_lr_1e-05_lr1e-05</a></strong> to <a href='https://wandb.ai/hpml-proj-deepchem/chemberta' target=\"_blank\">Weights & Biases</a> (<a href='https://wandb.me/developer-guide' target=\"_blank\">docs</a>)<br>"
            ],
            "text/plain": [
              "<IPython.core.display.HTML object>"
            ]
          },
          "metadata": {},
          "output_type": "display_data"
        },
        {
          "data": {
            "text/html": [
              " View project at <a href='https://wandb.ai/hpml-proj-deepchem/chemberta' target=\"_blank\">https://wandb.ai/hpml-proj-deepchem/chemberta</a>"
            ],
            "text/plain": [
              "<IPython.core.display.HTML object>"
            ]
          },
          "metadata": {},
          "output_type": "display_data"
        },
        {
          "data": {
            "text/html": [
              " View run at <a href='https://wandb.ai/hpml-proj-deepchem/chemberta/runs/7gjho9k4' target=\"_blank\">https://wandb.ai/hpml-proj-deepchem/chemberta/runs/7gjho9k4</a>"
            ],
            "text/plain": [
              "<IPython.core.display.HTML object>"
            ]
          },
          "metadata": {},
          "output_type": "display_data"
        },
        {
          "name": "stdout",
          "output_type": "stream",
          "text": [
            "\n",
            "--- AdaLoRA_lr_1e-05 ---\n"
          ]
        },
        {
          "name": "stderr",
          "output_type": "stream",
          "text": [
            "Epoch 1/5: 100%|██████████| 37/37 [00:06<00:00,  6.15it/s, loss=0.418]\n",
            "Evaluating: 100%|██████████| 5/5 [00:00<00:00, 15.09it/s]\n"
          ]
        },
        {
          "name": "stdout",
          "output_type": "stream",
          "text": [
            "Epoch 1 | Training Time: 6.02 s | Train Loss: 0.5863 | Val Loss: 0.3858 | Val Accuracy: 0.9527\n"
          ]
        },
        {
          "name": "stderr",
          "output_type": "stream",
          "text": [
            "Epoch 2/5: 100%|██████████| 37/37 [00:06<00:00,  6.11it/s, loss=0.347]\n",
            "Evaluating: 100%|██████████| 5/5 [00:00<00:00, 15.06it/s]\n"
          ]
        },
        {
          "name": "stdout",
          "output_type": "stream",
          "text": [
            "Epoch 2 | Training Time: 6.06 s | Train Loss: 0.3578 | Val Loss: 0.2494 | Val Accuracy: 0.9527\n"
          ]
        },
        {
          "name": "stderr",
          "output_type": "stream",
          "text": [
            "Epoch 3/5: 100%|██████████| 37/37 [00:06<00:00,  6.07it/s, loss=0.198]\n",
            "Evaluating: 100%|██████████| 5/5 [00:00<00:00, 14.85it/s]\n"
          ]
        },
        {
          "name": "stdout",
          "output_type": "stream",
          "text": [
            "Epoch 3 | Training Time: 6.10 s | Train Loss: 0.2800 | Val Loss: 0.2072 | Val Accuracy: 0.9527\n"
          ]
        },
        {
          "name": "stderr",
          "output_type": "stream",
          "text": [
            "Epoch 4/5: 100%|██████████| 37/37 [00:06<00:00,  6.07it/s, loss=0.203]\n",
            "Evaluating: 100%|██████████| 5/5 [00:00<00:00, 14.87it/s]\n"
          ]
        },
        {
          "name": "stdout",
          "output_type": "stream",
          "text": [
            "Epoch 4 | Training Time: 6.10 s | Train Loss: 0.2489 | Val Loss: 0.1868 | Val Accuracy: 0.9527\n"
          ]
        },
        {
          "name": "stderr",
          "output_type": "stream",
          "text": [
            "Epoch 5/5: 100%|██████████| 37/37 [00:06<00:00,  6.09it/s, loss=0.193]\n",
            "Evaluating: 100%|██████████| 5/5 [00:00<00:00, 15.05it/s]\n"
          ]
        },
        {
          "name": "stdout",
          "output_type": "stream",
          "text": [
            "Epoch 5 | Training Time: 6.08 s | Train Loss: 0.2305 | Val Loss: 0.1758 | Val Accuracy: 0.9527\n"
          ]
        },
        {
          "name": "stderr",
          "output_type": "stream",
          "text": [
            "Evaluating: 100%|██████████| 5/5 [00:00<00:00, 15.34it/s]\n"
          ]
        },
        {
          "name": "stdout",
          "output_type": "stream",
          "text": [
            "\n",
            "--- AdaLoRA_lr_1e-05 ---\n",
            "Training time: 32.07 seconds\n",
            "Test Loss: 0.1837 | Test Accuracy: 0.9324\n"
          ]
        },
        {
          "data": {
            "text/html": [],
            "text/plain": [
              "<IPython.core.display.HTML object>"
            ]
          },
          "metadata": {},
          "output_type": "display_data"
        },
        {
          "data": {
            "text/html": [
              "<br>    <style><br>        .wandb-row {<br>            display: flex;<br>            flex-direction: row;<br>            flex-wrap: wrap;<br>            justify-content: flex-start;<br>            width: 100%;<br>        }<br>        .wandb-col {<br>            display: flex;<br>            flex-direction: column;<br>            flex-basis: 100%;<br>            flex: 1;<br>            padding: 10px;<br>        }<br>    </style><br><div class=\"wandb-row\"><div class=\"wandb-col\"><h3>Run history:</h3><br/><table class=\"wandb\"><tr><td>epoch</td><td>▁▃▅▆█</td></tr><tr><td>epoch_time</td><td>▁▄██▆</td></tr><tr><td>parameter_efficiency</td><td>▁▁</td></tr><tr><td>test_accuracy</td><td>▁</td></tr><tr><td>test_loss</td><td>▁</td></tr><tr><td>total_parameters</td><td>▁▁</td></tr><tr><td>train_loss</td><td>█▄▂▁▁</td></tr><tr><td>trainable_parameters</td><td>▁▁</td></tr><tr><td>training_time</td><td>▁</td></tr><tr><td>val_accuracy</td><td>▁▁▁▁▁</td></tr><tr><td>val_loss</td><td>█▃▂▁▁</td></tr></table><br/></div><div class=\"wandb-col\"><h3>Run summary:</h3><br/><table class=\"wandb\"><tr><td>epoch</td><td>5</td></tr><tr><td>epoch_time</td><td>6.08349</td></tr><tr><td>model_type</td><td>AdaLoRA_lr_1e-05</td></tr><tr><td>parameter_efficiency</td><td>3.51</td></tr><tr><td>test_accuracy</td><td>0.93243</td></tr><tr><td>test_loss</td><td>0.18373</td></tr><tr><td>total_parameters</td><td>45730290</td></tr><tr><td>train_loss</td><td>0.23054</td></tr><tr><td>trainable_parameters</td><td>1606335</td></tr><tr><td>training_time</td><td>32.07</td></tr><tr><td>val_accuracy</td><td>0.9527</td></tr><tr><td>val_loss</td><td>0.17585</td></tr></table><br/></div></div>"
            ],
            "text/plain": [
              "<IPython.core.display.HTML object>"
            ]
          },
          "metadata": {},
          "output_type": "display_data"
        },
        {
          "data": {
            "text/html": [
              " View run <strong style=\"color:#cdcd00\">Training_AdaLoRA_lr_1e-05_lr1e-05</strong> at: <a href='https://wandb.ai/hpml-proj-deepchem/chemberta/runs/7gjho9k4' target=\"_blank\">https://wandb.ai/hpml-proj-deepchem/chemberta/runs/7gjho9k4</a><br> View project at: <a href='https://wandb.ai/hpml-proj-deepchem/chemberta' target=\"_blank\">https://wandb.ai/hpml-proj-deepchem/chemberta</a><br>Synced 5 W&B file(s), 2 media file(s), 4 artifact file(s) and 0 other file(s)"
            ],
            "text/plain": [
              "<IPython.core.display.HTML object>"
            ]
          },
          "metadata": {},
          "output_type": "display_data"
        },
        {
          "data": {
            "text/html": [
              "Find logs at: <code>./wandb/run-20250511_181416-7gjho9k4/logs</code>"
            ],
            "text/plain": [
              "<IPython.core.display.HTML object>"
            ]
          },
          "metadata": {},
          "output_type": "display_data"
        },
        {
          "name": "stdout",
          "output_type": "stream",
          "text": [
            "\n",
            "--- AdaLoRA with learning_rate=2e-05 ---\n"
          ]
        },
        {
          "name": "stderr",
          "output_type": "stream",
          "text": [
            "Some weights of RobertaForSequenceClassification were not initialized from the model checkpoint at seyonec/ChemBERTa-zinc-base-v1 and are newly initialized: ['classifier.dense.bias', 'classifier.dense.weight', 'classifier.out_proj.bias', 'classifier.out_proj.weight']\n",
            "You should probably TRAIN this model on a down-stream task to be able to use it for predictions and inference.\n"
          ]
        },
        {
          "data": {
            "text/html": [
              "Tracking run with wandb version 0.19.10"
            ],
            "text/plain": [
              "<IPython.core.display.HTML object>"
            ]
          },
          "metadata": {},
          "output_type": "display_data"
        },
        {
          "data": {
            "text/html": [
              "Run data is saved locally in <code>/content/wandb/run-20250511_181459-ujdcuyi7</code>"
            ],
            "text/plain": [
              "<IPython.core.display.HTML object>"
            ]
          },
          "metadata": {},
          "output_type": "display_data"
        },
        {
          "data": {
            "text/html": [
              "Syncing run <strong><a href='https://wandb.ai/hpml-proj-deepchem/chemberta/runs/ujdcuyi7' target=\"_blank\">AdaLoRA_lr_2e-05</a></strong> to <a href='https://wandb.ai/hpml-proj-deepchem/chemberta' target=\"_blank\">Weights & Biases</a> (<a href='https://wandb.me/developer-guide' target=\"_blank\">docs</a>)<br>"
            ],
            "text/plain": [
              "<IPython.core.display.HTML object>"
            ]
          },
          "metadata": {},
          "output_type": "display_data"
        },
        {
          "data": {
            "text/html": [
              " View project at <a href='https://wandb.ai/hpml-proj-deepchem/chemberta' target=\"_blank\">https://wandb.ai/hpml-proj-deepchem/chemberta</a>"
            ],
            "text/plain": [
              "<IPython.core.display.HTML object>"
            ]
          },
          "metadata": {},
          "output_type": "display_data"
        },
        {
          "data": {
            "text/html": [
              " View run at <a href='https://wandb.ai/hpml-proj-deepchem/chemberta/runs/ujdcuyi7' target=\"_blank\">https://wandb.ai/hpml-proj-deepchem/chemberta/runs/ujdcuyi7</a>"
            ],
            "text/plain": [
              "<IPython.core.display.HTML object>"
            ]
          },
          "metadata": {},
          "output_type": "display_data"
        },
        {
          "name": "stdout",
          "output_type": "stream",
          "text": [
            "\n",
            "--- AdaLoRA_lr_2e-05 - Trainable Parameters ---\n",
            "Trainable: 1606335 | All: 45730290 | % Trained: 3.51\n"
          ]
        },
        {
          "data": {
            "text/html": [
              "Finishing previous runs because reinit is set to 'default'."
            ],
            "text/plain": [
              "<IPython.core.display.HTML object>"
            ]
          },
          "metadata": {},
          "output_type": "display_data"
        },
        {
          "data": {
            "text/html": [],
            "text/plain": [
              "<IPython.core.display.HTML object>"
            ]
          },
          "metadata": {},
          "output_type": "display_data"
        },
        {
          "data": {
            "text/html": [
              " View run <strong style=\"color:#cdcd00\">AdaLoRA_lr_2e-05</strong> at: <a href='https://wandb.ai/hpml-proj-deepchem/chemberta/runs/ujdcuyi7' target=\"_blank\">https://wandb.ai/hpml-proj-deepchem/chemberta/runs/ujdcuyi7</a><br> View project at: <a href='https://wandb.ai/hpml-proj-deepchem/chemberta' target=\"_blank\">https://wandb.ai/hpml-proj-deepchem/chemberta</a><br>Synced 5 W&B file(s), 0 media file(s), 0 artifact file(s) and 0 other file(s)"
            ],
            "text/plain": [
              "<IPython.core.display.HTML object>"
            ]
          },
          "metadata": {},
          "output_type": "display_data"
        },
        {
          "data": {
            "text/html": [
              "Find logs at: <code>./wandb/run-20250511_181459-ujdcuyi7/logs</code>"
            ],
            "text/plain": [
              "<IPython.core.display.HTML object>"
            ]
          },
          "metadata": {},
          "output_type": "display_data"
        },
        {
          "data": {
            "text/html": [
              "Tracking run with wandb version 0.19.10"
            ],
            "text/plain": [
              "<IPython.core.display.HTML object>"
            ]
          },
          "metadata": {},
          "output_type": "display_data"
        },
        {
          "data": {
            "text/html": [
              "Run data is saved locally in <code>/content/wandb/run-20250511_181500-bvjs1bna</code>"
            ],
            "text/plain": [
              "<IPython.core.display.HTML object>"
            ]
          },
          "metadata": {},
          "output_type": "display_data"
        },
        {
          "data": {
            "text/html": [
              "Syncing run <strong><a href='https://wandb.ai/hpml-proj-deepchem/chemberta/runs/bvjs1bna' target=\"_blank\">Training_AdaLoRA_lr_2e-05_lr2e-05</a></strong> to <a href='https://wandb.ai/hpml-proj-deepchem/chemberta' target=\"_blank\">Weights & Biases</a> (<a href='https://wandb.me/developer-guide' target=\"_blank\">docs</a>)<br>"
            ],
            "text/plain": [
              "<IPython.core.display.HTML object>"
            ]
          },
          "metadata": {},
          "output_type": "display_data"
        },
        {
          "data": {
            "text/html": [
              " View project at <a href='https://wandb.ai/hpml-proj-deepchem/chemberta' target=\"_blank\">https://wandb.ai/hpml-proj-deepchem/chemberta</a>"
            ],
            "text/plain": [
              "<IPython.core.display.HTML object>"
            ]
          },
          "metadata": {},
          "output_type": "display_data"
        },
        {
          "data": {
            "text/html": [
              " View run at <a href='https://wandb.ai/hpml-proj-deepchem/chemberta/runs/bvjs1bna' target=\"_blank\">https://wandb.ai/hpml-proj-deepchem/chemberta/runs/bvjs1bna</a>"
            ],
            "text/plain": [
              "<IPython.core.display.HTML object>"
            ]
          },
          "metadata": {},
          "output_type": "display_data"
        },
        {
          "name": "stdout",
          "output_type": "stream",
          "text": [
            "\n",
            "--- AdaLoRA_lr_2e-05 ---\n"
          ]
        },
        {
          "name": "stderr",
          "output_type": "stream",
          "text": [
            "Epoch 1/5: 100%|██████████| 37/37 [00:06<00:00,  6.14it/s, loss=0.189]\n",
            "Evaluating: 100%|██████████| 5/5 [00:00<00:00, 15.30it/s]\n"
          ]
        },
        {
          "name": "stdout",
          "output_type": "stream",
          "text": [
            "Epoch 1 | Training Time: 6.03 s | Train Loss: 0.3684 | Val Loss: 0.2006 | Val Accuracy: 0.9527\n"
          ]
        },
        {
          "name": "stderr",
          "output_type": "stream",
          "text": [
            "Epoch 2/5: 100%|██████████| 37/37 [00:06<00:00,  6.12it/s, loss=0.17]\n",
            "Evaluating: 100%|██████████| 5/5 [00:00<00:00, 15.14it/s]\n"
          ]
        },
        {
          "name": "stdout",
          "output_type": "stream",
          "text": [
            "Epoch 2 | Training Time: 6.05 s | Train Loss: 0.2346 | Val Loss: 0.1702 | Val Accuracy: 0.9527\n"
          ]
        },
        {
          "name": "stderr",
          "output_type": "stream",
          "text": [
            "Epoch 3/5: 100%|██████████| 37/37 [00:06<00:00,  6.09it/s, loss=0.203]\n",
            "Evaluating: 100%|██████████| 5/5 [00:00<00:00, 15.04it/s]\n"
          ]
        },
        {
          "name": "stdout",
          "output_type": "stream",
          "text": [
            "Epoch 3 | Training Time: 6.08 s | Train Loss: 0.2095 | Val Loss: 0.1586 | Val Accuracy: 0.9527\n"
          ]
        },
        {
          "name": "stderr",
          "output_type": "stream",
          "text": [
            "Epoch 4/5: 100%|██████████| 37/37 [00:06<00:00,  6.07it/s, loss=0.398]\n",
            "Evaluating: 100%|██████████| 5/5 [00:00<00:00, 15.03it/s]\n"
          ]
        },
        {
          "name": "stdout",
          "output_type": "stream",
          "text": [
            "Epoch 4 | Training Time: 6.10 s | Train Loss: 0.1870 | Val Loss: 0.1498 | Val Accuracy: 0.9527\n"
          ]
        },
        {
          "name": "stderr",
          "output_type": "stream",
          "text": [
            "Epoch 5/5: 100%|██████████| 37/37 [00:06<00:00,  6.08it/s, loss=0.227]\n",
            "Evaluating: 100%|██████████| 5/5 [00:00<00:00, 15.02it/s]\n"
          ]
        },
        {
          "name": "stdout",
          "output_type": "stream",
          "text": [
            "Epoch 5 | Training Time: 6.09 s | Train Loss: 0.1731 | Val Loss: 0.1429 | Val Accuracy: 0.9527\n"
          ]
        },
        {
          "name": "stderr",
          "output_type": "stream",
          "text": [
            "Evaluating: 100%|██████████| 5/5 [00:00<00:00, 15.34it/s]\n"
          ]
        },
        {
          "name": "stdout",
          "output_type": "stream",
          "text": [
            "\n",
            "--- AdaLoRA_lr_2e-05 ---\n",
            "Training time: 32.04 seconds\n",
            "Test Loss: 0.1341 | Test Accuracy: 0.9459\n"
          ]
        },
        {
          "data": {
            "text/html": [],
            "text/plain": [
              "<IPython.core.display.HTML object>"
            ]
          },
          "metadata": {},
          "output_type": "display_data"
        },
        {
          "data": {
            "text/html": [
              "<br>    <style><br>        .wandb-row {<br>            display: flex;<br>            flex-direction: row;<br>            flex-wrap: wrap;<br>            justify-content: flex-start;<br>            width: 100%;<br>        }<br>        .wandb-col {<br>            display: flex;<br>            flex-direction: column;<br>            flex-basis: 100%;<br>            flex: 1;<br>            padding: 10px;<br>        }<br>    </style><br><div class=\"wandb-row\"><div class=\"wandb-col\"><h3>Run history:</h3><br/><table class=\"wandb\"><tr><td>epoch</td><td>▁▃▅▆█</td></tr><tr><td>epoch_time</td><td>▁▄▆█▇</td></tr><tr><td>parameter_efficiency</td><td>▁▁</td></tr><tr><td>test_accuracy</td><td>▁</td></tr><tr><td>test_loss</td><td>▁</td></tr><tr><td>total_parameters</td><td>▁▁</td></tr><tr><td>train_loss</td><td>█▃▂▁▁</td></tr><tr><td>trainable_parameters</td><td>▁▁</td></tr><tr><td>training_time</td><td>▁</td></tr><tr><td>val_accuracy</td><td>▁▁▁▁▁</td></tr><tr><td>val_loss</td><td>█▄▃▂▁</td></tr></table><br/></div><div class=\"wandb-col\"><h3>Run summary:</h3><br/><table class=\"wandb\"><tr><td>epoch</td><td>5</td></tr><tr><td>epoch_time</td><td>6.09033</td></tr><tr><td>model_type</td><td>AdaLoRA_lr_2e-05</td></tr><tr><td>parameter_efficiency</td><td>3.51</td></tr><tr><td>test_accuracy</td><td>0.94595</td></tr><tr><td>test_loss</td><td>0.13408</td></tr><tr><td>total_parameters</td><td>45730290</td></tr><tr><td>train_loss</td><td>0.17315</td></tr><tr><td>trainable_parameters</td><td>1606335</td></tr><tr><td>training_time</td><td>32.04</td></tr><tr><td>val_accuracy</td><td>0.9527</td></tr><tr><td>val_loss</td><td>0.14295</td></tr></table><br/></div></div>"
            ],
            "text/plain": [
              "<IPython.core.display.HTML object>"
            ]
          },
          "metadata": {},
          "output_type": "display_data"
        },
        {
          "data": {
            "text/html": [
              " View run <strong style=\"color:#cdcd00\">Training_AdaLoRA_lr_2e-05_lr2e-05</strong> at: <a href='https://wandb.ai/hpml-proj-deepchem/chemberta/runs/bvjs1bna' target=\"_blank\">https://wandb.ai/hpml-proj-deepchem/chemberta/runs/bvjs1bna</a><br> View project at: <a href='https://wandb.ai/hpml-proj-deepchem/chemberta' target=\"_blank\">https://wandb.ai/hpml-proj-deepchem/chemberta</a><br>Synced 5 W&B file(s), 2 media file(s), 4 artifact file(s) and 0 other file(s)"
            ],
            "text/plain": [
              "<IPython.core.display.HTML object>"
            ]
          },
          "metadata": {},
          "output_type": "display_data"
        },
        {
          "data": {
            "text/html": [
              "Find logs at: <code>./wandb/run-20250511_181500-bvjs1bna/logs</code>"
            ],
            "text/plain": [
              "<IPython.core.display.HTML object>"
            ]
          },
          "metadata": {},
          "output_type": "display_data"
        },
        {
          "name": "stdout",
          "output_type": "stream",
          "text": [
            "\n",
            "--- AdaLoRA with learning_rate=3e-05 ---\n"
          ]
        },
        {
          "name": "stderr",
          "output_type": "stream",
          "text": [
            "Some weights of RobertaForSequenceClassification were not initialized from the model checkpoint at seyonec/ChemBERTa-zinc-base-v1 and are newly initialized: ['classifier.dense.bias', 'classifier.dense.weight', 'classifier.out_proj.bias', 'classifier.out_proj.weight']\n",
            "You should probably TRAIN this model on a down-stream task to be able to use it for predictions and inference.\n"
          ]
        },
        {
          "data": {
            "text/html": [
              "Tracking run with wandb version 0.19.10"
            ],
            "text/plain": [
              "<IPython.core.display.HTML object>"
            ]
          },
          "metadata": {},
          "output_type": "display_data"
        },
        {
          "data": {
            "text/html": [
              "Run data is saved locally in <code>/content/wandb/run-20250511_181545-kc87j9bg</code>"
            ],
            "text/plain": [
              "<IPython.core.display.HTML object>"
            ]
          },
          "metadata": {},
          "output_type": "display_data"
        },
        {
          "data": {
            "text/html": [
              "Syncing run <strong><a href='https://wandb.ai/hpml-proj-deepchem/chemberta/runs/kc87j9bg' target=\"_blank\">AdaLoRA_lr_3e-05</a></strong> to <a href='https://wandb.ai/hpml-proj-deepchem/chemberta' target=\"_blank\">Weights & Biases</a> (<a href='https://wandb.me/developer-guide' target=\"_blank\">docs</a>)<br>"
            ],
            "text/plain": [
              "<IPython.core.display.HTML object>"
            ]
          },
          "metadata": {},
          "output_type": "display_data"
        },
        {
          "data": {
            "text/html": [
              " View project at <a href='https://wandb.ai/hpml-proj-deepchem/chemberta' target=\"_blank\">https://wandb.ai/hpml-proj-deepchem/chemberta</a>"
            ],
            "text/plain": [
              "<IPython.core.display.HTML object>"
            ]
          },
          "metadata": {},
          "output_type": "display_data"
        },
        {
          "data": {
            "text/html": [
              " View run at <a href='https://wandb.ai/hpml-proj-deepchem/chemberta/runs/kc87j9bg' target=\"_blank\">https://wandb.ai/hpml-proj-deepchem/chemberta/runs/kc87j9bg</a>"
            ],
            "text/plain": [
              "<IPython.core.display.HTML object>"
            ]
          },
          "metadata": {},
          "output_type": "display_data"
        },
        {
          "name": "stdout",
          "output_type": "stream",
          "text": [
            "\n",
            "--- AdaLoRA_lr_3e-05 - Trainable Parameters ---\n",
            "Trainable: 1606335 | All: 45730290 | % Trained: 3.51\n"
          ]
        },
        {
          "data": {
            "text/html": [
              "Finishing previous runs because reinit is set to 'default'."
            ],
            "text/plain": [
              "<IPython.core.display.HTML object>"
            ]
          },
          "metadata": {},
          "output_type": "display_data"
        },
        {
          "data": {
            "text/html": [],
            "text/plain": [
              "<IPython.core.display.HTML object>"
            ]
          },
          "metadata": {},
          "output_type": "display_data"
        },
        {
          "data": {
            "text/html": [
              " View run <strong style=\"color:#cdcd00\">AdaLoRA_lr_3e-05</strong> at: <a href='https://wandb.ai/hpml-proj-deepchem/chemberta/runs/kc87j9bg' target=\"_blank\">https://wandb.ai/hpml-proj-deepchem/chemberta/runs/kc87j9bg</a><br> View project at: <a href='https://wandb.ai/hpml-proj-deepchem/chemberta' target=\"_blank\">https://wandb.ai/hpml-proj-deepchem/chemberta</a><br>Synced 5 W&B file(s), 0 media file(s), 0 artifact file(s) and 0 other file(s)"
            ],
            "text/plain": [
              "<IPython.core.display.HTML object>"
            ]
          },
          "metadata": {},
          "output_type": "display_data"
        },
        {
          "data": {
            "text/html": [
              "Find logs at: <code>./wandb/run-20250511_181545-kc87j9bg/logs</code>"
            ],
            "text/plain": [
              "<IPython.core.display.HTML object>"
            ]
          },
          "metadata": {},
          "output_type": "display_data"
        },
        {
          "data": {
            "text/html": [
              "Tracking run with wandb version 0.19.10"
            ],
            "text/plain": [
              "<IPython.core.display.HTML object>"
            ]
          },
          "metadata": {},
          "output_type": "display_data"
        },
        {
          "data": {
            "text/html": [
              "Run data is saved locally in <code>/content/wandb/run-20250511_181546-inzzps56</code>"
            ],
            "text/plain": [
              "<IPython.core.display.HTML object>"
            ]
          },
          "metadata": {},
          "output_type": "display_data"
        },
        {
          "data": {
            "text/html": [
              "Syncing run <strong><a href='https://wandb.ai/hpml-proj-deepchem/chemberta/runs/inzzps56' target=\"_blank\">Training_AdaLoRA_lr_3e-05_lr3e-05</a></strong> to <a href='https://wandb.ai/hpml-proj-deepchem/chemberta' target=\"_blank\">Weights & Biases</a> (<a href='https://wandb.me/developer-guide' target=\"_blank\">docs</a>)<br>"
            ],
            "text/plain": [
              "<IPython.core.display.HTML object>"
            ]
          },
          "metadata": {},
          "output_type": "display_data"
        },
        {
          "data": {
            "text/html": [
              " View project at <a href='https://wandb.ai/hpml-proj-deepchem/chemberta' target=\"_blank\">https://wandb.ai/hpml-proj-deepchem/chemberta</a>"
            ],
            "text/plain": [
              "<IPython.core.display.HTML object>"
            ]
          },
          "metadata": {},
          "output_type": "display_data"
        },
        {
          "data": {
            "text/html": [
              " View run at <a href='https://wandb.ai/hpml-proj-deepchem/chemberta/runs/inzzps56' target=\"_blank\">https://wandb.ai/hpml-proj-deepchem/chemberta/runs/inzzps56</a>"
            ],
            "text/plain": [
              "<IPython.core.display.HTML object>"
            ]
          },
          "metadata": {},
          "output_type": "display_data"
        },
        {
          "name": "stdout",
          "output_type": "stream",
          "text": [
            "\n",
            "--- AdaLoRA_lr_3e-05 ---\n"
          ]
        },
        {
          "name": "stderr",
          "output_type": "stream",
          "text": [
            "Epoch 1/5: 100%|██████████| 37/37 [00:06<00:00,  6.16it/s, loss=0.174]\n",
            "Evaluating: 100%|██████████| 5/5 [00:00<00:00, 15.15it/s]\n"
          ]
        },
        {
          "name": "stdout",
          "output_type": "stream",
          "text": [
            "Epoch 1 | Training Time: 6.02 s | Train Loss: 0.3615 | Val Loss: 0.1854 | Val Accuracy: 0.9527\n"
          ]
        },
        {
          "name": "stderr",
          "output_type": "stream",
          "text": [
            "Epoch 2/5: 100%|██████████| 37/37 [00:06<00:00,  6.11it/s, loss=0.15]\n",
            "Evaluating: 100%|██████████| 5/5 [00:00<00:00, 15.05it/s]\n"
          ]
        },
        {
          "name": "stdout",
          "output_type": "stream",
          "text": [
            "Epoch 2 | Training Time: 6.06 s | Train Loss: 0.2187 | Val Loss: 0.1632 | Val Accuracy: 0.9527\n"
          ]
        },
        {
          "name": "stderr",
          "output_type": "stream",
          "text": [
            "Epoch 3/5: 100%|██████████| 37/37 [00:06<00:00,  6.08it/s, loss=0.0686]\n",
            "Evaluating: 100%|██████████| 5/5 [00:00<00:00, 14.95it/s]\n"
          ]
        },
        {
          "name": "stdout",
          "output_type": "stream",
          "text": [
            "Epoch 3 | Training Time: 6.09 s | Train Loss: 0.1913 | Val Loss: 0.1503 | Val Accuracy: 0.9527\n"
          ]
        },
        {
          "name": "stderr",
          "output_type": "stream",
          "text": [
            "Epoch 4/5: 100%|██████████| 37/37 [00:06<00:00,  6.06it/s, loss=0.348]\n",
            "Evaluating: 100%|██████████| 5/5 [00:00<00:00, 14.91it/s]\n"
          ]
        },
        {
          "name": "stdout",
          "output_type": "stream",
          "text": [
            "Epoch 4 | Training Time: 6.11 s | Train Loss: 0.1714 | Val Loss: 0.1408 | Val Accuracy: 0.9527\n"
          ]
        },
        {
          "name": "stderr",
          "output_type": "stream",
          "text": [
            "Epoch 5/5: 100%|██████████| 37/37 [00:06<00:00,  6.07it/s, loss=0.189]\n",
            "Evaluating: 100%|██████████| 5/5 [00:00<00:00, 14.96it/s]\n"
          ]
        },
        {
          "name": "stdout",
          "output_type": "stream",
          "text": [
            "Epoch 5 | Training Time: 6.10 s | Train Loss: 0.1573 | Val Loss: 0.1335 | Val Accuracy: 0.9527\n"
          ]
        },
        {
          "name": "stderr",
          "output_type": "stream",
          "text": [
            "Evaluating: 100%|██████████| 5/5 [00:00<00:00, 15.23it/s]\n"
          ]
        },
        {
          "name": "stdout",
          "output_type": "stream",
          "text": [
            "\n",
            "--- AdaLoRA_lr_3e-05 ---\n",
            "Training time: 32.09 seconds\n",
            "Test Loss: 0.1190 | Test Accuracy: 0.9459\n"
          ]
        },
        {
          "data": {
            "text/html": [],
            "text/plain": [
              "<IPython.core.display.HTML object>"
            ]
          },
          "metadata": {},
          "output_type": "display_data"
        },
        {
          "data": {
            "text/html": [
              "<br>    <style><br>        .wandb-row {<br>            display: flex;<br>            flex-direction: row;<br>            flex-wrap: wrap;<br>            justify-content: flex-start;<br>            width: 100%;<br>        }<br>        .wandb-col {<br>            display: flex;<br>            flex-direction: column;<br>            flex-basis: 100%;<br>            flex: 1;<br>            padding: 10px;<br>        }<br>    </style><br><div class=\"wandb-row\"><div class=\"wandb-col\"><h3>Run history:</h3><br/><table class=\"wandb\"><tr><td>epoch</td><td>▁▃▅▆█</td></tr><tr><td>epoch_time</td><td>▁▄▇█▇</td></tr><tr><td>parameter_efficiency</td><td>▁▁</td></tr><tr><td>test_accuracy</td><td>▁</td></tr><tr><td>test_loss</td><td>▁</td></tr><tr><td>total_parameters</td><td>▁▁</td></tr><tr><td>train_loss</td><td>█▃▂▁▁</td></tr><tr><td>trainable_parameters</td><td>▁▁</td></tr><tr><td>training_time</td><td>▁</td></tr><tr><td>val_accuracy</td><td>▁▁▁▁▁</td></tr><tr><td>val_loss</td><td>█▅▃▂▁</td></tr></table><br/></div><div class=\"wandb-col\"><h3>Run summary:</h3><br/><table class=\"wandb\"><tr><td>epoch</td><td>5</td></tr><tr><td>epoch_time</td><td>6.10256</td></tr><tr><td>model_type</td><td>AdaLoRA_lr_3e-05</td></tr><tr><td>parameter_efficiency</td><td>3.51</td></tr><tr><td>test_accuracy</td><td>0.94595</td></tr><tr><td>test_loss</td><td>0.11896</td></tr><tr><td>total_parameters</td><td>45730290</td></tr><tr><td>train_loss</td><td>0.15732</td></tr><tr><td>trainable_parameters</td><td>1606335</td></tr><tr><td>training_time</td><td>32.09</td></tr><tr><td>val_accuracy</td><td>0.9527</td></tr><tr><td>val_loss</td><td>0.13351</td></tr></table><br/></div></div>"
            ],
            "text/plain": [
              "<IPython.core.display.HTML object>"
            ]
          },
          "metadata": {},
          "output_type": "display_data"
        },
        {
          "data": {
            "text/html": [
              " View run <strong style=\"color:#cdcd00\">Training_AdaLoRA_lr_3e-05_lr3e-05</strong> at: <a href='https://wandb.ai/hpml-proj-deepchem/chemberta/runs/inzzps56' target=\"_blank\">https://wandb.ai/hpml-proj-deepchem/chemberta/runs/inzzps56</a><br> View project at: <a href='https://wandb.ai/hpml-proj-deepchem/chemberta' target=\"_blank\">https://wandb.ai/hpml-proj-deepchem/chemberta</a><br>Synced 5 W&B file(s), 2 media file(s), 4 artifact file(s) and 0 other file(s)"
            ],
            "text/plain": [
              "<IPython.core.display.HTML object>"
            ]
          },
          "metadata": {},
          "output_type": "display_data"
        },
        {
          "data": {
            "text/html": [
              "Find logs at: <code>./wandb/run-20250511_181546-inzzps56/logs</code>"
            ],
            "text/plain": [
              "<IPython.core.display.HTML object>"
            ]
          },
          "metadata": {},
          "output_type": "display_data"
        },
        {
          "name": "stdout",
          "output_type": "stream",
          "text": [
            "\n",
            "--- AdaLoRA with learning_rate=5e-05 ---\n"
          ]
        },
        {
          "name": "stderr",
          "output_type": "stream",
          "text": [
            "Some weights of RobertaForSequenceClassification were not initialized from the model checkpoint at seyonec/ChemBERTa-zinc-base-v1 and are newly initialized: ['classifier.dense.bias', 'classifier.dense.weight', 'classifier.out_proj.bias', 'classifier.out_proj.weight']\n",
            "You should probably TRAIN this model on a down-stream task to be able to use it for predictions and inference.\n"
          ]
        },
        {
          "data": {
            "text/html": [
              "Tracking run with wandb version 0.19.10"
            ],
            "text/plain": [
              "<IPython.core.display.HTML object>"
            ]
          },
          "metadata": {},
          "output_type": "display_data"
        },
        {
          "data": {
            "text/html": [
              "Run data is saved locally in <code>/content/wandb/run-20250511_181629-bkkfm31f</code>"
            ],
            "text/plain": [
              "<IPython.core.display.HTML object>"
            ]
          },
          "metadata": {},
          "output_type": "display_data"
        },
        {
          "data": {
            "text/html": [
              "Syncing run <strong><a href='https://wandb.ai/hpml-proj-deepchem/chemberta/runs/bkkfm31f' target=\"_blank\">AdaLoRA_lr_5e-05</a></strong> to <a href='https://wandb.ai/hpml-proj-deepchem/chemberta' target=\"_blank\">Weights & Biases</a> (<a href='https://wandb.me/developer-guide' target=\"_blank\">docs</a>)<br>"
            ],
            "text/plain": [
              "<IPython.core.display.HTML object>"
            ]
          },
          "metadata": {},
          "output_type": "display_data"
        },
        {
          "data": {
            "text/html": [
              " View project at <a href='https://wandb.ai/hpml-proj-deepchem/chemberta' target=\"_blank\">https://wandb.ai/hpml-proj-deepchem/chemberta</a>"
            ],
            "text/plain": [
              "<IPython.core.display.HTML object>"
            ]
          },
          "metadata": {},
          "output_type": "display_data"
        },
        {
          "data": {
            "text/html": [
              " View run at <a href='https://wandb.ai/hpml-proj-deepchem/chemberta/runs/bkkfm31f' target=\"_blank\">https://wandb.ai/hpml-proj-deepchem/chemberta/runs/bkkfm31f</a>"
            ],
            "text/plain": [
              "<IPython.core.display.HTML object>"
            ]
          },
          "metadata": {},
          "output_type": "display_data"
        },
        {
          "name": "stdout",
          "output_type": "stream",
          "text": [
            "\n",
            "--- AdaLoRA_lr_5e-05 - Trainable Parameters ---\n",
            "Trainable: 1606335 | All: 45730290 | % Trained: 3.51\n"
          ]
        },
        {
          "data": {
            "text/html": [
              "Finishing previous runs because reinit is set to 'default'."
            ],
            "text/plain": [
              "<IPython.core.display.HTML object>"
            ]
          },
          "metadata": {},
          "output_type": "display_data"
        },
        {
          "data": {
            "text/html": [],
            "text/plain": [
              "<IPython.core.display.HTML object>"
            ]
          },
          "metadata": {},
          "output_type": "display_data"
        },
        {
          "data": {
            "text/html": [
              " View run <strong style=\"color:#cdcd00\">AdaLoRA_lr_5e-05</strong> at: <a href='https://wandb.ai/hpml-proj-deepchem/chemberta/runs/bkkfm31f' target=\"_blank\">https://wandb.ai/hpml-proj-deepchem/chemberta/runs/bkkfm31f</a><br> View project at: <a href='https://wandb.ai/hpml-proj-deepchem/chemberta' target=\"_blank\">https://wandb.ai/hpml-proj-deepchem/chemberta</a><br>Synced 5 W&B file(s), 0 media file(s), 0 artifact file(s) and 0 other file(s)"
            ],
            "text/plain": [
              "<IPython.core.display.HTML object>"
            ]
          },
          "metadata": {},
          "output_type": "display_data"
        },
        {
          "data": {
            "text/html": [
              "Find logs at: <code>./wandb/run-20250511_181629-bkkfm31f/logs</code>"
            ],
            "text/plain": [
              "<IPython.core.display.HTML object>"
            ]
          },
          "metadata": {},
          "output_type": "display_data"
        },
        {
          "data": {
            "text/html": [
              "Tracking run with wandb version 0.19.10"
            ],
            "text/plain": [
              "<IPython.core.display.HTML object>"
            ]
          },
          "metadata": {},
          "output_type": "display_data"
        },
        {
          "data": {
            "text/html": [
              "Run data is saved locally in <code>/content/wandb/run-20250511_181630-yew6koyo</code>"
            ],
            "text/plain": [
              "<IPython.core.display.HTML object>"
            ]
          },
          "metadata": {},
          "output_type": "display_data"
        },
        {
          "data": {
            "text/html": [
              "Syncing run <strong><a href='https://wandb.ai/hpml-proj-deepchem/chemberta/runs/yew6koyo' target=\"_blank\">Training_AdaLoRA_lr_5e-05_lr5e-05</a></strong> to <a href='https://wandb.ai/hpml-proj-deepchem/chemberta' target=\"_blank\">Weights & Biases</a> (<a href='https://wandb.me/developer-guide' target=\"_blank\">docs</a>)<br>"
            ],
            "text/plain": [
              "<IPython.core.display.HTML object>"
            ]
          },
          "metadata": {},
          "output_type": "display_data"
        },
        {
          "data": {
            "text/html": [
              " View project at <a href='https://wandb.ai/hpml-proj-deepchem/chemberta' target=\"_blank\">https://wandb.ai/hpml-proj-deepchem/chemberta</a>"
            ],
            "text/plain": [
              "<IPython.core.display.HTML object>"
            ]
          },
          "metadata": {},
          "output_type": "display_data"
        },
        {
          "data": {
            "text/html": [
              " View run at <a href='https://wandb.ai/hpml-proj-deepchem/chemberta/runs/yew6koyo' target=\"_blank\">https://wandb.ai/hpml-proj-deepchem/chemberta/runs/yew6koyo</a>"
            ],
            "text/plain": [
              "<IPython.core.display.HTML object>"
            ]
          },
          "metadata": {},
          "output_type": "display_data"
        },
        {
          "name": "stdout",
          "output_type": "stream",
          "text": [
            "\n",
            "--- AdaLoRA_lr_5e-05 ---\n"
          ]
        },
        {
          "name": "stderr",
          "output_type": "stream",
          "text": [
            "Epoch 1/5: 100%|██████████| 37/37 [00:06<00:00,  6.14it/s, loss=0.205]\n",
            "Evaluating: 100%|██████████| 5/5 [00:00<00:00, 15.05it/s]\n"
          ]
        },
        {
          "name": "stdout",
          "output_type": "stream",
          "text": [
            "Epoch 1 | Training Time: 6.03 s | Train Loss: 0.3235 | Val Loss: 0.1713 | Val Accuracy: 0.9527\n"
          ]
        },
        {
          "name": "stderr",
          "output_type": "stream",
          "text": [
            "Epoch 2/5: 100%|██████████| 37/37 [00:06<00:00,  6.10it/s, loss=0.263]\n",
            "Evaluating: 100%|██████████| 5/5 [00:00<00:00, 14.88it/s]\n"
          ]
        },
        {
          "name": "stdout",
          "output_type": "stream",
          "text": [
            "Epoch 2 | Training Time: 6.07 s | Train Loss: 0.1960 | Val Loss: 0.1507 | Val Accuracy: 0.9527\n"
          ]
        },
        {
          "name": "stderr",
          "output_type": "stream",
          "text": [
            "Epoch 3/5: 100%|██████████| 37/37 [00:06<00:00,  6.07it/s, loss=0.0688]\n",
            "Evaluating: 100%|██████████| 5/5 [00:00<00:00, 14.91it/s]\n"
          ]
        },
        {
          "name": "stdout",
          "output_type": "stream",
          "text": [
            "Epoch 3 | Training Time: 6.10 s | Train Loss: 0.1657 | Val Loss: 0.1390 | Val Accuracy: 0.9527\n"
          ]
        },
        {
          "name": "stderr",
          "output_type": "stream",
          "text": [
            "Epoch 4/5: 100%|██████████| 37/37 [00:06<00:00,  6.06it/s, loss=0.107]\n",
            "Evaluating: 100%|██████████| 5/5 [00:00<00:00, 15.24it/s]\n"
          ]
        },
        {
          "name": "stdout",
          "output_type": "stream",
          "text": [
            "Epoch 4 | Training Time: 6.11 s | Train Loss: 0.1486 | Val Loss: 0.1289 | Val Accuracy: 0.9527\n"
          ]
        },
        {
          "name": "stderr",
          "output_type": "stream",
          "text": [
            "Epoch 5/5: 100%|██████████| 37/37 [00:06<00:00,  6.08it/s, loss=0.232]\n",
            "Evaluating: 100%|██████████| 5/5 [00:00<00:00, 15.13it/s]\n"
          ]
        },
        {
          "name": "stdout",
          "output_type": "stream",
          "text": [
            "Epoch 5 | Training Time: 6.08 s | Train Loss: 0.1340 | Val Loss: 0.1213 | Val Accuracy: 0.9595\n"
          ]
        },
        {
          "name": "stderr",
          "output_type": "stream",
          "text": [
            "Evaluating: 100%|██████████| 5/5 [00:00<00:00, 15.17it/s]\n"
          ]
        },
        {
          "name": "stdout",
          "output_type": "stream",
          "text": [
            "\n",
            "--- AdaLoRA_lr_5e-05 ---\n",
            "Training time: 32.1 seconds\n",
            "Test Loss: 0.1126 | Test Accuracy: 0.9527\n"
          ]
        },
        {
          "data": {
            "text/html": [],
            "text/plain": [
              "<IPython.core.display.HTML object>"
            ]
          },
          "metadata": {},
          "output_type": "display_data"
        },
        {
          "data": {
            "text/html": [
              "<br>    <style><br>        .wandb-row {<br>            display: flex;<br>            flex-direction: row;<br>            flex-wrap: wrap;<br>            justify-content: flex-start;<br>            width: 100%;<br>        }<br>        .wandb-col {<br>            display: flex;<br>            flex-direction: column;<br>            flex-basis: 100%;<br>            flex: 1;<br>            padding: 10px;<br>        }<br>    </style><br><div class=\"wandb-row\"><div class=\"wandb-col\"><h3>Run history:</h3><br/><table class=\"wandb\"><tr><td>epoch</td><td>▁▃▅▆█</td></tr><tr><td>epoch_time</td><td>▁▅██▆</td></tr><tr><td>parameter_efficiency</td><td>▁▁</td></tr><tr><td>test_accuracy</td><td>▁</td></tr><tr><td>test_loss</td><td>▁</td></tr><tr><td>total_parameters</td><td>▁▁</td></tr><tr><td>train_loss</td><td>█▃▂▂▁</td></tr><tr><td>trainable_parameters</td><td>▁▁</td></tr><tr><td>training_time</td><td>▁</td></tr><tr><td>val_accuracy</td><td>▁▁▁▁█</td></tr><tr><td>val_loss</td><td>█▅▃▂▁</td></tr></table><br/></div><div class=\"wandb-col\"><h3>Run summary:</h3><br/><table class=\"wandb\"><tr><td>epoch</td><td>5</td></tr><tr><td>epoch_time</td><td>6.08472</td></tr><tr><td>model_type</td><td>AdaLoRA_lr_5e-05</td></tr><tr><td>parameter_efficiency</td><td>3.51</td></tr><tr><td>test_accuracy</td><td>0.9527</td></tr><tr><td>test_loss</td><td>0.11262</td></tr><tr><td>total_parameters</td><td>45730290</td></tr><tr><td>train_loss</td><td>0.13403</td></tr><tr><td>trainable_parameters</td><td>1606335</td></tr><tr><td>training_time</td><td>32.1</td></tr><tr><td>val_accuracy</td><td>0.95946</td></tr><tr><td>val_loss</td><td>0.12132</td></tr></table><br/></div></div>"
            ],
            "text/plain": [
              "<IPython.core.display.HTML object>"
            ]
          },
          "metadata": {},
          "output_type": "display_data"
        },
        {
          "data": {
            "text/html": [
              " View run <strong style=\"color:#cdcd00\">Training_AdaLoRA_lr_5e-05_lr5e-05</strong> at: <a href='https://wandb.ai/hpml-proj-deepchem/chemberta/runs/yew6koyo' target=\"_blank\">https://wandb.ai/hpml-proj-deepchem/chemberta/runs/yew6koyo</a><br> View project at: <a href='https://wandb.ai/hpml-proj-deepchem/chemberta' target=\"_blank\">https://wandb.ai/hpml-proj-deepchem/chemberta</a><br>Synced 5 W&B file(s), 2 media file(s), 4 artifact file(s) and 0 other file(s)"
            ],
            "text/plain": [
              "<IPython.core.display.HTML object>"
            ]
          },
          "metadata": {},
          "output_type": "display_data"
        },
        {
          "data": {
            "text/html": [
              "Find logs at: <code>./wandb/run-20250511_181630-yew6koyo/logs</code>"
            ],
            "text/plain": [
              "<IPython.core.display.HTML object>"
            ]
          },
          "metadata": {},
          "output_type": "display_data"
        },
        {
          "name": "stdout",
          "output_type": "stream",
          "text": [
            "\n",
            "--- AdaLoRA with learning_rate=0.0001 ---\n"
          ]
        },
        {
          "name": "stderr",
          "output_type": "stream",
          "text": [
            "Some weights of RobertaForSequenceClassification were not initialized from the model checkpoint at seyonec/ChemBERTa-zinc-base-v1 and are newly initialized: ['classifier.dense.bias', 'classifier.dense.weight', 'classifier.out_proj.bias', 'classifier.out_proj.weight']\n",
            "You should probably TRAIN this model on a down-stream task to be able to use it for predictions and inference.\n"
          ]
        },
        {
          "data": {
            "text/html": [
              "Tracking run with wandb version 0.19.10"
            ],
            "text/plain": [
              "<IPython.core.display.HTML object>"
            ]
          },
          "metadata": {},
          "output_type": "display_data"
        },
        {
          "data": {
            "text/html": [
              "Run data is saved locally in <code>/content/wandb/run-20250511_181713-w3a3k45x</code>"
            ],
            "text/plain": [
              "<IPython.core.display.HTML object>"
            ]
          },
          "metadata": {},
          "output_type": "display_data"
        },
        {
          "data": {
            "text/html": [
              "Syncing run <strong><a href='https://wandb.ai/hpml-proj-deepchem/chemberta/runs/w3a3k45x' target=\"_blank\">AdaLoRA_lr_0.0001</a></strong> to <a href='https://wandb.ai/hpml-proj-deepchem/chemberta' target=\"_blank\">Weights & Biases</a> (<a href='https://wandb.me/developer-guide' target=\"_blank\">docs</a>)<br>"
            ],
            "text/plain": [
              "<IPython.core.display.HTML object>"
            ]
          },
          "metadata": {},
          "output_type": "display_data"
        },
        {
          "data": {
            "text/html": [
              " View project at <a href='https://wandb.ai/hpml-proj-deepchem/chemberta' target=\"_blank\">https://wandb.ai/hpml-proj-deepchem/chemberta</a>"
            ],
            "text/plain": [
              "<IPython.core.display.HTML object>"
            ]
          },
          "metadata": {},
          "output_type": "display_data"
        },
        {
          "data": {
            "text/html": [
              " View run at <a href='https://wandb.ai/hpml-proj-deepchem/chemberta/runs/w3a3k45x' target=\"_blank\">https://wandb.ai/hpml-proj-deepchem/chemberta/runs/w3a3k45x</a>"
            ],
            "text/plain": [
              "<IPython.core.display.HTML object>"
            ]
          },
          "metadata": {},
          "output_type": "display_data"
        },
        {
          "name": "stdout",
          "output_type": "stream",
          "text": [
            "\n",
            "--- AdaLoRA_lr_0.0001 - Trainable Parameters ---\n",
            "Trainable: 1606335 | All: 45730290 | % Trained: 3.51\n"
          ]
        },
        {
          "data": {
            "text/html": [
              "Finishing previous runs because reinit is set to 'default'."
            ],
            "text/plain": [
              "<IPython.core.display.HTML object>"
            ]
          },
          "metadata": {},
          "output_type": "display_data"
        },
        {
          "data": {
            "text/html": [],
            "text/plain": [
              "<IPython.core.display.HTML object>"
            ]
          },
          "metadata": {},
          "output_type": "display_data"
        },
        {
          "data": {
            "text/html": [
              " View run <strong style=\"color:#cdcd00\">AdaLoRA_lr_0.0001</strong> at: <a href='https://wandb.ai/hpml-proj-deepchem/chemberta/runs/w3a3k45x' target=\"_blank\">https://wandb.ai/hpml-proj-deepchem/chemberta/runs/w3a3k45x</a><br> View project at: <a href='https://wandb.ai/hpml-proj-deepchem/chemberta' target=\"_blank\">https://wandb.ai/hpml-proj-deepchem/chemberta</a><br>Synced 5 W&B file(s), 0 media file(s), 0 artifact file(s) and 0 other file(s)"
            ],
            "text/plain": [
              "<IPython.core.display.HTML object>"
            ]
          },
          "metadata": {},
          "output_type": "display_data"
        },
        {
          "data": {
            "text/html": [
              "Find logs at: <code>./wandb/run-20250511_181713-w3a3k45x/logs</code>"
            ],
            "text/plain": [
              "<IPython.core.display.HTML object>"
            ]
          },
          "metadata": {},
          "output_type": "display_data"
        },
        {
          "data": {
            "text/html": [
              "Tracking run with wandb version 0.19.10"
            ],
            "text/plain": [
              "<IPython.core.display.HTML object>"
            ]
          },
          "metadata": {},
          "output_type": "display_data"
        },
        {
          "data": {
            "text/html": [
              "Run data is saved locally in <code>/content/wandb/run-20250511_181715-p56wkaio</code>"
            ],
            "text/plain": [
              "<IPython.core.display.HTML object>"
            ]
          },
          "metadata": {},
          "output_type": "display_data"
        },
        {
          "data": {
            "text/html": [
              "Syncing run <strong><a href='https://wandb.ai/hpml-proj-deepchem/chemberta/runs/p56wkaio' target=\"_blank\">Training_AdaLoRA_lr_0.0001_lr0.0001</a></strong> to <a href='https://wandb.ai/hpml-proj-deepchem/chemberta' target=\"_blank\">Weights & Biases</a> (<a href='https://wandb.me/developer-guide' target=\"_blank\">docs</a>)<br>"
            ],
            "text/plain": [
              "<IPython.core.display.HTML object>"
            ]
          },
          "metadata": {},
          "output_type": "display_data"
        },
        {
          "data": {
            "text/html": [
              " View project at <a href='https://wandb.ai/hpml-proj-deepchem/chemberta' target=\"_blank\">https://wandb.ai/hpml-proj-deepchem/chemberta</a>"
            ],
            "text/plain": [
              "<IPython.core.display.HTML object>"
            ]
          },
          "metadata": {},
          "output_type": "display_data"
        },
        {
          "data": {
            "text/html": [
              " View run at <a href='https://wandb.ai/hpml-proj-deepchem/chemberta/runs/p56wkaio' target=\"_blank\">https://wandb.ai/hpml-proj-deepchem/chemberta/runs/p56wkaio</a>"
            ],
            "text/plain": [
              "<IPython.core.display.HTML object>"
            ]
          },
          "metadata": {},
          "output_type": "display_data"
        },
        {
          "name": "stdout",
          "output_type": "stream",
          "text": [
            "\n",
            "--- AdaLoRA_lr_0.0001 ---\n"
          ]
        },
        {
          "name": "stderr",
          "output_type": "stream",
          "text": [
            "Epoch 1/5: 100%|██████████| 37/37 [00:05<00:00,  6.17it/s, loss=0.151]\n",
            "Evaluating: 100%|██████████| 5/5 [00:00<00:00, 15.31it/s]\n"
          ]
        },
        {
          "name": "stdout",
          "output_type": "stream",
          "text": [
            "Epoch 1 | Training Time: 6.00 s | Train Loss: 0.2724 | Val Loss: 0.1505 | Val Accuracy: 0.9527\n"
          ]
        },
        {
          "name": "stderr",
          "output_type": "stream",
          "text": [
            "Epoch 2/5: 100%|██████████| 37/37 [00:06<00:00,  6.14it/s, loss=0.262]\n",
            "Evaluating: 100%|██████████| 5/5 [00:00<00:00, 15.22it/s]\n"
          ]
        },
        {
          "name": "stdout",
          "output_type": "stream",
          "text": [
            "Epoch 2 | Training Time: 6.03 s | Train Loss: 0.1578 | Val Loss: 0.1303 | Val Accuracy: 0.9527\n"
          ]
        },
        {
          "name": "stderr",
          "output_type": "stream",
          "text": [
            "Epoch 3/5: 100%|██████████| 37/37 [00:06<00:00,  6.10it/s, loss=0.0612]\n",
            "Evaluating: 100%|██████████| 5/5 [00:00<00:00, 14.95it/s]\n"
          ]
        },
        {
          "name": "stdout",
          "output_type": "stream",
          "text": [
            "Epoch 3 | Training Time: 6.07 s | Train Loss: 0.1295 | Val Loss: 0.1174 | Val Accuracy: 0.9595\n"
          ]
        },
        {
          "name": "stderr",
          "output_type": "stream",
          "text": [
            "Epoch 4/5: 100%|██████████| 37/37 [00:06<00:00,  6.06it/s, loss=0.0997]\n",
            "Evaluating: 100%|██████████| 5/5 [00:00<00:00, 14.92it/s]\n"
          ]
        },
        {
          "name": "stdout",
          "output_type": "stream",
          "text": [
            "Epoch 4 | Training Time: 6.11 s | Train Loss: 0.1137 | Val Loss: 0.1070 | Val Accuracy: 0.9662\n"
          ]
        },
        {
          "name": "stderr",
          "output_type": "stream",
          "text": [
            "Epoch 5/5: 100%|██████████| 37/37 [00:06<00:00,  6.06it/s, loss=0.052]\n",
            "Evaluating: 100%|██████████| 5/5 [00:00<00:00, 15.08it/s]\n"
          ]
        },
        {
          "name": "stdout",
          "output_type": "stream",
          "text": [
            "Epoch 5 | Training Time: 6.11 s | Train Loss: 0.0974 | Val Loss: 0.0946 | Val Accuracy: 0.9662\n"
          ]
        },
        {
          "name": "stderr",
          "output_type": "stream",
          "text": [
            "Evaluating: 100%|██████████| 5/5 [00:00<00:00, 15.09it/s]\n"
          ]
        },
        {
          "name": "stdout",
          "output_type": "stream",
          "text": [
            "\n",
            "--- AdaLoRA_lr_0.0001 ---\n",
            "Training time: 32.02 seconds\n",
            "Test Loss: 0.0800 | Test Accuracy: 0.9662\n"
          ]
        },
        {
          "data": {
            "text/html": [],
            "text/plain": [
              "<IPython.core.display.HTML object>"
            ]
          },
          "metadata": {},
          "output_type": "display_data"
        },
        {
          "data": {
            "text/html": [
              "<br>    <style><br>        .wandb-row {<br>            display: flex;<br>            flex-direction: row;<br>            flex-wrap: wrap;<br>            justify-content: flex-start;<br>            width: 100%;<br>        }<br>        .wandb-col {<br>            display: flex;<br>            flex-direction: column;<br>            flex-basis: 100%;<br>            flex: 1;<br>            padding: 10px;<br>        }<br>    </style><br><div class=\"wandb-row\"><div class=\"wandb-col\"><h3>Run history:</h3><br/><table class=\"wandb\"><tr><td>epoch</td><td>▁▃▅▆█</td></tr><tr><td>epoch_time</td><td>▁▃▅██</td></tr><tr><td>parameter_efficiency</td><td>▁▁</td></tr><tr><td>test_accuracy</td><td>▁</td></tr><tr><td>test_loss</td><td>▁</td></tr><tr><td>total_parameters</td><td>▁▁</td></tr><tr><td>train_loss</td><td>█▃▂▂▁</td></tr><tr><td>trainable_parameters</td><td>▁▁</td></tr><tr><td>training_time</td><td>▁</td></tr><tr><td>val_accuracy</td><td>▁▁▅██</td></tr><tr><td>val_loss</td><td>█▅▄▃▁</td></tr></table><br/></div><div class=\"wandb-col\"><h3>Run summary:</h3><br/><table class=\"wandb\"><tr><td>epoch</td><td>5</td></tr><tr><td>epoch_time</td><td>6.11047</td></tr><tr><td>model_type</td><td>AdaLoRA_lr_0.0001</td></tr><tr><td>parameter_efficiency</td><td>3.51</td></tr><tr><td>test_accuracy</td><td>0.96622</td></tr><tr><td>test_loss</td><td>0.08002</td></tr><tr><td>total_parameters</td><td>45730290</td></tr><tr><td>train_loss</td><td>0.09743</td></tr><tr><td>trainable_parameters</td><td>1606335</td></tr><tr><td>training_time</td><td>32.02</td></tr><tr><td>val_accuracy</td><td>0.96622</td></tr><tr><td>val_loss</td><td>0.0946</td></tr></table><br/></div></div>"
            ],
            "text/plain": [
              "<IPython.core.display.HTML object>"
            ]
          },
          "metadata": {},
          "output_type": "display_data"
        },
        {
          "data": {
            "text/html": [
              " View run <strong style=\"color:#cdcd00\">Training_AdaLoRA_lr_0.0001_lr0.0001</strong> at: <a href='https://wandb.ai/hpml-proj-deepchem/chemberta/runs/p56wkaio' target=\"_blank\">https://wandb.ai/hpml-proj-deepchem/chemberta/runs/p56wkaio</a><br> View project at: <a href='https://wandb.ai/hpml-proj-deepchem/chemberta' target=\"_blank\">https://wandb.ai/hpml-proj-deepchem/chemberta</a><br>Synced 5 W&B file(s), 2 media file(s), 4 artifact file(s) and 0 other file(s)"
            ],
            "text/plain": [
              "<IPython.core.display.HTML object>"
            ]
          },
          "metadata": {},
          "output_type": "display_data"
        },
        {
          "data": {
            "text/html": [
              "Find logs at: <code>./wandb/run-20250511_181715-p56wkaio/logs</code>"
            ],
            "text/plain": [
              "<IPython.core.display.HTML object>"
            ]
          },
          "metadata": {},
          "output_type": "display_data"
        },
        {
          "name": "stdout",
          "output_type": "stream",
          "text": [
            "\n",
            "--- AdaLoRA with learning_rate=0.0003 ---\n"
          ]
        },
        {
          "name": "stderr",
          "output_type": "stream",
          "text": [
            "Some weights of RobertaForSequenceClassification were not initialized from the model checkpoint at seyonec/ChemBERTa-zinc-base-v1 and are newly initialized: ['classifier.dense.bias', 'classifier.dense.weight', 'classifier.out_proj.bias', 'classifier.out_proj.weight']\n",
            "You should probably TRAIN this model on a down-stream task to be able to use it for predictions and inference.\n"
          ]
        },
        {
          "data": {
            "text/html": [
              "Tracking run with wandb version 0.19.10"
            ],
            "text/plain": [
              "<IPython.core.display.HTML object>"
            ]
          },
          "metadata": {},
          "output_type": "display_data"
        },
        {
          "data": {
            "text/html": [
              "Run data is saved locally in <code>/content/wandb/run-20250511_181757-2fcdu86s</code>"
            ],
            "text/plain": [
              "<IPython.core.display.HTML object>"
            ]
          },
          "metadata": {},
          "output_type": "display_data"
        },
        {
          "data": {
            "text/html": [
              "Syncing run <strong><a href='https://wandb.ai/hpml-proj-deepchem/chemberta/runs/2fcdu86s' target=\"_blank\">AdaLoRA_lr_0.0003</a></strong> to <a href='https://wandb.ai/hpml-proj-deepchem/chemberta' target=\"_blank\">Weights & Biases</a> (<a href='https://wandb.me/developer-guide' target=\"_blank\">docs</a>)<br>"
            ],
            "text/plain": [
              "<IPython.core.display.HTML object>"
            ]
          },
          "metadata": {},
          "output_type": "display_data"
        },
        {
          "data": {
            "text/html": [
              " View project at <a href='https://wandb.ai/hpml-proj-deepchem/chemberta' target=\"_blank\">https://wandb.ai/hpml-proj-deepchem/chemberta</a>"
            ],
            "text/plain": [
              "<IPython.core.display.HTML object>"
            ]
          },
          "metadata": {},
          "output_type": "display_data"
        },
        {
          "data": {
            "text/html": [
              " View run at <a href='https://wandb.ai/hpml-proj-deepchem/chemberta/runs/2fcdu86s' target=\"_blank\">https://wandb.ai/hpml-proj-deepchem/chemberta/runs/2fcdu86s</a>"
            ],
            "text/plain": [
              "<IPython.core.display.HTML object>"
            ]
          },
          "metadata": {},
          "output_type": "display_data"
        },
        {
          "name": "stdout",
          "output_type": "stream",
          "text": [
            "\n",
            "--- AdaLoRA_lr_0.0003 - Trainable Parameters ---\n",
            "Trainable: 1606335 | All: 45730290 | % Trained: 3.51\n"
          ]
        },
        {
          "data": {
            "text/html": [
              "Finishing previous runs because reinit is set to 'default'."
            ],
            "text/plain": [
              "<IPython.core.display.HTML object>"
            ]
          },
          "metadata": {},
          "output_type": "display_data"
        },
        {
          "data": {
            "text/html": [],
            "text/plain": [
              "<IPython.core.display.HTML object>"
            ]
          },
          "metadata": {},
          "output_type": "display_data"
        },
        {
          "data": {
            "text/html": [
              " View run <strong style=\"color:#cdcd00\">AdaLoRA_lr_0.0003</strong> at: <a href='https://wandb.ai/hpml-proj-deepchem/chemberta/runs/2fcdu86s' target=\"_blank\">https://wandb.ai/hpml-proj-deepchem/chemberta/runs/2fcdu86s</a><br> View project at: <a href='https://wandb.ai/hpml-proj-deepchem/chemberta' target=\"_blank\">https://wandb.ai/hpml-proj-deepchem/chemberta</a><br>Synced 5 W&B file(s), 0 media file(s), 0 artifact file(s) and 0 other file(s)"
            ],
            "text/plain": [
              "<IPython.core.display.HTML object>"
            ]
          },
          "metadata": {},
          "output_type": "display_data"
        },
        {
          "data": {
            "text/html": [
              "Find logs at: <code>./wandb/run-20250511_181757-2fcdu86s/logs</code>"
            ],
            "text/plain": [
              "<IPython.core.display.HTML object>"
            ]
          },
          "metadata": {},
          "output_type": "display_data"
        },
        {
          "data": {
            "text/html": [
              "Tracking run with wandb version 0.19.10"
            ],
            "text/plain": [
              "<IPython.core.display.HTML object>"
            ]
          },
          "metadata": {},
          "output_type": "display_data"
        },
        {
          "data": {
            "text/html": [
              "Run data is saved locally in <code>/content/wandb/run-20250511_181758-shn4cgah</code>"
            ],
            "text/plain": [
              "<IPython.core.display.HTML object>"
            ]
          },
          "metadata": {},
          "output_type": "display_data"
        },
        {
          "data": {
            "text/html": [
              "Syncing run <strong><a href='https://wandb.ai/hpml-proj-deepchem/chemberta/runs/shn4cgah' target=\"_blank\">Training_AdaLoRA_lr_0.0003_lr0.0003</a></strong> to <a href='https://wandb.ai/hpml-proj-deepchem/chemberta' target=\"_blank\">Weights & Biases</a> (<a href='https://wandb.me/developer-guide' target=\"_blank\">docs</a>)<br>"
            ],
            "text/plain": [
              "<IPython.core.display.HTML object>"
            ]
          },
          "metadata": {},
          "output_type": "display_data"
        },
        {
          "data": {
            "text/html": [
              " View project at <a href='https://wandb.ai/hpml-proj-deepchem/chemberta' target=\"_blank\">https://wandb.ai/hpml-proj-deepchem/chemberta</a>"
            ],
            "text/plain": [
              "<IPython.core.display.HTML object>"
            ]
          },
          "metadata": {},
          "output_type": "display_data"
        },
        {
          "data": {
            "text/html": [
              " View run at <a href='https://wandb.ai/hpml-proj-deepchem/chemberta/runs/shn4cgah' target=\"_blank\">https://wandb.ai/hpml-proj-deepchem/chemberta/runs/shn4cgah</a>"
            ],
            "text/plain": [
              "<IPython.core.display.HTML object>"
            ]
          },
          "metadata": {},
          "output_type": "display_data"
        },
        {
          "name": "stdout",
          "output_type": "stream",
          "text": [
            "\n",
            "--- AdaLoRA_lr_0.0003 ---\n"
          ]
        },
        {
          "name": "stderr",
          "output_type": "stream",
          "text": [
            "Epoch 1/5: 100%|██████████| 37/37 [00:06<00:00,  6.13it/s, loss=0.429]\n",
            "Evaluating: 100%|██████████| 5/5 [00:00<00:00, 15.22it/s]\n"
          ]
        },
        {
          "name": "stdout",
          "output_type": "stream",
          "text": [
            "Epoch 1 | Training Time: 6.04 s | Train Loss: 0.2257 | Val Loss: 0.1290 | Val Accuracy: 0.9527\n"
          ]
        },
        {
          "name": "stderr",
          "output_type": "stream",
          "text": [
            "Epoch 2/5: 100%|██████████| 37/37 [00:06<00:00,  6.09it/s, loss=0.124]\n",
            "Evaluating: 100%|██████████| 5/5 [00:00<00:00, 15.13it/s]\n"
          ]
        },
        {
          "name": "stdout",
          "output_type": "stream",
          "text": [
            "Epoch 2 | Training Time: 6.08 s | Train Loss: 0.1238 | Val Loss: 0.1061 | Val Accuracy: 0.9662\n"
          ]
        },
        {
          "name": "stderr",
          "output_type": "stream",
          "text": [
            "Epoch 3/5: 100%|██████████| 37/37 [00:06<00:00,  6.06it/s, loss=0.0523]\n",
            "Evaluating: 100%|██████████| 5/5 [00:00<00:00, 15.00it/s]\n"
          ]
        },
        {
          "name": "stdout",
          "output_type": "stream",
          "text": [
            "Epoch 3 | Training Time: 6.11 s | Train Loss: 0.0818 | Val Loss: 0.0833 | Val Accuracy: 0.9730\n"
          ]
        },
        {
          "name": "stderr",
          "output_type": "stream",
          "text": [
            "Epoch 4/5: 100%|██████████| 37/37 [00:06<00:00,  6.05it/s, loss=0.129]\n",
            "Evaluating: 100%|██████████| 5/5 [00:00<00:00, 14.88it/s]\n"
          ]
        },
        {
          "name": "stdout",
          "output_type": "stream",
          "text": [
            "Epoch 4 | Training Time: 6.12 s | Train Loss: 0.0621 | Val Loss: 0.0780 | Val Accuracy: 0.9865\n"
          ]
        },
        {
          "name": "stderr",
          "output_type": "stream",
          "text": [
            "Epoch 5/5: 100%|██████████| 37/37 [00:06<00:00,  6.07it/s, loss=0.0501]\n",
            "Evaluating: 100%|██████████| 5/5 [00:00<00:00, 15.11it/s]\n"
          ]
        },
        {
          "name": "stdout",
          "output_type": "stream",
          "text": [
            "Epoch 5 | Training Time: 6.10 s | Train Loss: 0.0494 | Val Loss: 0.1012 | Val Accuracy: 0.9459\n"
          ]
        },
        {
          "name": "stderr",
          "output_type": "stream",
          "text": [
            "Evaluating: 100%|██████████| 5/5 [00:00<00:00, 15.18it/s]\n"
          ]
        },
        {
          "name": "stdout",
          "output_type": "stream",
          "text": [
            "\n",
            "--- AdaLoRA_lr_0.0003 ---\n",
            "Training time: 32.15 seconds\n",
            "Test Loss: 0.0675 | Test Accuracy: 0.9797\n"
          ]
        },
        {
          "data": {
            "text/html": [],
            "text/plain": [
              "<IPython.core.display.HTML object>"
            ]
          },
          "metadata": {},
          "output_type": "display_data"
        },
        {
          "data": {
            "text/html": [
              "<br>    <style><br>        .wandb-row {<br>            display: flex;<br>            flex-direction: row;<br>            flex-wrap: wrap;<br>            justify-content: flex-start;<br>            width: 100%;<br>        }<br>        .wandb-col {<br>            display: flex;<br>            flex-direction: column;<br>            flex-basis: 100%;<br>            flex: 1;<br>            padding: 10px;<br>        }<br>    </style><br><div class=\"wandb-row\"><div class=\"wandb-col\"><h3>Run history:</h3><br/><table class=\"wandb\"><tr><td>epoch</td><td>▁▃▅▆█</td></tr><tr><td>epoch_time</td><td>▁▅▇█▆</td></tr><tr><td>parameter_efficiency</td><td>▁▁</td></tr><tr><td>test_accuracy</td><td>▁</td></tr><tr><td>test_loss</td><td>▁</td></tr><tr><td>total_parameters</td><td>▁▁</td></tr><tr><td>train_loss</td><td>█▄▂▂▁</td></tr><tr><td>trainable_parameters</td><td>▁▁</td></tr><tr><td>training_time</td><td>▁</td></tr><tr><td>val_accuracy</td><td>▂▅▆█▁</td></tr><tr><td>val_loss</td><td>█▅▂▁▄</td></tr></table><br/></div><div class=\"wandb-col\"><h3>Run summary:</h3><br/><table class=\"wandb\"><tr><td>epoch</td><td>5</td></tr><tr><td>epoch_time</td><td>6.09734</td></tr><tr><td>model_type</td><td>AdaLoRA_lr_0.0003</td></tr><tr><td>parameter_efficiency</td><td>3.51</td></tr><tr><td>test_accuracy</td><td>0.97973</td></tr><tr><td>test_loss</td><td>0.0675</td></tr><tr><td>total_parameters</td><td>45730290</td></tr><tr><td>train_loss</td><td>0.04939</td></tr><tr><td>trainable_parameters</td><td>1606335</td></tr><tr><td>training_time</td><td>32.15</td></tr><tr><td>val_accuracy</td><td>0.94595</td></tr><tr><td>val_loss</td><td>0.10118</td></tr></table><br/></div></div>"
            ],
            "text/plain": [
              "<IPython.core.display.HTML object>"
            ]
          },
          "metadata": {},
          "output_type": "display_data"
        },
        {
          "data": {
            "text/html": [
              " View run <strong style=\"color:#cdcd00\">Training_AdaLoRA_lr_0.0003_lr0.0003</strong> at: <a href='https://wandb.ai/hpml-proj-deepchem/chemberta/runs/shn4cgah' target=\"_blank\">https://wandb.ai/hpml-proj-deepchem/chemberta/runs/shn4cgah</a><br> View project at: <a href='https://wandb.ai/hpml-proj-deepchem/chemberta' target=\"_blank\">https://wandb.ai/hpml-proj-deepchem/chemberta</a><br>Synced 5 W&B file(s), 2 media file(s), 4 artifact file(s) and 0 other file(s)"
            ],
            "text/plain": [
              "<IPython.core.display.HTML object>"
            ]
          },
          "metadata": {},
          "output_type": "display_data"
        },
        {
          "data": {
            "text/html": [
              "Find logs at: <code>./wandb/run-20250511_181758-shn4cgah/logs</code>"
            ],
            "text/plain": [
              "<IPython.core.display.HTML object>"
            ]
          },
          "metadata": {},
          "output_type": "display_data"
        },
        {
          "data": {
            "text/html": [
              "Tracking run with wandb version 0.19.10"
            ],
            "text/plain": [
              "<IPython.core.display.HTML object>"
            ]
          },
          "metadata": {},
          "output_type": "display_data"
        },
        {
          "data": {
            "text/html": [
              "Run data is saved locally in <code>/content/wandb/run-20250511_181841-59pkmnkk</code>"
            ],
            "text/plain": [
              "<IPython.core.display.HTML object>"
            ]
          },
          "metadata": {},
          "output_type": "display_data"
        },
        {
          "data": {
            "text/html": [
              "Syncing run <strong><a href='https://wandb.ai/hpml-proj-deepchem/chemberta/runs/59pkmnkk' target=\"_blank\">AdaLoRA_Hyperparameter_Graph</a></strong> to <a href='https://wandb.ai/hpml-proj-deepchem/chemberta' target=\"_blank\">Weights & Biases</a> (<a href='https://wandb.me/developer-guide' target=\"_blank\">docs</a>)<br>"
            ],
            "text/plain": [
              "<IPython.core.display.HTML object>"
            ]
          },
          "metadata": {},
          "output_type": "display_data"
        },
        {
          "data": {
            "text/html": [
              " View project at <a href='https://wandb.ai/hpml-proj-deepchem/chemberta' target=\"_blank\">https://wandb.ai/hpml-proj-deepchem/chemberta</a>"
            ],
            "text/plain": [
              "<IPython.core.display.HTML object>"
            ]
          },
          "metadata": {},
          "output_type": "display_data"
        },
        {
          "data": {
            "text/html": [
              " View run at <a href='https://wandb.ai/hpml-proj-deepchem/chemberta/runs/59pkmnkk' target=\"_blank\">https://wandb.ai/hpml-proj-deepchem/chemberta/runs/59pkmnkk</a>"
            ],
            "text/plain": [
              "<IPython.core.display.HTML object>"
            ]
          },
          "metadata": {},
          "output_type": "display_data"
        },
        {
          "data": {
            "text/html": [],
            "text/plain": [
              "<IPython.core.display.HTML object>"
            ]
          },
          "metadata": {},
          "output_type": "display_data"
        },
        {
          "data": {
            "text/html": [
              " View run <strong style=\"color:#cdcd00\">AdaLoRA_Hyperparameter_Graph</strong> at: <a href='https://wandb.ai/hpml-proj-deepchem/chemberta/runs/59pkmnkk' target=\"_blank\">https://wandb.ai/hpml-proj-deepchem/chemberta/runs/59pkmnkk</a><br> View project at: <a href='https://wandb.ai/hpml-proj-deepchem/chemberta' target=\"_blank\">https://wandb.ai/hpml-proj-deepchem/chemberta</a><br>Synced 5 W&B file(s), 1 media file(s), 0 artifact file(s) and 0 other file(s)"
            ],
            "text/plain": [
              "<IPython.core.display.HTML object>"
            ]
          },
          "metadata": {},
          "output_type": "display_data"
        },
        {
          "data": {
            "text/html": [
              "Find logs at: <code>./wandb/run-20250511_181841-59pkmnkk/logs</code>"
            ],
            "text/plain": [
              "<IPython.core.display.HTML object>"
            ]
          },
          "metadata": {},
          "output_type": "display_data"
        },
        {
          "data": {
            "text/html": [
              "Tracking run with wandb version 0.19.10"
            ],
            "text/plain": [
              "<IPython.core.display.HTML object>"
            ]
          },
          "metadata": {},
          "output_type": "display_data"
        },
        {
          "data": {
            "text/html": [
              "Run data is saved locally in <code>/content/wandb/run-20250511_181846-mt0cem3n</code>"
            ],
            "text/plain": [
              "<IPython.core.display.HTML object>"
            ]
          },
          "metadata": {},
          "output_type": "display_data"
        },
        {
          "data": {
            "text/html": [
              "Syncing run <strong><a href='https://wandb.ai/hpml-proj-deepchem/chemberta/runs/mt0cem3n' target=\"_blank\">AdaLoRA_Hyperparameter_Graph</a></strong> to <a href='https://wandb.ai/hpml-proj-deepchem/chemberta' target=\"_blank\">Weights & Biases</a> (<a href='https://wandb.me/developer-guide' target=\"_blank\">docs</a>)<br>"
            ],
            "text/plain": [
              "<IPython.core.display.HTML object>"
            ]
          },
          "metadata": {},
          "output_type": "display_data"
        },
        {
          "data": {
            "text/html": [
              " View project at <a href='https://wandb.ai/hpml-proj-deepchem/chemberta' target=\"_blank\">https://wandb.ai/hpml-proj-deepchem/chemberta</a>"
            ],
            "text/plain": [
              "<IPython.core.display.HTML object>"
            ]
          },
          "metadata": {},
          "output_type": "display_data"
        },
        {
          "data": {
            "text/html": [
              " View run at <a href='https://wandb.ai/hpml-proj-deepchem/chemberta/runs/mt0cem3n' target=\"_blank\">https://wandb.ai/hpml-proj-deepchem/chemberta/runs/mt0cem3n</a>"
            ],
            "text/plain": [
              "<IPython.core.display.HTML object>"
            ]
          },
          "metadata": {},
          "output_type": "display_data"
        },
        {
          "data": {
            "text/html": [],
            "text/plain": [
              "<IPython.core.display.HTML object>"
            ]
          },
          "metadata": {},
          "output_type": "display_data"
        },
        {
          "data": {
            "text/html": [
              " View run <strong style=\"color:#cdcd00\">AdaLoRA_Hyperparameter_Graph</strong> at: <a href='https://wandb.ai/hpml-proj-deepchem/chemberta/runs/mt0cem3n' target=\"_blank\">https://wandb.ai/hpml-proj-deepchem/chemberta/runs/mt0cem3n</a><br> View project at: <a href='https://wandb.ai/hpml-proj-deepchem/chemberta' target=\"_blank\">https://wandb.ai/hpml-proj-deepchem/chemberta</a><br>Synced 5 W&B file(s), 1 media file(s), 2 artifact file(s) and 0 other file(s)"
            ],
            "text/plain": [
              "<IPython.core.display.HTML object>"
            ]
          },
          "metadata": {},
          "output_type": "display_data"
        },
        {
          "data": {
            "text/html": [
              "Find logs at: <code>./wandb/run-20250511_181846-mt0cem3n/logs</code>"
            ],
            "text/plain": [
              "<IPython.core.display.HTML object>"
            ]
          },
          "metadata": {},
          "output_type": "display_data"
        },
        {
          "data": {
            "application/vnd.google.colaboratory.intrinsic+json": {
              "summary": "{\n  \"name\": \"hyperparameter_tuning(\\\"AdaLoRA\\\")\",\n  \"rows\": 6,\n  \"fields\": [\n    {\n      \"column\": \"learning_rate\",\n      \"properties\": {\n        \"dtype\": \"number\",\n        \"std\": 0.00011004544515789829,\n        \"min\": 1e-05,\n        \"max\": 0.0003,\n        \"num_unique_values\": 6,\n        \"samples\": [\n          1e-05,\n          2e-05,\n          0.0003\n        ],\n        \"semantic_type\": \"\",\n        \"description\": \"\"\n      }\n    },\n    {\n      \"column\": \"test_accuracy\",\n      \"properties\": {\n        \"dtype\": \"number\",\n        \"std\": 0.0167789013803506,\n        \"min\": 0.9324324324324325,\n        \"max\": 0.9797297297297297,\n        \"num_unique_values\": 5,\n        \"samples\": [\n          0.9459459459459459,\n          0.9797297297297297,\n          0.9527027027027027\n        ],\n        \"semantic_type\": \"\",\n        \"description\": \"\"\n      }\n    },\n    {\n      \"column\": \"training_time\",\n      \"properties\": {\n        \"dtype\": \"number\",\n        \"std\": 0.0462240918425294,\n        \"min\": 32.02,\n        \"max\": 32.15,\n        \"num_unique_values\": 6,\n        \"samples\": [\n          32.07,\n          32.04,\n          32.15\n        ],\n        \"semantic_type\": \"\",\n        \"description\": \"\"\n      }\n    }\n  ]\n}",
              "type": "dataframe"
            },
            "text/html": [
              "\n",
              "  <div id=\"df-564fd804-7eb9-46d6-a58d-9a1948a234b5\" class=\"colab-df-container\">\n",
              "    <div>\n",
              "<style scoped>\n",
              "    .dataframe tbody tr th:only-of-type {\n",
              "        vertical-align: middle;\n",
              "    }\n",
              "\n",
              "    .dataframe tbody tr th {\n",
              "        vertical-align: top;\n",
              "    }\n",
              "\n",
              "    .dataframe thead th {\n",
              "        text-align: right;\n",
              "    }\n",
              "</style>\n",
              "<table border=\"1\" class=\"dataframe\">\n",
              "  <thead>\n",
              "    <tr style=\"text-align: right;\">\n",
              "      <th></th>\n",
              "      <th>learning_rate</th>\n",
              "      <th>test_accuracy</th>\n",
              "      <th>training_time</th>\n",
              "    </tr>\n",
              "  </thead>\n",
              "  <tbody>\n",
              "    <tr>\n",
              "      <th>0</th>\n",
              "      <td>0.00001</td>\n",
              "      <td>0.932432</td>\n",
              "      <td>32.07</td>\n",
              "    </tr>\n",
              "    <tr>\n",
              "      <th>1</th>\n",
              "      <td>0.00002</td>\n",
              "      <td>0.945946</td>\n",
              "      <td>32.04</td>\n",
              "    </tr>\n",
              "    <tr>\n",
              "      <th>2</th>\n",
              "      <td>0.00003</td>\n",
              "      <td>0.945946</td>\n",
              "      <td>32.09</td>\n",
              "    </tr>\n",
              "    <tr>\n",
              "      <th>3</th>\n",
              "      <td>0.00005</td>\n",
              "      <td>0.952703</td>\n",
              "      <td>32.10</td>\n",
              "    </tr>\n",
              "    <tr>\n",
              "      <th>4</th>\n",
              "      <td>0.00010</td>\n",
              "      <td>0.966216</td>\n",
              "      <td>32.02</td>\n",
              "    </tr>\n",
              "    <tr>\n",
              "      <th>5</th>\n",
              "      <td>0.00030</td>\n",
              "      <td>0.979730</td>\n",
              "      <td>32.15</td>\n",
              "    </tr>\n",
              "  </tbody>\n",
              "</table>\n",
              "</div>\n",
              "    <div class=\"colab-df-buttons\">\n",
              "\n",
              "  <div class=\"colab-df-container\">\n",
              "    <button class=\"colab-df-convert\" onclick=\"convertToInteractive('df-564fd804-7eb9-46d6-a58d-9a1948a234b5')\"\n",
              "            title=\"Convert this dataframe to an interactive table.\"\n",
              "            style=\"display:none;\">\n",
              "\n",
              "  <svg xmlns=\"http://www.w3.org/2000/svg\" height=\"24px\" viewBox=\"0 -960 960 960\">\n",
              "    <path d=\"M120-120v-720h720v720H120Zm60-500h600v-160H180v160Zm220 220h160v-160H400v160Zm0 220h160v-160H400v160ZM180-400h160v-160H180v160Zm440 0h160v-160H620v160ZM180-180h160v-160H180v160Zm440 0h160v-160H620v160Z\"/>\n",
              "  </svg>\n",
              "    </button>\n",
              "\n",
              "  <style>\n",
              "    .colab-df-container {\n",
              "      display:flex;\n",
              "      gap: 12px;\n",
              "    }\n",
              "\n",
              "    .colab-df-convert {\n",
              "      background-color: #E8F0FE;\n",
              "      border: none;\n",
              "      border-radius: 50%;\n",
              "      cursor: pointer;\n",
              "      display: none;\n",
              "      fill: #1967D2;\n",
              "      height: 32px;\n",
              "      padding: 0 0 0 0;\n",
              "      width: 32px;\n",
              "    }\n",
              "\n",
              "    .colab-df-convert:hover {\n",
              "      background-color: #E2EBFA;\n",
              "      box-shadow: 0px 1px 2px rgba(60, 64, 67, 0.3), 0px 1px 3px 1px rgba(60, 64, 67, 0.15);\n",
              "      fill: #174EA6;\n",
              "    }\n",
              "\n",
              "    .colab-df-buttons div {\n",
              "      margin-bottom: 4px;\n",
              "    }\n",
              "\n",
              "    [theme=dark] .colab-df-convert {\n",
              "      background-color: #3B4455;\n",
              "      fill: #D2E3FC;\n",
              "    }\n",
              "\n",
              "    [theme=dark] .colab-df-convert:hover {\n",
              "      background-color: #434B5C;\n",
              "      box-shadow: 0px 1px 3px 1px rgba(0, 0, 0, 0.15);\n",
              "      filter: drop-shadow(0px 1px 2px rgba(0, 0, 0, 0.3));\n",
              "      fill: #FFFFFF;\n",
              "    }\n",
              "  </style>\n",
              "\n",
              "    <script>\n",
              "      const buttonEl =\n",
              "        document.querySelector('#df-564fd804-7eb9-46d6-a58d-9a1948a234b5 button.colab-df-convert');\n",
              "      buttonEl.style.display =\n",
              "        google.colab.kernel.accessAllowed ? 'block' : 'none';\n",
              "\n",
              "      async function convertToInteractive(key) {\n",
              "        const element = document.querySelector('#df-564fd804-7eb9-46d6-a58d-9a1948a234b5');\n",
              "        const dataTable =\n",
              "          await google.colab.kernel.invokeFunction('convertToInteractive',\n",
              "                                                    [key], {});\n",
              "        if (!dataTable) return;\n",
              "\n",
              "        const docLinkHtml = 'Like what you see? Visit the ' +\n",
              "          '<a target=\"_blank\" href=https://colab.research.google.com/notebooks/data_table.ipynb>data table notebook</a>'\n",
              "          + ' to learn more about interactive tables.';\n",
              "        element.innerHTML = '';\n",
              "        dataTable['output_type'] = 'display_data';\n",
              "        await google.colab.output.renderOutput(dataTable, element);\n",
              "        const docLink = document.createElement('div');\n",
              "        docLink.innerHTML = docLinkHtml;\n",
              "        element.appendChild(docLink);\n",
              "      }\n",
              "    </script>\n",
              "  </div>\n",
              "\n",
              "\n",
              "    <div id=\"df-887b0679-c2b3-49f1-bf18-5430814ea7ea\">\n",
              "      <button class=\"colab-df-quickchart\" onclick=\"quickchart('df-887b0679-c2b3-49f1-bf18-5430814ea7ea')\"\n",
              "                title=\"Suggest charts\"\n",
              "                style=\"display:none;\">\n",
              "\n",
              "<svg xmlns=\"http://www.w3.org/2000/svg\" height=\"24px\"viewBox=\"0 0 24 24\"\n",
              "     width=\"24px\">\n",
              "    <g>\n",
              "        <path d=\"M19 3H5c-1.1 0-2 .9-2 2v14c0 1.1.9 2 2 2h14c1.1 0 2-.9 2-2V5c0-1.1-.9-2-2-2zM9 17H7v-7h2v7zm4 0h-2V7h2v10zm4 0h-2v-4h2v4z\"/>\n",
              "    </g>\n",
              "</svg>\n",
              "      </button>\n",
              "\n",
              "<style>\n",
              "  .colab-df-quickchart {\n",
              "      --bg-color: #E8F0FE;\n",
              "      --fill-color: #1967D2;\n",
              "      --hover-bg-color: #E2EBFA;\n",
              "      --hover-fill-color: #174EA6;\n",
              "      --disabled-fill-color: #AAA;\n",
              "      --disabled-bg-color: #DDD;\n",
              "  }\n",
              "\n",
              "  [theme=dark] .colab-df-quickchart {\n",
              "      --bg-color: #3B4455;\n",
              "      --fill-color: #D2E3FC;\n",
              "      --hover-bg-color: #434B5C;\n",
              "      --hover-fill-color: #FFFFFF;\n",
              "      --disabled-bg-color: #3B4455;\n",
              "      --disabled-fill-color: #666;\n",
              "  }\n",
              "\n",
              "  .colab-df-quickchart {\n",
              "    background-color: var(--bg-color);\n",
              "    border: none;\n",
              "    border-radius: 50%;\n",
              "    cursor: pointer;\n",
              "    display: none;\n",
              "    fill: var(--fill-color);\n",
              "    height: 32px;\n",
              "    padding: 0;\n",
              "    width: 32px;\n",
              "  }\n",
              "\n",
              "  .colab-df-quickchart:hover {\n",
              "    background-color: var(--hover-bg-color);\n",
              "    box-shadow: 0 1px 2px rgba(60, 64, 67, 0.3), 0 1px 3px 1px rgba(60, 64, 67, 0.15);\n",
              "    fill: var(--button-hover-fill-color);\n",
              "  }\n",
              "\n",
              "  .colab-df-quickchart-complete:disabled,\n",
              "  .colab-df-quickchart-complete:disabled:hover {\n",
              "    background-color: var(--disabled-bg-color);\n",
              "    fill: var(--disabled-fill-color);\n",
              "    box-shadow: none;\n",
              "  }\n",
              "\n",
              "  .colab-df-spinner {\n",
              "    border: 2px solid var(--fill-color);\n",
              "    border-color: transparent;\n",
              "    border-bottom-color: var(--fill-color);\n",
              "    animation:\n",
              "      spin 1s steps(1) infinite;\n",
              "  }\n",
              "\n",
              "  @keyframes spin {\n",
              "    0% {\n",
              "      border-color: transparent;\n",
              "      border-bottom-color: var(--fill-color);\n",
              "      border-left-color: var(--fill-color);\n",
              "    }\n",
              "    20% {\n",
              "      border-color: transparent;\n",
              "      border-left-color: var(--fill-color);\n",
              "      border-top-color: var(--fill-color);\n",
              "    }\n",
              "    30% {\n",
              "      border-color: transparent;\n",
              "      border-left-color: var(--fill-color);\n",
              "      border-top-color: var(--fill-color);\n",
              "      border-right-color: var(--fill-color);\n",
              "    }\n",
              "    40% {\n",
              "      border-color: transparent;\n",
              "      border-right-color: var(--fill-color);\n",
              "      border-top-color: var(--fill-color);\n",
              "    }\n",
              "    60% {\n",
              "      border-color: transparent;\n",
              "      border-right-color: var(--fill-color);\n",
              "    }\n",
              "    80% {\n",
              "      border-color: transparent;\n",
              "      border-right-color: var(--fill-color);\n",
              "      border-bottom-color: var(--fill-color);\n",
              "    }\n",
              "    90% {\n",
              "      border-color: transparent;\n",
              "      border-bottom-color: var(--fill-color);\n",
              "    }\n",
              "  }\n",
              "</style>\n",
              "\n",
              "      <script>\n",
              "        async function quickchart(key) {\n",
              "          const quickchartButtonEl =\n",
              "            document.querySelector('#' + key + ' button');\n",
              "          quickchartButtonEl.disabled = true;  // To prevent multiple clicks.\n",
              "          quickchartButtonEl.classList.add('colab-df-spinner');\n",
              "          try {\n",
              "            const charts = await google.colab.kernel.invokeFunction(\n",
              "                'suggestCharts', [key], {});\n",
              "          } catch (error) {\n",
              "            console.error('Error during call to suggestCharts:', error);\n",
              "          }\n",
              "          quickchartButtonEl.classList.remove('colab-df-spinner');\n",
              "          quickchartButtonEl.classList.add('colab-df-quickchart-complete');\n",
              "        }\n",
              "        (() => {\n",
              "          let quickchartButtonEl =\n",
              "            document.querySelector('#df-887b0679-c2b3-49f1-bf18-5430814ea7ea button');\n",
              "          quickchartButtonEl.style.display =\n",
              "            google.colab.kernel.accessAllowed ? 'block' : 'none';\n",
              "        })();\n",
              "      </script>\n",
              "    </div>\n",
              "\n",
              "    </div>\n",
              "  </div>\n"
            ],
            "text/plain": [
              "   learning_rate  test_accuracy  training_time\n",
              "0        0.00001       0.932432          32.07\n",
              "1        0.00002       0.945946          32.04\n",
              "2        0.00003       0.945946          32.09\n",
              "3        0.00005       0.952703          32.10\n",
              "4        0.00010       0.966216          32.02\n",
              "5        0.00030       0.979730          32.15"
            ]
          },
          "execution_count": 21,
          "metadata": {},
          "output_type": "execute_result"
        },
        {
          "data": {
            "image/png": "[encoded data removed]",
            "text/plain": [
              "<Figure size 1000x600 with 1 Axes>"
            ]
          },
          "metadata": {},
          "output_type": "display_data"
        }
      ],
      "source": [
        "hyperparameter_tuning(\"AdaLoRA\")"
      ]
    },
    {
      "cell_type": "code",
      "execution_count": 22,
      "metadata": {
        "colab": {
          "base_uri": "https://localhost:8080/",
          "height": 1000
        },
        "id": "Szf3L-BDXmqT",
        "outputId": "8d0aedab-2712-40f4-f16c-b61ba3ee2da6"
      },
      "outputs": [
        {
          "name": "stderr",
          "output_type": "stream",
          "text": [
            "Some weights of RobertaForSequenceClassification were not initialized from the model checkpoint at seyonec/ChemBERTa-zinc-base-v1 and are newly initialized: ['classifier.dense.bias', 'classifier.dense.weight', 'classifier.out_proj.bias', 'classifier.out_proj.weight']\n",
            "You should probably TRAIN this model on a down-stream task to be able to use it for predictions and inference.\n"
          ]
        },
        {
          "name": "stdout",
          "output_type": "stream",
          "text": [
            "\n",
            "--- AdaLoRA - Trainable Parameters ---\n",
            "Trainable: 1606335 | All: 45730290 | % Trained: 3.51\n"
          ]
        },
        {
          "data": {
            "text/html": [
              "Tracking run with wandb version 0.19.10"
            ],
            "text/plain": [
              "<IPython.core.display.HTML object>"
            ]
          },
          "metadata": {},
          "output_type": "display_data"
        },
        {
          "data": {
            "text/html": [
              "Run data is saved locally in <code>/content/wandb/run-20250511_181854-hbbba3qs</code>"
            ],
            "text/plain": [
              "<IPython.core.display.HTML object>"
            ]
          },
          "metadata": {},
          "output_type": "display_data"
        },
        {
          "data": {
            "text/html": [
              "Syncing run <strong><a href='https://wandb.ai/hpml-proj-deepchem/chemberta/runs/hbbba3qs' target=\"_blank\">Training_AdaLoRA_lr0.0003</a></strong> to <a href='https://wandb.ai/hpml-proj-deepchem/chemberta' target=\"_blank\">Weights & Biases</a> (<a href='https://wandb.me/developer-guide' target=\"_blank\">docs</a>)<br>"
            ],
            "text/plain": [
              "<IPython.core.display.HTML object>"
            ]
          },
          "metadata": {},
          "output_type": "display_data"
        },
        {
          "data": {
            "text/html": [
              " View project at <a href='https://wandb.ai/hpml-proj-deepchem/chemberta' target=\"_blank\">https://wandb.ai/hpml-proj-deepchem/chemberta</a>"
            ],
            "text/plain": [
              "<IPython.core.display.HTML object>"
            ]
          },
          "metadata": {},
          "output_type": "display_data"
        },
        {
          "data": {
            "text/html": [
              " View run at <a href='https://wandb.ai/hpml-proj-deepchem/chemberta/runs/hbbba3qs' target=\"_blank\">https://wandb.ai/hpml-proj-deepchem/chemberta/runs/hbbba3qs</a>"
            ],
            "text/plain": [
              "<IPython.core.display.HTML object>"
            ]
          },
          "metadata": {},
          "output_type": "display_data"
        },
        {
          "name": "stdout",
          "output_type": "stream",
          "text": [
            "\n",
            "--- AdaLoRA ---\n"
          ]
        },
        {
          "name": "stderr",
          "output_type": "stream",
          "text": [
            "Epoch 1/5: 100%|██████████| 37/37 [00:06<00:00,  6.16it/s, loss=0.135]\n",
            "Evaluating: 100%|██████████| 5/5 [00:00<00:00, 14.96it/s]\n"
          ]
        },
        {
          "name": "stdout",
          "output_type": "stream",
          "text": [
            "Epoch 1 | Training Time: 6.01 s | Train Loss: 0.2263 | Val Loss: 0.1247 | Val Accuracy: 0.9595\n"
          ]
        },
        {
          "name": "stderr",
          "output_type": "stream",
          "text": [
            "Epoch 2/5: 100%|██████████| 37/37 [00:06<00:00,  6.13it/s, loss=0.184]\n",
            "Evaluating: 100%|██████████| 5/5 [00:00<00:00, 15.11it/s]\n"
          ]
        },
        {
          "name": "stdout",
          "output_type": "stream",
          "text": [
            "Epoch 2 | Training Time: 6.04 s | Train Loss: 0.1245 | Val Loss: 0.1079 | Val Accuracy: 0.9662\n"
          ]
        },
        {
          "name": "stderr",
          "output_type": "stream",
          "text": [
            "Epoch 3/5: 100%|██████████| 37/37 [00:06<00:00,  6.08it/s, loss=0.0236]\n",
            "Evaluating: 100%|██████████| 5/5 [00:00<00:00, 15.07it/s]\n"
          ]
        },
        {
          "name": "stdout",
          "output_type": "stream",
          "text": [
            "Epoch 3 | Training Time: 6.09 s | Train Loss: 0.0854 | Val Loss: 0.0814 | Val Accuracy: 0.9730\n"
          ]
        },
        {
          "name": "stderr",
          "output_type": "stream",
          "text": [
            "Epoch 4/5: 100%|██████████| 37/37 [00:06<00:00,  6.05it/s, loss=0.139]\n",
            "Evaluating: 100%|██████████| 5/5 [00:00<00:00, 14.91it/s]\n"
          ]
        },
        {
          "name": "stdout",
          "output_type": "stream",
          "text": [
            "Epoch 4 | Training Time: 6.12 s | Train Loss: 0.0624 | Val Loss: 0.0775 | Val Accuracy: 0.9797\n"
          ]
        },
        {
          "name": "stderr",
          "output_type": "stream",
          "text": [
            "Epoch 5/5: 100%|██████████| 37/37 [00:06<00:00,  6.04it/s, loss=0.106]\n",
            "Evaluating: 100%|██████████| 5/5 [00:00<00:00, 15.06it/s]\n"
          ]
        },
        {
          "name": "stdout",
          "output_type": "stream",
          "text": [
            "Epoch 5 | Training Time: 6.13 s | Train Loss: 0.0542 | Val Loss: 0.1062 | Val Accuracy: 0.9595\n"
          ]
        },
        {
          "name": "stderr",
          "output_type": "stream",
          "text": [
            "Evaluating: 100%|██████████| 5/5 [00:00<00:00, 15.10it/s]\n"
          ]
        },
        {
          "name": "stdout",
          "output_type": "stream",
          "text": [
            "\n",
            "--- AdaLoRA ---\n",
            "Training time: 32.09 seconds\n",
            "Test Loss: 0.0647 | Test Accuracy: 0.9797\n"
          ]
        },
        {
          "data": {
            "text/html": [],
            "text/plain": [
              "<IPython.core.display.HTML object>"
            ]
          },
          "metadata": {},
          "output_type": "display_data"
        },
        {
          "data": {
            "text/html": [
              "<br>    <style><br>        .wandb-row {<br>            display: flex;<br>            flex-direction: row;<br>            flex-wrap: wrap;<br>            justify-content: flex-start;<br>            width: 100%;<br>        }<br>        .wandb-col {<br>            display: flex;<br>            flex-direction: column;<br>            flex-basis: 100%;<br>            flex: 1;<br>            padding: 10px;<br>        }<br>    </style><br><div class=\"wandb-row\"><div class=\"wandb-col\"><h3>Run history:</h3><br/><table class=\"wandb\"><tr><td>epoch</td><td>▁▃▅▆█</td></tr><tr><td>epoch_time</td><td>▁▃▆▇█</td></tr><tr><td>parameter_efficiency</td><td>▁▁</td></tr><tr><td>test_accuracy</td><td>▁</td></tr><tr><td>test_loss</td><td>▁</td></tr><tr><td>total_parameters</td><td>▁▁</td></tr><tr><td>train_loss</td><td>█▄▂▁▁</td></tr><tr><td>trainable_parameters</td><td>▁▁</td></tr><tr><td>training_time</td><td>▁</td></tr><tr><td>val_accuracy</td><td>▁▃▆█▁</td></tr><tr><td>val_loss</td><td>█▆▂▁▅</td></tr></table><br/></div><div class=\"wandb-col\"><h3>Run summary:</h3><br/><table class=\"wandb\"><tr><td>epoch</td><td>5</td></tr><tr><td>epoch_time</td><td>6.13462</td></tr><tr><td>model_type</td><td>AdaLoRA</td></tr><tr><td>parameter_efficiency</td><td>3.51</td></tr><tr><td>test_accuracy</td><td>0.97973</td></tr><tr><td>test_loss</td><td>0.06471</td></tr><tr><td>total_parameters</td><td>45730290</td></tr><tr><td>train_loss</td><td>0.05421</td></tr><tr><td>trainable_parameters</td><td>1606335</td></tr><tr><td>training_time</td><td>32.09</td></tr><tr><td>val_accuracy</td><td>0.95946</td></tr><tr><td>val_loss</td><td>0.10617</td></tr></table><br/></div></div>"
            ],
            "text/plain": [
              "<IPython.core.display.HTML object>"
            ]
          },
          "metadata": {},
          "output_type": "display_data"
        },
        {
          "data": {
            "text/html": [
              " View run <strong style=\"color:#cdcd00\">Training_AdaLoRA_lr0.0003</strong> at: <a href='https://wandb.ai/hpml-proj-deepchem/chemberta/runs/hbbba3qs' target=\"_blank\">https://wandb.ai/hpml-proj-deepchem/chemberta/runs/hbbba3qs</a><br> View project at: <a href='https://wandb.ai/hpml-proj-deepchem/chemberta' target=\"_blank\">https://wandb.ai/hpml-proj-deepchem/chemberta</a><br>Synced 5 W&B file(s), 2 media file(s), 4 artifact file(s) and 0 other file(s)"
            ],
            "text/plain": [
              "<IPython.core.display.HTML object>"
            ]
          },
          "metadata": {},
          "output_type": "display_data"
        },
        {
          "data": {
            "text/html": [
              "Find logs at: <code>./wandb/run-20250511_181854-hbbba3qs/logs</code>"
            ],
            "text/plain": [
              "<IPython.core.display.HTML object>"
            ]
          },
          "metadata": {},
          "output_type": "display_data"
        }
      ],
      "source": [
        "tokenizer = AutoTokenizer.from_pretrained(MODEL_NAME)\n",
        "model_adalora = setup_adalora_model(MODEL_NAME)\n",
        "BEST_LR_ADALORA = 3e-4\n",
        "adalora_metrics = train_and_profile(model_adalora, tokenizer, \"AdaLoRA\", lr = BEST_LR_LORA)"
      ]
    },
    {
      "cell_type": "code",
      "execution_count": 23,
      "metadata": {
        "colab": {
          "base_uri": "https://localhost:8080/",
          "height": 1000
        },
        "id": "uqqveyh2y5Nn",
        "outputId": "372d422b-55e4-4903-f786-2d7fcb5c571c"
      },
      "outputs": [
        {
          "data": {
            "text/html": [
              "Tracking run with wandb version 0.19.10"
            ],
            "text/plain": [
              "<IPython.core.display.HTML object>"
            ]
          },
          "metadata": {},
          "output_type": "display_data"
        },
        {
          "data": {
            "text/html": [
              "Run data is saved locally in <code>/content/wandb/run-20250511_181934-nxxb94zq</code>"
            ],
            "text/plain": [
              "<IPython.core.display.HTML object>"
            ]
          },
          "metadata": {},
          "output_type": "display_data"
        },
        {
          "data": {
            "text/html": [
              "Syncing run <strong><a href='https://wandb.ai/hpml-proj-deepchem/chemberta/runs/nxxb94zq' target=\"_blank\">AdaLoRA_Loss_Curves</a></strong> to <a href='https://wandb.ai/hpml-proj-deepchem/chemberta' target=\"_blank\">Weights & Biases</a> (<a href='https://wandb.me/developer-guide' target=\"_blank\">docs</a>)<br>"
            ],
            "text/plain": [
              "<IPython.core.display.HTML object>"
            ]
          },
          "metadata": {},
          "output_type": "display_data"
        },
        {
          "data": {
            "text/html": [
              " View project at <a href='https://wandb.ai/hpml-proj-deepchem/chemberta' target=\"_blank\">https://wandb.ai/hpml-proj-deepchem/chemberta</a>"
            ],
            "text/plain": [
              "<IPython.core.display.HTML object>"
            ]
          },
          "metadata": {},
          "output_type": "display_data"
        },
        {
          "data": {
            "text/html": [
              " View run at <a href='https://wandb.ai/hpml-proj-deepchem/chemberta/runs/nxxb94zq' target=\"_blank\">https://wandb.ai/hpml-proj-deepchem/chemberta/runs/nxxb94zq</a>"
            ],
            "text/plain": [
              "<IPython.core.display.HTML object>"
            ]
          },
          "metadata": {},
          "output_type": "display_data"
        },
        {
          "data": {
            "image/png": "[encoded data removed]",
            "text/plain": [
              "<Figure size 1000x600 with 1 Axes>"
            ]
          },
          "metadata": {},
          "output_type": "display_data"
        },
        {
          "data": {
            "text/html": [],
            "text/plain": [
              "<IPython.core.display.HTML object>"
            ]
          },
          "metadata": {},
          "output_type": "display_data"
        },
        {
          "data": {
            "text/html": [
              "<br>    <style><br>        .wandb-row {<br>            display: flex;<br>            flex-direction: row;<br>            flex-wrap: wrap;<br>            justify-content: flex-start;<br>            width: 100%;<br>        }<br>        .wandb-col {<br>            display: flex;<br>            flex-direction: column;<br>            flex-basis: 100%;<br>            flex: 1;<br>            padding: 10px;<br>        }<br>    </style><br><div class=\"wandb-row\"><div class=\"wandb-col\"><h3>Run history:</h3><br/><table class=\"wandb\"><tr><td>epoch</td><td>▁▃▅▆█</td></tr><tr><td>train_loss</td><td>█▄▂▁▁</td></tr><tr><td>val_loss</td><td>█▆▂▁▅</td></tr></table><br/></div><div class=\"wandb-col\"><h3>Run summary:</h3><br/><table class=\"wandb\"><tr><td>epoch</td><td>5</td></tr><tr><td>train_loss</td><td>0.05421</td></tr><tr><td>val_loss</td><td>0.10617</td></tr></table><br/></div></div>"
            ],
            "text/plain": [
              "<IPython.core.display.HTML object>"
            ]
          },
          "metadata": {},
          "output_type": "display_data"
        },
        {
          "data": {
            "text/html": [
              " View run <strong style=\"color:#cdcd00\">AdaLoRA_Loss_Curves</strong> at: <a href='https://wandb.ai/hpml-proj-deepchem/chemberta/runs/nxxb94zq' target=\"_blank\">https://wandb.ai/hpml-proj-deepchem/chemberta/runs/nxxb94zq</a><br> View project at: <a href='https://wandb.ai/hpml-proj-deepchem/chemberta' target=\"_blank\">https://wandb.ai/hpml-proj-deepchem/chemberta</a><br>Synced 5 W&B file(s), 1 media file(s), 0 artifact file(s) and 0 other file(s)"
            ],
            "text/plain": [
              "<IPython.core.display.HTML object>"
            ]
          },
          "metadata": {},
          "output_type": "display_data"
        },
        {
          "data": {
            "text/html": [
              "Find logs at: <code>./wandb/run-20250511_181934-nxxb94zq/logs</code>"
            ],
            "text/plain": [
              "<IPython.core.display.HTML object>"
            ]
          },
          "metadata": {},
          "output_type": "display_data"
        },
        {
          "data": {
            "text/plain": [
              "<Figure size 640x480 with 0 Axes>"
            ]
          },
          "metadata": {},
          "output_type": "display_data"
        }
      ],
      "source": [
        "# Graph training and validation losses from adalora_metrics\n",
        "train_losses = adalora_metrics['train_losses']\n",
        "val_losses = adalora_metrics['val_losses']\n",
        "epochs = range(1, len(train_losses) + 1)\n",
        "\n",
        "wandb.init(\n",
        "    project=\"chemberta\",\n",
        "    entity=\"hpml-proj-deepchem\",\n",
        "    name=\"AdaLoRA_Loss_Curves\"\n",
        ")\n",
        "\n",
        "plt.figure(figsize=(10, 6))\n",
        "plt.plot(epochs, train_losses, label='Training Loss', color='teal')\n",
        "plt.plot(epochs, val_losses, label='Validation Loss', color='orange')\n",
        "plt.xlabel('Epochs')\n",
        "plt.ylabel('Loss')\n",
        "plt.title('Training and Validation Loss over Epochs for AdaLoRA')\n",
        "plt.legend()\n",
        "plt.grid(True)\n",
        "plt.show()\n",
        "\n",
        "wandb.log({\"adalora_train_val_loss\": wandb.Image(plt)})\n",
        "\n",
        "for i in range(len(train_losses)):\n",
        "    wandb.log({\n",
        "        \"epoch\": i+1,\n",
        "        \"train_loss\": train_losses[i],\n",
        "        \"val_loss\": val_losses[i]\n",
        "    })\n",
        "\n",
        "wandb.finish()"
      ]
    },
    {
      "cell_type": "code",
      "execution_count": 24,
      "metadata": {
        "id": "MuN6Du-cykRj"
      },
      "outputs": [],
      "source": [
        "def compare_models(baseline_metrics, lora_metrics, adalora_metrics):\n",
        "    \"\"\"\n",
        "    Log a bar chart comparing training time, test accuracy, and parameter count for all models.\n",
        "    \"\"\"\n",
        "    wandb.init(project=\"chemberta\", entity=\"hpml-proj-deepchem\", name=\"Model_Comparison\")\n",
        "    models = [\"Baseline\", \"LoRA\", \"AdaLoRA\"]\n",
        "    test_accuracies = [baseline_metrics[\"test_accuracy\"], lora_metrics[\"test_accuracy\"], adalora_metrics[\"test_accuracy\"]]\n",
        "    training_times = [baseline_metrics[\"training_time\"], lora_metrics[\"training_time\"], adalora_metrics[\"training_time\"]]\n",
        "    param_counts = [baseline_metrics[\"trainable_parameters\"], lora_metrics[\"trainable_parameters\"], adalora_metrics[\"trainable_parameters\"]]\n",
        "\n",
        "    fig, axs = plt.subplots(1, 3, figsize=(18, 5))\n",
        "    axs[0].bar(models, test_accuracies, color=[\"blue\", \"green\", \"red\"])\n",
        "    axs[0].set_title(\"Test Accuracy\")\n",
        "    axs[0].set_ylabel(\"Accuracy\")\n",
        "    axs[1].bar(models, training_times, color=[\"blue\", \"green\", \"red\"])\n",
        "    axs[1].set_title(\"Training Time (s)\")\n",
        "    axs[1].set_ylabel(\"Seconds\")\n",
        "    axs[2].bar(models, param_counts, color=[\"blue\", \"green\", \"red\"])\n",
        "    axs[2].set_title(\"Trainable Parameters\")\n",
        "    axs[2].set_ylabel(\"Count\")\n",
        "    axs[2].set_yscale(\"log\")\n",
        "    plt.tight_layout()\n",
        "    wandb.log({\"model_comparison\": wandb.Image(fig)})\n",
        "    wandb.finish()\n"
      ]
    },
    {
      "cell_type": "code",
      "execution_count": 25,
      "metadata": {
        "colab": {
          "base_uri": "https://localhost:8080/",
          "height": 471
        },
        "id": "McmEu5cQuHR5",
        "outputId": "fa72334c-c314-478a-b253-8dc70f65f63f"
      },
      "outputs": [
        {
          "data": {
            "text/html": [
              "Tracking run with wandb version 0.19.10"
            ],
            "text/plain": [
              "<IPython.core.display.HTML object>"
            ]
          },
          "metadata": {},
          "output_type": "display_data"
        },
        {
          "data": {
            "text/html": [
              "Run data is saved locally in <code>/content/wandb/run-20250511_181938-p7gr5o1y</code>"
            ],
            "text/plain": [
              "<IPython.core.display.HTML object>"
            ]
          },
          "metadata": {},
          "output_type": "display_data"
        },
        {
          "data": {
            "text/html": [
              "Syncing run <strong><a href='https://wandb.ai/hpml-proj-deepchem/chemberta/runs/p7gr5o1y' target=\"_blank\">Model_Comparison</a></strong> to <a href='https://wandb.ai/hpml-proj-deepchem/chemberta' target=\"_blank\">Weights & Biases</a> (<a href='https://wandb.me/developer-guide' target=\"_blank\">docs</a>)<br>"
            ],
            "text/plain": [
              "<IPython.core.display.HTML object>"
            ]
          },
          "metadata": {},
          "output_type": "display_data"
        },
        {
          "data": {
            "text/html": [
              " View project at <a href='https://wandb.ai/hpml-proj-deepchem/chemberta' target=\"_blank\">https://wandb.ai/hpml-proj-deepchem/chemberta</a>"
            ],
            "text/plain": [
              "<IPython.core.display.HTML object>"
            ]
          },
          "metadata": {},
          "output_type": "display_data"
        },
        {
          "data": {
            "text/html": [
              " View run at <a href='https://wandb.ai/hpml-proj-deepchem/chemberta/runs/p7gr5o1y' target=\"_blank\">https://wandb.ai/hpml-proj-deepchem/chemberta/runs/p7gr5o1y</a>"
            ],
            "text/plain": [
              "<IPython.core.display.HTML object>"
            ]
          },
          "metadata": {},
          "output_type": "display_data"
        },
        {
          "data": {
            "text/html": [],
            "text/plain": [
              "<IPython.core.display.HTML object>"
            ]
          },
          "metadata": {},
          "output_type": "display_data"
        },
        {
          "data": {
            "text/html": [
              " View run <strong style=\"color:#cdcd00\">Model_Comparison</strong> at: <a href='https://wandb.ai/hpml-proj-deepchem/chemberta/runs/p7gr5o1y' target=\"_blank\">https://wandb.ai/hpml-proj-deepchem/chemberta/runs/p7gr5o1y</a><br> View project at: <a href='https://wandb.ai/hpml-proj-deepchem/chemberta' target=\"_blank\">https://wandb.ai/hpml-proj-deepchem/chemberta</a><br>Synced 5 W&B file(s), 1 media file(s), 0 artifact file(s) and 0 other file(s)"
            ],
            "text/plain": [
              "<IPython.core.display.HTML object>"
            ]
          },
          "metadata": {},
          "output_type": "display_data"
        },
        {
          "data": {
            "text/html": [
              "Find logs at: <code>./wandb/run-20250511_181938-p7gr5o1y/logs</code>"
            ],
            "text/plain": [
              "<IPython.core.display.HTML object>"
            ]
          },
          "metadata": {},
          "output_type": "display_data"
        },
        {
          "data": {
            "image/png": "[encoded data removed]",
            "text/plain": [
              "<Figure size 1800x500 with 3 Axes>"
            ]
          },
          "metadata": {},
          "output_type": "display_data"
        }
      ],
      "source": [
        "compare_models(baseline_metrics, lora_metrics, adalora_metrics)"
      ]
    },
    {
      "cell_type": "code",
      "execution_count": 25,
      "metadata": {
        "id": "W26hS7kk0Eye"
      },
      "outputs": [],
      "source": []
    }
  ],
  "metadata": {
    "accelerator": "GPU",
    "colab": {
      "gpuType": "L4",
      "provenance": []
    },
    "kernelspec": {
      "display_name": "Python 3",
      "name": "python3"
    },
    "language_info": {
      "name": "python"
    }
  },
  "nbformat": 4,
  "nbformat_minor": 0
}
