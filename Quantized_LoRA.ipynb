{
  "nbformat": 4,
  "nbformat_minor": 0,
  "metadata": {
    "colab": {
      "provenance": [],
      "gpuType": "L4"
    },
    "kernelspec": {
      "name": "python3",
      "display_name": "Python 3"
    },
    "language_info": {
      "name": "python"
    },
    "accelerator": "GPU"
  },
  "cells": [
    {
      "cell_type": "code",
      "source": [
        "\n",
        "\"\"\"\n",
        "quantized_lora.ipynb\n",
        "\n",
        "This script benchmarks the effect of post-training quantization with ONNX on ChemBERTa models fine-tuned with LoRA adapters.\n",
        "\n",
        "Key Features:\n",
        "- Fine-tunes ChemBERTa with LoRA on the ClinTox dataset.\n",
        "- Runs three training regimes:\n",
        "    1. Baseline (no post-training quantization)\n",
        "    2. Quantized (with post-training quantization)\n",
        "- Measures and compares test accuracy, inference time, and model size.\n",
        "- Plots and logs all metrics for easy comparison.\n",
        "\n",
        "This script is useful for demonstrating the real-world speedup and efficiency gains possible with post-training quantization.\n",
        "\"\"\"\n",
        ""
      ],
      "metadata": {
        "id": "ZJCQ4tCMTTEn"
      },
      "execution_count": null,
      "outputs": []
    },
    {
      "cell_type": "code",
      "execution_count": null,
      "metadata": {
        "id": "m7ANaq05Ehz_"
      },
      "outputs": [],
      "source": [
        "%%capture\n",
        "!pip install deepchem transformers peft onnxruntime onnx"
      ]
    },
    {
      "cell_type": "code",
      "source": [
        "import warnings\n",
        "import logging\n",
        "\n",
        "warnings.filterwarnings(\"ignore\", category=DeprecationWarning)\n",
        "logging.getLogger(\"deepchem\").setLevel(logging.ERROR)"
      ],
      "metadata": {
        "id": "cvk_P30uEytj"
      },
      "execution_count": null,
      "outputs": []
    },
    {
      "cell_type": "code",
      "source": [
        "import torch\n",
        "import torch.nn as nn\n",
        "import torch.optim as optim\n",
        "from transformers import AutoTokenizer, AutoModelForSequenceClassification\n",
        "from torch.utils.data import Dataset, DataLoader, random_split\n",
        "import numpy as np\n",
        "from tqdm import tqdm\n",
        "import matplotlib.pyplot as plt\n",
        "import os\n",
        "import deepchem as dc\n",
        "from peft import get_peft_model, LoraConfig, TaskType\n",
        "import time\n",
        "from sklearn.metrics import accuracy_score\n",
        "from rdkit import Chem\n",
        "import onnxruntime as ort\n",
        "from onnxruntime.quantization import quantize_dynamic, QuantType\n",
        "import random\n",
        "\n",
        "random.seed(10)"
      ],
      "metadata": {
        "id": "c-cd2htkEoYk"
      },
      "execution_count": null,
      "outputs": []
    },
    {
      "cell_type": "code",
      "source": [
        "import wandb\n",
        "wandb.login()"
      ],
      "metadata": {
        "colab": {
          "base_uri": "https://localhost:8080/"
        },
        "id": "osPgC8lSE5x9",
        "outputId": "51f24de0-a33a-4c04-ac7a-9903d7dfc26e"
      },
      "execution_count": null,
      "outputs": [
        {
          "output_type": "execute_result",
          "data": {
            "text/plain": [
              "True"
            ]
          },
          "metadata": {},
          "execution_count": 19
        }
      ]
    },
    {
      "cell_type": "code",
      "source": [
        "# Define paths and parameters\n",
        "MODEL_NAME = \"seyonec/ChemBERTa-zinc-base-v1\"\n",
        "MAX_LENGTH = 128\n",
        "BATCH_SIZE = 32\n",
        "EPOCHS = 5\n",
        "LEARNING_RATE = 3e-4\n",
        "\n",
        "# LoRA Configuration\n",
        "LORA_R = 8  # Rank of LoRA\n",
        "LORA_ALPHA = 16\n",
        "LORA_DROPOUT = 0.1"
      ],
      "metadata": {
        "id": "D6okUAyZErW7"
      },
      "execution_count": null,
      "outputs": []
    },
    {
      "cell_type": "code",
      "source": [
        "class ClinToxDataset(Dataset):\n",
        "    def __init__(self, data_path, tokenizer, split='train', max_length=128):\n",
        "        self.tokenizer = tokenizer\n",
        "        self.max_length = max_length\n",
        "        self.split = split\n",
        "\n",
        "        # Load ClinTox dataset from DeepChem\n",
        "        tasks, datasets, transformers = dc.molnet.load_clintox()\n",
        "        train_dataset, valid_dataset, test_dataset = datasets\n",
        "\n",
        "        # Convert to SMILES and labels\n",
        "        self.smiles_train, self.labels_train = self.remove_invalid_smiles(train_dataset.ids, train_dataset.y)\n",
        "        self.smiles_valid, self.labels_valid = self.remove_invalid_smiles(valid_dataset.ids, valid_dataset.y)\n",
        "        self.smiles_test, self.labels_test = self.remove_invalid_smiles(test_dataset.ids, test_dataset.y)\n",
        "\n",
        "        # Set active split\n",
        "        if split == 'train':\n",
        "            self.smiles = self.smiles_train\n",
        "            self.labels = self.labels_train\n",
        "        elif split == 'valid':\n",
        "            self.smiles = self.smiles_valid\n",
        "            self.labels = self.labels_valid\n",
        "        elif split == 'test':\n",
        "            self.smiles = self.smiles_test\n",
        "            self.labels = self.labels_test\n",
        "        else:\n",
        "            raise ValueError(\"Invalid split. Use 'train', 'valid', or 'test'.\")\n",
        "\n",
        "    def __len__(self):\n",
        "        return len(self.smiles)\n",
        "\n",
        "    def __getitem__(self, idx):\n",
        "        smiles = self.smiles[idx]\n",
        "        label = self.labels[idx]\n",
        "\n",
        "        encoding = self.tokenizer(\n",
        "            smiles,\n",
        "            return_tensors=\"pt\",\n",
        "            max_length=self.max_length,\n",
        "            padding=\"max_length\",\n",
        "            truncation=True\n",
        "        )\n",
        "\n",
        "        return {\n",
        "            'input_ids': encoding['input_ids'].squeeze(),\n",
        "            'attention_mask': encoding['attention_mask'].squeeze(),\n",
        "            'labels': torch.tensor(label, dtype=torch.float)\n",
        "        }\n",
        "\n",
        "    def remove_invalid_smiles(self, smiles, labels):\n",
        "        valid_indices = []\n",
        "        for i, smile in enumerate(smiles):\n",
        "            try:\n",
        "                mol = Chem.MolFromSmiles(smile)\n",
        "                if mol is not None:\n",
        "                    valid_indices.append(i)\n",
        "            except:\n",
        "                pass\n",
        "\n",
        "        return smiles[valid_indices], labels[valid_indices]"
      ],
      "metadata": {
        "id": "bsRwSyDeEuzD"
      },
      "execution_count": null,
      "outputs": []
    },
    {
      "cell_type": "code",
      "source": [
        "def setup_lora_model(model_name):\n",
        "    \"\"\"\n",
        "    Set up a model with LoRA configuration\n",
        "    \"\"\"\n",
        "    model = AutoModelForSequenceClassification.from_pretrained(\n",
        "        model_name,\n",
        "        num_labels=2,  # Binary classification for ClinTox\n",
        "        return_dict=True\n",
        "    )\n",
        "\n",
        "    peft_config = LoraConfig(\n",
        "        task_type=TaskType.SEQ_CLS,\n",
        "        inference_mode=False,\n",
        "        r=LORA_R,\n",
        "        lora_alpha=LORA_ALPHA,\n",
        "        lora_dropout=LORA_DROPOUT,\n",
        "        target_modules=[\"query\", \"value\"]  # Target attention modules\n",
        "    )\n",
        "\n",
        "    model = get_peft_model(model, peft_config)\n",
        "    return model"
      ],
      "metadata": {
        "id": "UjwQY4ggE9sX"
      },
      "execution_count": null,
      "outputs": []
    },
    {
      "cell_type": "code",
      "source": [
        "def train(model, tokenizer):\n",
        "\n",
        "    wandb.init(\n",
        "        project=\"chemberta\",\n",
        "        entity=\"hpml-proj-deepchem\",\n",
        "        name=\"LoRA_Training_inQuantization\",\n",
        "        config={\n",
        "            \"model_name\": MODEL_NAME,\n",
        "            \"batch_size\": BATCH_SIZE,\n",
        "            \"epochs\": EPOCHS,\n",
        "            \"learning_rate\": LEARNING_RATE,\n",
        "            \"lora_r\": LORA_R,\n",
        "            \"lora_alpha\": LORA_ALPHA,\n",
        "            \"lora_dropout\": LORA_DROPOUT\n",
        "        }\n",
        "    )\n",
        "\n",
        "    # Track model training\n",
        "    wandb.watch(model, log=\"all\", log_freq=10)\n",
        "\n",
        "    # Create dataset for train split\n",
        "    train_dataset = ClinToxDataset(\"clintox\", tokenizer, split=\"train\", max_length=MAX_LENGTH)\n",
        "\n",
        "    # Create dataloader\n",
        "    train_dataloader = DataLoader(train_dataset, batch_size=BATCH_SIZE, shuffle=True)\n",
        "\n",
        "    optimizer = optim.AdamW(model.parameters(), lr=LEARNING_RATE)\n",
        "    criterion = nn.BCEWithLogitsLoss()\n",
        "    device = torch.device(\"cuda\" if torch.cuda.is_available() else \"cpu\")\n",
        "    model.to(device)\n",
        "\n",
        "    for epoch in range(EPOCHS):\n",
        "        model.train()\n",
        "        total_train_loss = 0\n",
        "        progress_bar = tqdm(train_dataloader, desc=f\"Epoch {epoch+1}/{EPOCHS}\")\n",
        "\n",
        "        for batch in progress_bar:\n",
        "            input_ids = batch['input_ids'].to(device)\n",
        "            attention_mask = batch['attention_mask'].to(device)\n",
        "            labels = batch['labels'].to(device)\n",
        "\n",
        "            outputs = model(input_ids=input_ids, attention_mask=attention_mask)\n",
        "            logits = outputs.logits\n",
        "\n",
        "            loss = criterion(logits, labels)\n",
        "\n",
        "            optimizer.zero_grad()\n",
        "            loss.backward()\n",
        "            optimizer.step()\n",
        "\n",
        "            total_train_loss += loss.item()\n",
        "            progress_bar.set_postfix({\"loss\": loss.item()})\n",
        "\n",
        "        # Log training metrics per epoch\n",
        "        wandb.log({\n",
        "            \"epoch\": epoch + 1,\n",
        "            \"train_loss\": total_train_loss / len(train_dataloader)\n",
        "        })\n",
        "\n",
        "    wandb.finish()\n",
        "    return model"
      ],
      "metadata": {
        "id": "EdeEQJwJFD9J"
      },
      "execution_count": null,
      "outputs": []
    },
    {
      "cell_type": "code",
      "source": [
        "def export(model, tokenizer, save_path, quantize=False):\n",
        "    \"\"\"\n",
        "    Export a HuggingFace model to ONNX format. Optionally apply dynamic quantization.\n",
        "\n",
        "    Args:\n",
        "        model: Trained model to export.\n",
        "        tokenizer: Associated tokenizer.\n",
        "        save_path: Path to save the ONNX (or quantized) model.\n",
        "        quantize: Whether to apply dynamic quantization (QInt8).\n",
        "    \"\"\"\n",
        "\n",
        "    # Initialize wandb run\n",
        "    run_name = \"ONNX_Export_Quantized\" if quantize else \"ONNX_Export_Baseline\"\n",
        "    wandb.init(\n",
        "        project=\"chemberta\",\n",
        "        entity=\"hpml-proj-deepchem\",\n",
        "        name=run_name,\n",
        "        config={\n",
        "            \"model_name\": MODEL_NAME,\n",
        "            \"quantized\": quantize\n",
        "        }\n",
        "    )\n",
        "\n",
        "    model.eval()\n",
        "    device = torch.device(\"cuda\" if torch.cuda.is_available() else \"cpu\")\n",
        "    model.to(device)\n",
        "\n",
        "    # Example input for tracing\n",
        "    encoded = tokenizer(\n",
        "        \"CC(=O)Oc1ccccc1C(=O)O\",  # SMILES example\n",
        "        return_tensors=\"pt\",\n",
        "        padding=\"max_length\",\n",
        "        truncation=True,\n",
        "        max_length=128\n",
        "    )\n",
        "    input_ids = encoded[\"input_ids\"].to(device)\n",
        "    attention_mask = encoded[\"attention_mask\"].to(device)\n",
        "\n",
        "    # Use temp path if quantizing\n",
        "    export_path = \"temp_model.onnx\" if quantize else save_path\n",
        "\n",
        "    # Export to ONNX\n",
        "    torch.onnx.export(\n",
        "        model,\n",
        "        (input_ids, attention_mask),\n",
        "        export_path,\n",
        "        input_names=[\"input_ids\", \"attention_mask\"],\n",
        "        output_names=[\"logits\"],\n",
        "        dynamic_axes={\"input_ids\": {0: \"batch\"}, \"attention_mask\": {0: \"batch\"}},\n",
        "        opset_version=14\n",
        "    )\n",
        "\n",
        "    # Quantize if requested\n",
        "    if quantize:\n",
        "        quantize_dynamic(export_path, save_path, weight_type=QuantType.QInt8)\n",
        "        os.remove(export_path)\n",
        "        print(f\"Quantized model saved to: {save_path}\")\n",
        "    else:\n",
        "        print(f\"Baseline ONNX model saved to: {save_path}\")\n",
        "\n",
        "    # Report model size\n",
        "    size_mb = os.path.getsize(save_path) / (1024 * 1024)\n",
        "\n",
        "    # Log model size\n",
        "    wandb.log({\"model_size_mb\": size_mb})\n",
        "\n",
        "    # Log model as artifact\n",
        "    artifact = wandb.Artifact(\n",
        "        name=f\"onnx-model-{'quantized' if quantize else 'baseline'}\",\n",
        "        type=\"model\",\n",
        "        description=f\"ONNX {'Quantized' if quantize else 'Baseline'} Model\"\n",
        "    )\n",
        "    artifact.add_file(save_path)\n",
        "    wandb.log_artifact(artifact)\n",
        "\n",
        "    wandb.finish()\n",
        "\n",
        "    model_size = round(size_mb, 2)\n",
        "    print(f\"Model size: {model_size} MB\")\n",
        "\n",
        "    return model_size\n"
      ],
      "metadata": {
        "id": "wfWsS0dlIKLC"
      },
      "execution_count": null,
      "outputs": []
    },
    {
      "cell_type": "code",
      "source": [
        "def evaluate_onnx_model(onnx_path):\n",
        "\n",
        "    # Initialize wandb run\n",
        "    is_quantized = \"quant\" in onnx_path\n",
        "    run_name = \"Evaluation_Quantized\" if is_quantized else \"Evaluation_Baseline_Not_Quantized\"\n",
        "    wandb.init(\n",
        "        project=\"chemberta\",\n",
        "        entity=\"hpml-proj-deepchem\",\n",
        "        name=run_name,\n",
        "        config={\n",
        "            \"model_path\": onnx_path,\n",
        "            \"quantized\": is_quantized\n",
        "        }\n",
        "    )\n",
        "\n",
        "    session = ort.InferenceSession(onnx_path)\n",
        "\n",
        "    test_dataset = ClinToxDataset(\"clintox\", tokenizer, split=\"test\", max_length=MAX_LENGTH)\n",
        "    test_dataloader = DataLoader(test_dataset, batch_size=BATCH_SIZE, shuffle=False)\n",
        "\n",
        "    all_labels = []\n",
        "    all_preds = []\n",
        "\n",
        "    start_time = time.time()\n",
        "\n",
        "    for batch in test_dataloader:\n",
        "        input_ids = batch['input_ids'].numpy()\n",
        "        attention_mask = batch['attention_mask'].numpy()\n",
        "        labels = batch['labels'].numpy()\n",
        "\n",
        "        # Run inference with ONNX\n",
        "        ort_inputs = {\n",
        "            \"input_ids\": input_ids,\n",
        "            \"attention_mask\": attention_mask\n",
        "        }\n",
        "        ort_outs = session.run(None, ort_inputs)  # Returns a list; usually one element: logits\n",
        "\n",
        "        logits = ort_outs[0]\n",
        "        probs = 1 / (1 + np.exp(-logits))  # Sigmoid manually\n",
        "        preds = (probs > 0.5).astype(int)\n",
        "\n",
        "        all_preds.extend(preds)\n",
        "        all_labels.extend(labels)\n",
        "\n",
        "    end_time = time.time()\n",
        "    total_time = round(end_time - start_time, 2)\n",
        "\n",
        "    acc = round(accuracy_score(all_labels, all_preds), 4)\n",
        "\n",
        "    print(f\"Test Accuracy: {acc}\")\n",
        "    print(f\"Total Inference Time: {total_time} s\")\n",
        "\n",
        "    # Log metrics\n",
        "    wandb.log({\n",
        "        \"test_accuracy\": acc,\n",
        "        \"inference_time\": total_time\n",
        "    })\n",
        "\n",
        "    wandb.finish()\n",
        "\n",
        "    return acc, total_time"
      ],
      "metadata": {
        "id": "_ffxrKBCJ6--"
      },
      "execution_count": null,
      "outputs": []
    },
    {
      "cell_type": "code",
      "source": [
        "tokenizer = AutoTokenizer.from_pretrained(MODEL_NAME)\n",
        "model = setup_lora_model(MODEL_NAME)\n",
        "\n",
        "trained_model = train(model, tokenizer)"
      ],
      "metadata": {
        "colab": {
          "base_uri": "https://localhost:8080/",
          "height": 590
        },
        "id": "BuYQ7hFJQCRf",
        "outputId": "3ced3d52-e3a9-46ad-9add-203fd9ce8f9a"
      },
      "execution_count": null,
      "outputs": [
        {
          "output_type": "stream",
          "name": "stderr",
          "text": [
            "Some weights of RobertaForSequenceClassification were not initialized from the model checkpoint at seyonec/ChemBERTa-zinc-base-v1 and are newly initialized: ['classifier.dense.bias', 'classifier.dense.weight', 'classifier.out_proj.bias', 'classifier.out_proj.weight']\n",
            "You should probably TRAIN this model on a down-stream task to be able to use it for predictions and inference.\n"
          ]
        },
        {
          "output_type": "display_data",
          "data": {
            "text/plain": [
              "<IPython.core.display.HTML object>"
            ],
            "text/html": [
              "Tracking run with wandb version 0.19.10"
            ]
          },
          "metadata": {}
        },
        {
          "output_type": "display_data",
          "data": {
            "text/plain": [
              "<IPython.core.display.HTML object>"
            ],
            "text/html": [
              "Run data is saved locally in <code>/content/wandb/run-20250511_190314-r2mfghwq</code>"
            ]
          },
          "metadata": {}
        },
        {
          "output_type": "display_data",
          "data": {
            "text/plain": [
              "<IPython.core.display.HTML object>"
            ],
            "text/html": [
              "Syncing run <strong><a href='https://wandb.ai/hpml-proj-deepchem/chemberta/runs/r2mfghwq' target=\"_blank\">LoRA_Training_inQuantization</a></strong> to <a href='https://wandb.ai/hpml-proj-deepchem/chemberta' target=\"_blank\">Weights & Biases</a> (<a href='https://wandb.me/developer-guide' target=\"_blank\">docs</a>)<br>"
            ]
          },
          "metadata": {}
        },
        {
          "output_type": "display_data",
          "data": {
            "text/plain": [
              "<IPython.core.display.HTML object>"
            ],
            "text/html": [
              " View project at <a href='https://wandb.ai/hpml-proj-deepchem/chemberta' target=\"_blank\">https://wandb.ai/hpml-proj-deepchem/chemberta</a>"
            ]
          },
          "metadata": {}
        },
        {
          "output_type": "display_data",
          "data": {
            "text/plain": [
              "<IPython.core.display.HTML object>"
            ],
            "text/html": [
              " View run at <a href='https://wandb.ai/hpml-proj-deepchem/chemberta/runs/r2mfghwq' target=\"_blank\">https://wandb.ai/hpml-proj-deepchem/chemberta/runs/r2mfghwq</a>"
            ]
          },
          "metadata": {}
        },
        {
          "output_type": "stream",
          "name": "stderr",
          "text": [
            "Epoch 1/5: 100%|██████████| 37/37 [00:04<00:00,  7.43it/s, loss=0.0829]\n",
            "Epoch 2/5: 100%|██████████| 37/37 [00:05<00:00,  6.97it/s, loss=0.00667]\n",
            "Epoch 3/5: 100%|██████████| 37/37 [00:04<00:00,  7.63it/s, loss=0.0403]\n",
            "Epoch 4/5: 100%|██████████| 37/37 [00:04<00:00,  7.71it/s, loss=0.0114]\n",
            "Epoch 5/5: 100%|██████████| 37/37 [00:04<00:00,  7.61it/s, loss=0.00563]\n"
          ]
        },
        {
          "output_type": "display_data",
          "data": {
            "text/plain": [
              "<IPython.core.display.HTML object>"
            ],
            "text/html": []
          },
          "metadata": {}
        },
        {
          "output_type": "display_data",
          "data": {
            "text/plain": [
              "<IPython.core.display.HTML object>"
            ],
            "text/html": [
              "<br>    <style><br>        .wandb-row {<br>            display: flex;<br>            flex-direction: row;<br>            flex-wrap: wrap;<br>            justify-content: flex-start;<br>            width: 100%;<br>        }<br>        .wandb-col {<br>            display: flex;<br>            flex-direction: column;<br>            flex-basis: 100%;<br>            flex: 1;<br>            padding: 10px;<br>        }<br>    </style><br><div class=\"wandb-row\"><div class=\"wandb-col\"><h3>Run history:</h3><br/><table class=\"wandb\"><tr><td>epoch</td><td>▁▃▅▆█</td></tr><tr><td>train_loss</td><td>█▃▂▂▁</td></tr></table><br/></div><div class=\"wandb-col\"><h3>Run summary:</h3><br/><table class=\"wandb\"><tr><td>epoch</td><td>5</td></tr><tr><td>train_loss</td><td>0.04042</td></tr></table><br/></div></div>"
            ]
          },
          "metadata": {}
        },
        {
          "output_type": "display_data",
          "data": {
            "text/plain": [
              "<IPython.core.display.HTML object>"
            ],
            "text/html": [
              " View run <strong style=\"color:#cdcd00\">LoRA_Training_inQuantization</strong> at: <a href='https://wandb.ai/hpml-proj-deepchem/chemberta/runs/r2mfghwq' target=\"_blank\">https://wandb.ai/hpml-proj-deepchem/chemberta/runs/r2mfghwq</a><br> View project at: <a href='https://wandb.ai/hpml-proj-deepchem/chemberta' target=\"_blank\">https://wandb.ai/hpml-proj-deepchem/chemberta</a><br>Synced 5 W&B file(s), 0 media file(s), 0 artifact file(s) and 0 other file(s)"
            ]
          },
          "metadata": {}
        },
        {
          "output_type": "display_data",
          "data": {
            "text/plain": [
              "<IPython.core.display.HTML object>"
            ],
            "text/html": [
              "Find logs at: <code>./wandb/run-20250511_190314-r2mfghwq/logs</code>"
            ]
          },
          "metadata": {}
        }
      ]
    },
    {
      "cell_type": "code",
      "source": [
        "baseline_size = export(trained_model, tokenizer, save_path=\"model-baseline.onnx\", quantize=False)\n",
        "\n",
        "baseline_acc, baseline_time = evaluate_onnx_model(\"model-baseline.onnx\")"
      ],
      "metadata": {
        "colab": {
          "base_uri": "https://localhost:8080/",
          "height": 906
        },
        "id": "ZvSXUb9CR8nx",
        "outputId": "a961170d-95d5-4e66-99f2-1b154e559f5c"
      },
      "execution_count": null,
      "outputs": [
        {
          "output_type": "display_data",
          "data": {
            "text/plain": [
              "<IPython.core.display.HTML object>"
            ],
            "text/html": [
              "Tracking run with wandb version 0.19.10"
            ]
          },
          "metadata": {}
        },
        {
          "output_type": "display_data",
          "data": {
            "text/plain": [
              "<IPython.core.display.HTML object>"
            ],
            "text/html": [
              "Run data is saved locally in <code>/content/wandb/run-20250511_190344-rdvfzo0t</code>"
            ]
          },
          "metadata": {}
        },
        {
          "output_type": "display_data",
          "data": {
            "text/plain": [
              "<IPython.core.display.HTML object>"
            ],
            "text/html": [
              "Syncing run <strong><a href='https://wandb.ai/hpml-proj-deepchem/chemberta/runs/rdvfzo0t' target=\"_blank\">ONNX_Export_Baseline</a></strong> to <a href='https://wandb.ai/hpml-proj-deepchem/chemberta' target=\"_blank\">Weights & Biases</a> (<a href='https://wandb.me/developer-guide' target=\"_blank\">docs</a>)<br>"
            ]
          },
          "metadata": {}
        },
        {
          "output_type": "display_data",
          "data": {
            "text/plain": [
              "<IPython.core.display.HTML object>"
            ],
            "text/html": [
              " View project at <a href='https://wandb.ai/hpml-proj-deepchem/chemberta' target=\"_blank\">https://wandb.ai/hpml-proj-deepchem/chemberta</a>"
            ]
          },
          "metadata": {}
        },
        {
          "output_type": "display_data",
          "data": {
            "text/plain": [
              "<IPython.core.display.HTML object>"
            ],
            "text/html": [
              " View run at <a href='https://wandb.ai/hpml-proj-deepchem/chemberta/runs/rdvfzo0t' target=\"_blank\">https://wandb.ai/hpml-proj-deepchem/chemberta/runs/rdvfzo0t</a>"
            ]
          },
          "metadata": {}
        },
        {
          "output_type": "stream",
          "name": "stdout",
          "text": [
            "Baseline ONNX model saved to: model-baseline.onnx\n"
          ]
        },
        {
          "output_type": "display_data",
          "data": {
            "text/plain": [
              "<IPython.core.display.HTML object>"
            ],
            "text/html": []
          },
          "metadata": {}
        },
        {
          "output_type": "display_data",
          "data": {
            "text/plain": [
              "<IPython.core.display.HTML object>"
            ],
            "text/html": [
              "<br>    <style><br>        .wandb-row {<br>            display: flex;<br>            flex-direction: row;<br>            flex-wrap: wrap;<br>            justify-content: flex-start;<br>            width: 100%;<br>        }<br>        .wandb-col {<br>            display: flex;<br>            flex-direction: column;<br>            flex-basis: 100%;<br>            flex: 1;<br>            padding: 10px;<br>        }<br>    </style><br><div class=\"wandb-row\"><div class=\"wandb-col\"><h3>Run history:</h3><br/><table class=\"wandb\"><tr><td>model_size_mb</td><td>▁</td></tr></table><br/></div><div class=\"wandb-col\"><h3>Run summary:</h3><br/><table class=\"wandb\"><tr><td>model_size_mb</td><td>169.01791</td></tr></table><br/></div></div>"
            ]
          },
          "metadata": {}
        },
        {
          "output_type": "display_data",
          "data": {
            "text/plain": [
              "<IPython.core.display.HTML object>"
            ],
            "text/html": [
              " View run <strong style=\"color:#cdcd00\">ONNX_Export_Baseline</strong> at: <a href='https://wandb.ai/hpml-proj-deepchem/chemberta/runs/rdvfzo0t' target=\"_blank\">https://wandb.ai/hpml-proj-deepchem/chemberta/runs/rdvfzo0t</a><br> View project at: <a href='https://wandb.ai/hpml-proj-deepchem/chemberta' target=\"_blank\">https://wandb.ai/hpml-proj-deepchem/chemberta</a><br>Synced 5 W&B file(s), 0 media file(s), 2 artifact file(s) and 0 other file(s)"
            ]
          },
          "metadata": {}
        },
        {
          "output_type": "display_data",
          "data": {
            "text/plain": [
              "<IPython.core.display.HTML object>"
            ],
            "text/html": [
              "Find logs at: <code>./wandb/run-20250511_190344-rdvfzo0t/logs</code>"
            ]
          },
          "metadata": {}
        },
        {
          "output_type": "stream",
          "name": "stdout",
          "text": [
            "Model size: 169.02 MB\n"
          ]
        },
        {
          "output_type": "display_data",
          "data": {
            "text/plain": [
              "<IPython.core.display.HTML object>"
            ],
            "text/html": [
              "Tracking run with wandb version 0.19.10"
            ]
          },
          "metadata": {}
        },
        {
          "output_type": "display_data",
          "data": {
            "text/plain": [
              "<IPython.core.display.HTML object>"
            ],
            "text/html": [
              "Run data is saved locally in <code>/content/wandb/run-20250511_190403-qe3jxykp</code>"
            ]
          },
          "metadata": {}
        },
        {
          "output_type": "display_data",
          "data": {
            "text/plain": [
              "<IPython.core.display.HTML object>"
            ],
            "text/html": [
              "Syncing run <strong><a href='https://wandb.ai/hpml-proj-deepchem/chemberta/runs/qe3jxykp' target=\"_blank\">Evaluation_Baseline_Not_Quantized</a></strong> to <a href='https://wandb.ai/hpml-proj-deepchem/chemberta' target=\"_blank\">Weights & Biases</a> (<a href='https://wandb.me/developer-guide' target=\"_blank\">docs</a>)<br>"
            ]
          },
          "metadata": {}
        },
        {
          "output_type": "display_data",
          "data": {
            "text/plain": [
              "<IPython.core.display.HTML object>"
            ],
            "text/html": [
              " View project at <a href='https://wandb.ai/hpml-proj-deepchem/chemberta' target=\"_blank\">https://wandb.ai/hpml-proj-deepchem/chemberta</a>"
            ]
          },
          "metadata": {}
        },
        {
          "output_type": "display_data",
          "data": {
            "text/plain": [
              "<IPython.core.display.HTML object>"
            ],
            "text/html": [
              " View run at <a href='https://wandb.ai/hpml-proj-deepchem/chemberta/runs/qe3jxykp' target=\"_blank\">https://wandb.ai/hpml-proj-deepchem/chemberta/runs/qe3jxykp</a>"
            ]
          },
          "metadata": {}
        },
        {
          "output_type": "stream",
          "name": "stdout",
          "text": [
            "Test Accuracy: 0.9865\n",
            "Total Inference Time: 5.79 s\n"
          ]
        },
        {
          "output_type": "display_data",
          "data": {
            "text/plain": [
              "<IPython.core.display.HTML object>"
            ],
            "text/html": []
          },
          "metadata": {}
        },
        {
          "output_type": "display_data",
          "data": {
            "text/plain": [
              "<IPython.core.display.HTML object>"
            ],
            "text/html": [
              "<br>    <style><br>        .wandb-row {<br>            display: flex;<br>            flex-direction: row;<br>            flex-wrap: wrap;<br>            justify-content: flex-start;<br>            width: 100%;<br>        }<br>        .wandb-col {<br>            display: flex;<br>            flex-direction: column;<br>            flex-basis: 100%;<br>            flex: 1;<br>            padding: 10px;<br>        }<br>    </style><br><div class=\"wandb-row\"><div class=\"wandb-col\"><h3>Run history:</h3><br/><table class=\"wandb\"><tr><td>inference_time</td><td>▁</td></tr><tr><td>test_accuracy</td><td>▁</td></tr></table><br/></div><div class=\"wandb-col\"><h3>Run summary:</h3><br/><table class=\"wandb\"><tr><td>inference_time</td><td>5.79</td></tr><tr><td>test_accuracy</td><td>0.9865</td></tr></table><br/></div></div>"
            ]
          },
          "metadata": {}
        },
        {
          "output_type": "display_data",
          "data": {
            "text/plain": [
              "<IPython.core.display.HTML object>"
            ],
            "text/html": [
              " View run <strong style=\"color:#cdcd00\">Evaluation_Baseline_Not_Quantized</strong> at: <a href='https://wandb.ai/hpml-proj-deepchem/chemberta/runs/qe3jxykp' target=\"_blank\">https://wandb.ai/hpml-proj-deepchem/chemberta/runs/qe3jxykp</a><br> View project at: <a href='https://wandb.ai/hpml-proj-deepchem/chemberta' target=\"_blank\">https://wandb.ai/hpml-proj-deepchem/chemberta</a><br>Synced 5 W&B file(s), 0 media file(s), 0 artifact file(s) and 0 other file(s)"
            ]
          },
          "metadata": {}
        },
        {
          "output_type": "display_data",
          "data": {
            "text/plain": [
              "<IPython.core.display.HTML object>"
            ],
            "text/html": [
              "Find logs at: <code>./wandb/run-20250511_190403-qe3jxykp/logs</code>"
            ]
          },
          "metadata": {}
        }
      ]
    },
    {
      "cell_type": "code",
      "source": [
        "quantized_size = export(trained_model, tokenizer, save_path=\"model-quant.onnx\", quantize=True)\n",
        "\n",
        "quantized_acc, quantized_time = evaluate_onnx_model(\"model-quant.onnx\")"
      ],
      "metadata": {
        "colab": {
          "base_uri": "https://localhost:8080/",
          "height": 943
        },
        "id": "Kf3R0NNDKi_L",
        "outputId": "aba4b6d2-026c-4190-8f9f-a63d6d60cfbd"
      },
      "execution_count": null,
      "outputs": [
        {
          "output_type": "display_data",
          "data": {
            "text/plain": [
              "<IPython.core.display.HTML object>"
            ],
            "text/html": [
              "Tracking run with wandb version 0.19.10"
            ]
          },
          "metadata": {}
        },
        {
          "output_type": "display_data",
          "data": {
            "text/plain": [
              "<IPython.core.display.HTML object>"
            ],
            "text/html": [
              "Run data is saved locally in <code>/content/wandb/run-20250511_190412-9l3x03xa</code>"
            ]
          },
          "metadata": {}
        },
        {
          "output_type": "display_data",
          "data": {
            "text/plain": [
              "<IPython.core.display.HTML object>"
            ],
            "text/html": [
              "Syncing run <strong><a href='https://wandb.ai/hpml-proj-deepchem/chemberta/runs/9l3x03xa' target=\"_blank\">ONNX_Export_Quantized</a></strong> to <a href='https://wandb.ai/hpml-proj-deepchem/chemberta' target=\"_blank\">Weights & Biases</a> (<a href='https://wandb.me/developer-guide' target=\"_blank\">docs</a>)<br>"
            ]
          },
          "metadata": {}
        },
        {
          "output_type": "display_data",
          "data": {
            "text/plain": [
              "<IPython.core.display.HTML object>"
            ],
            "text/html": [
              " View project at <a href='https://wandb.ai/hpml-proj-deepchem/chemberta' target=\"_blank\">https://wandb.ai/hpml-proj-deepchem/chemberta</a>"
            ]
          },
          "metadata": {}
        },
        {
          "output_type": "display_data",
          "data": {
            "text/plain": [
              "<IPython.core.display.HTML object>"
            ],
            "text/html": [
              " View run at <a href='https://wandb.ai/hpml-proj-deepchem/chemberta/runs/9l3x03xa' target=\"_blank\">https://wandb.ai/hpml-proj-deepchem/chemberta/runs/9l3x03xa</a>"
            ]
          },
          "metadata": {}
        },
        {
          "output_type": "stream",
          "name": "stderr",
          "text": [
            "WARNING:root:Please consider to run pre-processing before quantization. Refer to example: https://github.com/microsoft/onnxruntime-inference-examples/blob/main/quantization/image_classification/cpu/ReadMe.md \n"
          ]
        },
        {
          "output_type": "stream",
          "name": "stdout",
          "text": [
            "Quantized model saved to: model-quant.onnx\n"
          ]
        },
        {
          "output_type": "display_data",
          "data": {
            "text/plain": [
              "<IPython.core.display.HTML object>"
            ],
            "text/html": []
          },
          "metadata": {}
        },
        {
          "output_type": "display_data",
          "data": {
            "text/plain": [
              "<IPython.core.display.HTML object>"
            ],
            "text/html": [
              "<br>    <style><br>        .wandb-row {<br>            display: flex;<br>            flex-direction: row;<br>            flex-wrap: wrap;<br>            justify-content: flex-start;<br>            width: 100%;<br>        }<br>        .wandb-col {<br>            display: flex;<br>            flex-direction: column;<br>            flex-basis: 100%;<br>            flex: 1;<br>            padding: 10px;<br>        }<br>    </style><br><div class=\"wandb-row\"><div class=\"wandb-col\"><h3>Run history:</h3><br/><table class=\"wandb\"><tr><td>model_size_mb</td><td>▁</td></tr></table><br/></div><div class=\"wandb-col\"><h3>Run summary:</h3><br/><table class=\"wandb\"><tr><td>model_size_mb</td><td>42.75441</td></tr></table><br/></div></div>"
            ]
          },
          "metadata": {}
        },
        {
          "output_type": "display_data",
          "data": {
            "text/plain": [
              "<IPython.core.display.HTML object>"
            ],
            "text/html": [
              " View run <strong style=\"color:#cdcd00\">ONNX_Export_Quantized</strong> at: <a href='https://wandb.ai/hpml-proj-deepchem/chemberta/runs/9l3x03xa' target=\"_blank\">https://wandb.ai/hpml-proj-deepchem/chemberta/runs/9l3x03xa</a><br> View project at: <a href='https://wandb.ai/hpml-proj-deepchem/chemberta' target=\"_blank\">https://wandb.ai/hpml-proj-deepchem/chemberta</a><br>Synced 5 W&B file(s), 0 media file(s), 2 artifact file(s) and 0 other file(s)"
            ]
          },
          "metadata": {}
        },
        {
          "output_type": "display_data",
          "data": {
            "text/plain": [
              "<IPython.core.display.HTML object>"
            ],
            "text/html": [
              "Find logs at: <code>./wandb/run-20250511_190412-9l3x03xa/logs</code>"
            ]
          },
          "metadata": {}
        },
        {
          "output_type": "stream",
          "name": "stdout",
          "text": [
            "Model size: 42.75 MB\n"
          ]
        },
        {
          "output_type": "display_data",
          "data": {
            "text/plain": [
              "<IPython.core.display.HTML object>"
            ],
            "text/html": [
              "Tracking run with wandb version 0.19.10"
            ]
          },
          "metadata": {}
        },
        {
          "output_type": "display_data",
          "data": {
            "text/plain": [
              "<IPython.core.display.HTML object>"
            ],
            "text/html": [
              "Run data is saved locally in <code>/content/wandb/run-20250511_190426-e7bml2c9</code>"
            ]
          },
          "metadata": {}
        },
        {
          "output_type": "display_data",
          "data": {
            "text/plain": [
              "<IPython.core.display.HTML object>"
            ],
            "text/html": [
              "Syncing run <strong><a href='https://wandb.ai/hpml-proj-deepchem/chemberta/runs/e7bml2c9' target=\"_blank\">Evaluation_Quantized</a></strong> to <a href='https://wandb.ai/hpml-proj-deepchem/chemberta' target=\"_blank\">Weights & Biases</a> (<a href='https://wandb.me/developer-guide' target=\"_blank\">docs</a>)<br>"
            ]
          },
          "metadata": {}
        },
        {
          "output_type": "display_data",
          "data": {
            "text/plain": [
              "<IPython.core.display.HTML object>"
            ],
            "text/html": [
              " View project at <a href='https://wandb.ai/hpml-proj-deepchem/chemberta' target=\"_blank\">https://wandb.ai/hpml-proj-deepchem/chemberta</a>"
            ]
          },
          "metadata": {}
        },
        {
          "output_type": "display_data",
          "data": {
            "text/plain": [
              "<IPython.core.display.HTML object>"
            ],
            "text/html": [
              " View run at <a href='https://wandb.ai/hpml-proj-deepchem/chemberta/runs/e7bml2c9' target=\"_blank\">https://wandb.ai/hpml-proj-deepchem/chemberta/runs/e7bml2c9</a>"
            ]
          },
          "metadata": {}
        },
        {
          "output_type": "stream",
          "name": "stdout",
          "text": [
            "Test Accuracy: 0.9865\n",
            "Total Inference Time: 1.74 s\n"
          ]
        },
        {
          "output_type": "display_data",
          "data": {
            "text/plain": [
              "<IPython.core.display.HTML object>"
            ],
            "text/html": []
          },
          "metadata": {}
        },
        {
          "output_type": "display_data",
          "data": {
            "text/plain": [
              "<IPython.core.display.HTML object>"
            ],
            "text/html": [
              "<br>    <style><br>        .wandb-row {<br>            display: flex;<br>            flex-direction: row;<br>            flex-wrap: wrap;<br>            justify-content: flex-start;<br>            width: 100%;<br>        }<br>        .wandb-col {<br>            display: flex;<br>            flex-direction: column;<br>            flex-basis: 100%;<br>            flex: 1;<br>            padding: 10px;<br>        }<br>    </style><br><div class=\"wandb-row\"><div class=\"wandb-col\"><h3>Run history:</h3><br/><table class=\"wandb\"><tr><td>inference_time</td><td>▁</td></tr><tr><td>test_accuracy</td><td>▁</td></tr></table><br/></div><div class=\"wandb-col\"><h3>Run summary:</h3><br/><table class=\"wandb\"><tr><td>inference_time</td><td>1.74</td></tr><tr><td>test_accuracy</td><td>0.9865</td></tr></table><br/></div></div>"
            ]
          },
          "metadata": {}
        },
        {
          "output_type": "display_data",
          "data": {
            "text/plain": [
              "<IPython.core.display.HTML object>"
            ],
            "text/html": [
              " View run <strong style=\"color:#cdcd00\">Evaluation_Quantized</strong> at: <a href='https://wandb.ai/hpml-proj-deepchem/chemberta/runs/e7bml2c9' target=\"_blank\">https://wandb.ai/hpml-proj-deepchem/chemberta/runs/e7bml2c9</a><br> View project at: <a href='https://wandb.ai/hpml-proj-deepchem/chemberta' target=\"_blank\">https://wandb.ai/hpml-proj-deepchem/chemberta</a><br>Synced 5 W&B file(s), 0 media file(s), 0 artifact file(s) and 0 other file(s)"
            ]
          },
          "metadata": {}
        },
        {
          "output_type": "display_data",
          "data": {
            "text/plain": [
              "<IPython.core.display.HTML object>"
            ],
            "text/html": [
              "Find logs at: <code>./wandb/run-20250511_190426-e7bml2c9/logs</code>"
            ]
          },
          "metadata": {}
        }
      ]
    },
    {
      "cell_type": "code",
      "source": [
        "def plot_model_comparison(baseline_metrics, quantized_metrics):\n",
        "    \"\"\"\n",
        "    Create a visualization comparing baseline and quantized models.\n",
        "\n",
        "    Args:\n",
        "        baseline_metrics: Dict with 'size_mb', 'accuracy', 'inference_time'\n",
        "        quantized_metrics: Dict with 'size_mb', 'accuracy', 'inference_time'\n",
        "    \"\"\"\n",
        "    # Initialize wandb\n",
        "    wandb.init(\n",
        "        project=\"chemberta\",\n",
        "        entity=\"hpml-proj-deepchem\",\n",
        "        name=\"Quantization_Model_Comparison_Visualization\"\n",
        "    )\n",
        "\n",
        "    # Extract metrics\n",
        "    models = [\"Baseline\", \"Quantized\"]\n",
        "    sizes = [baseline_metrics[\"size_mb\"], quantized_metrics[\"size_mb\"]]\n",
        "    accuracies = [baseline_metrics[\"accuracy\"], quantized_metrics[\"accuracy\"]]\n",
        "    times = [baseline_metrics[\"inference_time\"], quantized_metrics[\"inference_time\"]]\n",
        "\n",
        "    # Create subplots\n",
        "    fig, axs = plt.subplots(1, 3, figsize=(18, 5))\n",
        "\n",
        "    # Model Size subplot\n",
        "    axs[0].bar(models, sizes, color=['blue', 'green'])\n",
        "    axs[0].set_title('Model Size (MB)')\n",
        "    axs[0].set_ylabel('Size (MB)')\n",
        "\n",
        "    # Test Accuracy subplot\n",
        "    axs[1].bar(models, accuracies, color=['blue', 'green'])\n",
        "    axs[1].set_title('Test Accuracy')\n",
        "    axs[1].set_ylabel('Accuracy')\n",
        "    axs[1].set_ylim(0, 1)\n",
        "\n",
        "    # Inference Time subplot\n",
        "    axs[2].bar(models, times, color=['blue', 'green'])\n",
        "    axs[2].set_title('Inference Time (s)')\n",
        "    axs[2].set_ylabel('Time (seconds)')\n",
        "\n",
        "    plt.tight_layout()\n",
        "\n",
        "    # Log plot to wandb\n",
        "    wandb.log({\"model_comparison\": wandb.Image(fig)})\n",
        "\n",
        "    # Also log as table\n",
        "    comparison_table = wandb.Table(columns=[\"Model\", \"Size (MB)\", \"Accuracy\", \"Inference Time (s)\"])\n",
        "    comparison_table.add_data(\"Baseline\", baseline_metrics[\"size_mb\"], baseline_metrics[\"accuracy\"], baseline_metrics[\"inference_time\"])\n",
        "    comparison_table.add_data(\"Quantized\", quantized_metrics[\"size_mb\"], quantized_metrics[\"accuracy\"], quantized_metrics[\"inference_time\"])\n",
        "    wandb.log({\"comparison_table\": comparison_table})\n",
        "\n",
        "    wandb.finish()\n",
        "\n",
        "    plt.show()"
      ],
      "metadata": {
        "id": "Yg_1ju3OeBeQ"
      },
      "execution_count": null,
      "outputs": []
    },
    {
      "cell_type": "code",
      "source": [
        "baseline_metrics = {\n",
        "    \"size_mb\": baseline_size,\n",
        "    \"accuracy\": baseline_acc,\n",
        "    \"inference_time\": baseline_time\n",
        "}\n",
        "\n",
        "quantized_metrics = {\n",
        "    \"size_mb\": quantized_size,\n",
        "    \"accuracy\": quantized_acc,\n",
        "    \"inference_time\": quantized_time\n",
        "}\n",
        "\n",
        "plot_model_comparison(baseline_metrics, quantized_metrics)"
      ],
      "metadata": {
        "colab": {
          "base_uri": "https://localhost:8080/",
          "height": 405
        },
        "id": "YZ9A1CSnekOJ",
        "outputId": "f8ed5612-b3f3-4887-c398-c9d845141349"
      },
      "execution_count": null,
      "outputs": [
        {
          "output_type": "display_data",
          "data": {
            "text/plain": [
              "<IPython.core.display.HTML object>"
            ],
            "text/html": [
              "Tracking run with wandb version 0.19.10"
            ]
          },
          "metadata": {}
        },
        {
          "output_type": "display_data",
          "data": {
            "text/plain": [
              "<IPython.core.display.HTML object>"
            ],
            "text/html": [
              "Run data is saved locally in <code>/content/wandb/run-20250511_190431-6j7h3zy1</code>"
            ]
          },
          "metadata": {}
        },
        {
          "output_type": "display_data",
          "data": {
            "text/plain": [
              "<IPython.core.display.HTML object>"
            ],
            "text/html": [
              "Syncing run <strong><a href='https://wandb.ai/hpml-proj-deepchem/chemberta/runs/6j7h3zy1' target=\"_blank\">Quantization_Model_Comparison_Visualization</a></strong> to <a href='https://wandb.ai/hpml-proj-deepchem/chemberta' target=\"_blank\">Weights & Biases</a> (<a href='https://wandb.me/developer-guide' target=\"_blank\">docs</a>)<br>"
            ]
          },
          "metadata": {}
        },
        {
          "output_type": "display_data",
          "data": {
            "text/plain": [
              "<IPython.core.display.HTML object>"
            ],
            "text/html": [
              " View project at <a href='https://wandb.ai/hpml-proj-deepchem/chemberta' target=\"_blank\">https://wandb.ai/hpml-proj-deepchem/chemberta</a>"
            ]
          },
          "metadata": {}
        },
        {
          "output_type": "display_data",
          "data": {
            "text/plain": [
              "<IPython.core.display.HTML object>"
            ],
            "text/html": [
              " View run at <a href='https://wandb.ai/hpml-proj-deepchem/chemberta/runs/6j7h3zy1' target=\"_blank\">https://wandb.ai/hpml-proj-deepchem/chemberta/runs/6j7h3zy1</a>"
            ]
          },
          "metadata": {}
        },
        {
          "output_type": "display_data",
          "data": {
            "text/plain": [
              "<IPython.core.display.HTML object>"
            ],
            "text/html": []
          },
          "metadata": {}
        },
        {
          "output_type": "display_data",
          "data": {
            "text/plain": [
              "<IPython.core.display.HTML object>"
            ],
            "text/html": [
              " View run <strong style=\"color:#cdcd00\">Quantization_Model_Comparison_Visualization</strong> at: <a href='https://wandb.ai/hpml-proj-deepchem/chemberta/runs/6j7h3zy1' target=\"_blank\">https://wandb.ai/hpml-proj-deepchem/chemberta/runs/6j7h3zy1</a><br> View project at: <a href='https://wandb.ai/hpml-proj-deepchem/chemberta' target=\"_blank\">https://wandb.ai/hpml-proj-deepchem/chemberta</a><br>Synced 5 W&B file(s), 2 media file(s), 2 artifact file(s) and 0 other file(s)"
            ]
          },
          "metadata": {}
        },
        {
          "output_type": "display_data",
          "data": {
            "text/plain": [
              "<IPython.core.display.HTML object>"
            ],
            "text/html": [
              "Find logs at: <code>./wandb/run-20250511_190431-6j7h3zy1/logs</code>"
            ]
          },
          "metadata": {}
        },
        {
          "output_type": "display_data",
          "data": {
            "text/plain": [
              "<Figure size 1800x500 with 3 Axes>"
            ],
            "image/png": "[encoded data removed]"
          },
          "metadata": {}
        }
      ]
    },
    {
      "cell_type": "code",
      "source": [],
      "metadata": {
        "id": "IEe9VXRse0B1"
      },
      "execution_count": null,
      "outputs": []
    }
  ]
}