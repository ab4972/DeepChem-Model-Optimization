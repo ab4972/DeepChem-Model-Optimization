{
  "nbformat": 4,
  "nbformat_minor": 0,
  "metadata": {
    "colab": {
      "provenance": [],
      "gpuType": "T4"
    },
    "kernelspec": {
      "name": "python3",
      "display_name": "Python 3"
    },
    "language_info": {
      "name": "python"
    },
    "accelerator": "GPU"
  },
  "cells": [
    {
      "cell_type": "code",
      "source": [
        "!pip install rdkit --pre deepchem"
      ],
      "metadata": {
        "colab": {
          "base_uri": "https://localhost:8080/"
        },
        "id": "zeL_lou2i3ct",
        "outputId": "313aba9d-cdea-4133-88ac-e341c6acc40e"
      },
      "execution_count": 1,
      "outputs": [
        {
          "output_type": "stream",
          "name": "stdout",
          "text": [
            "Collecting rdkit\n",
            "  Downloading rdkit-2024.9.6-cp311-cp311-manylinux_2_28_x86_64.whl.metadata (4.0 kB)\n",
            "Collecting deepchem\n",
            "  Downloading deepchem-2.8.1.dev20250418173725-py3-none-any.whl.metadata (2.0 kB)\n",
            "Requirement already satisfied: numpy in /usr/local/lib/python3.11/dist-packages (from rdkit) (2.0.2)\n",
            "Requirement already satisfied: Pillow in /usr/local/lib/python3.11/dist-packages (from rdkit) (11.1.0)\n",
            "Requirement already satisfied: joblib in /usr/local/lib/python3.11/dist-packages (from deepchem) (1.4.2)\n",
            "Collecting numpy (from rdkit)\n",
            "  Downloading numpy-1.26.4-cp311-cp311-manylinux_2_17_x86_64.manylinux2014_x86_64.whl.metadata (61 kB)\n",
            "\u001b[2K     \u001b[90m━━━━━━━━━━━━━━━━━━━━━━━━━━━━━━━━━━━━━━━\u001b[0m \u001b[32m61.0/61.0 kB\u001b[0m \u001b[31m429.4 kB/s\u001b[0m eta \u001b[36m0:00:00\u001b[0m\n",
            "\u001b[?25hRequirement already satisfied: pandas in /usr/local/lib/python3.11/dist-packages (from deepchem) (2.2.2)\n",
            "Requirement already satisfied: scikit-learn in /usr/local/lib/python3.11/dist-packages (from deepchem) (1.6.1)\n",
            "Requirement already satisfied: sympy in /usr/local/lib/python3.11/dist-packages (from deepchem) (1.13.1)\n",
            "Requirement already satisfied: scipy>=1.10.1 in /usr/local/lib/python3.11/dist-packages (from deepchem) (1.14.1)\n",
            "Requirement already satisfied: python-dateutil>=2.8.2 in /usr/local/lib/python3.11/dist-packages (from pandas->deepchem) (2.8.2)\n",
            "Requirement already satisfied: pytz>=2020.1 in /usr/local/lib/python3.11/dist-packages (from pandas->deepchem) (2025.2)\n",
            "Requirement already satisfied: tzdata>=2022.7 in /usr/local/lib/python3.11/dist-packages (from pandas->deepchem) (2025.2)\n",
            "Requirement already satisfied: threadpoolctl>=3.1.0 in /usr/local/lib/python3.11/dist-packages (from scikit-learn->deepchem) (3.6.0)\n",
            "Requirement already satisfied: mpmath<1.4,>=1.1.0 in /usr/local/lib/python3.11/dist-packages (from sympy->deepchem) (1.3.0)\n",
            "Requirement already satisfied: six>=1.5 in /usr/local/lib/python3.11/dist-packages (from python-dateutil>=2.8.2->pandas->deepchem) (1.17.0)\n",
            "Downloading rdkit-2024.9.6-cp311-cp311-manylinux_2_28_x86_64.whl (34.3 MB)\n",
            "\u001b[2K   \u001b[90m━━━━━━━━━━━━━━━━━━━━━━━━━━━━━━━━━━━━━━━━\u001b[0m \u001b[32m34.3/34.3 MB\u001b[0m \u001b[31m15.2 MB/s\u001b[0m eta \u001b[36m0:00:00\u001b[0m\n",
            "\u001b[?25hDownloading deepchem-2.8.1.dev20250418173725-py3-none-any.whl (1.3 MB)\n",
            "\u001b[2K   \u001b[90m━━━━━━━━━━━━━━━━━━━━━━━━━━━━━━━━━━━━━━━━\u001b[0m \u001b[32m1.3/1.3 MB\u001b[0m \u001b[31m14.4 MB/s\u001b[0m eta \u001b[36m0:00:00\u001b[0m\n",
            "\u001b[?25hDownloading numpy-1.26.4-cp311-cp311-manylinux_2_17_x86_64.manylinux2014_x86_64.whl (18.3 MB)\n",
            "\u001b[2K   \u001b[90m━━━━━━━━━━━━━━━━━━━━━━━━━━━━━━━━━━━━━━━━\u001b[0m \u001b[32m18.3/18.3 MB\u001b[0m \u001b[31m35.3 MB/s\u001b[0m eta \u001b[36m0:00:00\u001b[0m\n",
            "\u001b[?25hInstalling collected packages: numpy, rdkit, deepchem\n",
            "  Attempting uninstall: numpy\n",
            "    Found existing installation: numpy 2.0.2\n",
            "    Uninstalling numpy-2.0.2:\n",
            "      Successfully uninstalled numpy-2.0.2\n",
            "\u001b[31mERROR: pip's dependency resolver does not currently take into account all the packages that are installed. This behaviour is the source of the following dependency conflicts.\n",
            "thinc 8.3.6 requires numpy<3.0.0,>=2.0.0, but you have numpy 1.26.4 which is incompatible.\u001b[0m\u001b[31m\n",
            "\u001b[0mSuccessfully installed deepchem-2.8.1.dev20250418173725 numpy-1.26.4 rdkit-2024.9.6\n"
          ]
        }
      ]
    },
    {
      "cell_type": "code",
      "source": [
        "\"\"\"\n",
        "DeepChem Model Optimization with PyTorch\n",
        "\n",
        "This script demonstrates how to optimize a DeepChem model using various PyTorch techniques:\n",
        "1. Using torch.compile for improved performance\n",
        "2. Analyzing the compilation process and Inductor backend\n",
        "3. Identifying bottlenecks in the training pipeline\n",
        "4. Applying optimization techniques like mixed precision, quantization, and knowledge distillation\n",
        "\"\"\"\n",
        "\n",
        "import deepchem as dc\n",
        "import numpy as np\n",
        "import torch\n",
        "import time\n",
        "import os\n",
        "import matplotlib.pyplot as plt\n",
        "from torch.profiler import profile, record_function, ProfilerActivity\n",
        "import deepchem.models.losses as losses\n",
        "from deepchem.models.optimizers import Adam\n",
        "\n",
        "from torch.amp import autocast, GradScaler"
      ],
      "metadata": {
        "colab": {
          "base_uri": "https://localhost:8080/"
        },
        "id": "wFYnQ4uavwnU",
        "outputId": "bdf655cc-6dc8-47d1-ead4-fd733c2a38f6"
      },
      "execution_count": 1,
      "outputs": [
        {
          "output_type": "stream",
          "name": "stderr",
          "text": [
            "WARNING:deepchem.feat.molecule_featurizers.rdkit_descriptors:No normalization for SPS. Feature removed!\n",
            "WARNING:deepchem.feat.molecule_featurizers.rdkit_descriptors:No normalization for AvgIpc. Feature removed!\n",
            "WARNING:deepchem.feat.molecule_featurizers.rdkit_descriptors:No normalization for NumAmideBonds. Feature removed!\n",
            "WARNING:deepchem.feat.molecule_featurizers.rdkit_descriptors:No normalization for NumAtomStereoCenters. Feature removed!\n",
            "WARNING:deepchem.feat.molecule_featurizers.rdkit_descriptors:No normalization for NumBridgeheadAtoms. Feature removed!\n",
            "WARNING:deepchem.feat.molecule_featurizers.rdkit_descriptors:No normalization for NumHeterocycles. Feature removed!\n",
            "WARNING:deepchem.feat.molecule_featurizers.rdkit_descriptors:No normalization for NumSpiroAtoms. Feature removed!\n",
            "WARNING:deepchem.feat.molecule_featurizers.rdkit_descriptors:No normalization for NumUnspecifiedAtomStereoCenters. Feature removed!\n",
            "WARNING:deepchem.feat.molecule_featurizers.rdkit_descriptors:No normalization for Phi. Feature removed!\n",
            "\u001b[34m\u001b[1mwandb\u001b[0m: \u001b[33mWARNING\u001b[0m W&B installed but not logged in.  Run `wandb login` or set the WANDB_API_KEY env variable.\n",
            "WARNING:tensorflow:From /usr/local/lib/python3.11/dist-packages/tensorflow/python/util/deprecation.py:588: calling function (from tensorflow.python.eager.polymorphic_function.polymorphic_function) with experimental_relax_shapes is deprecated and will be removed in a future version.\n",
            "Instructions for updating:\n",
            "experimental_relax_shapes is deprecated, use reduce_retracing instead\n",
            "\u001b[34m\u001b[1mwandb\u001b[0m: \u001b[33mWARNING\u001b[0m W&B installed but not logged in.  Run `wandb login` or set the WANDB_API_KEY env variable.\n",
            "WARNING:deepchem.models.torch_models:Skipped loading modules with pytorch-geometric dependency, missing a dependency. No module named 'torch_geometric'\n",
            "WARNING:deepchem.models:Skipped loading modules with pytorch-geometric dependency, missing a dependency. cannot import name 'DMPNN' from 'deepchem.models.torch_models' (/usr/local/lib/python3.11/dist-packages/deepchem/models/torch_models/__init__.py)\n",
            "WARNING:deepchem.models:Skipped loading modules with pytorch-lightning dependency, missing a dependency. No module named 'lightning'\n",
            "WARNING:deepchem.models:Skipped loading some Jax models, missing a dependency. No module named 'haiku'\n"
          ]
        }
      ]
    },
    {
      "cell_type": "code",
      "source": [
        "import wandb\n",
        "wandb.init(project=\"prototype\",\n",
        "           config={\n",
        "               \"model\": \"MultitaskClassifier\",\n",
        "               \"optimizations\": [\"torch.compile\", \"quantization\", \"distillation\"],\n",
        "               \"dataset\": \"Tox21\"\n",
        "           })"
      ],
      "metadata": {
        "colab": {
          "base_uri": "https://localhost:8080/",
          "height": 319
        },
        "id": "tCceJA97NdAB",
        "outputId": "2355ad5e-b1e4-4590-db24-7c6cb67f8391"
      },
      "execution_count": 2,
      "outputs": [
        {
          "output_type": "stream",
          "name": "stderr",
          "text": [
            "\u001b[34m\u001b[1mwandb\u001b[0m: Using wandb-core as the SDK backend.  Please refer to https://wandb.me/wandb-core for more information.\n"
          ]
        },
        {
          "output_type": "display_data",
          "data": {
            "text/plain": [
              "<IPython.core.display.Javascript object>"
            ],
            "application/javascript": [
              "\n",
              "        window._wandbApiKey = new Promise((resolve, reject) => {\n",
              "            function loadScript(url) {\n",
              "            return new Promise(function(resolve, reject) {\n",
              "                let newScript = document.createElement(\"script\");\n",
              "                newScript.onerror = reject;\n",
              "                newScript.onload = resolve;\n",
              "                document.body.appendChild(newScript);\n",
              "                newScript.src = url;\n",
              "            });\n",
              "            }\n",
              "            loadScript(\"https://cdn.jsdelivr.net/npm/postmate/build/postmate.min.js\").then(() => {\n",
              "            const iframe = document.createElement('iframe')\n",
              "            iframe.style.cssText = \"width:0;height:0;border:none\"\n",
              "            document.body.appendChild(iframe)\n",
              "            const handshake = new Postmate({\n",
              "                container: iframe,\n",
              "                url: 'https://wandb.ai/authorize'\n",
              "            });\n",
              "            const timeout = setTimeout(() => reject(\"Couldn't auto authenticate\"), 5000)\n",
              "            handshake.then(function(child) {\n",
              "                child.on('authorize', data => {\n",
              "                    clearTimeout(timeout)\n",
              "                    resolve(data)\n",
              "                });\n",
              "            });\n",
              "            })\n",
              "        });\n",
              "    "
            ]
          },
          "metadata": {}
        },
        {
          "output_type": "stream",
          "name": "stderr",
          "text": [
            "\u001b[34m\u001b[1mwandb\u001b[0m: Logging into wandb.ai. (Learn how to deploy a W&B server locally: https://wandb.me/wandb-server)\n",
            "\u001b[34m\u001b[1mwandb\u001b[0m: You can find your API key in your browser here: https://wandb.ai/authorize\n",
            "wandb: Paste an API key from your profile and hit enter:"
          ]
        },
        {
          "name": "stdout",
          "output_type": "stream",
          "text": [
            " ··········\n"
          ]
        },
        {
          "output_type": "stream",
          "name": "stderr",
          "text": [
            "\u001b[34m\u001b[1mwandb\u001b[0m: \u001b[33mWARNING\u001b[0m If you're specifying your api key in code, ensure this code is not shared publicly.\n",
            "\u001b[34m\u001b[1mwandb\u001b[0m: \u001b[33mWARNING\u001b[0m Consider setting the WANDB_API_KEY environment variable, or running `wandb login` from the command line.\n",
            "\u001b[34m\u001b[1mwandb\u001b[0m: No netrc file found, creating one.\n",
            "\u001b[34m\u001b[1mwandb\u001b[0m: Appending key for api.wandb.ai to your netrc file: /root/.netrc\n",
            "\u001b[34m\u001b[1mwandb\u001b[0m: Currently logged in as: \u001b[33msk5499\u001b[0m (\u001b[33mhpml-proj-deepchem\u001b[0m) to \u001b[32mhttps://api.wandb.ai\u001b[0m. Use \u001b[1m`wandb login --relogin`\u001b[0m to force relogin\n"
          ]
        },
        {
          "output_type": "display_data",
          "data": {
            "text/plain": [
              "<IPython.core.display.HTML object>"
            ],
            "text/html": [
              "Tracking run with wandb version 0.19.9"
            ]
          },
          "metadata": {}
        },
        {
          "output_type": "display_data",
          "data": {
            "text/plain": [
              "<IPython.core.display.HTML object>"
            ],
            "text/html": [
              "Run data is saved locally in <code>/content/wandb/run-20250418_184322-xdcikujl</code>"
            ]
          },
          "metadata": {}
        },
        {
          "output_type": "display_data",
          "data": {
            "text/plain": [
              "<IPython.core.display.HTML object>"
            ],
            "text/html": [
              "Syncing run <strong><a href='https://wandb.ai/hpml-proj-deepchem/prototype/runs/xdcikujl' target=\"_blank\">fresh-planet-1</a></strong> to <a href='https://wandb.ai/hpml-proj-deepchem/prototype' target=\"_blank\">Weights & Biases</a> (<a href='https://wandb.me/developer-guide' target=\"_blank\">docs</a>)<br>"
            ]
          },
          "metadata": {}
        },
        {
          "output_type": "display_data",
          "data": {
            "text/plain": [
              "<IPython.core.display.HTML object>"
            ],
            "text/html": [
              " View project at <a href='https://wandb.ai/hpml-proj-deepchem/prototype' target=\"_blank\">https://wandb.ai/hpml-proj-deepchem/prototype</a>"
            ]
          },
          "metadata": {}
        },
        {
          "output_type": "display_data",
          "data": {
            "text/plain": [
              "<IPython.core.display.HTML object>"
            ],
            "text/html": [
              " View run at <a href='https://wandb.ai/hpml-proj-deepchem/prototype/runs/xdcikujl' target=\"_blank\">https://wandb.ai/hpml-proj-deepchem/prototype/runs/xdcikujl</a>"
            ]
          },
          "metadata": {}
        },
        {
          "output_type": "execute_result",
          "data": {
            "text/html": [
              "<button onClick=\"this.nextSibling.style.display='block';this.style.display='none';\">Display W&B run</button><iframe src='https://wandb.ai/hpml-proj-deepchem/prototype/runs/xdcikujl?jupyter=true' style='border:none;width:100%;height:420px;display:none;'></iframe>"
            ],
            "text/plain": [
              "<wandb.sdk.wandb_run.Run at 0x7d305f3084d0>"
            ]
          },
          "metadata": {},
          "execution_count": 2
        }
      ]
    },
    {
      "cell_type": "code",
      "source": [
        "# Set random seed for reproducibility\n",
        "np.random.seed(100)\n",
        "torch.manual_seed(100)"
      ],
      "metadata": {
        "colab": {
          "base_uri": "https://localhost:8080/"
        },
        "id": "ELUMN_hEvxk9",
        "outputId": "2cec7d7a-32e1-4d36-8eb0-a8d9a0c87ad7"
      },
      "execution_count": 5,
      "outputs": [
        {
          "output_type": "execute_result",
          "data": {
            "text/plain": [
              "<torch._C.Generator at 0x7d31daf468b0>"
            ]
          },
          "metadata": {},
          "execution_count": 5
        }
      ]
    },
    {
      "cell_type": "code",
      "source": [
        "import warnings\n",
        "warnings.filterwarnings('ignore', category=DeprecationWarning)\n"
      ],
      "metadata": {
        "id": "cTSv4_x7N-VY"
      },
      "execution_count": 7,
      "outputs": []
    },
    {
      "cell_type": "code",
      "source": [
        "# Step 1: Load a dataset from DeepChem\n",
        "print(\"Loading Tox21 dataset...\")\n",
        "tox21_tasks, tox21_datasets, transformers = dc.molnet.load_tox21()\n",
        "train_dataset, valid_dataset, test_dataset = tox21_datasets"
      ],
      "metadata": {
        "colab": {
          "base_uri": "https://localhost:8080/"
        },
        "collapsed": true,
        "id": "4DgeCMbMvzPs",
        "outputId": "f3ccb418-f47e-4291-fb4f-95ab0c9ea10c"
      },
      "execution_count": 8,
      "outputs": [
        {
          "output_type": "stream",
          "name": "stdout",
          "text": [
            "Loading Tox21 dataset...\n"
          ]
        }
      ]
    },
    {
      "cell_type": "code",
      "source": [
        "# Step 2: Define a simple model architecture\n",
        "n_tasks = len(tox21_tasks)\n",
        "n_features = train_dataset.X.shape[1]\n",
        "print(f\"Dataset has {n_tasks} tasks and {n_features} features\")\n",
        "\n",
        "# Create a simple multilayer perceptron model\n",
        "model = dc.models.MultitaskClassifier(\n",
        "    n_tasks=n_tasks,\n",
        "    n_features=n_features,\n",
        "    layer_sizes=[1000, 500],\n",
        "    dropouts=[0.25, 0.25],\n",
        "    learning_rate=0.001\n",
        ")"
      ],
      "metadata": {
        "colab": {
          "base_uri": "https://localhost:8080/"
        },
        "id": "EytjvweBv1Yc",
        "outputId": "4b7340cc-acbd-4190-83c2-cc9a5fb04cea"
      },
      "execution_count": 9,
      "outputs": [
        {
          "output_type": "stream",
          "name": "stdout",
          "text": [
            "Dataset has 12 tasks and 1024 features\n"
          ]
        }
      ]
    },
    {
      "cell_type": "code",
      "source": [
        "# Step 3: Baseline training and evaluation\n",
        "print(\"\\n--- Baseline Model Performance ---\")\n",
        "start_time = time.time()\n",
        "# Train for a small number of epochs for demonstration\n",
        "model.fit(train_dataset, nb_epoch=10)\n",
        "baseline_train_time = time.time() - start_time\n",
        "\n",
        "# Evaluate model\n",
        "baseline_scores = model.evaluate(test_dataset, metrics=[dc.metrics.Metric(dc.metrics.roc_auc_score)])\n",
        "print(f\"Baseline ROC-AUC: {baseline_scores['roc_auc_score']}\")\n",
        "print(f\"Baseline training time: {baseline_train_time:.2f} seconds\")"
      ],
      "metadata": {
        "colab": {
          "base_uri": "https://localhost:8080/"
        },
        "id": "Oi-suuCEv358",
        "outputId": "4bed2df7-1c03-420d-fd29-ac71022ca3da"
      },
      "execution_count": 10,
      "outputs": [
        {
          "output_type": "stream",
          "name": "stdout",
          "text": [
            "\n",
            "--- Baseline Model Performance ---\n",
            "Baseline ROC-AUC: 0.6849960208233927\n",
            "Baseline training time: 2.62 seconds\n"
          ]
        }
      ]
    },
    {
      "cell_type": "code",
      "source": [
        "# Step 4: Apply torch.compile to the model\n",
        "print(\"\\n--- Applying torch.compile ---\")\n",
        "# Get the PyTorch model from the DeepChem wrapper\n",
        "torch_model = model.model\n",
        "\n",
        "# Create a compiled version of the model\n",
        "if hasattr(torch, 'compile'):  # Check if torch.compile is available (PyTorch 2.0+)\n",
        "    compiled_model = torch.compile(torch_model, backend=\"inductor\")\n",
        "    model.model = compiled_model\n",
        "\n",
        "    # Train with compiled model\n",
        "    start_time = time.time()\n",
        "    model.fit(train_dataset, nb_epoch=10)\n",
        "    compiled_train_time = time.time() - start_time\n",
        "\n",
        "    # Evaluate compiled model\n",
        "    compiled_scores = model.evaluate(test_dataset, metrics=[dc.metrics.Metric(dc.metrics.roc_auc_score)])\n",
        "    print(f\"Compiled model ROC-AUC: {compiled_scores['roc_auc_score']}\")\n",
        "    print(f\"Compiled model training time: {compiled_train_time:.2f} seconds\")\n",
        "    print(f\"Speedup: {baseline_train_time / compiled_train_time:.2f}x\")\n",
        "else:\n",
        "    print(\"torch.compile not available in this PyTorch version. Requires PyTorch 2.0+\")"
      ],
      "metadata": {
        "colab": {
          "base_uri": "https://localhost:8080/"
        },
        "id": "XnKdv8p5v8BP",
        "outputId": "637ad4d5-1791-4489-dbb7-5466c6c5537e"
      },
      "execution_count": 11,
      "outputs": [
        {
          "output_type": "stream",
          "name": "stdout",
          "text": [
            "\n",
            "--- Applying torch.compile ---\n"
          ]
        },
        {
          "output_type": "stream",
          "name": "stderr",
          "text": [
            "W0418 18:45:50.667000 655 torch/_inductor/utils.py:1137] [0/0] Not enough SMs to use max_autotune_gemm mode\n"
          ]
        },
        {
          "output_type": "stream",
          "name": "stdout",
          "text": [
            "Compiled model ROC-AUC: 0.6691060087604739\n",
            "Compiled model training time: 17.07 seconds\n",
            "Speedup: 0.15x\n"
          ]
        }
      ]
    },
    {
      "cell_type": "code",
      "source": [
        "# Step 5: Profile the model to identify bottlenecks\n",
        "print(\"\\n--- Profiling Model Performance ---\")\n",
        "\n",
        "def profile_model(model, dataset, name):\n",
        "    # Create a small batch for profiling\n",
        "    for X_batch, y_batch, w_batch, ids_batch in dataset.iterbatches(batch_size=32, pad_batches=True):\n",
        "         # Get the device the model is on\n",
        "        device = next(model.model.parameters()).device\n",
        "\n",
        "        # Move tensors to the same device as the model\n",
        "        X_tensor = torch.tensor(X_batch, dtype=torch.float32).to(device)\n",
        "        y_tensor = torch.tensor(y_batch, dtype=torch.float32).to(device)\n",
        "\n",
        "        # Profile forward pass\n",
        "        with profile(activities=[ProfilerActivity.CPU, ProfilerActivity.CUDA],\n",
        "                    record_shapes=True) as prof:\n",
        "            with record_function(f\"{name}_forward\"):\n",
        "                model.model(X_tensor)\n",
        "\n",
        "        print(f\"\\n{name} Forward Pass Profile:\")\n",
        "        print(prof.key_averages().table(sort_by=\"cpu_time_total\", row_limit=10))\n",
        "\n",
        "        # Profile backward pass if training\n",
        "        if model.model.training:\n",
        "            with profile(activities=[ProfilerActivity.CPU, ProfilerActivity.CUDA],\n",
        "                        record_shapes=True) as prof:\n",
        "                with record_function(f\"{name}_full_iteration\"):\n",
        "                    output = model.model(X_tensor)\n",
        "                    loss = model.loss_func(output, y_tensor)\n",
        "                    loss.backward()\n",
        "\n",
        "            print(f\"\\n{name} Full Training Iteration Profile:\")\n",
        "            print(prof.key_averages().table(sort_by=\"cpu_time_total\", row_limit=10))\n",
        "        break  # Only profile one batch\n",
        "\n",
        "# Profile the original model\n",
        "model.model = torch_model  # Restore the original model\n",
        "profile_model(model, train_dataset, \"Original\")\n",
        "\n",
        "# Profile the compiled model if available\n",
        "if hasattr(torch, 'compile'):\n",
        "    model.model = compiled_model\n",
        "    profile_model(model, train_dataset, \"Compiled\")"
      ],
      "metadata": {
        "colab": {
          "base_uri": "https://localhost:8080/"
        },
        "id": "0XCW8gn1v_Pu",
        "outputId": "9c9b169f-b5eb-4e79-cb4c-6d86bbf326a5"
      },
      "execution_count": 12,
      "outputs": [
        {
          "output_type": "stream",
          "name": "stdout",
          "text": [
            "\n",
            "--- Profiling Model Performance ---\n",
            "\n",
            "Original Forward Pass Profile:\n",
            "-------------------------------------------------------  ------------  ------------  ------------  ------------  ------------  ------------  ------------  ------------  ------------  ------------  \n",
            "                                                   Name    Self CPU %      Self CPU   CPU total %     CPU total  CPU time avg     Self CUDA   Self CUDA %    CUDA total  CUDA time avg    # of Calls  \n",
            "-------------------------------------------------------  ------------  ------------  ------------  ------------  ------------  ------------  ------------  ------------  ------------  ------------  \n",
            "                                       Original_forward        32.48%       1.798ms        99.76%       5.523ms       5.523ms       0.000us         0.00%     127.966us     127.966us             1  \n",
            "                                           aten::linear         2.10%     115.985us        63.29%       3.503ms       1.168ms       0.000us         0.00%     122.814us      40.938us             3  \n",
            "                                            aten::addmm        40.82%       2.260ms        46.27%       2.561ms     853.756us      66.335us        92.79%     122.814us      40.938us             3  \n",
            "                                                aten::t        14.04%     777.459us        14.92%     826.032us     275.344us       0.000us         0.00%       0.000us       0.000us             3  \n",
            "          cudaOccupancyMaxActiveBlocksPerMultiprocessor         0.73%      40.205us         2.99%     165.509us      33.102us       0.000us         0.00%      56.479us      11.296us             5  \n",
            "                                       cudaLaunchKernel         2.76%     152.821us         2.76%     152.821us      16.980us       0.000us         0.00%       0.000us       0.000us             9  \n",
            "                                             aten::relu         0.82%      45.278us         2.60%     143.780us      71.890us       0.000us         0.00%       3.392us       1.696us             2  \n",
            "                                           Unrecognized         2.26%     125.304us         2.26%     125.304us      62.652us      56.479us        79.01%      56.479us      28.240us             2  \n",
            "                                        aten::clamp_min         1.22%      67.632us         1.78%      98.502us      49.251us       3.392us         4.74%       3.392us       1.696us             2  \n",
            "                                          aten::softmax         0.09%       4.888us         1.06%      58.815us      58.815us       0.000us         0.00%       1.760us       1.760us             1  \n",
            "-------------------------------------------------------  ------------  ------------  ------------  ------------  ------------  ------------  ------------  ------------  ------------  ------------  \n",
            "Self CPU time total: 5.536ms\n",
            "Self CUDA time total: 71.487us\n",
            "\n",
            "\n",
            "Compiled Forward Pass Profile:\n",
            "-------------------------------------------------------  ------------  ------------  ------------  ------------  ------------  ------------  ------------  ------------  ------------  ------------  \n",
            "                                                   Name    Self CPU %      Self CPU   CPU total %     CPU total  CPU time avg     Self CUDA   Self CUDA %    CUDA total  CUDA time avg    # of Calls  \n",
            "-------------------------------------------------------  ------------  ------------  ------------  ------------  ------------  ------------  ------------  ------------  ------------  ------------  \n",
            "                                       Compiled_forward         5.15%     181.448us        99.55%       3.504ms       3.504ms       0.000us         0.00%      99.613us      99.613us             1  \n",
            "                             Torch-Compiled Region: 0/2         6.26%     220.478us        92.87%       3.269ms       3.269ms       0.000us         0.00%      99.613us      99.613us             1  \n",
            "                                       CompiledFunction        72.45%       2.550ms        86.61%       3.049ms       3.049ms       0.000us         0.00%      99.613us      99.613us             1  \n",
            "                                               aten::mm         4.83%     170.170us         8.67%     305.130us     152.565us      62.110us        80.07%      84.157us      42.078us             2  \n",
            "                                            aten::addmm         1.63%      57.371us         2.44%      85.819us      85.819us      10.016us        12.91%      10.016us      10.016us             1  \n",
            "          cudaOccupancyMaxActiveBlocksPerMultiprocessor         0.50%      17.442us         2.38%      83.656us      27.885us       0.000us         0.00%      22.047us       7.349us             3  \n",
            "                                       cudaLaunchKernel         1.97%      69.525us         1.97%      69.525us      13.905us       0.000us         0.00%       0.000us       0.000us             5  \n",
            "                                           Unrecognized         1.88%      66.214us         1.88%      66.214us      66.214us      22.047us        28.42%      22.047us      22.047us             1  \n",
            "                               TorchDynamo Cache Lookup         1.52%      53.363us         1.52%      53.363us      53.363us       0.000us         0.00%       0.000us       0.000us             1  \n",
            "                          triton_poi_fused_addmm_relu_0         0.84%      29.475us         1.18%      41.400us      41.400us       2.080us         2.68%       2.080us       2.080us             1  \n",
            "-------------------------------------------------------  ------------  ------------  ------------  ------------  ------------  ------------  ------------  ------------  ------------  ------------  \n",
            "Self CPU time total: 3.520ms\n",
            "Self CUDA time total: 77.566us\n",
            "\n"
          ]
        }
      ]
    },
    {
      "cell_type": "code",
      "source": [
        "# Step 6: Apply mixed precision training\n",
        "print(\"\\n--- Mixed Precision Training ---\")\n",
        "if torch.cuda.is_available():\n",
        "    # Reset model\n",
        "    model = dc.models.MultitaskClassifier(\n",
        "        n_tasks=n_tasks,\n",
        "        n_features=n_features,\n",
        "        layer_sizes=[1000, 500],\n",
        "        dropouts=[0.25, 0.25],\n",
        "        learning_rate=0.001\n",
        "    )\n",
        "\n",
        "    # Move model to GPU\n",
        "    model.model = model.model.cuda()\n",
        "\n",
        "    # Apply mixed precision\n",
        "    from torch.amp import autocast, GradScaler\n",
        "\n",
        "    # Train with mixed precision\n",
        "    scaler = GradScaler('cuda')\n",
        "    start_time = time.time()\n",
        "\n",
        "    # Use BCEWithLogitsLoss since it's safe with autocast\n",
        "    loss_fn = torch.nn.BCEWithLogitsLoss()\n",
        "\n",
        "    # Get the PyTorch optimizer from the model\n",
        "    # Create a PyTorch optimizer for the model parameters\n",
        "    optimizer = torch.optim.Adam(model.model.parameters(), lr=0.001)\n",
        "\n",
        "    for epoch in range(10):\n",
        "        for X_batch, y_batch, w_batch, ids_batch in train_dataset.iterbatches(batch_size=32, pad_batches=True):\n",
        "            X_tensor = torch.tensor(X_batch, dtype=torch.float32).cuda()\n",
        "            y_tensor = torch.tensor(y_batch, dtype=torch.float32).cuda()\n",
        "\n",
        "            # Forward pass with autocast\n",
        "            with autocast('cuda'):\n",
        "                # Get raw logits from the model\n",
        "                output = model.model(X_tensor)\n",
        "                # The model returns a tuple, we need the logits\n",
        "                logits = output[0]\n",
        "\n",
        "                # For binary classification, we only need the logits for the positive class\n",
        "                # logits shape: [batch_size, num_tasks, 2] -> [batch_size, num_tasks]\n",
        "                logits = logits[:, :, 1]  # Take the logits for the positive class\n",
        "\n",
        "                # Reshape for BCEWithLogitsLoss\n",
        "                # logits shape: [batch_size, num_tasks] -> [batch_size * num_tasks]\n",
        "                # y_tensor shape: [batch_size, num_tasks] -> [batch_size * num_tasks]\n",
        "                batch_size, num_tasks = y_tensor.shape\n",
        "                logits = logits.view(-1)  # Flatten to 1D\n",
        "                y_tensor = y_tensor.view(-1)  # Flatten to 1D\n",
        "\n",
        "                # Calculate loss using BCEWithLogitsLoss\n",
        "                model_loss = loss_fn(logits, y_tensor)\n",
        "\n",
        "            # Backward pass with gradient scaling\n",
        "            optimizer.zero_grad()  # Use PyTorch's zero_grad\n",
        "            scaler.scale(model_loss).backward()\n",
        "            scaler.step(optimizer)\n",
        "            scaler.update()\n",
        "\n",
        "    mixed_precision_time = time.time() - start_time\n",
        "\n",
        "    # Evaluate model\n",
        "    mixed_precision_scores = model.evaluate(test_dataset, metrics=[dc.metrics.Metric(dc.metrics.roc_auc_score)])\n",
        "    print(f\"Mixed Precision ROC-AUC: {mixed_precision_scores['roc_auc_score']}\")\n",
        "    print(f\"Mixed Precision training time: {mixed_precision_time:.2f} seconds\")\n",
        "    print(f\"Speedup vs baseline: {baseline_train_time / mixed_precision_time:.2f}x\")\n",
        "else:\n",
        "    print(\"CUDA not available for mixed precision training\")\n"
      ],
      "metadata": {
        "colab": {
          "base_uri": "https://localhost:8080/"
        },
        "id": "X7E2kkkcwBxx",
        "outputId": "19bb636a-c141-4a31-a91f-27d480d72acc"
      },
      "execution_count": 13,
      "outputs": [
        {
          "output_type": "stream",
          "name": "stdout",
          "text": [
            "\n",
            "--- Mixed Precision Training ---\n",
            "Mixed Precision ROC-AUC: 0.5168608829116401\n",
            "Mixed Precision training time: 7.74 seconds\n",
            "Speedup vs baseline: 0.34x\n"
          ]
        }
      ]
    },
    {
      "cell_type": "code",
      "source": [
        "def get_model_size(model):\n",
        "    torch.save(model.state_dict(), \"temp_model.pt\")\n",
        "    size = os.path.getsize(\"temp_model.pt\") / (1024 * 1024)  # Size in MB\n",
        "    os.remove(\"temp_model.pt\")\n",
        "    return size"
      ],
      "metadata": {
        "id": "rohOR-n3Jz_9"
      },
      "execution_count": 14,
      "outputs": []
    },
    {
      "cell_type": "code",
      "source": [
        "# Step 7: Quantization\n",
        "print(\"\\n--- Model Quantization ---\")\n",
        "# Reset model\n",
        "model = dc.models.MultitaskClassifier(\n",
        "    n_tasks=n_tasks,\n",
        "    n_features=n_features,\n",
        "    layer_sizes=[1000, 500],\n",
        "    dropouts=[0.25, 0.25],\n",
        "    learning_rate=0.001\n",
        ")\n",
        "\n",
        "# Train on GPU\n",
        "if torch.cuda.is_available():\n",
        "    model.model = model.model.cuda()\n",
        "    print(\"Training on GPU...\")\n",
        "else:\n",
        "    print(\"CUDA not available. Exiting quantization...\")\n",
        "    exit()\n",
        "\n",
        "# Train the model\n",
        "start_time = time.time()\n",
        "model.fit(train_dataset, nb_epoch=10)\n",
        "training_time = time.time() - start_time\n",
        "print(f\"Training completed in {training_time:.2f} seconds\")\n",
        "\n",
        "# Convert model to FP16\n",
        "print(\"Converting model to FP16...\")\n",
        "model.model = model.model.half()  # Convert all parameters to float16\n",
        "\n",
        "# Create a new model for evaluation with the FP16 model\n",
        "quantized_eval_model = dc.models.MultitaskClassifier(\n",
        "    n_tasks=n_tasks,\n",
        "    n_features=n_features,\n",
        "    layer_sizes=[1000, 500],\n",
        "    dropouts=[0.25, 0.25],\n",
        "    learning_rate=0.001\n",
        ")\n",
        "\n",
        "# Set the FP16 model\n",
        "quantized_eval_model.model = model.model\n",
        "\n",
        "# Evaluate quantized model\n",
        "print(\"Evaluating quantized model...\")\n",
        "def evaluate_fp16(model, dataset):\n",
        "    model.model.eval()\n",
        "    all_predictions = []\n",
        "    all_targets = []\n",
        "\n",
        "    with torch.no_grad():\n",
        "        for X_batch, y_batch, w_batch, ids_batch in dataset.iterbatches(batch_size=32, pad_batches=True):\n",
        "            # Convert input to float16 and move to GPU\n",
        "            X_tensor = torch.tensor(X_batch, dtype=torch.float16).cuda()\n",
        "            y_tensor = torch.tensor(y_batch, dtype=torch.float32).cuda()\n",
        "\n",
        "            # Forward pass\n",
        "            predictions = model.model(X_tensor)\n",
        "            # Get the logits for the positive class (second column)\n",
        "            # predictions[0] shape: [batch_size, num_tasks, 2]\n",
        "            # We want the logits for the positive class (index 1)\n",
        "            positive_logits = predictions[0][:, :, 1]  # Shape: [batch_size, num_tasks]\n",
        "\n",
        "            # Convert to numpy and reshape for ROC-AUC\n",
        "            # Flatten the predictions and targets to match ROC-AUC requirements\n",
        "            batch_size, num_tasks = positive_logits.shape\n",
        "            positive_logits = positive_logits.view(-1).float().cpu().numpy()  # Flatten to 1D\n",
        "            y_tensor = y_tensor.view(-1).cpu().numpy()  # Flatten to 1D\n",
        "\n",
        "            all_predictions.append(positive_logits)\n",
        "            all_targets.append(y_tensor)\n",
        "\n",
        "    predictions = np.concatenate(all_predictions)\n",
        "    targets = np.concatenate(all_targets)\n",
        "    return dc.metrics.roc_auc_score(targets, predictions)\n",
        "\n",
        "# Evaluate using our FP16-aware function\n",
        "quantized_roc_auc = evaluate_fp16(quantized_eval_model, test_dataset)\n",
        "print(f\"Quantized model ROC-AUC: {quantized_roc_auc}\")\n",
        "\n",
        "# Compare model sizes\n",
        "def get_model_size(model):\n",
        "    torch.save(model.state_dict(), \"temp_model.pt\")\n",
        "    size = os.path.getsize(\"temp_model.pt\") / (1024 * 1024)  # Size in MB\n",
        "    os.remove(\"temp_model.pt\")\n",
        "    return size\n",
        "\n",
        "original_size = get_model_size(model.model)\n",
        "print(f\"Original model size: {original_size:.2f} MB\")\n",
        "# Note: FP16 model size is approximately half of original size\n",
        "print(f\"FP16 model size: ~{original_size/2:.2f} MB\")\n",
        "print(f\"Size reduction: ~50%\")\n",
        "\n",
        "# Compare inference times\n",
        "print(\"\\nComparing inference times...\")\n",
        "def measure_inference_time(model, dataset, name, num_batches=50):\n",
        "    model.model.eval()\n",
        "    batch_size = 32\n",
        "\n",
        "    # Determine input dtype based on model type\n",
        "    if name == \"Quantized Model\":\n",
        "        input_dtype = torch.float16\n",
        "        # Ensure model is in float16\n",
        "        model.model = model.model.half()\n",
        "    else:\n",
        "        input_dtype = torch.float32\n",
        "        # Ensure model is in float32\n",
        "        model.model = model.model.float()\n",
        "\n",
        "    # Warmup\n",
        "    for i, (X_batch, y_batch, w_batch, ids_batch) in enumerate(dataset.iterbatches(batch_size=batch_size, pad_batches=True)):\n",
        "        X_tensor = torch.tensor(X_batch, dtype=input_dtype).cuda()\n",
        "        with torch.no_grad():\n",
        "            _ = model.model(X_tensor)\n",
        "        if i >= 5:\n",
        "            break\n",
        "\n",
        "    # Measure inference time\n",
        "    start_time = time.time()\n",
        "    with torch.no_grad():\n",
        "        for i, (X_batch, y_batch, w_batch, ids_batch) in enumerate(dataset.iterbatches(batch_size=batch_size, pad_batches=True)):\n",
        "            X_tensor = torch.tensor(X_batch, dtype=input_dtype).cuda()\n",
        "            _ = model.model(X_tensor)\n",
        "            if i >= num_batches:\n",
        "                break\n",
        "\n",
        "    inference_time = (time.time() - start_time) / (num_batches + 1)\n",
        "    print(f\"{name} average inference time per batch: {inference_time*1000:.2f} ms\")\n",
        "    return inference_time\n",
        "\n",
        "# Compare original and quantized model inference times\n",
        "original_time = measure_inference_time(model, test_dataset, \"Original Model\")\n",
        "quantized_time = measure_inference_time(quantized_eval_model, test_dataset, \"Quantized Model\")\n",
        "print(f\"Speedup: {original_time/quantized_time:.2f}x faster\")"
      ],
      "metadata": {
        "colab": {
          "base_uri": "https://localhost:8080/"
        },
        "id": "6VqznmPXwHCl",
        "outputId": "29607dfe-8aea-4553-ffd3-ac0f8ac2636b"
      },
      "execution_count": 15,
      "outputs": [
        {
          "output_type": "stream",
          "name": "stdout",
          "text": [
            "\n",
            "--- Model Quantization ---\n",
            "Training on GPU...\n",
            "Training completed in 2.24 seconds\n",
            "Converting model to FP16...\n",
            "Evaluating quantized model...\n",
            "Quantized model ROC-AUC: 0.7179226128086514\n",
            "Original model size: 2.94 MB\n",
            "FP16 model size: ~1.47 MB\n",
            "Size reduction: ~50%\n",
            "\n",
            "Comparing inference times...\n",
            "Original Model average inference time per batch: 0.29 ms\n",
            "Quantized Model average inference time per batch: 0.27 ms\n",
            "Speedup: 1.06x faster\n"
          ]
        }
      ]
    },
    {
      "cell_type": "code",
      "source": [
        "wandb.define_metric(\"epoch\")\n",
        "wandb.define_metric(\"loss\", step_metric=\"epoch\")"
      ],
      "metadata": {
        "colab": {
          "base_uri": "https://localhost:8080/"
        },
        "id": "ZW0YdyUVORKj",
        "outputId": "1b9ecc23-5e31-4c05-b410-94e1f8cb3864"
      },
      "execution_count": 16,
      "outputs": [
        {
          "output_type": "execute_result",
          "data": {
            "text/plain": [
              "<wandb.sdk.wandb_metric.Metric at 0x7d302badee50>"
            ]
          },
          "metadata": {},
          "execution_count": 16
        }
      ]
    },
    {
      "cell_type": "code",
      "source": [
        "# Step 8: Knowledge Distillation\n",
        "print(\"\\n--- Knowledge Distillation ---\")\n",
        "# Create a smaller student model\n",
        "student_model = dc.models.MultitaskClassifier(\n",
        "    n_tasks=n_tasks,\n",
        "    n_features=n_features,\n",
        "    layer_sizes=[500, 250],  # Smaller architecture\n",
        "    dropouts=[0.25, 0.25],\n",
        "    learning_rate=0.001\n",
        ")\n",
        "\n",
        "# Use the original model as teacher\n",
        "teacher_model = dc.models.MultitaskClassifier(\n",
        "    n_tasks=n_tasks,\n",
        "    n_features=n_features,\n",
        "    layer_sizes=[1000, 500],\n",
        "    dropouts=[0.25, 0.25],\n",
        "    learning_rate=0.001\n",
        ")\n",
        "teacher_model.model = torch_model  # Use the original non-quantized model\n",
        "\n",
        "# Move models to the same device\n",
        "device = torch.device('cuda' if torch.cuda.is_available() else 'cpu')\n",
        "teacher_model.model = teacher_model.model.to(device)\n",
        "student_model.model = student_model.model.to(device)\n",
        "\n",
        "# Implement knowledge distillation\n",
        "def distill(teacher, student, dataset, temperature=3.0, alpha=0.5, epochs=10):\n",
        "    student_model = student.model\n",
        "    teacher_model = teacher.model\n",
        "    teacher_model.eval()  # Teacher in eval mode\n",
        "\n",
        "    # KL divergence loss for soft targets\n",
        "    kl_criterion = torch.nn.KLDivLoss(reduction='batchmean')\n",
        "    # Hard target loss\n",
        "    ce_criterion = torch.nn.BCEWithLogitsLoss()\n",
        "\n",
        "    optimizer = torch.optim.Adam(student_model.parameters(), lr=0.001)\n",
        "\n",
        "    start_time = time.time()\n",
        "    for epoch in range(epochs):\n",
        "        total_loss = 0\n",
        "        batches = 0\n",
        "\n",
        "        for X_batch, y_batch, w_batch, ids_batch in dataset.iterbatches(batch_size=32, pad_batches=True):\n",
        "            # Move data to the same device as models\n",
        "            X_tensor = torch.tensor(X_batch, dtype=torch.float32).to(device)\n",
        "            y_tensor = torch.tensor(y_batch, dtype=torch.float32).to(device)\n",
        "\n",
        "            # Forward pass for teacher (no grad)\n",
        "            with torch.no_grad():\n",
        "                teacher_output = teacher_model(X_tensor)\n",
        "                # Get the logits from the tuple output\n",
        "                teacher_logits = teacher_output[0][:, :, 1]  # Take the positive class logits\n",
        "\n",
        "            # Forward pass for student\n",
        "            student_output = student_model(X_tensor)\n",
        "            # Get the logits from the tuple output\n",
        "            student_logits = student_output[0][:, :, 1]  # Take the positive class logits\n",
        "\n",
        "            # Reshape for loss calculation\n",
        "            batch_size, num_tasks = y_tensor.shape\n",
        "            teacher_logits = teacher_logits.view(-1)\n",
        "            student_logits = student_logits.view(-1)\n",
        "            y_tensor = y_tensor.view(-1)\n",
        "\n",
        "            # Compute soft targets with temperature\n",
        "            soft_targets = torch.sigmoid(teacher_logits / temperature)\n",
        "            soft_student = torch.sigmoid(student_logits / temperature)\n",
        "\n",
        "            # Distillation loss (soft targets)\n",
        "            distillation_loss = kl_criterion(\n",
        "                torch.log(soft_student + 1e-8),  # Add small epsilon to avoid log(0)\n",
        "                soft_targets\n",
        "            ) * (temperature ** 2)\n",
        "\n",
        "            # Student loss on hard targets\n",
        "            student_loss = ce_criterion(student_logits, y_tensor)\n",
        "\n",
        "            # Combined loss\n",
        "            loss = alpha * distillation_loss + (1 - alpha) * student_loss\n",
        "\n",
        "            wandb.log({\n",
        "                \"loss\": loss,\n",
        "                \"epoch\": epoch\n",
        "            })\n",
        "\n",
        "            # Backward and optimize\n",
        "            optimizer.zero_grad()\n",
        "            loss.backward()\n",
        "            optimizer.step()\n",
        "\n",
        "            total_loss += loss.item()\n",
        "            batches += 1\n",
        "\n",
        "        print(f\"Epoch {epoch+1}/{epochs}, Loss: {total_loss/batches:.4f}\")\n",
        "\n",
        "    distill_time = time.time() - start_time\n",
        "    print(f\"Distillation completed in {distill_time:.2f} seconds\")\n",
        "\n",
        "# Perform distillation\n",
        "distill(teacher_model, student_model, train_dataset)\n",
        "\n",
        "# Evaluate student model\n",
        "student_scores = student_model.evaluate(test_dataset, metrics=[dc.metrics.Metric(dc.metrics.roc_auc_score)])\n",
        "print(f\"Student model ROC-AUC: {student_scores['roc_auc_score']}\")\n",
        "print(f\"Teacher model ROC-AUC: {baseline_scores['roc_auc_score']}\")\n",
        "\n",
        "# Compare model sizes\n",
        "student_size = get_model_size(student_model.model)\n",
        "print(f\"Teacher model size: {original_size:.2f} MB\")\n",
        "print(f\"Student model size: {student_size:.2f} MB\")\n",
        "print(f\"Size reduction: {(1 - student_size/original_size) * 100:.2f}%\")"
      ],
      "metadata": {
        "colab": {
          "base_uri": "https://localhost:8080/"
        },
        "id": "TsD-2BE5wH21",
        "outputId": "616436ec-f1c5-46b3-b79d-f5deb1433847"
      },
      "execution_count": 17,
      "outputs": [
        {
          "output_type": "stream",
          "name": "stdout",
          "text": [
            "\n",
            "--- Knowledge Distillation ---\n",
            "Epoch 1/10, Loss: 0.3337\n",
            "Epoch 2/10, Loss: 0.3336\n",
            "Epoch 3/10, Loss: 0.3326\n",
            "Epoch 4/10, Loss: 0.3304\n",
            "Epoch 5/10, Loss: 0.3296\n",
            "Epoch 6/10, Loss: 0.3292\n",
            "Epoch 7/10, Loss: 0.3288\n",
            "Epoch 8/10, Loss: 0.3286\n",
            "Epoch 9/10, Loss: 0.3283\n",
            "Epoch 10/10, Loss: 0.3281\n",
            "Distillation completed in 8.39 seconds\n",
            "Student model ROC-AUC: 0.6610679193714081\n",
            "Teacher model ROC-AUC: 0.6849960208233927\n",
            "Teacher model size: 2.94 MB\n",
            "Student model size: 2.46 MB\n",
            "Size reduction: 16.24%\n"
          ]
        }
      ]
    },
    {
      "cell_type": "code",
      "source": [
        "# Step 9: Inference speed comparison\n",
        "print(\"\\n--- Inference Speed Comparison ---\")\n",
        "def measure_inference_time(model, dataset, name, num_batches=50):\n",
        "    model.model.eval()\n",
        "    batch_size = 32\n",
        "\n",
        "    # Determine input dtype based on model type\n",
        "    if name == \"Quantized Model\":\n",
        "        input_dtype = torch.float16\n",
        "        # Ensure model is in float16\n",
        "        model.model = model.model.half()\n",
        "    else:\n",
        "        input_dtype = torch.float32\n",
        "        # Ensure model is in float32\n",
        "        model.model = model.model.float()\n",
        "\n",
        "    # Warmup\n",
        "    for i, (X_batch, y_batch, w_batch, ids_batch) in enumerate(dataset.iterbatches(batch_size=batch_size, pad_batches=True)):\n",
        "        X_tensor = torch.tensor(X_batch, dtype=input_dtype).cuda()\n",
        "        with torch.no_grad():\n",
        "            _ = model.model(X_tensor)\n",
        "        if i >= 5:\n",
        "            break\n",
        "\n",
        "    # Measure inference time\n",
        "    start_time = time.time()\n",
        "    with torch.no_grad():\n",
        "        for i, (X_batch, y_batch, w_batch, ids_batch) in enumerate(dataset.iterbatches(batch_size=batch_size, pad_batches=True)):\n",
        "            X_tensor = torch.tensor(X_batch, dtype=input_dtype).cuda()\n",
        "            _ = model.model(X_tensor)\n",
        "            if i >= num_batches:\n",
        "                break\n",
        "\n",
        "    inference_time = (time.time() - start_time) / (num_batches + 1)\n",
        "    print(f\"{name} average inference time per batch: {inference_time*1000:.2f} ms\")\n",
        "    return inference_time\n",
        "\n",
        "# Compare inference times\n",
        "baseline_time = measure_inference_time(teacher_model, test_dataset, \"Original Model\")\n",
        "quantized_time = measure_inference_time(model, test_dataset, \"Quantized Model\")\n",
        "student_time = measure_inference_time(student_model, test_dataset, \"Distilled Student Model\")\n",
        "\n",
        "if hasattr(torch, 'compile'):\n",
        "    # Restore compiled model\n",
        "    teacher_model.model = compiled_model\n",
        "    compiled_time = measure_inference_time(teacher_model, test_dataset, \"Compiled Model\")\n",
        "\n",
        "    # Print speedup comparison\n",
        "    print(\"\\n--- Speedup Summary ---\")\n",
        "    print(f\"Compiled vs Original: {baseline_time/compiled_time:.2f}x faster\")\n",
        "    print(f\"Quantized vs Original: {baseline_time/quantized_time:.2f}x faster\")\n",
        "    print(f\"Student vs Original: {baseline_time/student_time:.2f}x faster\")"
      ],
      "metadata": {
        "colab": {
          "base_uri": "https://localhost:8080/"
        },
        "id": "BrEPAgpSwOH_",
        "outputId": "80a1a730-9c71-4163-9b2d-8602e08a4f28"
      },
      "execution_count": 18,
      "outputs": [
        {
          "output_type": "stream",
          "name": "stdout",
          "text": [
            "\n",
            "--- Inference Speed Comparison ---\n",
            "Original Model average inference time per batch: 0.32 ms\n",
            "Quantized Model average inference time per batch: 0.36 ms\n",
            "Distilled Student Model average inference time per batch: 0.51 ms\n",
            "Compiled Model average inference time per batch: 0.34 ms\n",
            "\n",
            "--- Speedup Summary ---\n",
            "Compiled vs Original: 0.95x faster\n",
            "Quantized vs Original: 0.88x faster\n",
            "Student vs Original: 0.63x faster\n"
          ]
        }
      ]
    },
    {
      "cell_type": "code",
      "source": [
        "# Step 10: Visualization of results\n",
        "print(\"\\n--- Visualization ---\")\n",
        "# Plot inference times\n",
        "models = [\"Original\", \"Quantized\", \"Student\"]\n",
        "times = [baseline_time, quantized_time, student_time]\n",
        "\n",
        "if hasattr(torch, 'compile'):\n",
        "    models.append(\"Compiled\")\n",
        "    times.append(compiled_time)\n",
        "\n",
        "plt.figure(figsize=(10, 6))\n",
        "plt.bar(models, times)\n",
        "plt.title(\"Inference Time Comparison\")\n",
        "plt.ylabel(\"Time per batch (seconds)\")\n",
        "plt.savefig(\"inference_times.png\")\n",
        "print(\"Saved inference time comparison to 'inference_times.png'\")\n",
        "\n",
        "# Plot model sizes\n",
        "def get_model_size(model):\n",
        "    torch.save(model.state_dict(), \"temp_model.pt\")\n",
        "    size = os.path.getsize(\"temp_model.pt\") / (1024 * 1024)  # Size in MB\n",
        "    os.remove(\"temp_model.pt\")\n",
        "    return size\n",
        "\n",
        "# Calculate sizes for all models\n",
        "original_size = get_model_size(teacher_model.model)\n",
        "quantized_size = get_model_size(quantized_eval_model.model)\n",
        "student_size = get_model_size(student_model.model)\n",
        "\n",
        "sizes = [original_size, quantized_size, student_size]\n",
        "model_types = [\"Original\", \"Quantized\", \"Student\"]\n",
        "\n",
        "plt.figure(figsize=(10, 6))\n",
        "plt.bar(model_types, sizes)\n",
        "plt.title(\"Model Size Comparison\")\n",
        "plt.ylabel(\"Size (MB)\")\n",
        "plt.savefig(\"model_sizes.png\")\n",
        "print(\"Saved model size comparison to 'model_sizes.png'\")"
      ],
      "metadata": {
        "colab": {
          "base_uri": "https://localhost:8080/",
          "height": 1000
        },
        "id": "46BW1OMiwRLz",
        "outputId": "0aab4a3f-0b1a-47b2-a348-711c5c096d24"
      },
      "execution_count": 19,
      "outputs": [
        {
          "output_type": "stream",
          "name": "stdout",
          "text": [
            "\n",
            "--- Visualization ---\n",
            "Saved inference time comparison to 'inference_times.png'\n",
            "Saved model size comparison to 'model_sizes.png'\n"
          ]
        },
        {
          "output_type": "display_data",
          "data": {
            "text/plain": [
              "<Figure size 1000x600 with 1 Axes>"
            ],
            "image/png": "[encoded data removed]"
          },
          "metadata": {}
        },
        {
          "output_type": "display_data",
          "data": {
            "text/plain": [
              "<Figure size 1000x600 with 1 Axes>"
            ],
            "image/png": "[encoded data removed]"
          },
          "metadata": {}
        }
      ]
    },
    {
      "cell_type": "markdown",
      "source": [],
      "metadata": {
        "id": "MKpjyDHri1IO"
      }
    }
  ]
}